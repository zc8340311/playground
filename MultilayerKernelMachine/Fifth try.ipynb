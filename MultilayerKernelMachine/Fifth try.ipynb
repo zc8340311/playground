{
 "cells": [
  {
   "cell_type": "code",
   "execution_count": 1,
   "metadata": {
    "collapsed": true
   },
   "outputs": [],
   "source": [
    "from sklearn.decomposition import KernelPCA\n",
    "from sklearn.cross_validation import KFold\n",
    "from sklearn import svm\n",
    "import numpy as np\n",
    "import math\n",
    "import random\n",
    "import math\n",
    "from sklearn.metrics import confusion_matrix as CM"
   ]
  },
  {
   "cell_type": "markdown",
   "metadata": {},
   "source": [
    "##4*n features "
   ]
  },
  {
   "cell_type": "code",
   "execution_count": 2,
   "metadata": {
    "collapsed": true
   },
   "outputs": [],
   "source": [
    "from sklearn.datasets import load_iris\n",
    "from sklearn.datasets import load_digits"
   ]
  },
  {
   "cell_type": "code",
   "execution_count": 3,
   "metadata": {
    "collapsed": false
   },
   "outputs": [],
   "source": [
    "def IndOfSortedFea(feaInfo):\n",
    "    \"\"\"return sorted index of a list\"\"\"\n",
    "    sortInfo=sorted(feaInfo,reverse=True)\n",
    "    ##for test\n",
    "    ##print sortInfo\n",
    "    return [feaInfo.index(i) for i in sortInfo]\n",
    "#a=[3,4,6,2]\n",
    "#print IndOfSortedFea(a)"
   ]
  },
  {
   "cell_type": "code",
   "execution_count": 4,
   "metadata": {
    "collapsed": true
   },
   "outputs": [],
   "source": [
    "def corDis(x,y):\n",
    "    \"\"\"\n",
    "    calculate the correlation distance, given x and y calculate how similar the x and y is.\n",
    "    return a value, 0 means x and y are independent, higher mean x are determinstic of y.\n",
    "    \"\"\"\n",
    "    assert len(x)==len(y)\n",
    "    n=len(x)\n",
    "    a=np.zeros((n,n))\n",
    "    b=np.zeros((n,n))\n",
    "    ##calculate pair wise distance\n",
    "    for i in xrange(n):\n",
    "        for j in xrange(n):\n",
    "            a[i,j]=np.linalg.norm(x[i]-x[j])\n",
    "            b[i,j]=np.linalg.norm(y[i]-y[j])\n",
    "    aRowMean=np.mean(a,axis=1)\n",
    "    aColMean=np.mean(a,axis=0)\n",
    "    bRowMean=np.mean(b,axis=1)\n",
    "    bColMean=np.mean(b,axis=0)\n",
    "    aMean=np.mean(a)\n",
    "    bMean=np.mean(b)\n",
    "    A=np.zeros((n,n))\n",
    "    B=np.zeros((n,n))\n",
    "    ##normalization\n",
    "    for i in xrange(n):\n",
    "        for j in xrange(n):\n",
    "            A[i,j]=a[i,j]-aRowMean[i]-aColMean[j]+aMean\n",
    "            B[i,j]=b[i,j]-bRowMean[i]-bColMean[j]+bMean\n",
    "    cordis=0.\n",
    "    for i in xrange(n):\n",
    "        for j in xrange(n):\n",
    "            cordis += A[i,j]*B[i,j]\n",
    "    return cordis*(1./n**2)"
   ]
  },
  {
   "cell_type": "code",
   "execution_count": 5,
   "metadata": {
    "collapsed": true
   },
   "outputs": [],
   "source": [
    "def cosine_distance(u, v):\n",
    "    return np.dot(u, v) / (math.sqrt(np.dot(u, u)) * math.sqrt(np.dot(v, v)))"
   ]
  },
  {
   "cell_type": "code",
   "execution_count": 6,
   "metadata": {
    "collapsed": true
   },
   "outputs": [],
   "source": [
    "#%matplotlib inline\n",
    "from matplotlib import pyplot as plt\n",
    "def plotFunction(x,y,text):\n",
    "    n=x.shape[1]\n",
    "    cols=2\n",
    "    rows=int(math.ceil(n/2.))\n",
    "    fig,ax=plt.subplots(ncols=cols,nrows=rows)\n",
    "    if rows==1:\n",
    "        for j in range(cols):\n",
    "            if j<n:\n",
    "                ax[j].scatter(x[:,j],y,c='b')\n",
    "    else:\n",
    "        for i in range(rows):\n",
    "            for j in range(cols):\n",
    "                if i*cols+j<n:\n",
    "                    ax[i,j].scatter(x[:,i*cols+j],y,c='b')\n",
    "                    #ax[i].title('x%d'%i,fontsize='small')\n",
    "    plt.title(text)\n",
    "    plt.show()\n"
   ]
  },
  {
   "cell_type": "code",
   "execution_count": 7,
   "metadata": {
    "collapsed": true
   },
   "outputs": [],
   "source": [
    "def crossValidation(x,y):\n",
    "    \"\"\"\n",
    "    version 2\n",
    "    according to the true y, predict\n",
    "    greedy algorithm: first using index\n",
    "    return\n",
    "    \"\"\"\n",
    "    crossErrors=[]\n",
    "    confusion_matrix=[]\n",
    "    #svc=svm.LinearSVC()\n",
    "    svc=svm.SVC(kernel='linear')\n",
    "    kf = KFold(x.shape[0], n_folds=5,shuffle=True)\n",
    "    for train,test in kf:\n",
    "        svc.fit(x[train],y[train])\n",
    "        prediction=svc.predict(x[test])\n",
    "        crossErrors.append(((prediction!=y[test]).sum())/float(len(y[test])))\n",
    "        confusion_matrix.append(CM(y[test],prediction))\n",
    "    return np.mean(crossErrors),confusion_matrix"
   ]
  },
  {
   "cell_type": "code",
   "execution_count": 8,
   "metadata": {
    "collapsed": true
   },
   "outputs": [],
   "source": [
    "def layer_rbf(x,y):\n",
    "    \"\"\"version 2\"\"\"\n",
    "    kpca=KernelPCA(kernel='rbf',gamma=10.,n_components=x.shape[1])\n",
    "    xT=kpca.fit_transform(x)\n",
    "    rank=[]\n",
    "    numOfFeatures=xT.shape[1]\n",
    "    for i in xrange(numOfFeatures):\n",
    "        rank.append(corDis(xT[:,i],y))\n",
    "    feaSelected=IndOfSortedFea(rank)\n",
    "    \n",
    "    featureSelectedErrors=[]\n",
    "    for i in xrange(numOfFeatures):\n",
    "        crossErrors,cms=crossValidation(xT[:,feaSelected[:i+1]],y)\n",
    "        featureSelectedErrors.append(crossErrors)\n",
    "    choice=featureSelectedErrors.index(min(featureSelectedErrors))\n",
    "    return xT[:,feaSelected[:choice+1]],featureSelectedErrors,cms"
   ]
  },
  {
   "cell_type": "code",
   "execution_count": 9,
   "metadata": {
    "collapsed": true
   },
   "outputs": [],
   "source": [
    "def layer_poly(x,y):\n",
    "    \"\"\"ploy kernel\"\"\"\n",
    "    kpca=KernelPCA(kernel='poly',n_components=x.shape[1])\n",
    "    xT=kpca.fit_transform(x)\n",
    "    rank=[]\n",
    "    numOfFeatures=xT.shape[1]\n",
    "    for i in xrange(numOfFeatures):\n",
    "        rank.append(corDis(xT[:,i],y))\n",
    "    feaSelected=IndOfSortedFea(rank)\n",
    "    \n",
    "    featureSelectedErrors=[]\n",
    "    for i in xrange(numOfFeatures):\n",
    "        crossErrors,cms=crossValidation(xT[:,feaSelected[:i+1]],y)\n",
    "        featureSelectedErrors.append(crossErrors)\n",
    "    choice=featureSelectedErrors.index(min(featureSelectedErrors))\n",
    "    return xT[:,feaSelected[:choice+1]],featureSelectedErrors,cms"
   ]
  },
  {
   "cell_type": "code",
   "execution_count": 10,
   "metadata": {
    "collapsed": true
   },
   "outputs": [],
   "source": [
    "def layer_sigmoid(x,y):\n",
    "    \"\"\"sigmoid kernel\"\"\"\n",
    "    kpca=KernelPCA(kernel='sigmoid',n_components=x.shape[1])\n",
    "    xT=kpca.fit_transform(x)\n",
    "    rank=[]\n",
    "    numOfFeatures=xT.shape[1]\n",
    "    for i in xrange(numOfFeatures):\n",
    "        rank.append(corDis(xT[:,i],y))\n",
    "    feaSelected=IndOfSortedFea(rank)\n",
    "    \n",
    "    featureSelectedErrors=[]\n",
    "    for i in xrange(numOfFeatures):\n",
    "        crossErrors,cms=crossValidation(xT[:,feaSelected[:i+1]],y)\n",
    "        featureSelectedErrors.append(crossErrors)\n",
    "    choice=featureSelectedErrors.index(min(featureSelectedErrors))\n",
    "    return xT[:,feaSelected[:choice+1]],featureSelectedErrors,cms"
   ]
  },
  {
   "cell_type": "code",
   "execution_count": 11,
   "metadata": {
    "collapsed": true
   },
   "outputs": [],
   "source": [
    "def layer_cosine(x,y):\n",
    "    kpca=KernelPCA(kernel='cosine',n_components=x.shape[1])\n",
    "    xT=kpca.fit_transform(x)\n",
    "    rank=[]\n",
    "    numOfFeatures=xT.shape[1]\n",
    "    for i in xrange(numOfFeatures):\n",
    "        rank.append(corDis(xT[:,i],y))\n",
    "    feaSelected=IndOfSortedFea(rank)\n",
    "    \n",
    "    featureSelectedErrors=[]\n",
    "    for i in xrange(numOfFeatures):\n",
    "        crossErrors,cms=crossValidation(xT[:,feaSelected[:i+1]],y)\n",
    "        featureSelectedErrors.append(crossErrors)\n",
    "    choice=featureSelectedErrors.index(min(featureSelectedErrors))\n",
    "    return xT[:,feaSelected[:choice+1]],featureSelectedErrors,cms"
   ]
  },
  {
   "cell_type": "code",
   "execution_count": 12,
   "metadata": {
    "collapsed": true
   },
   "outputs": [],
   "source": [
    "def layer(x,y):\n",
    "    \"\"\"4*n features using different kernel\"\"\"\n",
    "    kpca_cosine=KernelPCA(kernel='cosine',n_components=x.shape[1])\n",
    "    kpca_sigmoid=KernelPCA(kernel='sigmoid',n_components=x.shape[1])\n",
    "    kpca_poly=KernelPCA(kernel='poly',n_components=x.shape[1])\n",
    "    kpca_rbf=KernelPCA(kernel='rbf',gamma=10.,n_components=x.shape[1])\n",
    "    \n",
    "    xT_cosine=kpca_cosine.fit_transform(x)\n",
    "    xT_sigmoid=kpca_sigmoid.fit_transform(x)\n",
    "    xT_poly=kpca_poly.fit_transform(x)\n",
    "    xT_rbf=kpca_rbf.fit_transform(x)\n",
    "    \n",
    "    xT=np.concatenate((xT_cosine,xT_sigmoid,xT_poly,xT_rbf),axis=1)\n",
    "    \n",
    "    rank=[]\n",
    "    numOfFeatures=xT.shape[1]\n",
    "    for i in xrange(numOfFeatures):\n",
    "        rank.append(cosine_distance(xT[:,i],y))\n",
    "    feaSelected=IndOfSortedFea(rank)\n",
    "    \n",
    "    featureSelectedErrors=[]\n",
    "    for i in xrange(numOfFeatures):\n",
    "        crossErrors,cms=crossValidation(xT[:,feaSelected[:i+1]],y)\n",
    "        featureSelectedErrors.append(crossErrors)\n",
    "    choice=featureSelectedErrors.index(min(featureSelectedErrors))\n",
    "    return xT[:,feaSelected[:choice+1]],featureSelectedErrors,cms"
   ]
  },
  {
   "cell_type": "code",
   "execution_count": null,
   "metadata": {
    "collapsed": true
   },
   "outputs": [],
   "source": []
  },
  {
   "cell_type": "code",
   "execution_count": 13,
   "metadata": {
    "collapsed": true
   },
   "outputs": [],
   "source": [
    "def pretrain(x,y):\n",
    "    rank=[]\n",
    "    numOfFeatures=x.shape[1]\n",
    "    for i in xrange(numOfFeatures):\n",
    "        rank.append(corDis(x[:,i],y))\n",
    "    feaSelected=IndOfSortedFea(rank)\n",
    "    \n",
    "    featureSelectedErrors=[]\n",
    "    for i in xrange(numOfFeatures):\n",
    "        crossErrors,cms=crossValidation(x[:,feaSelected[:i+1]],y)\n",
    "        featureSelectedErrors.append(crossErrors)\n",
    "    choice=featureSelectedErrors.index(min(featureSelectedErrors))\n",
    "    return x[:,feaSelected[:choice+1]],featureSelectedErrors,cms  "
   ]
  },
  {
   "cell_type": "code",
   "execution_count": 14,
   "metadata": {
    "collapsed": true
   },
   "outputs": [],
   "source": [
    "from matplotlib import pyplot as plt\n",
    "def plotdata(x,y):\n",
    "    n=x.shape[1]\n",
    "    fig,ax=plt.subplots(ncols=n,nrows=n)\n",
    "    fig.set_size_inches(9,6)\n",
    "    for i in xrange(n):\n",
    "        for j in xrange(i+1):\n",
    "            for t,color in zip(xrange(3),'rgb'):\n",
    "                ax[i][j].scatter(x[y == t,i],x[y == t,j],c=color)\n",
    "    plt.show()\n",
    "#plotdata(x,y)"
   ]
  },
  {
   "cell_type": "code",
   "execution_count": 15,
   "metadata": {
    "collapsed": true
   },
   "outputs": [],
   "source": [
    "def plotErr(err):\n",
    "    x=range(len(err))\n",
    "    #y=[e/min(err) for e in err]\n",
    "    plt.bar(x,err)\n",
    "    plt.title('Error Bar_Chart')\n",
    "    plt.show()"
   ]
  },
  {
   "cell_type": "code",
   "execution_count": 16,
   "metadata": {
    "collapsed": true
   },
   "outputs": [],
   "source": [
    "def printCM(cm):\n",
    "    \"\"\"\n",
    "    print cm in a nice way\n",
    "    \"\"\"\n",
    "    for i in cm:\n",
    "        print i"
   ]
  },
  {
   "cell_type": "code",
   "execution_count": 17,
   "metadata": {
    "collapsed": true
   },
   "outputs": [],
   "source": [
    "iris=load_iris()\n",
    "x=iris.data\n",
    "y=iris.target"
   ]
  },
  {
   "cell_type": "code",
   "execution_count": 18,
   "metadata": {
    "collapsed": true
   },
   "outputs": [],
   "source": [
    "#%matplotlib inline"
   ]
  },
  {
   "cell_type": "code",
   "execution_count": 19,
   "metadata": {
    "collapsed": true
   },
   "outputs": [],
   "source": [
    "result,error,cm=pretrain(x,y)"
   ]
  },
  {
   "cell_type": "code",
   "execution_count": 20,
   "metadata": {
    "collapsed": false
   },
   "outputs": [
    {
     "name": "stdout",
     "output_type": "stream",
     "text": [
      "[[10  0  0]\n",
      " [ 0 12  0]\n",
      " [ 0  0  8]]\n",
      "[[10  0  0]\n",
      " [ 0  6  1]\n",
      " [ 0  0 13]]\n",
      "[[12  0  0]\n",
      " [ 0 10  0]\n",
      " [ 0  0  8]]\n",
      "[[ 9  0  0]\n",
      " [ 0 12  0]\n",
      " [ 0  0  9]]\n",
      "[[ 9  0  0]\n",
      " [ 0  9  0]\n",
      " [ 0  0 12]]\n"
     ]
    }
   ],
   "source": [
    "printCM(cm)"
   ]
  },
  {
   "cell_type": "code",
   "execution_count": 21,
   "metadata": {
    "collapsed": false
   },
   "outputs": [],
   "source": [
    "plotErr(error)"
   ]
  },
  {
   "cell_type": "code",
   "execution_count": 22,
   "metadata": {
    "collapsed": false
   },
   "outputs": [
    {
     "name": "stdout",
     "output_type": "stream",
     "text": [
      "[[ 8  0  0]\n",
      " [ 0  7  0]\n",
      " [ 0  1 14]]\n",
      "[[12  0  0]\n",
      " [ 0  8  0]\n",
      " [ 0  0 10]]\n",
      "[[13  0  0]\n",
      " [ 0  9  1]\n",
      " [ 0  0  7]]\n",
      "[[ 9  0  0]\n",
      " [ 0 10  1]\n",
      " [ 0  1  9]]\n",
      "[[ 8  0  0]\n",
      " [ 0 13  1]\n",
      " [ 0  1  7]]\n"
     ]
    }
   ],
   "source": [
    "result1,e1,cm1=layer(result,y)\n",
    "printCM(cm1)"
   ]
  },
  {
   "cell_type": "code",
   "execution_count": 23,
   "metadata": {
    "collapsed": false
   },
   "outputs": [],
   "source": [
    "plotErr(e1)"
   ]
  },
  {
   "cell_type": "code",
   "execution_count": 24,
   "metadata": {
    "collapsed": false
   },
   "outputs": [
    {
     "name": "stdout",
     "output_type": "stream",
     "text": [
      "(150L, 16L)\n"
     ]
    }
   ],
   "source": [
    "print result1.shape"
   ]
  },
  {
   "cell_type": "code",
   "execution_count": 25,
   "metadata": {
    "collapsed": false
   },
   "outputs": [
    {
     "name": "stdout",
     "output_type": "stream",
     "text": [
      "[[11  0  0]\n",
      " [ 0 10  0]\n",
      " [ 0  0  9]]\n",
      "[[ 9  0  0]\n",
      " [ 0  7  0]\n",
      " [ 0  4 10]]\n",
      "[[14  0  0]\n",
      " [ 0 10  1]\n",
      " [ 0  0  5]]\n",
      "[[10  0  0]\n",
      " [ 0  9  0]\n",
      " [ 0  1 10]]\n",
      "[[ 6  0  0]\n",
      " [ 0 11  2]\n",
      " [ 0  0 11]]\n"
     ]
    }
   ],
   "source": [
    "result2,e2,cm2=layer(result1,y)\n",
    "printCM(cm2)"
   ]
  },
  {
   "cell_type": "code",
   "execution_count": 26,
   "metadata": {
    "collapsed": false
   },
   "outputs": [],
   "source": [
    "plotErr(e2)"
   ]
  },
  {
   "cell_type": "code",
   "execution_count": 27,
   "metadata": {
    "collapsed": false
   },
   "outputs": [
    {
     "name": "stdout",
     "output_type": "stream",
     "text": [
      "(150L, 11L)\n"
     ]
    }
   ],
   "source": [
    "print result2.shape"
   ]
  },
  {
   "cell_type": "code",
   "execution_count": null,
   "metadata": {
    "collapsed": true
   },
   "outputs": [],
   "source": [
    "result3,e3,cm3=layer(result2,y)\n",
    "printCM(cm3)"
   ]
  },
  {
   "cell_type": "code",
   "execution_count": null,
   "metadata": {
    "collapsed": true
   },
   "outputs": [],
   "source": [
    "plotErr(e3)"
   ]
  },
  {
   "cell_type": "code",
   "execution_count": null,
   "metadata": {
    "collapsed": true
   },
   "outputs": [],
   "source": [
    "result4,e4,cm4=layer(result3,y)\n",
    "printCM(cm4)"
   ]
  },
  {
   "cell_type": "code",
   "execution_count": null,
   "metadata": {
    "collapsed": true
   },
   "outputs": [],
   "source": [
    "plotErr(e4)"
   ]
  },
  {
   "cell_type": "code",
   "execution_count": null,
   "metadata": {
    "collapsed": true
   },
   "outputs": [],
   "source": [
    "result5,e5,cm5=layer(result4,y)\n",
    "printCM(cm5)"
   ]
  },
  {
   "cell_type": "code",
   "execution_count": null,
   "metadata": {
    "collapsed": true
   },
   "outputs": [],
   "source": [
    "plotErr(e5)"
   ]
  },
  {
   "cell_type": "code",
   "execution_count": null,
   "metadata": {
    "collapsed": true
   },
   "outputs": [],
   "source": [
    "result6,e6,cm6=layer(result5,y)\n",
    "printCM(cm6)"
   ]
  },
  {
   "cell_type": "code",
   "execution_count": null,
   "metadata": {
    "collapsed": true
   },
   "outputs": [],
   "source": [
    "plotErr(e6)"
   ]
  },
  {
   "cell_type": "code",
   "execution_count": null,
   "metadata": {
    "collapsed": true
   },
   "outputs": [],
   "source": []
  },
  {
   "cell_type": "code",
   "execution_count": null,
   "metadata": {
    "collapsed": true
   },
   "outputs": [],
   "source": []
  },
  {
   "cell_type": "code",
   "execution_count": null,
   "metadata": {
    "collapsed": true
   },
   "outputs": [],
   "source": []
  },
  {
   "cell_type": "code",
   "execution_count": null,
   "metadata": {
    "collapsed": true
   },
   "outputs": [],
   "source": []
  },
  {
   "cell_type": "code",
   "execution_count": null,
   "metadata": {
    "collapsed": true
   },
   "outputs": [],
   "source": []
  },
  {
   "cell_type": "code",
   "execution_count": null,
   "metadata": {
    "collapsed": true
   },
   "outputs": [],
   "source": []
  },
  {
   "cell_type": "code",
   "execution_count": null,
   "metadata": {
    "collapsed": true
   },
   "outputs": [],
   "source": []
  },
  {
   "cell_type": "code",
   "execution_count": null,
   "metadata": {
    "collapsed": true
   },
   "outputs": [],
   "source": []
  },
  {
   "cell_type": "code",
   "execution_count": null,
   "metadata": {
    "collapsed": true
   },
   "outputs": [],
   "source": []
  }
 ],
 "metadata": {
  "kernelspec": {
   "display_name": "Python 2",
   "language": "python",
   "name": "python2"
  },
  "language_info": {
   "codemirror_mode": {
    "name": "ipython",
    "version": 2
   },
   "file_extension": ".py",
   "mimetype": "text/x-python",
   "name": "python",
   "nbconvert_exporter": "python",
   "pygments_lexer": "ipython2",
   "version": "2.7.6"
  }
 },
 "nbformat": 4,
 "nbformat_minor": 0
}
