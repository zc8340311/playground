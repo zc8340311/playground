{
 "cells": [
  {
   "cell_type": "code",
   "execution_count": 1,
   "metadata": {
    "collapsed": true
   },
   "outputs": [],
   "source": [
    "from sklearn.decomposition import KernelPCA\n",
    "from sklearn.cross_validation import KFold\n",
    "from sklearn import svm\n",
    "import numpy as np\n",
    "import random\n",
    "import math\n",
    "from sklearn.metrics import confusion_matrix as CM\n",
    "import random\n",
    "from sklearn.ensemble import RandomForestClassifier as RFC\n",
    "from sklearn.decomposition import PCA"
   ]
  },
  {
   "cell_type": "code",
   "execution_count": 2,
   "metadata": {
    "collapsed": true
   },
   "outputs": [],
   "source": [
    "from sklearn.datasets import load_iris\n",
    "from sklearn.datasets import load_digits"
   ]
  },
  {
   "cell_type": "code",
   "execution_count": 3,
   "metadata": {
    "collapsed": true
   },
   "outputs": [],
   "source": [
    "def IndOfSortedFea(feaInfo):\n",
    "    \"\"\"return sorted index of a list\"\"\"\n",
    "    sortInfo=sorted(feaInfo,reverse=True)\n",
    "    ##for test\n",
    "    ##print sortInfo\n",
    "    return [feaInfo.index(i) for i in sortInfo]\n",
    "#a=[3,4,6,2]\n",
    "#print IndOfSortedFea(a)"
   ]
  },
  {
   "cell_type": "code",
   "execution_count": 4,
   "metadata": {
    "collapsed": true
   },
   "outputs": [],
   "source": [
    "def crossValidation_forest(x,y):\n",
    "    \"\"\"\n",
    "    version 3\n",
    "    \n",
    "    \"\"\"\n",
    "    crossErrors=[]\n",
    "    confusion_matrix=[]\n",
    "    #svc=svm.LinearSVC()\n",
    "    rf=RFC(n_estimators=100,max_features=None)\n",
    "    kf = KFold(x.shape[0], n_folds=5,shuffle=True)\n",
    "    for train,test in kf:\n",
    "        rf.fit(x[train],y[train])\n",
    "        prediction=rf.predict(x[test])\n",
    "        crossErrors.append(((prediction!=y[test]).sum())/float(len(y[test])))\n",
    "        confusion_matrix.append(CM(y[test],prediction))\n",
    "    return np.mean(crossErrors),confusion_matrix"
   ]
  },
  {
   "cell_type": "code",
   "execution_count": 22,
   "metadata": {
    "collapsed": true
   },
   "outputs": [],
   "source": [
    "def layer_rbf(x,y):\n",
    "    \"\"\"version 2\"\"\"\n",
    "    kpca=KernelPCA(kernel='rbf',gamma=10.,n_components=x.shape[1])\n",
    "    x_kpca=kpca.fit_transform(x)\n",
    "    \n",
    "    xT=np.concatenate((x,x_kpca),axis=1)\n",
    "    \n",
    "#     rank=[]\n",
    "    numOfFeatures=xT.shape[1]\n",
    "#     for i in xrange(numOfFeatures):\n",
    "#         rank.append(cosine_distance(xT[:,i],y))\n",
    "    selecting_tree=RFC(n_estimators=100,max_depth=2,n_jobs=2)\n",
    "    selecting_tree.fit(x,y)\n",
    "    rank=[i for i in selecting_tree.feature_importances_]\n",
    "    feaSelected=IndOfSortedFea(rank)\n",
    "    \n",
    "    featureSelectedErrors=[]\n",
    "    for i in xrange(numOfFeatures):\n",
    "        crossErrors,cms=crossValidation_forest(xT[:,feaSelected[:i+1]],y)\n",
    "        featureSelectedErrors.append(crossErrors)\n",
    "    choice=featureSelectedErrors.index(min(featureSelectedErrors))\n",
    "    return xT[:,feaSelected[:choice+1]],featureSelectedErrors,cms"
   ]
  },
  {
   "cell_type": "code",
   "execution_count": 88,
   "metadata": {
    "collapsed": true
   },
   "outputs": [],
   "source": [
    "def layer_rbf_c(x,y):\n",
    "    \"\"\"version 2\"\"\"\n",
    "    kpca=KernelPCA(kernel='rbf',gamma=10.,n_components=x.shape[1])\n",
    "    x_kpca=kpca.fit_transform(x)\n",
    "    \n",
    "    xT=np.concatenate((x,x_kpca),axis=1)\n",
    "    \n",
    "#     rank=[]\n",
    "    numOfFeatures=xT.shape[1]\n",
    "#     for i in xrange(numOfFeatures):\n",
    "#         rank.append(cosine_distance(xT[:,i],y))\n",
    "    selecting_tree=RFC(n_estimators=100,max_depth=2,n_jobs=2)\n",
    "    selecting_tree.fit(x,y)\n",
    "    rank=[i for i in selecting_tree.feature_importances_]\n",
    "    feaSelected=IndOfSortedFea(rank)\n",
    "    \n",
    "    featureSelectedErrors=[]\n",
    "    for i in xrange(numOfFeatures):\n",
    "        crossErrors,cms=crossValidation_forest(xT[:,feaSelected[:i+1]],y)\n",
    "        featureSelectedErrors.append(crossErrors)\n",
    "#     dif =[]\n",
    "#     for i in xrange(numOfFeatures-1):\n",
    "#         dif.append(featureSelectedErrors[i+1]-featureSelectedErrors[i])\n",
    "#     choice=featureSelectedErrors.index(min(featureSelectedErrors))\n",
    "    choice=selectChoice(featureSelectedErrors)\n",
    "    return xT[:,feaSelected[:choice+1]],featureSelectedErrors,cms"
   ]
  },
  {
   "cell_type": "code",
   "execution_count": 108,
   "metadata": {
    "collapsed": false
   },
   "outputs": [],
   "source": [
    "def selectChoice(featureSelectedErrors):\n",
    "    \"\"\"\n",
    "    return a index of given error return a index of which\n",
    "    trend of increasing or decreasing is minimum\n",
    "    \"\"\"\n",
    "    dif =[]\n",
    "    numOfFeatures=len(featureSelectedErrors)\n",
    "    for i in xrange(numOfFeatures-1):\n",
    "        dif.append(featureSelectedErrors[i+1]-featureSelectedErrors[i])\n",
    "    dif=np.abs(dif)\n",
    "# choice=dif.index(min(dif))+1\n",
    "    choice=0\n",
    "    for i in xrange(len(dif)):\n",
    "        if dif[i]<0.001:\n",
    "            choice=i\n",
    "            break\n",
    "        else:\n",
    "            choice=i\n",
    "    return choice\n"
   ]
  },
  {
   "cell_type": "code",
   "execution_count": 23,
   "metadata": {
    "collapsed": false
   },
   "outputs": [],
   "source": [
    "def pretrain(x,y):\n",
    "    \n",
    "    numOfFeatures=x.shape[1]\n",
    "#     for i in xrange(numOfFeatures):\n",
    "#         rank.append(cosine_distance(x[:,i],y))\n",
    "    selecting_tree=RFC(n_estimators=100,max_depth=2,n_jobs=2)\n",
    "    selecting_tree.fit(x,y)\n",
    "    rank=[i for i in selecting_tree.feature_importances_]\n",
    "    \n",
    "    feaSelected=IndOfSortedFea(rank)\n",
    "    \n",
    "    featureSelectedErrors=[]\n",
    "    for i in xrange(numOfFeatures):\n",
    "        crossErrors,cms=crossValidation_forest(x[:,feaSelected[:i+1]],y)\n",
    "        featureSelectedErrors.append(crossErrors)\n",
    "    choice=featureSelectedErrors.index(min(featureSelectedErrors))\n",
    "    return x[:,feaSelected[:choice+1]],featureSelectedErrors,cms"
   ]
  },
  {
   "cell_type": "code",
   "execution_count": 7,
   "metadata": {
    "collapsed": true
   },
   "outputs": [],
   "source": [
    "%matplotlib inline\n",
    "from matplotlib import pyplot as plt\n",
    "def plotFunction(x,y,text):\n",
    "    n=x.shape[1]\n",
    "    cols=2\n",
    "    rows=int(math.ceil(n/2.))\n",
    "    fig,ax=plt.subplots(ncols=cols,nrows=rows)\n",
    "    if rows==1:\n",
    "        for j in range(cols):\n",
    "            if j<n:\n",
    "                ax[j].scatter(x[:,j],y,c='b')\n",
    "    else:\n",
    "        for i in range(rows):\n",
    "            for j in range(cols):\n",
    "                if i*cols+j<n:\n",
    "                    ax[i,j].scatter(x[:,i*cols+j],y,c='b')\n",
    "                    #ax[i].title('x%d'%i,fontsize='small')\n",
    "    plt.title(text)\n",
    "    plt.show()"
   ]
  },
  {
   "cell_type": "code",
   "execution_count": 8,
   "metadata": {
    "collapsed": true
   },
   "outputs": [],
   "source": [
    "def plotdata(x,y):\n",
    "    n=x.shape[1]\n",
    "    fig,ax=plt.subplots(ncols=n,nrows=n)\n",
    "    fig.set_size_inches(9,6)\n",
    "    for i in xrange(n):\n",
    "        for j in xrange(i+1):\n",
    "            for t,color in zip(xrange(3),'rgb'):\n",
    "                ax[i][j].scatter(x[y == t,i],x[y == t,j],c=color)\n",
    "    plt.show()\n",
    "#plotdata(x,y)"
   ]
  },
  {
   "cell_type": "code",
   "execution_count": 9,
   "metadata": {
    "collapsed": true
   },
   "outputs": [],
   "source": [
    "def plotErr(err):\n",
    "    x=range(len(err))\n",
    "    #y=[e/min(err) for e in err]\n",
    "    plt.bar(x,err)\n",
    "    plt.title('Error Bar_Chart')\n",
    "    plt.show()"
   ]
  },
  {
   "cell_type": "code",
   "execution_count": 10,
   "metadata": {
    "collapsed": true
   },
   "outputs": [],
   "source": [
    "def printCM(cm):\n",
    "    \"\"\"\n",
    "    print cm in a nice way\n",
    "    \"\"\"\n",
    "    for i in cm:\n",
    "        print i\n",
    "        print "
   ]
  },
  {
   "cell_type": "code",
   "execution_count": 11,
   "metadata": {
    "collapsed": true
   },
   "outputs": [],
   "source": [
    "# iris=load_iris()\n",
    "# x=iris.data\n",
    "# y=iris.target"
   ]
  },
  {
   "cell_type": "code",
   "execution_count": 124,
   "metadata": {
    "collapsed": true
   },
   "outputs": [],
   "source": [
    "digits=load_digits()\n",
    "x=digits.data\n",
    "y=digits.target"
   ]
  },
  {
   "cell_type": "code",
   "execution_count": 125,
   "metadata": {
    "collapsed": false
   },
   "outputs": [
    {
     "name": "stdout",
     "output_type": "stream",
     "text": [
      "[[36  0  0  0  1  0  0  0  1  0]\n",
      " [ 0 30  0  0  0  0  0  0  0  0]\n",
      " [ 0  0 43  0  0  0  0  0  0  0]\n",
      " [ 0  0  2 31  0  1  0  0  1  2]\n",
      " [ 1  1  0  0 32  0  0  0  0  0]\n",
      " [ 0  0  0  0  0 40  0  0  1  0]\n",
      " [ 0  0  0  0  0  0 27  0  0  0]\n",
      " [ 0  0  1  0  0  0  0 36  1  0]\n",
      " [ 0  2  1  0  0  0  1  1 30  1]\n",
      " [ 0  0  0  0  0  0  0  0  2 34]]\n",
      "\n",
      "[[37  0  0  0  0  0  0  0  0  0]\n",
      " [ 0 40  2  0  0  0  0  0  0  0]\n",
      " [ 1  0 28  1  0  0  0  0  0  0]\n",
      " [ 0  0  0 36  0  0  0  0  3  0]\n",
      " [ 0  2  0  0 31  0  0  0  1  0]\n",
      " [ 0  0  0  1  0 32  0  0  0  0]\n",
      " [ 0  0  0  0  1  0 39  0  0  0]\n",
      " [ 0  0  0  0  1  0  0 45  0  0]\n",
      " [ 0  3  1  0  0  1  0  0 27  0]\n",
      " [ 0  0  0  0  1  0  0  0  1 25]]\n",
      "\n",
      "[[29  0  0  0  1  0  0  0  0  0]\n",
      " [ 0 37  0  0  0  0  0  0  0  0]\n",
      " [ 0  0 35  0  0  0  0  0  0  0]\n",
      " [ 0  1  0 30  0  3  0  0  0  0]\n",
      " [ 0  0  0  0 32  2  0  2  0  2]\n",
      " [ 0  0  0  0  0 25  1  0  0  0]\n",
      " [ 0  1  0  0  0  0 42  0  0  0]\n",
      " [ 0  0  0  0  0  0  0 36  0  0]\n",
      " [ 0  0  0  0  0  0  0  2 37  0]\n",
      " [ 0  0  0  1  0  1  0  0  1 38]]\n",
      "\n",
      "[[39  0  0  0  0  0  0  0  0  0]\n",
      " [ 0 36  0  2  0  0  0  0  0  1]\n",
      " [ 0  0 32  0  0  0  0  0  0  0]\n",
      " [ 0  0  0 33  0  0  0  1  1  0]\n",
      " [ 0  0  0  0 39  0  0  0  0  0]\n",
      " [ 0  0  0  0  0 39  0  0  0  3]\n",
      " [ 1  1  0  0  0  0 34  0  1  0]\n",
      " [ 0  0  0  0  1  0  0 28  1  0]\n",
      " [ 0  1  0  1  0  0  0  0 32  0]\n",
      " [ 0  0  0  0  0  0  0  0  0 32]]\n",
      "\n",
      "[[34  0  0  0  0  0  0  0  0  0]\n",
      " [ 0 33  0  0  0  0  0  1  0  0]\n",
      " [ 0  1 36  0  0  0  0  0  0  0]\n",
      " [ 0  0  0 37  0  0  0  0  0  1]\n",
      " [ 0  1  0  0 35  0  0  0  0  0]\n",
      " [ 0  0  0  1  1 36  0  0  0  2]\n",
      " [ 0  1  0  0  1  0 32  0  0  0]\n",
      " [ 0  0  0  0  0  0  0 29  0  0]\n",
      " [ 0  1  1  0  0  0  0  0 30  1]\n",
      " [ 0  0  0  1  0  0  0  5  1 37]]\n",
      "\n"
     ]
    }
   ],
   "source": [
    "result,error,cm=pretrain(x,y)\n",
    "printCM(cm)"
   ]
  },
  {
   "cell_type": "code",
   "execution_count": null,
   "metadata": {
    "collapsed": false,
    "scrolled": false
   },
   "outputs": [],
   "source": []
  },
  {
   "cell_type": "code",
   "execution_count": 127,
   "metadata": {
    "collapsed": false
   },
   "outputs": [
    {
     "data": {
      "image/png": "[encoded data removed]",
      "text/plain": [
       "<matplotlib.figure.Figure at 0xe26cbe0>"
      ]
     },
     "metadata": {},
     "output_type": "display_data"
    },
    {
     "name": "stdout",
     "output_type": "stream",
     "text": [
      "Choice of Error:  0.0484122562674\n"
     ]
    }
   ],
   "source": [
    "plotErr(error)\n",
    "print \"Choice of Error: \", error[result.shape[1]]"
   ]
  },
  {
   "cell_type": "code",
   "execution_count": 128,
   "metadata": {
    "collapsed": false
   },
   "outputs": [
    {
     "name": "stdout",
     "output_type": "stream",
     "text": [
      "(1797L, 42L)\n"
     ]
    }
   ],
   "source": [
    "print result.shape"
   ]
  },
  {
   "cell_type": "code",
   "execution_count": 129,
   "metadata": {
    "collapsed": false,
    "scrolled": false
   },
   "outputs": [
    {
     "name": "stdout",
     "output_type": "stream",
     "text": [
      "[[44  0  0  0  0  0  0  0  0  0]\n",
      " [ 0 37  1  0  0  0  0  0  0  0]\n",
      " [ 0  0 35  2  0  0  0  0  0  0]\n",
      " [ 0  0  0 33  0  2  0  0  1  1]\n",
      " [ 0  1  0  0 39  0  0  1  0  0]\n",
      " [ 0  0  0  0  1 38  0  0  0  2]\n",
      " [ 0  1  0  0  0  0 32  0  0  0]\n",
      " [ 0  0  0  0  0  0  0 33  0  0]\n",
      " [ 0  1  2  0  0  0  0  1 22  0]\n",
      " [ 0  0  0  0  0  0  0  1  1 28]]\n",
      "\n",
      "[[37  0  0  0  1  0  0  0  1  0]\n",
      " [ 0 36  1  0  0  0  0  0  0  0]\n",
      " [ 1  0 31  1  0  0  0  0  0  0]\n",
      " [ 0  1  0 41  0  0  0  0  0  0]\n",
      " [ 0  0  0  0 31  0  0  0  0  0]\n",
      " [ 1  0  0  1  0 24  1  0  0  2]\n",
      " [ 0  0  0  0  0  0 41  0  0  0]\n",
      " [ 0  0  0  0  0  0  0 37  0  0]\n",
      " [ 0  1  1  0  0  0  0  0 31  1]\n",
      " [ 1  0  0  0  0  1  0  0  2 33]]\n",
      "\n",
      "[[24  0  0  0  0  0  0  0  0  0]\n",
      " [ 0 39  0  0  0  0  0  0  0  0]\n",
      " [ 0  0 31  1  0  0  0  0  0  0]\n",
      " [ 0  0  0 33  0  0  0  0  1  5]\n",
      " [ 1  1  0  0 34  1  0  0  0  0]\n",
      " [ 0  0  0  1  0 29  0  0  0  0]\n",
      " [ 0  0  0  0  0  0 34  0  1  0]\n",
      " [ 0  0  0  0  0  0  0 38  0  1]\n",
      " [ 0  1  0  0  0  1  0  0 41  0]\n",
      " [ 2  0  0  1  1  1  0  1  0 35]]\n",
      "\n",
      "[[34  0  0  0  0  0  0  0  0  0]\n",
      " [ 0 32  0  2  0  0  0  0  0  1]\n",
      " [ 0  0 43  0  0  0  0  0  0  0]\n",
      " [ 0  0  0 36  0  0  0  0  1  0]\n",
      " [ 0  0  0  0 30  0  1  1  0  2]\n",
      " [ 0  0  0  0  1 36  0  0  0  0]\n",
      " [ 0  0  0  0  1  0 33  0  0  0]\n",
      " [ 0  0  0  1  0  0  0 29  0  0]\n",
      " [ 0  1  0  0  1  0  0  0 30  0]\n",
      " [ 0  0  0  2  0  1  0  0  1 39]]\n",
      "\n",
      "[[37  0  0  0  0  0  0  0  0  0]\n",
      " [ 0 33  0  0  0  0  0  0  0  0]\n",
      " [ 0  0 32  0  0  0  0  0  0  0]\n",
      " [ 0  0  1 23  0  1  0  1  1  1]\n",
      " [ 0  1  0  0 37  0  0  0  0  0]\n",
      " [ 0  0  0  0  0 43  0  0  1  1]\n",
      " [ 1  1  0  0  2  0 34  0  0  0]\n",
      " [ 0  0  0  0  0  0  0 40  0  0]\n",
      " [ 1  2  0  1  0  1  0  0 34  0]\n",
      " [ 0  0  0  0  0  0  0  0  0 29]]\n",
      "\n"
     ]
    }
   ],
   "source": [
    "result1,e1,cm1=layer_rbf(result,y)\n",
    "printCM(cm1)"
   ]
  },
  {
   "cell_type": "code",
   "execution_count": 130,
   "metadata": {
    "collapsed": false
   },
   "outputs": [
    {
     "name": "stdout",
     "output_type": "stream",
     "text": [
      "(1797L, 42L)\n"
     ]
    }
   ],
   "source": [
    "print result1.shape"
   ]
  },
  {
   "cell_type": "code",
   "execution_count": 132,
   "metadata": {
    "collapsed": false
   },
   "outputs": [
    {
     "data": {
      "image/png": "[encoded data removed]",
      "text/plain": [
       "<matplotlib.figure.Figure at 0xe78ec18>"
      ]
     },
     "metadata": {},
     "output_type": "display_data"
    },
    {
     "name": "stdout",
     "output_type": "stream",
     "text": [
      "0.0506391210152\n"
     ]
    }
   ],
   "source": [
    "plotErr(e1)\n",
    "print e1[result1.shape[1]]"
   ]
  },
  {
   "cell_type": "code",
   "execution_count": 133,
   "metadata": {
    "collapsed": false,
    "scrolled": false
   },
   "outputs": [
    {
     "name": "stdout",
     "output_type": "stream",
     "text": [
      "[[35  0  0  0  0  0  0  0  0  0]\n",
      " [ 0 40  0  1  0  0  0  0  0  0]\n",
      " [ 0  0 39  0  0  0  0  0  0  0]\n",
      " [ 0  0  0 29  0  1  0  0  1  0]\n",
      " [ 0  0  0  0 34  0  0  0  0  0]\n",
      " [ 0  1  0  1  0 35  0  0  1  0]\n",
      " [ 0  0  0  0  0  0 32  0  0  0]\n",
      " [ 0  0  0  0  0  0  0 36  0  0]\n",
      " [ 0  1  0  0  0  0  0  0 36  0]\n",
      " [ 0  0  0  0  0  0  0  0  2 35]]\n",
      "\n",
      "[[32  0  0  0  0  1  0  0  0  0]\n",
      " [ 0 42  0  0  0  0  0  0  0  0]\n",
      " [ 0  0 32  0  0  0  0  0  0  0]\n",
      " [ 0  0  1 34  0  1  0  0  0  0]\n",
      " [ 0  0  0  0 33  0  0  0  0  0]\n",
      " [ 1  0  0  0  1 33  0  0  0  1]\n",
      " [ 0  2  0  0  1  0 34  0  0  0]\n",
      " [ 0  0  0  0  1  0  0 35  0  0]\n",
      " [ 0  0  0  0  1  0  0  1 34  0]\n",
      " [ 0  1  0  1  1  1  0  0  1 34]]\n",
      "\n",
      "[[26  0  0  0  1  0  0  0  0  0]\n",
      " [ 0 31  0  0  0  0  0  0  0  0]\n",
      " [ 1  1 33  0  0  0  0  0  0  0]\n",
      " [ 0  1  0 39  0  0  0  0  2  1]\n",
      " [ 0  0  0  0 43  0  0  0  0  0]\n",
      " [ 0  0  0  1  0 39  1  0  0  0]\n",
      " [ 0  0  0  0  0  0 36  0  1  0]\n",
      " [ 0  0  0  0  0  0  0 39  0  0]\n",
      " [ 0  2  0  0  0  1  0  0 25  2]\n",
      " [ 0  1  0  1  0  0  0  0  1 30]]\n",
      "\n",
      "[[42  0  0  0  1  0  0  0  0  0]\n",
      " [ 0 32  2  0  0  0  0  2  0  3]\n",
      " [ 0  1 31  1  0  0  0  0  1  1]\n",
      " [ 0  0  3 33  0  1  0  1  1  0]\n",
      " [ 0  0  0  0 37  0  0  1  0  0]\n",
      " [ 0  0  0  0  0 29  0  0  1  1]\n",
      " [ 0  0  0  0  1  0 32  0  0  0]\n",
      " [ 0  0  0  0  0  0  0 30  0  0]\n",
      " [ 1  3  1  2  0  0  0  1 24  0]\n",
      " [ 0  0  0  0  0  0  0  2  2 35]]\n",
      "\n",
      "[[39  0  0  0  1  0  0  0  0  0]\n",
      " [ 0 29  0  0  0  0  0  0  0  0]\n",
      " [ 0  0 34  1  0  1  0  0  0  0]\n",
      " [ 0  0  0 34  0  0  0  0  0  0]\n",
      " [ 0  1  0  0 30  1  0  1  0  0]\n",
      " [ 0  0  0  0  1 33  0  0  0  2]\n",
      " [ 1  0  0  0  1  0 40  0  0  0]\n",
      " [ 0  0  0  1  0  0  0 36  0  1]\n",
      " [ 0  1  0  1  0  0  0  0 37  0]\n",
      " [ 0  1  0  0  0  0  0  1  0 30]]\n",
      "\n"
     ]
    }
   ],
   "source": [
    "result2,e2,cm2=layer_rbf(result1,y)\n",
    "printCM(cm2)"
   ]
  },
  {
   "cell_type": "code",
   "execution_count": 134,
   "metadata": {
    "collapsed": false
   },
   "outputs": [
    {
     "name": "stdout",
     "output_type": "stream",
     "text": [
      "(1797L, 42L)\n"
     ]
    }
   ],
   "source": [
    "print result2.shape"
   ]
  },
  {
   "cell_type": "code",
   "execution_count": 137,
   "metadata": {
    "collapsed": false
   },
   "outputs": [
    {
     "data": {
      "image/png": "[encoded data removed]",
      "text/plain": [
       "<matplotlib.figure.Figure at 0xe26e898>"
      ]
     },
     "metadata": {},
     "output_type": "display_data"
    },
    {
     "name": "stdout",
     "output_type": "stream",
     "text": [
      "0.0512086041473\n"
     ]
    }
   ],
   "source": [
    "plotErr(e2)\n",
    "print e2[result2.shape[1]]"
   ]
  },
  {
   "cell_type": "code",
   "execution_count": 138,
   "metadata": {
    "collapsed": false,
    "scrolled": false
   },
   "outputs": [
    {
     "name": "stdout",
     "output_type": "stream",
     "text": [
      "[[33  0  0  0  0  0  0  0  1  0]\n",
      " [ 0 35  0  0  0  0  0  0  0  0]\n",
      " [ 0  1 33  2  0  0  0  0  1  0]\n",
      " [ 0  0  0 40  0  1  0  0  0  1]\n",
      " [ 0  2  0  0 38  0  0  2  1  0]\n",
      " [ 0  0  0  0  0 35  0  0  0  3]\n",
      " [ 0  0  0  0  1  0 37  0  1  0]\n",
      " [ 0  0  0  1  0  0  0 34  0  0]\n",
      " [ 0  2  1  0  0  0  0  0 23  0]\n",
      " [ 0  0  0  0  0  0  0  5  1 25]]\n",
      "\n",
      "[[43  0  0  0  0  0  0  0  0  0]\n",
      " [ 0 40  0  0  0  0  0  0  0  0]\n",
      " [ 0  0 41  0  0  0  0  0  0  0]\n",
      " [ 0  0  0 31  0  1  0  1  2  0]\n",
      " [ 1  0  0  0 34  0  0  0  0  0]\n",
      " [ 0  0  0  0  1 38  0  0  0  0]\n",
      " [ 0  1  0  0  0  0 26  0  0  0]\n",
      " [ 0  0  0  0  0  0  0 28  0  0]\n",
      " [ 0  2  1  0  0  0  0  2 27  0]\n",
      " [ 0  2  0  2  0  0  0  1  1 34]]\n",
      "\n",
      "[[29  0  0  0  0  1  0  0  0  0]\n",
      " [ 0 41  0  0  0  0  0  0  0  0]\n",
      " [ 0  0 28  0  0  0  0  0  0  0]\n",
      " [ 0  0  0 32  0  1  0  0  2  0]\n",
      " [ 0  0  0  0 33  1  0  0  0  0]\n",
      " [ 0  0  0  0  3 34  1  0  0  0]\n",
      " [ 0  0  0  0  2  0 36  0  0  0]\n",
      " [ 0  0  0  0  0  0  0 39  0  0]\n",
      " [ 0  0  1  0  0  1  0  2 37  1]\n",
      " [ 0  0  0  0  0  1  0  0  2 31]]\n",
      "\n",
      "[[33  0  0  0  1  0  0  0  1  0]\n",
      " [ 0 30  2  0  0  0  0  0  0  0]\n",
      " [ 0  0 34  2  0  0  0  0  0  1]\n",
      " [ 0  0  0 40  0  0  0  0  2  0]\n",
      " [ 0  0  0  0 30  0  0  0  0  0]\n",
      " [ 0  0  0  0  0 30  0  0  0  1]\n",
      " [ 0  0  0  0  1  1 42  0  0  0]\n",
      " [ 0  0  0  0  1  0  0 39  0  0]\n",
      " [ 1  1  0  0  0  0  0  0 28  1]\n",
      " [ 0  1  0  1  0  0  0  0  0 35]]\n",
      "\n",
      "[[36  0  0  0  0  0  0  0  0  0]\n",
      " [ 0 31  0  1  0  0  0  1  0  1]\n",
      " [ 1  0 32  0  0  0  0  1  0  0]\n",
      " [ 0  0  1 27  0  0  0  0  0  1]\n",
      " [ 0  0  0  0 35  0  0  3  0  1]\n",
      " [ 0  0  0  1  0 34  0  0  0  1]\n",
      " [ 0  0  0  0  0  0 32  0  1  0]\n",
      " [ 0  0  0  0  1  0  0 34  0  2]\n",
      " [ 0  2  0  1  0  0  0  0 40  0]\n",
      " [ 0  0  0  0  0  0  0  0  0 38]]\n",
      "\n"
     ]
    }
   ],
   "source": [
    "result3,e3,cm3=layer_rbf(result2,y)\n",
    "printCM(cm3)"
   ]
  },
  {
   "cell_type": "code",
   "execution_count": 139,
   "metadata": {
    "collapsed": false
   },
   "outputs": [
    {
     "data": {
      "image/png": "[encoded data removed]",
      "text/plain": [
       "<matplotlib.figure.Figure at 0xe6d35c0>"
      ]
     },
     "metadata": {},
     "output_type": "display_data"
    },
    {
     "name": "stdout",
     "output_type": "stream",
     "text": [
      "0.0528597957289\n"
     ]
    }
   ],
   "source": [
    "plotErr(e3)\n",
    "print e3[result3.shape[1]]"
   ]
  },
  {
   "cell_type": "code",
   "execution_count": 140,
   "metadata": {
    "collapsed": false
   },
   "outputs": [
    {
     "name": "stdout",
     "output_type": "stream",
     "text": [
      "(1797L, 42L)\n"
     ]
    }
   ],
   "source": [
    "print result3.shape"
   ]
  },
  {
   "cell_type": "code",
   "execution_count": 141,
   "metadata": {
    "collapsed": false,
    "scrolled": false
   },
   "outputs": [
    {
     "name": "stdout",
     "output_type": "stream",
     "text": [
      "[[34  0  0  0  0  0  0  0  0  0]\n",
      " [ 0 39  0  1  0  0  0  0  0  0]\n",
      " [ 0  0 41  0  0  0  0  0  0  0]\n",
      " [ 0  1  0 32  0  1  0  0  0  0]\n",
      " [ 0  0  0  0 31  0  0  0  0  1]\n",
      " [ 0  0  0  0  0 30  0  0  0  1]\n",
      " [ 1  1  0  0  1  0 35  0  0  0]\n",
      " [ 0  0  0  0  1  0  0 42  0  0]\n",
      " [ 0  1  0  0  0  1  0  0 27  1]\n",
      " [ 0  0  0  0  0  0  0  2  2 33]]\n",
      "\n",
      "[[29  0  0  0  0  1  0  0  0  0]\n",
      " [ 0 47  1  0  1  0  0  0  0  0]\n",
      " [ 0  0 29  0  0  0  1  0  0  0]\n",
      " [ 0  0  2 32  0  0  0  0  1  2]\n",
      " [ 0  1  0  0 39  0  0  0  0  1]\n",
      " [ 0  0  0  1  0 30  0  0  0  3]\n",
      " [ 0  0  0  0  0  0 39  0  0  0]\n",
      " [ 0  0  0  0  1  0  0 34  0  1]\n",
      " [ 1  1  1  0  0  0  0  0 32  0]\n",
      " [ 0  0  0  2  0  0  0  1  1 25]]\n",
      "\n",
      "[[36  0  0  0  0  0  0  0  1  0]\n",
      " [ 0 35  0  0  0  0  0  0  0  0]\n",
      " [ 1  1 31  0  0  0  0  0  0  0]\n",
      " [ 0  1  0 30  0  0  0  0  3  0]\n",
      " [ 0  2  0  1 32  1  0  2  0  0]\n",
      " [ 0  0  0  1  1 34  0  0  0  1]\n",
      " [ 0  0  0  0  0  0 34  0  1  0]\n",
      " [ 0  0  0  1  0  0  0 37  0  1]\n",
      " [ 0  3  3  0  0  1  1  0 26  0]\n",
      " [ 0  0  0  1  0  0  0  0  0 36]]\n",
      "\n",
      "[[41  0  0  0  1  0  0  0  1  0]\n",
      " [ 0 23  0  0  0  0  0  0  0  0]\n",
      " [ 0  0 34  0  0  0  0  0  0  0]\n",
      " [ 0  0  0 32  0  0  0  0  0  0]\n",
      " [ 1  0  0  0 36  0  0  0  0  0]\n",
      " [ 0  0  0  1  1 39  0  0  0  0]\n",
      " [ 0  0  0  1  1  0 33  0  0  0]\n",
      " [ 0  0  0  0  0  0  0 32  0  1]\n",
      " [ 0  3  0  0  0  0  0  0 29  0]\n",
      " [ 0  1  0  2  1  1  0  1  0 43]]\n",
      "\n",
      "[[33  0  0  0  1  0  0  0  0  0]\n",
      " [ 0 35  0  0  0  0  0  0  0  0]\n",
      " [ 0  0 39  0  0  0  0  0  0  0]\n",
      " [ 0  0  1 41  0  3  0  1  0  0]\n",
      " [ 0  0  0  0 33  0  0  0  0  0]\n",
      " [ 0  0  0  0  1 36  1  0  0  1]\n",
      " [ 0  0  0  0  0  0 33  0  1  0]\n",
      " [ 0  0  0  0  0  0  0 28  0  0]\n",
      " [ 0  0  0  0  0  0  0  1 41  1]\n",
      " [ 0  0  0  0  0  0  0  0  2 26]]\n",
      "\n"
     ]
    }
   ],
   "source": [
    "result4,e4,cm4=layer_rbf(result3,y)\n",
    "printCM(cm4)"
   ]
  },
  {
   "cell_type": "code",
   "execution_count": 142,
   "metadata": {
    "collapsed": false
   },
   "outputs": [
    {
     "data": {
      "image/png": "[encoded data removed]",
      "text/plain": [
       "<matplotlib.figure.Figure at 0xf13c550>"
      ]
     },
     "metadata": {},
     "output_type": "display_data"
    },
    {
     "name": "stdout",
     "output_type": "stream",
     "text": [
      "0.0562039616218\n"
     ]
    }
   ],
   "source": [
    "plotErr(e4)\n",
    "print e4[result4.shape[1]]"
   ]
  },
  {
   "cell_type": "code",
   "execution_count": 143,
   "metadata": {
    "collapsed": false
   },
   "outputs": [
    {
     "name": "stdout",
     "output_type": "stream",
     "text": [
      "(1797L, 42L)\n"
     ]
    }
   ],
   "source": [
    "print result4.shape"
   ]
  },
  {
   "cell_type": "code",
   "execution_count": 144,
   "metadata": {
    "collapsed": false,
    "scrolled": false
   },
   "outputs": [
    {
     "name": "stdout",
     "output_type": "stream",
     "text": [
      "[[35  0  0  0  0  1  0  0  0  0]\n",
      " [ 0 34  0  1  0  0  0  0  2  0]\n",
      " [ 0  0 33  0  0  0  0  0  0  0]\n",
      " [ 0  0  0 31  0  0  0  1  0  2]\n",
      " [ 0  1  0  0 42  0  0  0  0  0]\n",
      " [ 0  0  0  0  0 30  0  0  0  1]\n",
      " [ 0  0  0  1  1  0 34  0  1  0]\n",
      " [ 0  0  0  0  0  0  0 34  0  0]\n",
      " [ 0  0  0  0  0  0  0  0 38  0]\n",
      " [ 0  0  0  0  0  0  0  2  0 35]]\n",
      "\n",
      "[[29  0  0  0  0  0  0  0  0  0]\n",
      " [ 0 31  0  1  0  0  0  0  0  1]\n",
      " [ 0  3 31  0  0  1  0  0  0  0]\n",
      " [ 0  1  0 37  0  1  0  0  2  1]\n",
      " [ 0  0  0  0 30  1  0  0  0  0]\n",
      " [ 0  0  0  0  0 30  0  0  0  2]\n",
      " [ 0  0  0  0  1  0 30  0  0  0]\n",
      " [ 0  0  0  0  0  1  0 47  0  2]\n",
      " [ 0  4  0  0  0  1  0  0 30  1]\n",
      " [ 0  0  0  0  0  0  0  1  2 38]]\n",
      "\n",
      "[[35  0  0  0  1  0  0  0  0  0]\n",
      " [ 0 37  1  0  0  0  0  0  0  0]\n",
      " [ 1  1 45  0  0  0  0  0  0  0]\n",
      " [ 0  0  0 33  0  1  0  0  0  0]\n",
      " [ 0  2  0  0 37  0  0  0  0  0]\n",
      " [ 0  0  0  1  0 39  0  0  0  2]\n",
      " [ 0  0  0  0  0  0 35  0  0  0]\n",
      " [ 0  0  0  1  1  0  0 24  1  2]\n",
      " [ 0  1  4  0  0  0  0  0 18  2]\n",
      " [ 0  1  0  2  0  0  0  0  1 30]]\n",
      "\n",
      "[[39  0  0  0  0  0  0  0  2  0]\n",
      " [ 0 37  1  0  0  0  0  0  0  0]\n",
      " [ 0  0 29  0  0  0  0  0  0  0]\n",
      " [ 0  1  1 29  0  1  0  1  0  2]\n",
      " [ 1  1  0  0 28  0  0  1  0  0]\n",
      " [ 0  0  0  0  1 38  0  0  0  0]\n",
      " [ 0  1  0  0  2  0 40  0  0  0]\n",
      " [ 0  0  0  0  1  0  0 29  0  0]\n",
      " [ 1  2  1  0  1  0  0  0 30  0]\n",
      " [ 0  0  0  0  0  2  0  1  0 35]]\n",
      "\n",
      "[[36  0  0  0  0  0  0  0  0  0]\n",
      " [ 0 34  0  1  0  0  0  0  0  1]\n",
      " [ 0  0 32  0  0  0  0  1  0  0]\n",
      " [ 0  0  0 36  0  1  0  0  1  0]\n",
      " [ 0  0  0  0 36  1  0  0  0  0]\n",
      " [ 0  0  0  1  1 33  2  0  0  1]\n",
      " [ 0  0  0  0  1  0 34  0  0  0]\n",
      " [ 0  0  0  0  0  0  0 36  0  0]\n",
      " [ 0  0  0  0  0  1  0  0 39  0]\n",
      " [ 0  0  0  2  1  0  0  0  0 27]]\n",
      "\n"
     ]
    }
   ],
   "source": [
    "result5,e5,cm5=layer_rbf(result4,y)\n",
    "printCM(cm5)"
   ]
  },
  {
   "cell_type": "code",
   "execution_count": 145,
   "metadata": {
    "collapsed": false
   },
   "outputs": [
    {
     "data": {
      "image/png": "[encoded data removed]",
      "text/plain": [
       "<matplotlib.figure.Figure at 0xf13c5c0>"
      ]
     },
     "metadata": {},
     "output_type": "display_data"
    },
    {
     "name": "stdout",
     "output_type": "stream",
     "text": [
      "0.0572965026308\n"
     ]
    }
   ],
   "source": [
    "plotErr(e5)\n",
    "print e5[result5.shape[1]]"
   ]
  },
  {
   "cell_type": "code",
   "execution_count": 146,
   "metadata": {
    "collapsed": false
   },
   "outputs": [
    {
     "name": "stdout",
     "output_type": "stream",
     "text": [
      "(1797L, 42L)\n"
     ]
    }
   ],
   "source": [
    "print result5.shape"
   ]
  },
  {
   "cell_type": "code",
   "execution_count": 84,
   "metadata": {
    "collapsed": true
   },
   "outputs": [],
   "source": [
    "digits=load_digits()\n",
    "x=digits.data\n",
    "y=digits.target"
   ]
  },
  {
   "cell_type": "code",
   "execution_count": 85,
   "metadata": {
    "collapsed": false
   },
   "outputs": [
    {
     "name": "stdout",
     "output_type": "stream",
     "text": [
      "[[25  0  0  0  1  0  0  0  1  0]\n",
      " [ 0 43  0  0  0  0  0  0  1  0]\n",
      " [ 0  0 37  0  0  0  0  0  0  0]\n",
      " [ 0  0  0 34  0  0  1  0  0  0]\n",
      " [ 0  1  0  0 35  0  0  0  0  1]\n",
      " [ 1  0  0  0  0 43  0  0  0  0]\n",
      " [ 1  1  0  0  0  0 32  0  0  0]\n",
      " [ 0  0  0  0  0  0  0 34  0  0]\n",
      " [ 0  1  0  0  0  0  0  1 34  0]\n",
      " [ 1  0  0  2  1  0  0  1  2 25]]\n",
      "\n",
      "[[45  0  0  0  1  0  0  0  0  0]\n",
      " [ 0 24  0  2  0  0  0  0  0  0]\n",
      " [ 1  0 36  0  0  0  0  0  0  0]\n",
      " [ 0  0  0 35  0  1  0  0  2  0]\n",
      " [ 0  0  0  0 39  0  0  1  0  0]\n",
      " [ 0  0  0  2  0 34  0  0  0  2]\n",
      " [ 0  1  0  0  1  0 31  0  0  0]\n",
      " [ 0  0  0  0  1  0  0 31  1  0]\n",
      " [ 0  1  0  0  0  0  0  1 23  1]\n",
      " [ 0  0  0  1  0  0  0  0  0 42]]\n",
      "\n",
      "[[32  0  0  0  1  0  0  0  1  0]\n",
      " [ 0 33  0  0  0  0  0  0  0  0]\n",
      " [ 0  0 40  0  0  1  0  1  0  0]\n",
      " [ 0  0  0 35  0  0  0  0  2  3]\n",
      " [ 0  0  0  0 30  0  0  0  0  0]\n",
      " [ 0  0  0  0  0 30  0  0  0  0]\n",
      " [ 0  0  0  0  3  0 33  0  0  0]\n",
      " [ 0  0  0  0  2  0  0 31  0  0]\n",
      " [ 0  0  0  1  0  0  0  0 41  0]\n",
      " [ 1  0  0  1  0  1  0  0  0 36]]\n",
      "\n",
      "[[38  0  0  0  0  0  0  0  0  0]\n",
      " [ 0 42  1  0  0  0  0  0  0  1]\n",
      " [ 0  0 25  0  0  0  0  0  0  0]\n",
      " [ 0  0  0 36  0  0  0  1  1  0]\n",
      " [ 1  0  0  0 37  0  0  1  0  0]\n",
      " [ 0  0  0  1  1 35  0  0  0  2]\n",
      " [ 0  0  0  0  0  0 34  0  0  0]\n",
      " [ 0  0  0  0  0  0  0 43  0  0]\n",
      " [ 1  4  0  0  1  1  0  0 23  0]\n",
      " [ 0  0  0  0  0  1  0  0  0 28]]\n",
      "\n",
      "[[33  0  0  0  0  0  0  0  0  0]\n",
      " [ 0 35  0  0  0  0  0  0  0  0]\n",
      " [ 0  0 34  2  0  0  0  0  0  0]\n",
      " [ 0  1  0 29  0  2  0  0  0  0]\n",
      " [ 0  0  0  0 34  1  0  0  0  0]\n",
      " [ 0  0  0  0  0 28  1  0  1  1]\n",
      " [ 0  0  0  0  1  1 42  0  0  0]\n",
      " [ 0  0  0  0  0  0  0 36  0  0]\n",
      " [ 0  1  0  0  0  1  0  0 36  2]\n",
      " [ 0  0  0  0  0  0  0  2  0 35]]\n",
      "\n"
     ]
    }
   ],
   "source": [
    "result,error,cm=pretrain(x,y)\n",
    "printCM(cm)"
   ]
  },
  {
   "cell_type": "code",
   "execution_count": 123,
   "metadata": {
    "collapsed": false
   },
   "outputs": [
    {
     "data": {
      "image/png": "[encoded data removed]",
      "text/plain": [
       "<matplotlib.figure.Figure at 0xe27c7b8>"
      ]
     },
     "metadata": {},
     "output_type": "display_data"
    },
    {
     "name": "stdout",
     "output_type": "stream",
     "text": [
      "Choice of Error:  0.0545434849892\n"
     ]
    }
   ],
   "source": [
    "plotErr(error)\n",
    "print \"Choice of Error: \", error[result.shape[1]]"
   ]
  },
  {
   "cell_type": "code",
   "execution_count": 90,
   "metadata": {
    "collapsed": false
   },
   "outputs": [
    {
     "name": "stdout",
     "output_type": "stream",
     "text": [
      "[[34  0  0  0  0  0  0  0  0  0]\n",
      " [ 0 31  1  0  0  0  0  0  0  0]\n",
      " [ 0  0 39  0  0  0  1  0  1  0]\n",
      " [ 0  2  1 34  0  1  0  0  0  0]\n",
      " [ 0  0  0  0 43  1  0  0  0  0]\n",
      " [ 1  0  0  0  0 30  0  0  0  2]\n",
      " [ 0  1  0  0  0  0 28  0  0  0]\n",
      " [ 0  0  0  0  0  0  0 33  0  0]\n",
      " [ 0  1  1  1  0  0  0  1 33  0]\n",
      " [ 0  0  0  0  1  0  0  2  1 35]]\n",
      "\n",
      "[[37  0  0  0  3  0  0  0  0  0]\n",
      " [ 1 29  0  0  0  0  0  1  0  2]\n",
      " [ 0  1 37  0  0  0  0  0  2  0]\n",
      " [ 0  0  0 38  0  1  0  0  1  2]\n",
      " [ 1  0  0  0 30  0  0  0  0  0]\n",
      " [ 0  0  0  0  1 26  0  0  0  0]\n",
      " [ 0  0  0  0  6  0 29  0  1  0]\n",
      " [ 0  0  0  0  0  0  0 37  0  0]\n",
      " [ 0  6  0  0  1  0  0  1 35  1]\n",
      " [ 0  0  0  0  0  0  0  0  2 28]]\n",
      "\n",
      "[[35  0  0  0  0  0  0  0  1  0]\n",
      " [ 0 42  0  1  0  0  0  0  0  1]\n",
      " [ 0  0 24  0  0  0  0  0  0  0]\n",
      " [ 0  0  1 39  0  1  0  0  1  0]\n",
      " [ 0  2  0  0 31  0  0  2  0  0]\n",
      " [ 0  1  0  0  0 49  1  0  0  1]\n",
      " [ 0  0  0  0  0  1 34  0  0  0]\n",
      " [ 0  0  0  0  1  0  0 29  0  0]\n",
      " [ 0  1  0  0  0  0  0  0 20  1]\n",
      " [ 0  0  0  0  0  0  0  2  2 35]]\n",
      "\n",
      "[[38  0  0  0  0  0  0  0  0  0]\n",
      " [ 0 36  0  0  0  0  0  0  0  0]\n",
      " [ 0  0 34  0  0  0  0  0  0  0]\n",
      " [ 0  0  0 24  0  0  0  0  0  0]\n",
      " [ 0  0  0  0 37  0  0  0  0  0]\n",
      " [ 0  0  0  4  0 32  0  0  0  1]\n",
      " [ 0  0  0  0  0  0 43  0  0  0]\n",
      " [ 0  0  0  1  0  0  0 33  0  0]\n",
      " [ 1  0  0  0  0  1  0  0 36  0]\n",
      " [ 0  0  0  1  0  0  0  0  0 37]]\n",
      "\n",
      "[[30  0  0  0  0  0  0  0  0  0]\n",
      " [ 0 37  0  0  0  0  0  0  0  0]\n",
      " [ 1  0 36  0  0  1  0  0  0  0]\n",
      " [ 0  0  0 33  0  1  0  1  1  1]\n",
      " [ 0  0  0  0 34  0  0  0  0  0]\n",
      " [ 0  0  0  0  1 31  0  0  0  1]\n",
      " [ 1  0  1  0  3  0 33  0  0  0]\n",
      " [ 0  0  0  0  0  0  0 43  0  2]\n",
      " [ 0  1  0  0  0  1  0  0 31  0]\n",
      " [ 0  0  0  2  0  0  0  0  0 32]]\n",
      "\n"
     ]
    }
   ],
   "source": [
    "result1,e1,cm1=layer_rbf_c(result,y)\n",
    "printCM(cm1)"
   ]
  },
  {
   "cell_type": "code",
   "execution_count": 117,
   "metadata": {
    "collapsed": false
   },
   "outputs": [
    {
     "data": {
      "image/png": "[encoded data removed]",
      "text/plain": [
       "<matplotlib.figure.Figure at 0xe23b908>"
      ]
     },
     "metadata": {},
     "output_type": "display_data"
    },
    {
     "name": "stdout",
     "output_type": "stream",
     "text": [
      "Choice of Error:  0.0756762612194\n"
     ]
    }
   ],
   "source": [
    "plotErr(e1)\n",
    "print \"Choice of Error: \", e1[result1.shape[1]]"
   ]
  },
  {
   "cell_type": "code",
   "execution_count": 92,
   "metadata": {
    "collapsed": false
   },
   "outputs": [
    {
     "name": "stdout",
     "output_type": "stream",
     "text": [
      "(1797L, 16L)\n"
     ]
    }
   ],
   "source": [
    "print result1.shape"
   ]
  },
  {
   "cell_type": "code",
   "execution_count": 93,
   "metadata": {
    "collapsed": false
   },
   "outputs": [
    {
     "name": "stdout",
     "output_type": "stream",
     "text": [
      "[[35  0  0  0  0  0  0  0  0  0]\n",
      " [ 0 31  0  0  0  1  0  0  0  0]\n",
      " [ 0  0 34  0  0  0  0  0  1  0]\n",
      " [ 0  1  2 26  0  2  0  1  6  1]\n",
      " [ 1  1  0  0 38  0  1  0  0  1]\n",
      " [ 0  0  0  0  0 38  1  0  0  1]\n",
      " [ 0  1  0  0  1  0 31  1  0  0]\n",
      " [ 0  0  0  0  1  0  0 33  0  1]\n",
      " [ 0  2  1  0  0  1  0  0 20  0]\n",
      " [ 0  0  1  0  2  0  0  0  1 40]]\n",
      "\n",
      "[[31  0  0  0  0  0  0  0  0  0]\n",
      " [ 0 41  0  0  1  0  0  0  0  1]\n",
      " [ 1  1 30  0  0  0  0  1  0  1]\n",
      " [ 0  0  1 35  0  0  0  1  1  0]\n",
      " [ 0  1  0  0 34  1  0  3  0  0]\n",
      " [ 0  1  0  0  1 40  1  0  0  2]\n",
      " [ 0  0  0  0  1  1 31  0  1  0]\n",
      " [ 0  0  0  0  0  0  0 22  0  0]\n",
      " [ 0  1  4  0  0  0  0  0 37  0]\n",
      " [ 0  0  0  0  0  0  0  2  0 30]]\n",
      "\n",
      "[[44  0  0  0  0  0  0  0  0  0]\n",
      " [ 1 37  0  0  0  0  0  0  0  0]\n",
      " [ 0  2 34  0  0  0  0  0  1  0]\n",
      " [ 0  0  0 29  0  0  0  0  1  2]\n",
      " [ 0  0  0  0 32  1  0  0  0  1]\n",
      " [ 0  0  0  0  0 31  0  0  0  2]\n",
      " [ 0  0  0  0  0  0 42  0  0  0]\n",
      " [ 0  0  0  0  2  0  0 43  0  0]\n",
      " [ 0  0  0  1  0  0  1  2 21  0]\n",
      " [ 0  0  0  3  0  1  0  1  1 23]]\n",
      "\n",
      "[[29  0  0  0  2  0  0  0  0  0]\n",
      " [ 0 29  0  1  3  0  0  0  0  0]\n",
      " [ 0  0 32  0  0  0  2  0  0  0]\n",
      " [ 0  1  0 39  0  1  0  0  1  1]\n",
      " [ 0  1  0  0 28  1  0  3  0  0]\n",
      " [ 0  0  0  0  0 28  0  0  0  1]\n",
      " [ 0  0  0  0  1  0 37  0  0  0]\n",
      " [ 0  0  0  0  1  0  0 42  0  0]\n",
      " [ 1  3  2  1  0  0  0  0 35  0]\n",
      " [ 1  0  0  0  0  0  0  0  0 32]]\n",
      "\n",
      "[[36  0  0  0  0  0  0  0  1  0]\n",
      " [ 0 34  1  0  0  0  0  0  0  1]\n",
      " [ 0  0 34  1  0  1  0  1  0  0]\n",
      " [ 0  0  0 28  0  1  0  0  0  2]\n",
      " [ 0  0  0  0 30  1  0  2  0  0]\n",
      " [ 0  1  0  1  0 31  0  0  2  0]\n",
      " [ 0  0  0  0  0  0 33  0  0  0]\n",
      " [ 0  1  0  0  0  1  0 32  0  0]\n",
      " [ 0  2  1  0  0  0  0  0 37  1]\n",
      " [ 0  2  0  1  0  0  0  1  0 38]]\n",
      "\n"
     ]
    }
   ],
   "source": [
    "result2,e2,cm2=layer_rbf_c(result1,y)\n",
    "printCM(cm2)"
   ]
  },
  {
   "cell_type": "code",
   "execution_count": 118,
   "metadata": {
    "collapsed": false
   },
   "outputs": [
    {
     "data": {
      "image/png": "[encoded data removed]",
      "text/plain": [
       "<matplotlib.figure.Figure at 0xaa48a58>"
      ]
     },
     "metadata": {},
     "output_type": "display_data"
    },
    {
     "name": "stdout",
     "output_type": "stream",
     "text": [
      "Choice of Error:  0.0801284432064\n"
     ]
    }
   ],
   "source": [
    "plotErr(e2)\n",
    "print \"Choice of Error: \", e2[result2.shape[1]]"
   ]
  },
  {
   "cell_type": "code",
   "execution_count": 95,
   "metadata": {
    "collapsed": false
   },
   "outputs": [
    {
     "name": "stdout",
     "output_type": "stream",
     "text": [
      "(1797L, 16L)\n"
     ]
    }
   ],
   "source": [
    "print result2.shape"
   ]
  },
  {
   "cell_type": "code",
   "execution_count": 96,
   "metadata": {
    "collapsed": false
   },
   "outputs": [
    {
     "name": "stdout",
     "output_type": "stream",
     "text": [
      "[[41  0  0  0  1  0  0  0  0  0]\n",
      " [ 0 28  0  0  2  0  0  0  0  0]\n",
      " [ 1  0 34  0  0  0  0  0  1  0]\n",
      " [ 0  1  2 34  0  0  0  0  0  0]\n",
      " [ 0  0  0  0 29  0  0  3  0  0]\n",
      " [ 0  0  0  0  1 32  1  0  0  4]\n",
      " [ 0  0  0  0  0  0 37  0  0  0]\n",
      " [ 0  0  0  0  0  0  0 32  0  0]\n",
      " [ 1  3  4  0  0  0  0  0 28  0]\n",
      " [ 0  0  1  1  0  1  0  1  1 35]]\n",
      "\n",
      "[[44  0  0  0  0  0  0  0  1  0]\n",
      " [ 0 42  1  0  0  0  0  0  0  2]\n",
      " [ 0  0 30  1  0  0  0  0  0  1]\n",
      " [ 0  1  1 34  0  0  0  0  1  1]\n",
      " [ 0  0  0  0 36  1  0  1  0  0]\n",
      " [ 0  1  0  1  0 36  0  0  0  1]\n",
      " [ 0  1  0  0  1  0 30  0  0  0]\n",
      " [ 0  0  0  0  0  0  0 35  0  0]\n",
      " [ 0  2  0  0  0  0  0  0 25  1]\n",
      " [ 0  1  0  0  0  0  0  2  0 25]]\n",
      "\n",
      "[[29  0  0  0  0  0  0  0  0  0]\n",
      " [ 0 31  0  0  0  0  0  0  0  0]\n",
      " [ 0  1 35  0  0  0  0  1  2  0]\n",
      " [ 0  0  1 28  0  1  0  0  1  2]\n",
      " [ 0  1  0  0 26  1  0  1  0  0]\n",
      " [ 0  0  0  0  1 34  0  0  1  0]\n",
      " [ 0  1  0  0  0  0 39  0  1  0]\n",
      " [ 0  0  0  0  2  0  0 38  0  1]\n",
      " [ 0  0  0  0  0  1  0  0 34  1]\n",
      " [ 0  0  0  2  4  0  0  2  1 35]]\n",
      "\n",
      "[[40  0  0  0  0  0  0  0  0  0]\n",
      " [ 0 29  0  0  0  1  0  1  0  0]\n",
      " [ 0  0 35  0  0  1  3  0  1  0]\n",
      " [ 0  0  0 32  0  0  0  2  3  1]\n",
      " [ 1  1  0  0 38  0  0  0  0  1]\n",
      " [ 0  0  0  0  0 28  0  0  0  0]\n",
      " [ 0  0  0  0  0  1 40  0  0  0]\n",
      " [ 0  0  0  0  0  1  0 30  0  2]\n",
      " [ 0  2  0  2  0  0  0  0 31  0]\n",
      " [ 0  0  0  2  0  0  0  0  1 29]]\n",
      "\n",
      "[[22  0  0  0  0  0  0  0  0  0]\n",
      " [ 0 41  0  1  2  0  0  0  1  0]\n",
      " [ 0  1 28  0  0  0  0  1  0  0]\n",
      " [ 0  1  1 30  0  1  0  0  2  2]\n",
      " [ 0  0  0  0 37  0  0  2  1  1]\n",
      " [ 0  0  0  0  0 41  0  0  0  0]\n",
      " [ 0  0  0  0  0  1 29  0  0  0]\n",
      " [ 0  0  0  0  0  0  0 38  0  0]\n",
      " [ 0  2  2  1  1  1  0  0 31  1]\n",
      " [ 2  0  0  0  0  0  0  0  1 33]]\n",
      "\n"
     ]
    }
   ],
   "source": [
    "result3,e3,cm3=layer_rbf_c(result2,y)\n",
    "printCM(cm3)"
   ]
  },
  {
   "cell_type": "code",
   "execution_count": 119,
   "metadata": {
    "collapsed": false
   },
   "outputs": [
    {
     "data": {
      "image/png": "[encoded data removed]",
      "text/plain": [
       "<matplotlib.figure.Figure at 0x103f7128>"
      ]
     },
     "metadata": {},
     "output_type": "display_data"
    },
    {
     "name": "stdout",
     "output_type": "stream",
     "text": [
      "Choice of Error:  0.0773413803776\n"
     ]
    }
   ],
   "source": [
    "plotErr(e3)\n",
    "print \"Choice of Error: \", e3[result3.shape[1]]"
   ]
  },
  {
   "cell_type": "code",
   "execution_count": 98,
   "metadata": {
    "collapsed": false
   },
   "outputs": [
    {
     "name": "stdout",
     "output_type": "stream",
     "text": [
      "(1797L, 15L)\n"
     ]
    }
   ],
   "source": [
    "print result3.shape"
   ]
  },
  {
   "cell_type": "code",
   "execution_count": 99,
   "metadata": {
    "collapsed": false
   },
   "outputs": [
    {
     "name": "stdout",
     "output_type": "stream",
     "text": [
      "[[39  0  0  0  0  0  0  0  0  0]\n",
      " [ 0 30  1  0  0  0  0  1  3  1]\n",
      " [ 0  0 31  0  0  0  2  1  1  2]\n",
      " [ 0  0  0 34  0  0  0  2  5  1]\n",
      " [ 0  0  0  0 42  0  0  1  0  0]\n",
      " [ 0  0  0  0  1 35  1  0  0  0]\n",
      " [ 0  0  0  0  1  1 26  0  0  0]\n",
      " [ 0  0  0  0  2  0  0 33  0  0]\n",
      " [ 0  1  0  0  0  0  0  0 28  0]\n",
      " [ 0  0  0  0  0  0  0  0  2 32]]\n",
      "\n",
      "[[39  0  0  0  0  0  0  0  1  0]\n",
      " [ 0 29  0  0  1  0  0  0  0  2]\n",
      " [ 1  0 28  0  0  1  0  0  1  0]\n",
      " [ 0  0  1 35  0  1  0  0  1  2]\n",
      " [ 1  0  0  0 31  2  0  0  0  0]\n",
      " [ 0  1  0  0  0 36  0  0  0  2]\n",
      " [ 0  0  0  0  0  0 34  0  0  0]\n",
      " [ 0  0  0  0  0  0  0 36  0  0]\n",
      " [ 0  1  2  0  0  0  0  0 31  0]\n",
      " [ 0  1  0  1  0  0  0  0  0 38]]\n",
      "\n",
      "[[25  0  0  0  0  0  0  0  0  0]\n",
      " [ 0 33  0  0  1  0  0  0  0  1]\n",
      " [ 0  1 36  0  0  0  0  0  1  0]\n",
      " [ 0  1  0 34  0  1  0  1  1  0]\n",
      " [ 0  2  0  0 36  0  3  3  0  0]\n",
      " [ 0  0  0  0  0 29  0  0  2  2]\n",
      " [ 0  0  0  0  1  0 35  0  0  0]\n",
      " [ 0  0  0  0  0  0  0 42  0  1]\n",
      " [ 1  2  3  1  0  0  0  0 25  3]\n",
      " [ 0  0  1  1  0  1  0  0  1 28]]\n",
      "\n",
      "[[36  0  0  0  1  0  0  0  0  0]\n",
      " [ 0 36  0  1  0  1  0  0  1  0]\n",
      " [ 0  3 25  0  0  0  0  0  0  0]\n",
      " [ 0  0  0 30  0  0  0  0  0  0]\n",
      " [ 0  0  0  0 29  0  0  1  0  1]\n",
      " [ 0  0  0  0  0 33  0  0  0  1]\n",
      " [ 0  2  0  0  1  0 50  0  0  0]\n",
      " [ 0  0  0  0  1  0  0 33  0  1]\n",
      " [ 0  3  3  1  1  1  0  0 30  0]\n",
      " [ 1  0  0  0  0  1  0  1  0 30]]\n",
      "\n",
      "[[37  0  0  0  0  0  0  0  0  0]\n",
      " [ 0 39  0  1  0  0  0  0  0  0]\n",
      " [ 0  0 40  0  0  0  0  1  2  0]\n",
      " [ 0  2  0 26  0  0  0  0  3  2]\n",
      " [ 0  1  0  0 26  1  0  1  0  0]\n",
      " [ 0  0  0  1  0 38  0  0  0  0]\n",
      " [ 0  0  0  0  0  1 29  0  0  0]\n",
      " [ 0  0  0  0  1  1  0 28  0  0]\n",
      " [ 0  1  2  4  0  0  0  0 29  1]\n",
      " [ 0  0  0  1  0  1  0  3  0 36]]\n",
      "\n"
     ]
    }
   ],
   "source": [
    "result4,e4,cm4=layer_rbf_c(result3,y)\n",
    "printCM(cm4)"
   ]
  },
  {
   "cell_type": "code",
   "execution_count": 120,
   "metadata": {
    "collapsed": false
   },
   "outputs": [
    {
     "data": {
      "image/png": "[encoded data removed]",
      "text/plain": [
       "<matplotlib.figure.Figure at 0xdab32b0>"
      ]
     },
     "metadata": {},
     "output_type": "display_data"
    },
    {
     "name": "stdout",
     "output_type": "stream",
     "text": [
      "Choice of Error:  0.0784586815227\n"
     ]
    }
   ],
   "source": [
    "plotErr(e4)\n",
    "print \"Choice of Error: \", e4[result4.shape[1]]"
   ]
  },
  {
   "cell_type": "code",
   "execution_count": 101,
   "metadata": {
    "collapsed": false
   },
   "outputs": [
    {
     "name": "stdout",
     "output_type": "stream",
     "text": [
      "(1797L, 14L)\n"
     ]
    }
   ],
   "source": [
    "print result4.shape"
   ]
  },
  {
   "cell_type": "code",
   "execution_count": 102,
   "metadata": {
    "collapsed": false
   },
   "outputs": [
    {
     "name": "stdout",
     "output_type": "stream",
     "text": [
      "[[35  0  0  0  0  0  0  0  0  0]\n",
      " [ 0 26  1  0  0  0  0  0  3  0]\n",
      " [ 0  1 29  0  0  0  1  1  0  0]\n",
      " [ 0  0  0 31  0  0  0  0  0  1]\n",
      " [ 1  1  0  0 30  0  0  1  0  0]\n",
      " [ 0  0  0  1  1 37  1  1  0  0]\n",
      " [ 0  1  0  0  1  1 30  0  0  0]\n",
      " [ 0  0  0  0  0  1  0 45  0  0]\n",
      " [ 2  2  2  0  0  0  0  0 38  0]\n",
      " [ 0  0  0  1  0  1  0  1  0 31]]\n",
      "\n",
      "[[37  0  0  0  1  0  0  0  0  0]\n",
      " [ 0 33  0  2  0  1  0  0  0  3]\n",
      " [ 0  2 28  0  0  0  0  0  1  0]\n",
      " [ 0  2  1 31  0  1  0  0  0  2]\n",
      " [ 0  0  0  0 45  1  0  0  0  0]\n",
      " [ 0  0  0  0  1 31  0  0  0  3]\n",
      " [ 0  0  0  0  0  0 39  0  1  0]\n",
      " [ 0  0  0  0  0  0  0 28  0  0]\n",
      " [ 0  1  2  2  0  0  0  1 26  1]\n",
      " [ 0  1  0  0  0  1  0  1  0 30]]\n",
      "\n",
      "[[33  0  0  0  0  0  0  0  0  0]\n",
      " [ 0 37  0  1  1  0  0  0  1  0]\n",
      " [ 0  1 30  1  0  1  0  0  1  0]\n",
      " [ 0  1  1 34  0  2  0  1  2  0]\n",
      " [ 0  0  0  0 32  1  0  3  0  2]\n",
      " [ 0  1  0  0  0 30  0  0  0  0]\n",
      " [ 0  1  1  0  1  1 31  0  0  0]\n",
      " [ 0  0  0  0  1  0  0 39  0  0]\n",
      " [ 0  2  1  2  0  0  0  0 25  0]\n",
      " [ 0  0  0  0  0  0  0  2  1 34]]\n",
      "\n",
      "[[38  0  0  0  0  0  0  0  0  0]\n",
      " [ 0 40  0  1  1  0  0  0  0  2]\n",
      " [ 0  1 35  0  0  0  1  1  0  1]\n",
      " [ 0  1  2 33  0  0  0  1  1  2]\n",
      " [ 0  1  0  0 26  0  0  1  1  0]\n",
      " [ 0  0  0  0  0 36  0  1  0  1]\n",
      " [ 0  0  0  0  1  0 34  0  0  0]\n",
      " [ 0  0  0  0  1  0  0 30  0  0]\n",
      " [ 0  3  1  0  0  1  1  0 22  1]\n",
      " [ 0  0  0  1  1  0  0  0  0 34]]\n",
      "\n",
      "[[32  0  0  0  1  0  0  0  1  0]\n",
      " [ 0 26  0  0  1  0  0  1  1  0]\n",
      " [ 1  1 37  0  0  1  0  0  1  0]\n",
      " [ 0  1  1 30  0  0  0  1  0  0]\n",
      " [ 0  0  0  0 32  1  0  2  0  0]\n",
      " [ 0  0  0  1  1 34  0  0  1  0]\n",
      " [ 0  0  1  0  1  1 35  0  0  0]\n",
      " [ 0  0  0  0  1  0  0 32  0  1]\n",
      " [ 0  2  1  0  0  0  0  0 35  0]\n",
      " [ 0  0  1  4  0  0  0  0  1 34]]\n",
      "\n"
     ]
    }
   ],
   "source": [
    "result5,e5,cm5=layer_rbf_c(result4,y)\n",
    "printCM(cm5)"
   ]
  },
  {
   "cell_type": "code",
   "execution_count": 121,
   "metadata": {
    "collapsed": false
   },
   "outputs": [
    {
     "data": {
      "image/png": "[encoded data removed]",
      "text/plain": [
       "<matplotlib.figure.Figure at 0xf7417b8>"
      ]
     },
     "metadata": {},
     "output_type": "display_data"
    },
    {
     "name": "stdout",
     "output_type": "stream",
     "text": [
      "Choice of Error:  0.0901299907149\n"
     ]
    }
   ],
   "source": [
    "plotErr(e5)\n",
    "print \"Choice of Error: \", e5[result5.shape[1]]"
   ]
  },
  {
   "cell_type": "code",
   "execution_count": 104,
   "metadata": {
    "collapsed": false
   },
   "outputs": [
    {
     "name": "stdout",
     "output_type": "stream",
     "text": [
      "(1797L, 14L)\n"
     ]
    }
   ],
   "source": [
    "print result5.shape"
   ]
  },
  {
   "cell_type": "code",
   "execution_count": 109,
   "metadata": {
    "collapsed": false
   },
   "outputs": [
    {
     "name": "stdout",
     "output_type": "stream",
     "text": [
      "[[37  0  0  0  1  0  0  0  0  0]\n",
      " [ 0 40  0  0  0  0  0  0  0  1]\n",
      " [ 0  3 31  0  0  0  1  2  0  0]\n",
      " [ 0  1  1 31  0  0  0  0  0  2]\n",
      " [ 0  0  0  0 33  1  0  0  0  0]\n",
      " [ 0  1  0  0  0 31  0  0  0  2]\n",
      " [ 0  0  0  0  2  0 37  0  0  0]\n",
      " [ 0  0  0  0  2  0  0 29  0  1]\n",
      " [ 1  2  1  2  0  0  0  0 29  0]\n",
      " [ 0  1  0  1  0  0  0  0  0 33]]\n",
      "\n",
      "[[46  0  0  0  0  0  0  0  0  0]\n",
      " [ 0 27  1  0  0  0  0  0  0  0]\n",
      " [ 1  0 30  1  0  0  0  0  1  0]\n",
      " [ 0  2  0 26  0  0  0  0  2  2]\n",
      " [ 1  1  0  0 35  0  0  1  0  0]\n",
      " [ 0  0  0  1  0 33  1  0  0  1]\n",
      " [ 0  0  1  0  1  1 32  0  0  0]\n",
      " [ 0  0  0  0  0  0  0 36  0  0]\n",
      " [ 0  1  2  0  0  0  0  0 37  0]\n",
      " [ 0  0  0  0  0  0  0  1  1 34]]\n",
      "\n",
      "[[28  0  0  0  0  0  0  0  1  0]\n",
      " [ 0 36  0  1  0  0  0  0  0  1]\n",
      " [ 0  1 34  0  0  0  0  0  0  0]\n",
      " [ 0  0  1 33  0  1  0  1  0  0]\n",
      " [ 0  1  0  0 30  0  0  1  0  1]\n",
      " [ 0  1  0  1  2 32  0  0  0  0]\n",
      " [ 0  0  2  0  0  0 37  0  1  0]\n",
      " [ 0  0  0  0  1  0  0 38  0  0]\n",
      " [ 0  1  0  0  0  1  0  0 27  1]\n",
      " [ 0  0  0  2  0  1  0  3  1 36]]\n",
      "\n",
      "[[32  0  0  0  0  0  0  0  0  0]\n",
      " [ 0 36  0  1  1  0  0  0  0  2]\n",
      " [ 0  2 30  0  0  0  1  0  1  0]\n",
      " [ 0  0  2 35  0  0  0  0  0  2]\n",
      " [ 0  1  0  0 36  0  0  1  1  0]\n",
      " [ 0  0  0  0  0 34  0  1  1  1]\n",
      " [ 0  0  0  0  0  2 34  0  0  0]\n",
      " [ 0  0  0  0  1  0  0 30  0  0]\n",
      " [ 0  2  3  1  0  0  1  0 28  2]\n",
      " [ 1  0  0  1  1  0  0  1  0 30]]\n",
      "\n",
      "[[33  0  0  0  0  0  0  0  0  0]\n",
      " [ 0 30  0  1  0  1  0  0  2  1]\n",
      " [ 0  1 33  1  0  0  1  0  2  0]\n",
      " [ 0  1  1 33  0  0  0  1  5  0]\n",
      " [ 0  1  0  0 33  0  0  2  0  1]\n",
      " [ 0  0  0  0  1 37  0  0  0  1]\n",
      " [ 0  0  0  0  1  1 29  0  0  0]\n",
      " [ 0  0  0  0  0  0  0 41  0  0]\n",
      " [ 0  1  2  0  0  1  0  1 27  0]\n",
      " [ 0  0  1  0  0  2  0  0  0 29]]\n",
      "\n"
     ]
    }
   ],
   "source": [
    "result6,e6,cm6=layer_rbf_c(result5,y)\n",
    "printCM(cm6)"
   ]
  },
  {
   "cell_type": "code",
   "execution_count": 122,
   "metadata": {
    "collapsed": false
   },
   "outputs": [
    {
     "data": {
      "image/png": "[encoded data removed]",
      "text/plain": [
       "<matplotlib.figure.Figure at 0xddbeb00>"
      ]
     },
     "metadata": {},
     "output_type": "display_data"
    },
    {
     "name": "stdout",
     "output_type": "stream",
     "text": [
      "Choice of Error:  0.0873630454968\n"
     ]
    }
   ],
   "source": [
    "plotErr(e6)\n",
    "print \"Choice of Error: \", e6[result6.shape[1]]"
   ]
  },
  {
   "cell_type": "code",
   "execution_count": 111,
   "metadata": {
    "collapsed": false
   },
   "outputs": [
    {
     "name": "stdout",
     "output_type": "stream",
     "text": [
      "(1797L, 14L)\n"
     ]
    }
   ],
   "source": [
    "print result6.shape"
   ]
  },
  {
   "cell_type": "code",
   "execution_count": null,
   "metadata": {
    "collapsed": true
   },
   "outputs": [],
   "source": []
  },
  {
   "cell_type": "code",
   "execution_count": null,
   "metadata": {
    "collapsed": true
   },
   "outputs": [],
   "source": []
  },
  {
   "cell_type": "code",
   "execution_count": null,
   "metadata": {
    "collapsed": true
   },
   "outputs": [],
   "source": []
  }
 ],
 "metadata": {
  "kernelspec": {
   "display_name": "Python 2",
   "language": "python",
   "name": "python2"
  },
  "language_info": {
   "codemirror_mode": {
    "name": "ipython",
    "version": 2
   },
   "file_extension": ".py",
   "mimetype": "text/x-python",
   "name": "python",
   "nbconvert_exporter": "python",
   "pygments_lexer": "ipython2",
   "version": "2.7.6"
  }
 },
 "nbformat": 4,
 "nbformat_minor": 0
}
