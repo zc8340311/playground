{
 "cells": [
  {
   "cell_type": "code",
   "execution_count": 1,
   "metadata": {
    "collapsed": true
   },
   "outputs": [],
   "source": [
    "from sklearn.decomposition import KernelPCA\n",
    "from sklearn.cross_validation import KFold\n",
    "from sklearn import svm\n",
    "import numpy as np\n",
    "import random\n",
    "import math\n",
    "from sklearn.metrics import confusion_matrix as CM\n",
    "import random"
   ]
  },
  {
   "cell_type": "markdown",
   "metadata": {},
   "source": [
    "## Consine Distance"
   ]
  },
  {
   "cell_type": "code",
   "execution_count": 2,
   "metadata": {
    "collapsed": true
   },
   "outputs": [],
   "source": [
    "from sklearn.datasets import load_iris\n",
    "from sklearn.datasets import load_digits"
   ]
  },
  {
   "cell_type": "code",
   "execution_count": 3,
   "metadata": {
    "collapsed": true
   },
   "outputs": [],
   "source": [
    "def IndOfSortedFea(feaInfo):\n",
    "    \"\"\"return sorted index of a list\"\"\"\n",
    "    sortInfo=sorted(feaInfo,reverse=True)\n",
    "    ##for test\n",
    "    ##print sortInfo\n",
    "    return [feaInfo.index(i) for i in sortInfo]\n",
    "#a=[3,4,6,2]\n",
    "#print IndOfSortedFea(a)"
   ]
  },
  {
   "cell_type": "code",
   "execution_count": 4,
   "metadata": {
    "collapsed": true
   },
   "outputs": [],
   "source": [
    "def corDis(x,y):\n",
    "    \"\"\"\n",
    "    calculate the correlation distance, given x and y calculate how similar the x and y is.\n",
    "    return a value, 0 means x and y are independent, higher mean x are determinstic of y.\n",
    "    \"\"\"\n",
    "    assert len(x)==len(y)\n",
    "    n=len(x)\n",
    "    a=np.zeros((n,n))\n",
    "    b=np.zeros((n,n))\n",
    "    ##calculate pair wise distance\n",
    "    for i in xrange(n):\n",
    "        for j in xrange(n):\n",
    "            a[i,j]=np.linalg.norm(x[i]-x[j])\n",
    "            b[i,j]=np.linalg.norm(y[i]-y[j])\n",
    "    aRowMean=np.mean(a,axis=1)\n",
    "    aColMean=np.mean(a,axis=0)\n",
    "    bRowMean=np.mean(b,axis=1)\n",
    "    bColMean=np.mean(b,axis=0)\n",
    "    aMean=np.mean(a)\n",
    "    bMean=np.mean(b)\n",
    "    A=np.zeros((n,n))\n",
    "    B=np.zeros((n,n))\n",
    "    ##normalization\n",
    "    for i in xrange(n):\n",
    "        for j in xrange(n):\n",
    "            A[i,j]=a[i,j]-aRowMean[i]-aColMean[j]+aMean\n",
    "            B[i,j]=b[i,j]-bRowMean[i]-bColMean[j]+bMean\n",
    "    cordis=0.\n",
    "    for i in xrange(n):\n",
    "        for j in xrange(n):\n",
    "            cordis += A[i,j]*B[i,j]\n",
    "    return cordis*(1./n**2)"
   ]
  },
  {
   "cell_type": "code",
   "execution_count": 5,
   "metadata": {
    "collapsed": true
   },
   "outputs": [],
   "source": [
    "def cosine_distance(u, v):\n",
    "    return np.dot(u, v) / (math.sqrt(np.dot(u, u)) * math.sqrt(np.dot(v, v)))"
   ]
  },
  {
   "cell_type": "code",
   "execution_count": 6,
   "metadata": {
    "collapsed": true
   },
   "outputs": [],
   "source": [
    "%matplotlib inline\n",
    "from matplotlib import pyplot as plt\n",
    "def plotFunction(x,y,text):\n",
    "    n=x.shape[1]\n",
    "    cols=2\n",
    "    rows=int(math.ceil(n/2.))\n",
    "    fig,ax=plt.subplots(ncols=cols,nrows=rows)\n",
    "    if rows==1:\n",
    "        for j in range(cols):\n",
    "            if j<n:\n",
    "                ax[j].scatter(x[:,j],y,c='b')\n",
    "    else:\n",
    "        for i in range(rows):\n",
    "            for j in range(cols):\n",
    "                if i*cols+j<n:\n",
    "                    ax[i,j].scatter(x[:,i*cols+j],y,c='b')\n",
    "                    #ax[i].title('x%d'%i,fontsize='small')\n",
    "    plt.title(text)\n",
    "    plt.show()\n"
   ]
  },
  {
   "cell_type": "code",
   "execution_count": 7,
   "metadata": {
    "collapsed": true
   },
   "outputs": [],
   "source": [
    "def crossValidation(x,y):\n",
    "    \"\"\"\n",
    "    version 2\n",
    "    according to the true y, predict\n",
    "    greedy algorithm: first using index\n",
    "    return\n",
    "    \"\"\"\n",
    "    crossErrors=[]\n",
    "    confusion_matrix=[]\n",
    "    #svc=svm.LinearSVC()\n",
    "    svc=svm.SVC(kernel='linear')\n",
    "    kf = KFold(x.shape[0], n_folds=5,shuffle=True)\n",
    "    for train,test in kf:\n",
    "        svc.fit(x[train],y[train])\n",
    "        prediction=svc.predict(x[test])\n",
    "        crossErrors.append(((prediction!=y[test]).sum())/float(len(y[test])))\n",
    "        confusion_matrix.append(CM(y[test],prediction))\n",
    "    return np.mean(crossErrors),confusion_matrix"
   ]
  },
  {
   "cell_type": "code",
   "execution_count": 8,
   "metadata": {
    "collapsed": true
   },
   "outputs": [],
   "source": [
    "def layer_rbf(x,y):\n",
    "    \"\"\"version 2\"\"\"\n",
    "    kpca=KernelPCA(kernel='rbf',gamma=10.,n_components=x.shape[1])\n",
    "    xT=kpca.fit_transform(x)\n",
    "    rank=[]\n",
    "    numOfFeatures=xT.shape[1]\n",
    "    for i in xrange(numOfFeatures):\n",
    "        rank.append(cosine_distance(xT[:,i],y))\n",
    "    feaSelected=IndOfSortedFea(rank)\n",
    "    \n",
    "    featureSelectedErrors=[]\n",
    "    for i in xrange(numOfFeatures):\n",
    "        crossErrors,cms=crossValidation(xT[:,feaSelected[:i+1]],y)\n",
    "        featureSelectedErrors.append(crossErrors)\n",
    "    choice=featureSelectedErrors.index(min(featureSelectedErrors))\n",
    "    return xT[:,feaSelected[:choice+1]],featureSelectedErrors,cms"
   ]
  },
  {
   "cell_type": "code",
   "execution_count": 22,
   "metadata": {
    "collapsed": true
   },
   "outputs": [],
   "source": [
    "def pretrain(x,y):\n",
    "    rank=[]\n",
    "    numOfFeatures=x.shape[1]\n",
    "    for i in xrange(numOfFeatures):\n",
    "        rank.append(cosine_distance(x[:,i],y))\n",
    "    feaSelected=IndOfSortedFea(rank)\n",
    "    \n",
    "    featureSelectedErrors=[]\n",
    "    for i in xrange(numOfFeatures):\n",
    "        crossErrors,cms=crossValidation(x[:,feaSelected[:i+1]],y)\n",
    "        featureSelectedErrors.append(crossErrors)\n",
    "    choice=featureSelectedErrors.index(min(featureSelectedErrors))\n",
    "    return x[:,feaSelected[:choice+1]],featureSelectedErrors,cms "
   ]
  },
  {
   "cell_type": "code",
   "execution_count": 10,
   "metadata": {
    "collapsed": true
   },
   "outputs": [],
   "source": [
    "from matplotlib import pyplot as plt\n",
    "def plotdata(x,y):\n",
    "    n=x.shape[1]\n",
    "    fig,ax=plt.subplots(ncols=n,nrows=n)\n",
    "    fig.set_size_inches(9,6)\n",
    "    for i in xrange(n):\n",
    "        for j in xrange(i+1):\n",
    "            for t,color in zip(xrange(3),'rgb'):\n",
    "                ax[i][j].scatter(x[y == t,i],x[y == t,j],c=color)\n",
    "    plt.show()\n",
    "#plotdata(x,y)"
   ]
  },
  {
   "cell_type": "code",
   "execution_count": 11,
   "metadata": {
    "collapsed": true
   },
   "outputs": [],
   "source": [
    "def plotErr(err):\n",
    "    x=range(len(err))\n",
    "    #y=[e/min(err) for e in err]\n",
    "    plt.bar(x,err)\n",
    "    plt.title('Error Bar_Chart')\n",
    "    plt.show()"
   ]
  },
  {
   "cell_type": "code",
   "execution_count": 34,
   "metadata": {
    "collapsed": true
   },
   "outputs": [],
   "source": [
    "def printCM(cm):\n",
    "    \"\"\"\n",
    "    print cm in a nice way\n",
    "    \"\"\"\n",
    "    for i in cm:\n",
    "        print i\n",
    "        print "
   ]
  },
  {
   "cell_type": "code",
   "execution_count": 109,
   "metadata": {
    "collapsed": false
   },
   "outputs": [],
   "source": [
    "digits=load_digits()\n",
    "x=digits.data\n",
    "y=digits.target"
   ]
  },
  {
   "cell_type": "code",
   "execution_count": 110,
   "metadata": {
    "collapsed": false
   },
   "outputs": [],
   "source": [
    "sample=random.sample(range(len(y)), int(len(y)*0.3))"
   ]
  },
  {
   "cell_type": "code",
   "execution_count": 111,
   "metadata": {
    "collapsed": true
   },
   "outputs": [],
   "source": [
    "x=x[sample]\n",
    "y=y[sample]"
   ]
  },
  {
   "cell_type": "code",
   "execution_count": 112,
   "metadata": {
    "collapsed": false
   },
   "outputs": [
    {
     "name": "stdout",
     "output_type": "stream",
     "text": [
      "[791, 871, 1139, 96, 360, 491, 1062, 799, 637, 1468, 140, 292, 778, 702, 339, 981, 1086, 373, 77, 330, 146, 423, 580, 856, 1516, 1582, 1318, 1479, 1727, 854, 927, 1792, 361, 216, 233, 1466, 438, 34, 1148, 1663, 693, 45, 301, 1226, 1241, 1122, 749, 1796, 718, 8, 609, 618, 90, 444, 1526, 1240, 1681, 474, 1047, 1225, 1691, 1534, 668, 880, 738, 1149, 1041, 685, 1618, 1143, 643, 699, 1532, 1313, 560, 1394, 1166, 1574, 443, 1626, 999, 1232, 769, 1682, 816, 98, 648, 1335, 36, 1208, 183, 1561, 1253, 1109, 109, 450, 777, 1111, 127, 1031, 1188, 973, 1442, 1006, 1152, 264, 546, 1292, 1008, 398, 1236, 1003, 1684, 923, 882, 755, 196, 1560, 835, 986, 121, 1035, 79, 1459, 503, 463, 1128, 707, 673, 1195, 363, 919, 353, 892, 641, 1270, 328, 347, 974, 851, 522, 119, 539, 583, 1107, 1117, 136, 1513, 822, 748, 124, 1759, 163, 391, 305, 164, 1179, 1458, 910, 1514, 1392, 941, 590, 219, 530, 240, 1675, 1347, 1405, 1586, 1720, 1703, 1390, 193, 525, 1213, 1599, 613, 1770, 120, 470, 203, 1183, 125, 31, 186, 39, 878, 1452, 116, 1243, 178, 220, 841, 575, 1205, 15, 1280, 123, 331, 1219, 1631, 446, 1160, 401, 1565, 764, 46, 318, 336, 1370, 1140, 1432, 14, 175, 1540, 1603, 1025, 832, 942, 570, 6, 1477, 929, 1113, 905, 1793, 1573, 69, 844, 1372, 776, 796, 960, 895, 907, 768, 1584, 873, 1151, 1075, 55, 158, 1366, 1423, 80, 1, 1391, 414, 294, 0, 165, 962, 285, 105, 1293, 455, 1401, 377, 523, 1778, 1461, 655, 306, 678, 332, 263, 559, 1570, 155, 1374, 1231, 134, 1712, 1349, 1761, 1542, 1363, 526, 1422, 108, 343, 763, 608, 632, 27, 207, 1738, 1753, 286, 467, 1020, 1443, 485, 885, 700, 420, 561, 1118, 461, 1746, 1330, 1264, 1547, 1001, 1365, 1538, 354, 1344, 1201, 1488, 1106, 1034, 932, 1010, 466, 406, 1580, 1333, 1348, 1646, 647, 75, 1743, 506, 1165, 1350, 615, 1613, 722, 1272, 139, 1475, 1583, 984, 512, 334, 824, 745, 1496, 959, 265, 1202, 253, 1227, 1369, 629, 1716, 1324, 421, 1638, 1427, 728, 327, 1714, 171, 1238, 482, 1789, 1701, 1572, 181, 811, 159, 1752, 26, 471, 71, 85, 481, 1150, 434, 1450, 837, 227, 1462, 805, 496, 472, 1676, 1042, 792, 110, 894, 1620, 174, 222, 1054, 191, 1678, 1065, 821, 809, 953, 1207, 1367, 342, 1424, 1775, 977, 1533, 1216, 394, 766, 826, 368, 1341, 703, 386, 244, 199, 1501, 1529, 201, 1039, 1277, 510, 1780, 117, 1522, 1360, 150, 952, 1536, 1017, 1222, 883, 1019, 1511, 1209, 1402, 366, 1326, 1262, 278, 767, 1305, 217, 1137, 1649, 653, 1741, 182, 566, 242, 202, 209, 1163, 1581, 1136, 675, 1521, 300, 1751, 1419, 1096, 891, 716, 236, 1153, 1721, 1524, 1585, 145, 1384, 53, 1080, 901, 1693, 1045, 1120, 1267, 1742, 1351, 1605, 1261, 476, 418, 1630, 1050, 1481, 1155, 252, 1154, 1101, 531, 568, 1733, 1674, 1558, 524, 197, 277, 400, 680, 1102, 1708, 1345, 656, 1196, 992, 167, 1259, 1535, 1621, 1624, 688, 1781, 860, 1619, 1130, 857, 453, 664, 1718, 317, 320, 1297, 17, 177, 1329, 1358, 1537, 1667, 786, 152, 1192, 997, 1364, 1454, 84, 1124, 1697, 298, 963, 1012, 677, 20, 1279]\n",
      "539 539\n"
     ]
    }
   ],
   "source": [
    "print sample\n",
    "print len(x),len(y)"
   ]
  },
  {
   "cell_type": "code",
   "execution_count": 113,
   "metadata": {
    "collapsed": false
   },
   "outputs": [
    {
     "name": "stderr",
     "output_type": "stream",
     "text": [
      "C:\\Users\\zc\\AppData\\Local\\Enthought\\Canopy\\User\\lib\\site-packages\\IPython\\kernel\\__main__.py:2: RuntimeWarning: invalid value encountered in double_scalars\n",
      "  from IPython.kernel.zmq import kernelapp as app\n"
     ]
    }
   ],
   "source": [
    "result,error,cm=pretrain(x,y)"
   ]
  },
  {
   "cell_type": "code",
   "execution_count": 114,
   "metadata": {
    "collapsed": false
   },
   "outputs": [
    {
     "name": "stdout",
     "output_type": "stream",
     "text": [
      "[[ 9  0  0  0  0  0  0  0  0  0]\n",
      " [ 0  7  0  0  0  0  0  0  2  0]\n",
      " [ 0  0 14  0  0  0  0  0  0  0]\n",
      " [ 0  0  1  6  0  0  0  0  0  0]\n",
      " [ 0  0  0  0  8  0  0  0  0  0]\n",
      " [ 0  0  0  0  0 10  0  0  0  0]\n",
      " [ 0  0  0  0  0  1  7  0  0  0]\n",
      " [ 0  0  0  0  0  0  0 13  1  0]\n",
      " [ 0  1  0  0  0  0  0  0 11  0]\n",
      " [ 0  0  0  0  0  0  0  0  1 16]]\n",
      "\n",
      "[[ 9  0  0  0  1  0  0  0  0  0]\n",
      " [ 0 15  0  0  0  0  0  0  0  0]\n",
      " [ 0  0 16  0  0  0  0  0  0  0]\n",
      " [ 0  0  0  8  0  0  0  1  0  0]\n",
      " [ 0  0  0  0  6  0  0  0  0  0]\n",
      " [ 0  0  0  0  0  8  0  0  0  1]\n",
      " [ 0  0  0  0  0  0 12  0  0  0]\n",
      " [ 0  0  0  0  0  0  0 10  0  0]\n",
      " [ 0  0  0  0  0  0  0  0 14  0]\n",
      " [ 0  0  0  1  0  0  0  0  0  6]]\n",
      "\n",
      "[[11  0  0  0  0  0  0  0  0  0]\n",
      " [ 0 10  0  0  0  0  0  0  0  0]\n",
      " [ 0  1 10  1  0  0  0  0  0  0]\n",
      " [ 0  0  0 11  0  0  0  0  0  0]\n",
      " [ 0  0  0  0 10  0  0  0  0  0]\n",
      " [ 0  0  0  0  0 12  0  0  0  0]\n",
      " [ 0  0  0  0  0  0 12  0  0  0]\n",
      " [ 0  0  0  0  0  0  0 14  0  0]\n",
      " [ 0  0  1  0  0  0  0  0  6  0]\n",
      " [ 0  0  0  0  0  0  0  0  0  9]]\n",
      "\n",
      "[[10  0  0  0  0  0  0  0  0  0]\n",
      " [ 0  8  0  0  0  0  0  0  0  0]\n",
      " [ 0  0 12  0  0  0  0  0  0  0]\n",
      " [ 0  0  0 10  0  0  0  0  0  0]\n",
      " [ 0  0  0  0  9  0  0  0  0  0]\n",
      " [ 0  0  0  0  0 15  0  0  0  0]\n",
      " [ 0  0  0  0  0  0  7  0  0  0]\n",
      " [ 0  0  0  0  0  0  0 12  0  0]\n",
      " [ 0  2  0  0  0  0  0  0 10  0]\n",
      " [ 0  0  0  0  0  0  0  0  0 13]]\n",
      "\n",
      "[[14  0  0  0  0  0  0  0  0  0]\n",
      " [ 0 10  0  0  0  0  0  0  0  0]\n",
      " [ 0  0 10  0  0  0  0  0  0  0]\n",
      " [ 0  0  0 10  0  0  0  0  0  0]\n",
      " [ 0  0  0  0 12  0  0  0  0  0]\n",
      " [ 0  0  0  0  1 13  0  0  0  0]\n",
      " [ 0  0  0  0  0  0  5  0  0  0]\n",
      " [ 0  0  0  0  0  0  0  7  0  0]\n",
      " [ 0  1  0  0  0  0  0  0 10  0]\n",
      " [ 0  0  0  0  0  0  0  0  0 14]]\n",
      "\n"
     ]
    }
   ],
   "source": [
    "printCM(cm)"
   ]
  },
  {
   "cell_type": "code",
   "execution_count": 115,
   "metadata": {
    "collapsed": false
   },
   "outputs": [
    {
     "data": {
      "image/png": "[encoded data removed]",
      "text/plain": [
       "<matplotlib.figure.Figure at 0x1065b588>"
      ]
     },
     "metadata": {},
     "output_type": "display_data"
    }
   ],
   "source": [
    "plotErr(error)"
   ]
  },
  {
   "cell_type": "code",
   "execution_count": 116,
   "metadata": {
    "collapsed": false
   },
   "outputs": [
    {
     "name": "stdout",
     "output_type": "stream",
     "text": [
      "(539L, 64L)\n"
     ]
    }
   ],
   "source": [
    "print result.shape"
   ]
  },
  {
   "cell_type": "code",
   "execution_count": 117,
   "metadata": {
    "collapsed": false
   },
   "outputs": [
    {
     "name": "stdout",
     "output_type": "stream",
     "text": [
      "[[ 0  0  9  0  0  0  0  0  0  0]\n",
      " [ 0  0 13  0  0  0  0  0  0  0]\n",
      " [ 0  0 11  0  0  0  0  0  0  0]\n",
      " [ 0  0 12  0  0  0  0  0  0  0]\n",
      " [ 0  0 10  0  0  0  0  0  0  0]\n",
      " [ 0  0 10  0  0  0  0  0  0  0]\n",
      " [ 0  0  7  0  0  0  0  0  0  0]\n",
      " [ 0  0 12  0  0  0  0  0  0  0]\n",
      " [ 0  0 11  0  0  0  0  0  0  0]\n",
      " [ 0  0 13  0  0  0  0  0  0  0]]\n",
      "\n",
      "[[ 0  0 11  0  0  0  0  0  0  0]\n",
      " [ 0  0 11  0  0  0  0  0  0  0]\n",
      " [ 0  0 13  0  0  0  0  0  0  0]\n",
      " [ 0  0 12  0  0  0  0  0  0  0]\n",
      " [ 0  0  8  0  0  0  0  0  0  0]\n",
      " [ 0  0 14  0  0  0  0  0  0  0]\n",
      " [ 0  0  8  0  0  0  0  0  0  0]\n",
      " [ 0  0 12  0  0  0  0  0  0  0]\n",
      " [ 0  0  9  0  0  0  0  0  0  0]\n",
      " [ 0  0 10  0  0  0  0  0  0  0]]\n",
      "\n",
      "[[ 0  0  1  0  0 11  0  0  0  0]\n",
      " [ 0  0  0  0  0  5  0  0  0  0]\n",
      " [ 0  0  0  0  0 11  0  0  0  0]\n",
      " [ 0  0  0  0  0  7  0  0  0  0]\n",
      " [ 0  0  2  0  0 13  0  0  0  0]\n",
      " [ 0  0  0  0  0  7  0  0  0  0]\n",
      " [ 0  1  0  0  0 10  0  0  0  0]\n",
      " [ 0  0  4  0  0 11  0  0  0  0]\n",
      " [ 0  0  0  0  0 11  0  0  0  0]\n",
      " [ 0  0  1  0  0 13  0  0  0  0]]\n",
      "\n",
      "[[ 0  0 13  0  0  0  0  0  0  0]\n",
      " [ 0  0 17  0  0  0  0  0  0  0]\n",
      " [ 0  0 11  0  0  0  0  0  0  0]\n",
      " [ 0  0  7  0  0  0  0  0  0  0]\n",
      " [ 0  0  5  0  0  0  0  0  0  0]\n",
      " [ 0  0  9  0  0  0  0  0  0  0]\n",
      " [ 0  0  6  0  0  0  0  0  0  0]\n",
      " [ 0  0 10  0  0  0  0  0  0  0]\n",
      " [ 0  0 16  0  0  0  0  0  0  0]\n",
      " [ 0  0 14  0  0  0  0  0  0  0]]\n",
      "\n",
      "[[ 0  0  0  0  0  0  0  0  0  9]\n",
      " [ 0  0  0  0  0  0  0  0  0  6]\n",
      " [ 0  0  0  0  0  0  0  0  0 18]\n",
      " [ 0  0  0  0  0  0  0  0  0  9]\n",
      " [ 0  0  0  0  0  0  0  0  0  7]\n",
      " [ 0  0  0  0  0  0  0  0  0 20]\n",
      " [ 0  0  0  0  0  0  0  0  0 12]\n",
      " [ 0  0  0  0  0  0  0  0  0  8]\n",
      " [ 0  0  0  0  0  0  0  0  0  9]\n",
      " [ 0  0  0  0  0  0  0  0  0  9]]\n",
      "\n"
     ]
    },
    {
     "name": "stderr",
     "output_type": "stream",
     "text": [
      "C:\\Users\\zc\\AppData\\Local\\Enthought\\Canopy\\User\\lib\\site-packages\\IPython\\kernel\\__main__.py:2: RuntimeWarning: invalid value encountered in double_scalars\n",
      "  from IPython.kernel.zmq import kernelapp as app\n"
     ]
    }
   ],
   "source": [
    "result1,e1,cm1=layer_rbf(result,y)\n",
    "printCM(cm1)"
   ]
  },
  {
   "cell_type": "code",
   "execution_count": 118,
   "metadata": {
    "collapsed": false
   },
   "outputs": [
    {
     "data": {
      "image/png": "[encoded data removed]",
      "text/plain": [
       "<matplotlib.figure.Figure at 0x10655da0>"
      ]
     },
     "metadata": {},
     "output_type": "display_data"
    }
   ],
   "source": [
    "plotErr(e1)"
   ]
  },
  {
   "cell_type": "code",
   "execution_count": 119,
   "metadata": {
    "collapsed": false
   },
   "outputs": [
    {
     "name": "stdout",
     "output_type": "stream",
     "text": [
      "(539L, 44L)\n"
     ]
    }
   ],
   "source": [
    "print result1.shape"
   ]
  },
  {
   "cell_type": "code",
   "execution_count": null,
   "metadata": {
    "collapsed": true
   },
   "outputs": [],
   "source": []
  },
  {
   "cell_type": "code",
   "execution_count": 120,
   "metadata": {
    "collapsed": false
   },
   "outputs": [
    {
     "name": "stdout",
     "output_type": "stream",
     "text": [
      "[[ 2  0  1  0  0  0  0  1  0  2]\n",
      " [ 2  0  0  0  0  4  0  2  1  1]\n",
      " [ 2  0  3  0  0 10  0  1  0  1]\n",
      " [ 0  0  1  0  0  5  0  0  2  1]\n",
      " [ 1  0  2  0  0  6  0  0  0  0]\n",
      " [ 2  0  1  0  0  6  0  0  1  1]\n",
      " [ 3  1  1  0  0  3  0  0  0  0]\n",
      " [ 5  0  2  0  0  5  0  1  0  1]\n",
      " [ 0  0  2  0  0  6  0  0  1  2]\n",
      " [ 1  1  1  0  0  7  0  0  1  2]]\n",
      "\n",
      "[[ 0  0  4  0  1  0  0  4  0  2]\n",
      " [ 0  0  6  0  0  0  0  1  1  4]\n",
      " [ 0  1  7  0  1  0  0  1  0  4]\n",
      " [ 0  0  5  0  0  1  0  3  0  1]\n",
      " [ 0  0  2  0  0  0  0  2  0  0]\n",
      " [ 0  0 10  0  0  0  0  1  0  4]\n",
      " [ 0  0  7  0  0  0  0  2  1  3]\n",
      " [ 0  0  3  0  0  0  0  4  0  0]\n",
      " [ 0  0  7  0  0  0  0  2  0  3]\n",
      " [ 0  0  5  0  0  0  0  2  0  3]]\n",
      "\n",
      "[[ 0  0  7  0  0  0  0  0  3  2]\n",
      " [ 0  0  9  0  0  0  0  0  2  5]\n",
      " [ 0  0  6  0  0  1  0  0  1  2]\n",
      " [ 0  0  5  0  0  0  0  0  0  2]\n",
      " [ 0  0  6  0  0  0  0  0  1  2]\n",
      " [ 0  0 10  0  0  0  0  0  2  0]\n",
      " [ 0  0  6  0  0  1  0  0  1  2]\n",
      " [ 0  0 11  0  0  0  0  0  3  0]\n",
      " [ 0  0  4  0  0  0  0  0  1  3]\n",
      " [ 0  0  5  0  0  0  0  0  4  1]]\n",
      "\n",
      "[[0 2 4 0 0 2 0 0 0 4]\n",
      " [0 1 1 0 0 2 0 0 0 0]\n",
      " [0 3 4 0 0 4 0 0 0 4]\n",
      " [0 2 3 0 0 2 0 1 0 4]\n",
      " [0 5 1 0 0 2 0 0 0 6]\n",
      " [0 3 3 0 0 1 0 1 0 2]\n",
      " [0 0 1 0 0 3 0 0 0 2]\n",
      " [0 3 2 0 0 1 0 1 0 3]\n",
      " [0 4 2 0 0 4 0 0 0 5]\n",
      " [0 2 5 0 0 1 0 0 0 2]]\n",
      "\n",
      "[[ 0  3  9  0  0  0  0  1  0  0]\n",
      " [ 0  0 10  0  0  0  0  0  0  0]\n",
      " [ 1  0  7  0  0  0  0  0  0  0]\n",
      " [ 0  0  8  0  0  0  0  0  1  0]\n",
      " [ 0  0  9  0  0  0  0  0  0  0]\n",
      " [ 0  0 11  0  0  0  0  0  1  0]\n",
      " [ 0  0  7  0  0  0  0  0  0  0]\n",
      " [ 0  0 12  0  0  0  0  0  0  0]\n",
      " [ 0  0  9  0  0  0  0  0  1  0]\n",
      " [ 0  1 13  0  0  0  0  1  2  0]]\n",
      "\n"
     ]
    }
   ],
   "source": [
    "result2,e2,cm2=layer_rbf(result1,y)\n",
    "printCM(cm2)"
   ]
  },
  {
   "cell_type": "code",
   "execution_count": 121,
   "metadata": {
    "collapsed": false
   },
   "outputs": [
    {
     "data": {
      "image/png": "[encoded data removed]",
      "text/plain": [
       "<matplotlib.figure.Figure at 0x107d6400>"
      ]
     },
     "metadata": {},
     "output_type": "display_data"
    }
   ],
   "source": [
    "plotErr(e2)"
   ]
  },
  {
   "cell_type": "code",
   "execution_count": 122,
   "metadata": {
    "collapsed": false
   },
   "outputs": [
    {
     "name": "stdout",
     "output_type": "stream",
     "text": [
      "(539L, 27L)\n"
     ]
    }
   ],
   "source": [
    "print result2.shape"
   ]
  },
  {
   "cell_type": "code",
   "execution_count": null,
   "metadata": {
    "collapsed": true
   },
   "outputs": [],
   "source": []
  },
  {
   "cell_type": "code",
   "execution_count": 123,
   "metadata": {
    "collapsed": false
   },
   "outputs": [
    {
     "name": "stdout",
     "output_type": "stream",
     "text": [
      "[[ 0  1  4  0  0  0  0  7  0  0]\n",
      " [ 0  0  3  0  0  0  0  3  0  0]\n",
      " [ 0  1  4  0  0  0  0  8  0  0]\n",
      " [ 0  1  3  0  0  0  0  5  0  0]\n",
      " [ 0  0  3  0  0  0  0  4  0  0]\n",
      " [ 0  2  4  0  0  0  0 10  0  0]\n",
      " [ 0  0  3  0  0  0  0  6  0  1]\n",
      " [ 0  1  1  0  0  0  0  8  0  0]\n",
      " [ 0  0  3  0  0  0  0 11  0  0]\n",
      " [ 0  1  6  0  0  0  0  4  0  0]]\n",
      "\n",
      "[[ 0  0  1  0  0  7  0  0  0  0]\n",
      " [ 0  0  0  0  0  8  0  0  0  1]\n",
      " [ 0  0  0  0  0  7  0  1  0  6]\n",
      " [ 0  0  1  0  0 10  0  0  0  2]\n",
      " [ 0  0  0  0  0  5  0  0  0  1]\n",
      " [ 0  0  0  0  0  8  0  0  0  0]\n",
      " [ 0  0  0  0  0  9  0  0  0  2]\n",
      " [ 0  0  0  0  0 15  0  0  0  0]\n",
      " [ 0  0  0  0  0  7  0  1  0  5]\n",
      " [ 0  0  0  0  0  9  0  0  0  2]]\n",
      "\n",
      "[[ 0  0  6  0  0  0  0  3  0  2]\n",
      " [ 0  0  4  0  0  0  0  3  0  1]\n",
      " [ 0  0  5  0  0  0  0  1  0  0]\n",
      " [ 0  0  6  0  0  0  0  3  0  0]\n",
      " [ 0  0  8  0  0  0  0  3  0  0]\n",
      " [ 0  0 13  0  0  0  0  3  0  1]\n",
      " [ 0  0  7  0  0  0  0  4  0  0]\n",
      " [ 0  0  9  0  0  0  0  6  0  0]\n",
      " [ 0  0  7  0  0  0  0  1  1  0]\n",
      " [ 0  0  7  0  0  0  0  4  0  0]]\n",
      "\n",
      "[[ 0  0  0  0  0  0  0  7  0  1]\n",
      " [ 1  0  1  0  0  5  0  8  0  1]\n",
      " [ 2  0  1  0  0  3  0  7  1  2]\n",
      " [ 2  0  0  0  0  0  0  6  0  0]\n",
      " [ 0  0  3  0  0  2  0  3  0  1]\n",
      " [ 1  0  0  0  0  3  0  4  0  2]\n",
      " [ 0  0  0  0  0  0  0  4  0  1]\n",
      " [ 0  0  0  0  0  1  0 10  0  0]\n",
      " [ 1  0  0  0  0  1  0  8  0  1]\n",
      " [ 0  0  1  0  0  1  0 10  0  2]]\n",
      "\n",
      "[[ 0  0  6  0  0  1  0  8  0  0]\n",
      " [ 0  0  2  0  0  1  0 10  0  0]\n",
      " [ 0  0  3  0  0  2  0 10  0  0]\n",
      " [ 0  0  4  0  0  0  0  3  1  0]\n",
      " [ 0  0  2  0  0  1  0  8  0  1]\n",
      " [ 0  0  1  0  0  0  0  7  0  1]\n",
      " [ 0  0  2  0  0  1  0  4  0  0]\n",
      " [ 0  0  1  0  0  1  0  4  0  0]\n",
      " [ 0  0  3  0  0  1  0  5  0  0]\n",
      " [ 0  0  3  0  0  3  0  6  0  1]]\n",
      "\n"
     ]
    }
   ],
   "source": [
    "result3,e3,cm3=layer_rbf(result2,y)\n",
    "printCM(cm3)"
   ]
  },
  {
   "cell_type": "code",
   "execution_count": 124,
   "metadata": {
    "collapsed": false
   },
   "outputs": [
    {
     "data": {
      "image/png": "[encoded data removed]",
      "text/plain": [
       "<matplotlib.figure.Figure at 0xa87b5f8>"
      ]
     },
     "metadata": {},
     "output_type": "display_data"
    }
   ],
   "source": [
    "plotErr(e3)"
   ]
  },
  {
   "cell_type": "code",
   "execution_count": 125,
   "metadata": {
    "collapsed": false
   },
   "outputs": [
    {
     "name": "stdout",
     "output_type": "stream",
     "text": [
      "(539L, 22L)\n"
     ]
    }
   ],
   "source": [
    "print result3.shape"
   ]
  },
  {
   "cell_type": "code",
   "execution_count": null,
   "metadata": {
    "collapsed": true
   },
   "outputs": [],
   "source": []
  },
  {
   "cell_type": "code",
   "execution_count": 126,
   "metadata": {
    "collapsed": false
   },
   "outputs": [
    {
     "name": "stdout",
     "output_type": "stream",
     "text": [
      "[[ 0  1  7  0  0  0  0  3  0  1]\n",
      " [ 1  1  5  0  0  2  0  0  0  3]\n",
      " [ 0  0  4  0  0  4  0  0  0  0]\n",
      " [ 0  0  5  0  0  1  0  2  0  1]\n",
      " [ 0  0  7  0  0  0  0  1  0  0]\n",
      " [ 0  1 11  0  0  1  0  1  0  0]\n",
      " [ 0  1  7  0  0  0  0  2  0  2]\n",
      " [ 0  2  4  0  0  4  0  4  0  1]\n",
      " [ 0  0  9  0  0  1  0  3  0  1]\n",
      " [ 0  0  3  0  0  0  0  1  0  0]]\n",
      "\n",
      "[[ 0  1  5  0  0  1  0  4  0  1]\n",
      " [ 0  1  2  0  0  1  0  1  0  0]\n",
      " [ 0  1 10  0  0  0  0  2  0  0]\n",
      " [ 0  0  6  0  0  1  0  4  0  0]\n",
      " [ 0  1  3  0  0  1  0  1  0  0]\n",
      " [ 1  2  7  0  0  0  0  3  0  0]\n",
      " [ 0  3  3  0  0  1  0  3  0  0]\n",
      " [ 3  0  6  0  0  1  0  2  0  0]\n",
      " [ 0  1  6  0  0  2  0  2  0  1]\n",
      " [ 0  1 11  0  0  2  0  0  0  0]]\n",
      "\n",
      "[[0 1 5 0 0 0 0 2 1 1]\n",
      " [0 0 5 0 0 1 0 5 1 0]\n",
      " [0 0 8 0 0 2 0 5 2 0]\n",
      " [0 0 6 0 0 0 0 5 0 1]\n",
      " [0 0 6 0 0 1 0 2 0 0]\n",
      " [0 0 4 0 1 0 0 3 2 1]\n",
      " [0 0 5 0 0 0 0 2 0 0]\n",
      " [0 0 3 0 0 0 0 3 2 1]\n",
      " [0 0 3 0 0 3 0 0 1 0]\n",
      " [0 0 9 0 1 0 0 2 2 0]]\n",
      "\n",
      "[[1 0 2 0 0 1 0 2 0 5]\n",
      " [0 0 6 0 0 1 0 1 1 3]\n",
      " [0 0 7 0 0 0 0 0 0 5]\n",
      " [0 1 0 0 0 1 0 2 0 3]\n",
      " [0 0 3 0 0 0 0 2 0 4]\n",
      " [0 1 5 0 0 0 0 6 0 0]\n",
      " [0 0 3 0 0 0 0 2 0 3]\n",
      " [0 3 6 1 0 0 0 3 0 0]\n",
      " [0 1 2 0 0 1 0 1 0 5]\n",
      " [0 2 3 0 0 1 0 5 0 3]]\n",
      "\n",
      "[[0 0 5 0 0 1 0 1 0 2]\n",
      " [1 0 3 0 0 1 0 4 1 1]\n",
      " [0 1 7 0 0 2 0 2 0 2]\n",
      " [0 0 6 0 0 2 0 0 0 0]\n",
      " [1 0 5 0 0 2 0 5 0 0]\n",
      " [0 0 6 0 0 1 0 2 1 0]\n",
      " [1 0 4 0 0 0 0 2 0 0]\n",
      " [1 0 3 0 0 1 0 3 0 0]\n",
      " [0 0 6 0 0 4 0 2 0 1]\n",
      " [0 0 6 0 0 0 0 5 0 3]]\n",
      "\n"
     ]
    }
   ],
   "source": [
    "result4,e4,cm4=layer_rbf(result3,y)\n",
    "printCM(cm4)"
   ]
  },
  {
   "cell_type": "code",
   "execution_count": 127,
   "metadata": {
    "collapsed": false
   },
   "outputs": [
    {
     "data": {
      "image/png": "[encoded data removed]",
      "text/plain": [
       "<matplotlib.figure.Figure at 0xcee6b70>"
      ]
     },
     "metadata": {},
     "output_type": "display_data"
    }
   ],
   "source": [
    "plotErr(e4)"
   ]
  },
  {
   "cell_type": "code",
   "execution_count": 128,
   "metadata": {
    "collapsed": false
   },
   "outputs": [
    {
     "name": "stdout",
     "output_type": "stream",
     "text": [
      "(539L, 18L)\n"
     ]
    }
   ],
   "source": [
    "print result4.shape"
   ]
  },
  {
   "cell_type": "code",
   "execution_count": null,
   "metadata": {
    "collapsed": true
   },
   "outputs": [],
   "source": []
  },
  {
   "cell_type": "code",
   "execution_count": 129,
   "metadata": {
    "collapsed": false
   },
   "outputs": [
    {
     "name": "stdout",
     "output_type": "stream",
     "text": [
      "[[ 0  0  0  0  0  0  0  6  0  0]\n",
      " [ 0  0  6  0  0  0  0 10  0  0]\n",
      " [ 1  0  4  0  0  0  0  9  0  0]\n",
      " [ 0  0  1  0  0  0  0  6  0  0]\n",
      " [ 0  0  6  0  0  1  0  4  1  0]\n",
      " [ 1  0  3  0  0  0  0  5  0  0]\n",
      " [ 1  0  4  0  0  0  0  3  1  1]\n",
      " [ 1  0  0  0  0  2  0  4  0  0]\n",
      " [ 0  0  3  0  0  0  0 10  1  0]\n",
      " [ 1  0  6  0  0  1  0  4  1  0]]\n",
      "\n",
      "[[0 0 9 0 0 1 0 6 0 0]\n",
      " [0 0 0 0 0 0 0 5 0 1]\n",
      " [0 0 3 0 0 1 0 5 0 3]\n",
      " [0 0 1 0 0 1 0 2 0 3]\n",
      " [0 0 2 0 0 0 0 2 0 0]\n",
      " [0 0 4 0 0 1 0 3 0 4]\n",
      " [0 0 1 0 0 1 0 5 0 3]\n",
      " [0 0 2 0 0 1 0 8 0 1]\n",
      " [0 0 3 0 1 1 0 7 2 1]\n",
      " [0 1 2 0 0 0 0 7 0 4]]\n",
      "\n",
      "[[ 0  0  1  0  0  0  0  0  6  6]\n",
      " [ 0  0  1  0  0  0  0  0  6  5]\n",
      " [ 0  0  2  0  1  0  0  0  4  5]\n",
      " [ 0  0  2  0  1  0  0  0  4  2]\n",
      " [ 0  0  1  0  0  0  0  0  5  0]\n",
      " [ 0  0  1  0  0  0  0  1 11  5]\n",
      " [ 0  0  4  0  0  0  0  0  3  0]\n",
      " [ 0  0  2  0  0  0  0  1 11  1]\n",
      " [ 0  0  1  0  0  0  0  1  1  3]\n",
      " [ 0  0  2  0  0  0  0  0  6  2]]\n",
      "\n",
      "[[ 0  0  1  0  0  4  0  0  0  1]\n",
      " [ 0  0  0  0  0  6  0  1  0  2]\n",
      " [ 1  0  0  0  0 10  0  2  1  3]\n",
      " [ 0  0  2  0  0  4  0  3  0  5]\n",
      " [ 0  0  2  0  0  4  0  0  0  2]\n",
      " [ 1  0  0  0  0  3  0  4  1  2]\n",
      " [ 0  0  1  0  0  2  0  3  0  2]\n",
      " [ 0  0  1  0  0  5  0  7  0  1]\n",
      " [ 0  0  1  0  0  3  0  4  0  2]\n",
      " [ 0  0  6  0  0  1  0  2  0  2]]\n",
      "\n",
      "[[0 0 6 0 0 0 0 6 0 1]\n",
      " [0 0 3 0 0 0 0 6 0 0]\n",
      " [0 0 2 0 0 0 0 5 0 2]\n",
      " [0 0 4 0 0 0 0 6 0 0]\n",
      " [0 0 6 0 0 0 0 9 0 0]\n",
      " [0 0 2 0 0 0 0 7 0 1]\n",
      " [0 0 3 0 0 0 0 6 0 0]\n",
      " [0 0 2 0 0 0 0 7 0 0]\n",
      " [0 0 5 0 0 0 0 6 0 0]\n",
      " [0 1 4 0 0 0 0 7 0 0]]\n",
      "\n"
     ]
    }
   ],
   "source": [
    "result5,e5,cm5=layer_rbf(result4,y)\n",
    "printCM(cm5)"
   ]
  },
  {
   "cell_type": "code",
   "execution_count": 130,
   "metadata": {
    "collapsed": false
   },
   "outputs": [
    {
     "data": {
      "image/png": "[encoded data removed]",
      "text/plain": [
       "<matplotlib.figure.Figure at 0xa8295f8>"
      ]
     },
     "metadata": {},
     "output_type": "display_data"
    }
   ],
   "source": [
    "plotErr(e5)"
   ]
  },
  {
   "cell_type": "code",
   "execution_count": 131,
   "metadata": {
    "collapsed": false
   },
   "outputs": [
    {
     "name": "stdout",
     "output_type": "stream",
     "text": [
      "(539L, 15L)\n"
     ]
    }
   ],
   "source": [
    "print result5.shape"
   ]
  },
  {
   "cell_type": "code",
   "execution_count": null,
   "metadata": {
    "collapsed": true
   },
   "outputs": [],
   "source": []
  },
  {
   "cell_type": "code",
   "execution_count": 132,
   "metadata": {
    "collapsed": false
   },
   "outputs": [
    {
     "name": "stdout",
     "output_type": "stream",
     "text": [
      "[[ 0  0  0  0  0  0  0  6  0  0]\n",
      " [ 0  0  6  0  0  0  0 10  0  0]\n",
      " [ 1  0  4  0  0  0  0  9  0  0]\n",
      " [ 0  0  1  0  0  0  0  6  0  0]\n",
      " [ 0  0  6  0  0  1  0  4  1  0]\n",
      " [ 1  0  3  0  0  0  0  5  0  0]\n",
      " [ 1  0  4  0  0  0  0  3  1  1]\n",
      " [ 1  0  0  0  0  2  0  4  0  0]\n",
      " [ 0  0  3  0  0  0  0 10  1  0]\n",
      " [ 1  0  6  0  0  1  0  4  1  0]]\n",
      "\n",
      "[[0 0 9 0 0 1 0 6 0 0]\n",
      " [0 0 0 0 0 0 0 5 0 1]\n",
      " [0 0 3 0 0 1 0 5 0 3]\n",
      " [0 0 1 0 0 1 0 2 0 3]\n",
      " [0 0 2 0 0 0 0 2 0 0]\n",
      " [0 0 4 0 0 1 0 3 0 4]\n",
      " [0 0 1 0 0 1 0 5 0 3]\n",
      " [0 0 2 0 0 1 0 8 0 1]\n",
      " [0 0 3 0 1 1 0 7 2 1]\n",
      " [0 1 2 0 0 0 0 7 0 4]]\n",
      "\n",
      "[[ 0  0  1  0  0  0  0  0  6  6]\n",
      " [ 0  0  1  0  0  0  0  0  6  5]\n",
      " [ 0  0  2  0  1  0  0  0  4  5]\n",
      " [ 0  0  2  0  1  0  0  0  4  2]\n",
      " [ 0  0  1  0  0  0  0  0  5  0]\n",
      " [ 0  0  1  0  0  0  0  1 11  5]\n",
      " [ 0  0  4  0  0  0  0  0  3  0]\n",
      " [ 0  0  2  0  0  0  0  1 11  1]\n",
      " [ 0  0  1  0  0  0  0  1  1  3]\n",
      " [ 0  0  2  0  0  0  0  0  6  2]]\n",
      "\n",
      "[[ 0  0  1  0  0  4  0  0  0  1]\n",
      " [ 0  0  0  0  0  6  0  1  0  2]\n",
      " [ 1  0  0  0  0 10  0  2  1  3]\n",
      " [ 0  0  2  0  0  4  0  3  0  5]\n",
      " [ 0  0  2  0  0  4  0  0  0  2]\n",
      " [ 1  0  0  0  0  3  0  4  1  2]\n",
      " [ 0  0  1  0  0  2  0  3  0  2]\n",
      " [ 0  0  1  0  0  5  0  7  0  1]\n",
      " [ 0  0  1  0  0  3  0  4  0  2]\n",
      " [ 0  0  6  0  0  1  0  2  0  2]]\n",
      "\n",
      "[[0 0 6 0 0 0 0 6 0 1]\n",
      " [0 0 3 0 0 0 0 6 0 0]\n",
      " [0 0 2 0 0 0 0 5 0 2]\n",
      " [0 0 4 0 0 0 0 6 0 0]\n",
      " [0 0 6 0 0 0 0 9 0 0]\n",
      " [0 0 2 0 0 0 0 7 0 1]\n",
      " [0 0 3 0 0 0 0 6 0 0]\n",
      " [0 0 2 0 0 0 0 7 0 0]\n",
      " [0 0 5 0 0 0 0 6 0 0]\n",
      " [0 1 4 0 0 0 0 7 0 0]]\n",
      "\n"
     ]
    }
   ],
   "source": [
    "result6,e6,cm6=layer_rbf(result5,y)\n",
    "printCM(cm5)"
   ]
  },
  {
   "cell_type": "code",
   "execution_count": 133,
   "metadata": {
    "collapsed": false
   },
   "outputs": [
    {
     "data": {
      "image/png": "[encoded data removed]",
      "text/plain": [
       "<matplotlib.figure.Figure at 0xaeed6d8>"
      ]
     },
     "metadata": {},
     "output_type": "display_data"
    }
   ],
   "source": [
    "plotErr(e6)"
   ]
  },
  {
   "cell_type": "code",
   "execution_count": 134,
   "metadata": {
    "collapsed": false
   },
   "outputs": [
    {
     "name": "stdout",
     "output_type": "stream",
     "text": [
      "(539L, 9L)\n"
     ]
    }
   ],
   "source": [
    "print result6.shape"
   ]
  },
  {
   "cell_type": "code",
   "execution_count": null,
   "metadata": {
    "collapsed": true
   },
   "outputs": [],
   "source": []
  },
  {
   "cell_type": "code",
   "execution_count": 135,
   "metadata": {
    "collapsed": false
   },
   "outputs": [
    {
     "name": "stdout",
     "output_type": "stream",
     "text": [
      "[[ 0  0 12  0  0  0  0  0  0  0]\n",
      " [ 0  0 10  0  0  0  0  1  0  0]\n",
      " [ 0  0  3  0  0  0  0  1  0  0]\n",
      " [ 0  0  7  0  0  0  0  0  0  1]\n",
      " [ 0  0  9  0  0  0  0  2  0  0]\n",
      " [ 0  0 14  0  0  0  0  0  0  0]\n",
      " [ 0  0 10  0  0  0  0  1  0  0]\n",
      " [ 0  0 12  0  0  0  0  0  0  0]\n",
      " [ 0  0 11  0  0  0  0  0  0  0]\n",
      " [ 1  0 13  0  0  0  0  0  0  0]]\n",
      "\n",
      "[[0 0 1 0 1 5 0 0 0 0]\n",
      " [3 0 0 0 2 7 0 1 0 0]\n",
      " [5 0 0 0 1 9 1 0 0 2]\n",
      " [2 0 0 0 1 6 0 0 0 3]\n",
      " [0 0 0 0 0 7 0 0 0 0]\n",
      " [3 0 0 0 1 4 0 0 0 1]\n",
      " [2 0 0 0 1 1 0 0 0 3]\n",
      " [2 0 0 0 0 8 0 1 0 1]\n",
      " [2 0 0 0 0 8 0 0 0 1]\n",
      " [5 0 0 0 2 3 1 0 0 1]]\n",
      "\n",
      "[[0 0 7 0 0 1 0 2 0 4]\n",
      " [0 0 3 1 0 2 0 1 1 3]\n",
      " [0 3 3 0 0 1 0 1 1 2]\n",
      " [0 0 1 0 0 0 0 2 1 0]\n",
      " [0 0 3 1 0 0 0 4 2 0]\n",
      " [0 0 4 1 0 1 0 3 3 3]\n",
      " [0 0 6 0 0 0 0 1 1 2]\n",
      " [0 1 6 0 0 2 0 3 0 1]\n",
      " [0 0 2 0 0 3 0 1 1 0]\n",
      " [0 1 5 0 0 0 0 3 2 2]]\n",
      "\n",
      "[[0 0 1 0 0 0 0 5 0 5]\n",
      " [1 0 0 0 0 2 0 5 0 2]\n",
      " [0 0 3 0 0 4 0 7 0 6]\n",
      " [0 0 0 0 0 1 0 3 0 3]\n",
      " [0 0 1 0 0 3 0 1 0 4]\n",
      " [0 0 0 0 0 3 0 5 0 0]\n",
      " [1 0 1 0 0 2 0 5 0 0]\n",
      " [1 0 0 0 0 2 0 1 0 0]\n",
      " [1 0 1 0 0 6 0 6 0 2]\n",
      " [0 0 1 0 0 4 0 8 0 1]]\n",
      "\n",
      "[[0 0 3 0 1 1 0 0 0 5]\n",
      " [0 0 1 0 0 1 0 0 0 5]\n",
      " [0 0 1 0 2 1 0 2 2 3]\n",
      " [0 1 2 0 1 0 0 4 0 8]\n",
      " [0 0 2 0 0 0 0 2 0 4]\n",
      " [0 0 2 0 0 2 0 3 1 6]\n",
      " [0 0 1 0 0 1 0 1 1 3]\n",
      " [0 0 5 0 0 1 0 2 3 5]\n",
      " [0 0 5 0 0 0 0 0 2 4]\n",
      " [0 0 3 0 0 0 0 1 0 3]]\n",
      "\n"
     ]
    }
   ],
   "source": [
    "result7,e7,cm7=layer_rbf(result6,y)\n",
    "printCM(cm7)"
   ]
  },
  {
   "cell_type": "code",
   "execution_count": 136,
   "metadata": {
    "collapsed": false
   },
   "outputs": [
    {
     "data": {
      "image/png": "[encoded data removed]",
      "text/plain": [
       "<matplotlib.figure.Figure at 0xaeed438>"
      ]
     },
     "metadata": {},
     "output_type": "display_data"
    }
   ],
   "source": [
    "plotErr(e7)"
   ]
  },
  {
   "cell_type": "code",
   "execution_count": 137,
   "metadata": {
    "collapsed": false
   },
   "outputs": [
    {
     "name": "stdout",
     "output_type": "stream",
     "text": [
      "(539L, 2L)\n"
     ]
    }
   ],
   "source": [
    "print result7.shape"
   ]
  },
  {
   "cell_type": "code",
   "execution_count": null,
   "metadata": {
    "collapsed": true
   },
   "outputs": [],
   "source": []
  },
  {
   "cell_type": "code",
   "execution_count": null,
   "metadata": {
    "collapsed": true
   },
   "outputs": [],
   "source": []
  },
  {
   "cell_type": "code",
   "execution_count": null,
   "metadata": {
    "collapsed": true
   },
   "outputs": [],
   "source": []
  },
  {
   "cell_type": "code",
   "execution_count": null,
   "metadata": {
    "collapsed": true
   },
   "outputs": [],
   "source": []
  },
  {
   "cell_type": "code",
   "execution_count": null,
   "metadata": {
    "collapsed": true
   },
   "outputs": [],
   "source": []
  },
  {
   "cell_type": "code",
   "execution_count": null,
   "metadata": {
    "collapsed": true
   },
   "outputs": [],
   "source": []
  },
  {
   "cell_type": "code",
   "execution_count": null,
   "metadata": {
    "collapsed": true
   },
   "outputs": [],
   "source": []
  },
  {
   "cell_type": "code",
   "execution_count": null,
   "metadata": {
    "collapsed": true
   },
   "outputs": [],
   "source": []
  },
  {
   "cell_type": "code",
   "execution_count": null,
   "metadata": {
    "collapsed": true
   },
   "outputs": [],
   "source": []
  },
  {
   "cell_type": "code",
   "execution_count": null,
   "metadata": {
    "collapsed": true
   },
   "outputs": [],
   "source": []
  },
  {
   "cell_type": "code",
   "execution_count": null,
   "metadata": {
    "collapsed": true
   },
   "outputs": [],
   "source": []
  },
  {
   "cell_type": "code",
   "execution_count": null,
   "metadata": {
    "collapsed": true
   },
   "outputs": [],
   "source": []
  },
  {
   "cell_type": "code",
   "execution_count": null,
   "metadata": {
    "collapsed": true
   },
   "outputs": [],
   "source": []
  },
  {
   "cell_type": "code",
   "execution_count": null,
   "metadata": {
    "collapsed": true
   },
   "outputs": [],
   "source": []
  },
  {
   "cell_type": "code",
   "execution_count": null,
   "metadata": {
    "collapsed": true
   },
   "outputs": [],
   "source": []
  },
  {
   "cell_type": "code",
   "execution_count": null,
   "metadata": {
    "collapsed": true
   },
   "outputs": [],
   "source": []
  },
  {
   "cell_type": "code",
   "execution_count": null,
   "metadata": {
    "collapsed": true
   },
   "outputs": [],
   "source": []
  },
  {
   "cell_type": "code",
   "execution_count": null,
   "metadata": {
    "collapsed": true
   },
   "outputs": [],
   "source": []
  },
  {
   "cell_type": "code",
   "execution_count": null,
   "metadata": {
    "collapsed": true
   },
   "outputs": [],
   "source": []
  },
  {
   "cell_type": "code",
   "execution_count": null,
   "metadata": {
    "collapsed": true
   },
   "outputs": [],
   "source": []
  },
  {
   "cell_type": "code",
   "execution_count": null,
   "metadata": {
    "collapsed": true
   },
   "outputs": [],
   "source": []
  },
  {
   "cell_type": "code",
   "execution_count": null,
   "metadata": {
    "collapsed": true
   },
   "outputs": [],
   "source": []
  },
  {
   "cell_type": "code",
   "execution_count": null,
   "metadata": {
    "collapsed": true
   },
   "outputs": [],
   "source": []
  },
  {
   "cell_type": "code",
   "execution_count": null,
   "metadata": {
    "collapsed": true
   },
   "outputs": [],
   "source": []
  }
 ],
 "metadata": {
  "kernelspec": {
   "display_name": "Python 2",
   "language": "python",
   "name": "python2"
  },
  "language_info": {
   "codemirror_mode": {
    "name": "ipython",
    "version": 2
   },
   "file_extension": ".py",
   "mimetype": "text/x-python",
   "name": "python",
   "nbconvert_exporter": "python",
   "pygments_lexer": "ipython2",
   "version": "2.7.6"
  }
 },
 "nbformat": 4,
 "nbformat_minor": 0
}
