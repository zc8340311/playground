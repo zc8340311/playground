{
 "cells": [
  {
   "cell_type": "code",
   "execution_count": 7,
   "metadata": {
    "collapsed": false
   },
   "outputs": [],
   "source": [
    "from sklearn.decomposition import KernelPCA\n",
    "from sklearn.cross_validation import KFold\n",
    "from sklearn import svm\n",
    "import numpy as np\n",
    "import random\n",
    "import math\n",
    "from sklearn.metrics import confusion_matrix as CM\n",
    "import random\n",
    "from sklearn.ensemble import RandomForestClassifier as RFC\n",
    "from sklearn.metrics import mutual_info_score as MI"
   ]
  },
  {
   "cell_type": "markdown",
   "metadata": {},
   "source": [
    "##linear correlation with tree"
   ]
  },
  {
   "cell_type": "code",
   "execution_count": 8,
   "metadata": {
    "collapsed": true
   },
   "outputs": [],
   "source": [
    "from sklearn.datasets import load_iris\n",
    "from sklearn.datasets import load_digits"
   ]
  },
  {
   "cell_type": "code",
   "execution_count": 9,
   "metadata": {
    "collapsed": true
   },
   "outputs": [],
   "source": [
    "def IndOfSortedFea(feaInfo):\n",
    "    \"\"\"return sorted index of a list\"\"\"\n",
    "    sortInfo=sorted(feaInfo,reverse=True)\n",
    "    ##for test\n",
    "    ##print sortInfo\n",
    "    return [feaInfo.index(i) for i in sortInfo]\n",
    "#a=[3,4,6,2]\n",
    "#print IndOfSortedFea(a)"
   ]
  },
  {
   "cell_type": "code",
   "execution_count": 10,
   "metadata": {
    "collapsed": true
   },
   "outputs": [],
   "source": [
    "def corDis(x,y):\n",
    "    \"\"\"\n",
    "    calculate the correlation distance, given x and y calculate how similar the x and y is.\n",
    "    return a value, 0 means x and y are independent, higher mean x are determinstic of y.\n",
    "    \"\"\"\n",
    "    assert len(x)==len(y)\n",
    "    n=len(x)\n",
    "    a=np.zeros((n,n))\n",
    "    b=np.zeros((n,n))\n",
    "    ##calculate pair wise distance\n",
    "    for i in xrange(n):\n",
    "        for j in xrange(n):\n",
    "            a[i,j]=np.linalg.norm(x[i]-x[j])\n",
    "            b[i,j]=np.linalg.norm(y[i]-y[j])\n",
    "    aRowMean=np.mean(a,axis=1)\n",
    "    aColMean=np.mean(a,axis=0)\n",
    "    bRowMean=np.mean(b,axis=1)\n",
    "    bColMean=np.mean(b,axis=0)\n",
    "    aMean=np.mean(a)\n",
    "    bMean=np.mean(b)\n",
    "    A=np.zeros((n,n))\n",
    "    B=np.zeros((n,n))\n",
    "    ##normalization\n",
    "    for i in xrange(n):\n",
    "        for j in xrange(n):\n",
    "            A[i,j]=a[i,j]-aRowMean[i]-aColMean[j]+aMean\n",
    "            B[i,j]=b[i,j]-bRowMean[i]-bColMean[j]+bMean\n",
    "    cordis=0.\n",
    "    for i in xrange(n):\n",
    "        for j in xrange(n):\n",
    "            cordis += A[i,j]*B[i,j]\n",
    "    return cordis*(1./n**2)"
   ]
  },
  {
   "cell_type": "code",
   "execution_count": 11,
   "metadata": {
    "collapsed": true
   },
   "outputs": [],
   "source": [
    "def cosine_distance(u, v):\n",
    "    return np.dot(u, v) / (math.sqrt(np.dot(u, u)) * math.sqrt(np.dot(v, v)))"
   ]
  },
  {
   "cell_type": "code",
   "execution_count": 12,
   "metadata": {
    "collapsed": true
   },
   "outputs": [],
   "source": [
    "%matplotlib inline\n",
    "from matplotlib import pyplot as plt\n",
    "def plotFunction(x,y,text):\n",
    "    n=x.shape[1]\n",
    "    cols=2\n",
    "    rows=int(math.ceil(n/2.))\n",
    "    fig,ax=plt.subplots(ncols=cols,nrows=rows)\n",
    "    if rows==1:\n",
    "        for j in range(cols):\n",
    "            if j<n:\n",
    "                ax[j].scatter(x[:,j],y,c='b')\n",
    "    else:\n",
    "        for i in range(rows):\n",
    "            for j in range(cols):\n",
    "                if i*cols+j<n:\n",
    "                    ax[i,j].scatter(x[:,i*cols+j],y,c='b')\n",
    "                    #ax[i].title('x%d'%i,fontsize='small')\n",
    "    plt.title(text)\n",
    "    plt.show()\n"
   ]
  },
  {
   "cell_type": "code",
   "execution_count": 13,
   "metadata": {
    "collapsed": true
   },
   "outputs": [],
   "source": [
    "def crossValidation(x,y):\n",
    "    \"\"\"\n",
    "    version 2\n",
    "    according to the true y, predict\n",
    "    greedy algorithm: first using index\n",
    "    return\n",
    "    \"\"\"\n",
    "    crossErrors=[]\n",
    "    confusion_matrix=[]\n",
    "    #svc=svm.LinearSVC()\n",
    "    svc=svm.SVC(kernel='linear')\n",
    "    kf = KFold(x.shape[0], n_folds=5,shuffle=True)\n",
    "    for train,test in kf:\n",
    "        svc.fit(x[train],y[train])\n",
    "        prediction=svc.predict(x[test])\n",
    "        crossErrors.append(((prediction!=y[test]).sum())/float(len(y[test])))\n",
    "        confusion_matrix.append(CM(y[test],prediction))\n",
    "    return np.mean(crossErrors),confusion_matrix"
   ]
  },
  {
   "cell_type": "code",
   "execution_count": 14,
   "metadata": {
    "collapsed": true
   },
   "outputs": [],
   "source": [
    "def crossValidation_forest(x,y):\n",
    "    \"\"\"\n",
    "    version 3\n",
    "    \n",
    "    \"\"\"\n",
    "    crossErrors=[]\n",
    "    confusion_matrix=[]\n",
    "    #svc=svm.LinearSVC()\n",
    "    rf=RFC(n_estimators=100,max_features=None)\n",
    "    kf = KFold(x.shape[0], n_folds=5,shuffle=True)\n",
    "    for train,test in kf:\n",
    "        rf.fit(x[train],y[train])\n",
    "        prediction=rf.predict(x[test])\n",
    "        crossErrors.append(((prediction!=y[test]).sum())/float(len(y[test])))\n",
    "        confusion_matrix.append(CM(y[test],prediction))\n",
    "    return np.mean(crossErrors),confusion_matrix"
   ]
  },
  {
   "cell_type": "code",
   "execution_count": 58,
   "metadata": {
    "collapsed": true
   },
   "outputs": [],
   "source": [
    "def layer_rbf(x,y):\n",
    "    \"\"\"version 2\"\"\"\n",
    "    kpca=KernelPCA(kernel='rbf',gamma=10.,n_components=x.shape[1])\n",
    "    xT=kpca.fit_transform(x)\n",
    "    rank=[]\n",
    "    numOfFeatures=xT.shape[1]\n",
    "    for i in xrange(numOfFeatures):\n",
    "        rank.append(corDis(xT[:,i],y))\n",
    "    feaSelected=IndOfSortedFea(rank)\n",
    "    \n",
    "    featureSelectedErrors=[]\n",
    "    for i in xrange(numOfFeatures):\n",
    "        crossErrors,cms=crossValidation_forest(xT[:,feaSelected[:i+1]],y)\n",
    "        featureSelectedErrors.append(crossErrors)\n",
    "    choice=featureSelectedErrors.index(min(featureSelectedErrors))\n",
    "    return xT[:,feaSelected[:choice+1]],featureSelectedErrors,cms"
   ]
  },
  {
   "cell_type": "code",
   "execution_count": 16,
   "metadata": {
    "collapsed": true
   },
   "outputs": [],
   "source": [
    "def pretrain(x,y):\n",
    "    rank=[]\n",
    "    numOfFeatures=x.shape[1]\n",
    "    for i in xrange(numOfFeatures):\n",
    "        rank.append(corDis(x[:,i],y))\n",
    "    feaSelected=IndOfSortedFea(rank)\n",
    "    \n",
    "    featureSelectedErrors=[]\n",
    "    for i in xrange(numOfFeatures):\n",
    "        crossErrors,cms=crossValidation_forest(x[:,feaSelected[:i+1]],y)\n",
    "        featureSelectedErrors.append(crossErrors)\n",
    "    choice=featureSelectedErrors.index(min(featureSelectedErrors))\n",
    "    return x[:,feaSelected[:choice+1]],featureSelectedErrors,cms "
   ]
  },
  {
   "cell_type": "code",
   "execution_count": 17,
   "metadata": {
    "collapsed": true
   },
   "outputs": [],
   "source": [
    "from matplotlib import pyplot as plt\n",
    "def plotdata(x,y):\n",
    "    n=x.shape[1]\n",
    "    fig,ax=plt.subplots(ncols=n,nrows=n)\n",
    "    fig.set_size_inches(9,6)\n",
    "    for i in xrange(n):\n",
    "        for j in xrange(i+1):\n",
    "            for t,color in zip(xrange(3),'rgb'):\n",
    "                ax[i][j].scatter(x[y == t,i],x[y == t,j],c=color)\n",
    "    plt.show()\n",
    "#plotdata(x,y)"
   ]
  },
  {
   "cell_type": "code",
   "execution_count": 18,
   "metadata": {
    "collapsed": true
   },
   "outputs": [],
   "source": [
    "def plotErr(err):\n",
    "    x=range(len(err))\n",
    "    #y=[e/min(err) for e in err]\n",
    "    plt.bar(x,err)\n",
    "    plt.title('Error Bar_Chart')\n",
    "    plt.show()"
   ]
  },
  {
   "cell_type": "code",
   "execution_count": 19,
   "metadata": {
    "collapsed": true
   },
   "outputs": [],
   "source": [
    "def printCM(cm):\n",
    "    \"\"\"\n",
    "    print cm in a nice way\n",
    "    \"\"\"\n",
    "    for i in cm:\n",
    "        print i\n",
    "        print "
   ]
  },
  {
   "cell_type": "code",
   "execution_count": 20,
   "metadata": {
    "collapsed": true
   },
   "outputs": [],
   "source": [
    "digits=load_digits()\n",
    "x=digits.data\n",
    "y=digits.target"
   ]
  },
  {
   "cell_type": "code",
   "execution_count": 21,
   "metadata": {
    "collapsed": true
   },
   "outputs": [],
   "source": [
    "sample=random.sample(range(len(y)), int(len(y)*0.2))"
   ]
  },
  {
   "cell_type": "code",
   "execution_count": 22,
   "metadata": {
    "collapsed": true
   },
   "outputs": [],
   "source": [
    "x=x[sample]\n",
    "y=y[sample]"
   ]
  },
  {
   "cell_type": "code",
   "execution_count": 23,
   "metadata": {
    "collapsed": false
   },
   "outputs": [
    {
     "name": "stdout",
     "output_type": "stream",
     "text": [
      "359\n",
      "359 359\n"
     ]
    }
   ],
   "source": [
    "print len(sample)\n",
    "print len(x),len(y)"
   ]
  },
  {
   "cell_type": "code",
   "execution_count": 74,
   "metadata": {
    "collapsed": true
   },
   "outputs": [],
   "source": [
    "def layer_rbf(x,y):\n",
    "    \"\"\"version 2\"\"\"\n",
    "    kpca=KernelPCA(kernel='rbf',gamma=10.,n_components=x.shape[1])\n",
    "    xT=kpca.fit_transform(x)\n",
    "    \n",
    "    #xT=np.concatenate((x,x_kpca),axis=1)\n",
    "    \n",
    "#     rank=[]\n",
    "    numOfFeatures=xT.shape[1]\n",
    "#     for i in xrange(numOfFeatures):\n",
    "#         rank.append(cosine_distance(xT[:,i],y))\n",
    "    selecting_tree=RFC(n_estimators=100,max_depth=2,n_jobs=2)\n",
    "    selecting_tree.fit(xT,y)\n",
    "    rank=[i for i in selecting_tree.feature_importances_]\n",
    "    feaSelected=IndOfSortedFea(rank)\n",
    "    \n",
    "    featureSelectedErrors=[]\n",
    "    for i in xrange(numOfFeatures):\n",
    "        crossErrors,cms=crossValidation_forest(xT[:,feaSelected[:i+1]],y)\n",
    "        featureSelectedErrors.append(crossErrors)\n",
    "    choice=featureSelectedErrors.index(min(featureSelectedErrors))\n",
    "    return xT[:,feaSelected[:choice+1]],featureSelectedErrors,cms"
   ]
  },
  {
   "cell_type": "code",
   "execution_count": 75,
   "metadata": {
    "collapsed": true
   },
   "outputs": [],
   "source": [
    "def pretrain(x,y):\n",
    "#     rank=[]\n",
    "#     numOfFeatures=x.shape[1]\n",
    "#     for i in xrange(numOfFeatures):\n",
    "#         rank.append(cosine_distance(x[:,i],y))\n",
    "#     feaSelected=IndOfSortedFea(rank)\n",
    "    numOfFeatures=x.shape[1]\n",
    "    selecting_tree=RFC(n_estimators=100,max_depth=2,n_jobs=2)\n",
    "    selecting_tree.fit(x,y)\n",
    "    rank=[i for i in selecting_tree.feature_importances_]\n",
    "    feaSelected=IndOfSortedFea(rank)\n",
    "    \n",
    "    featureSelectedErrors=[]\n",
    "    for i in xrange(numOfFeatures):\n",
    "        crossErrors,cms=crossValidation_forest(x[:,feaSelected[:i+1]],y)\n",
    "        featureSelectedErrors.append(crossErrors)\n",
    "    choice=featureSelectedErrors.index(min(featureSelectedErrors))\n",
    "    return x[:,feaSelected[:choice+1]],featureSelectedErrors,cms"
   ]
  },
  {
   "cell_type": "code",
   "execution_count": 76,
   "metadata": {
    "collapsed": false
   },
   "outputs": [],
   "source": [
    "result,error,cm=pretrain(x,y)"
   ]
  },
  {
   "cell_type": "code",
   "execution_count": 61,
   "metadata": {
    "collapsed": false
   },
   "outputs": [
    {
     "name": "stdout",
     "output_type": "stream",
     "text": [
      "Using matplotlib backend: WXAgg\n"
     ]
    }
   ],
   "source": [
    "%matplotlib"
   ]
  },
  {
   "cell_type": "code",
   "execution_count": 77,
   "metadata": {
    "collapsed": false
   },
   "outputs": [
    {
     "name": "stdout",
     "output_type": "stream",
     "text": [
      "[[ 9  0  0  0  0  0  0  0  0  0]\n",
      " [ 0  9  0  0  0  0  1  0  0  0]\n",
      " [ 0  0  4  0  0  0  0  0  0  0]\n",
      " [ 0  0  0  4  0  0  0  0  0  0]\n",
      " [ 0  0  0  0  8  0  0  0  0  0]\n",
      " [ 0  0  0  0  0  7  0  0  0  0]\n",
      " [ 0  0  0  0  0  0  5  0  0  0]\n",
      " [ 0  0  0  0  0  0  0 11  1  0]\n",
      " [ 0  1  0  1  0  0  0  0  5  1]\n",
      " [ 0  0  0  0  0  0  0  0  0  5]]\n",
      "\n",
      "[[8 0 0 0 0 0 0 0 0 0]\n",
      " [0 9 0 0 1 0 0 0 1 0]\n",
      " [0 1 6 0 0 0 0 1 1 0]\n",
      " [0 0 0 6 0 1 0 0 0 0]\n",
      " [0 0 0 0 4 0 0 0 0 0]\n",
      " [0 0 0 0 0 6 0 0 0 0]\n",
      " [0 0 0 0 0 0 6 0 0 0]\n",
      " [0 0 0 0 0 0 0 8 0 0]\n",
      " [0 2 0 0 0 0 0 0 3 3]\n",
      " [0 0 0 0 0 0 0 0 0 5]]\n",
      "\n",
      "[[ 6  0  0  0  0  0  0  0  0  0]\n",
      " [ 0  6  0  1  0  0  0  1  0  0]\n",
      " [ 0  0 11  0  1  0  0  0  0  0]\n",
      " [ 0  0  0  9  0  0  0  0  1  0]\n",
      " [ 1  0  0  0  6  0  0  0  0  0]\n",
      " [ 0  0  0  1  0  2  1  0  0  0]\n",
      " [ 0  0  0  0  0  1 10  0  0  0]\n",
      " [ 0  0  0  0  0  0  0  2  0  0]\n",
      " [ 0  0  0  0  0  0  0  1  4  0]\n",
      " [ 0  0  0  0  0  0  0  0  0  7]]\n",
      "\n",
      "[[ 7  0  0  0  0  0  0  0  0  0]\n",
      " [ 0  4  0  1  0  0  0  0  0  0]\n",
      " [ 0  0  8  1  0  0  0  0  0  0]\n",
      " [ 0  0  1  5  0  0  0  0  0  0]\n",
      " [ 0  1  0  0 10  0  0  0  0  0]\n",
      " [ 0  0  0  0  0  6  0  0  0  0]\n",
      " [ 0  0  0  0  1  1  5  0  0  0]\n",
      " [ 0  0  0  0  0  0  0  9  0  0]\n",
      " [ 0  1  0  0  0  0  0  0  7  0]\n",
      " [ 0  1  0  0  0  0  0  0  0  3]]\n",
      "\n",
      "[[11  0  0  0  0  0  0  0  0  0]\n",
      " [ 0  5  0  0  0  0  0  0  0  0]\n",
      " [ 0  0  3  0  0  0  0  0  0  0]\n",
      " [ 0  0  0 10  0  0  0  0  1  0]\n",
      " [ 0  1  0  0  5  0  0  0  0  0]\n",
      " [ 0  0  0  0  0  5  0  0  0  0]\n",
      " [ 0  0  0  0  0  0  6  0  0  0]\n",
      " [ 0  0  0  0  0  0  0  8  0  0]\n",
      " [ 0  0  0  0  0  0  0  0  7  0]\n",
      " [ 0  0  0  0  0  0  0  1  1  7]]\n",
      "\n"
     ]
    }
   ],
   "source": [
    "printCM(cm)"
   ]
  },
  {
   "cell_type": "code",
   "execution_count": 80,
   "metadata": {
    "collapsed": false
   },
   "outputs": [],
   "source": [
    "plotErr(error)"
   ]
  },
  {
   "cell_type": "code",
   "execution_count": 81,
   "metadata": {
    "collapsed": false
   },
   "outputs": [
    {
     "name": "stdout",
     "output_type": "stream",
     "text": [
      "(359L, 46L)\n"
     ]
    }
   ],
   "source": [
    "print result.shape"
   ]
  },
  {
   "cell_type": "code",
   "execution_count": null,
   "metadata": {
    "collapsed": true
   },
   "outputs": [],
   "source": []
  },
  {
   "cell_type": "code",
   "execution_count": 82,
   "metadata": {
    "collapsed": false
   },
   "outputs": [
    {
     "name": "stdout",
     "output_type": "stream",
     "text": [
      "[[1 2 0 2 0 1 1 1 0 1]\n",
      " [1 0 0 1 0 1 2 1 3 0]\n",
      " [2 0 0 1 1 1 3 2 0 1]\n",
      " [1 2 0 0 0 0 1 0 2 0]\n",
      " [0 1 1 1 1 1 0 2 1 2]\n",
      " [0 0 1 2 0 0 1 1 1 0]\n",
      " [1 0 1 0 0 0 2 0 0 0]\n",
      " [1 0 0 5 1 0 1 0 0 2]\n",
      " [0 1 0 3 0 0 2 0 0 0]\n",
      " [0 0 0 0 1 0 0 0 0 0]]\n",
      "\n",
      "[[1 1 2 1 0 0 1 0 0 0]\n",
      " [1 0 0 1 0 0 5 1 0 0]\n",
      " [1 2 0 1 0 0 0 0 0 1]\n",
      " [2 1 0 2 0 0 2 0 0 0]\n",
      " [4 2 2 0 0 0 0 1 0 0]\n",
      " [2 2 2 1 0 0 1 0 1 0]\n",
      " [1 0 1 0 1 0 0 0 1 1]\n",
      " [4 1 3 1 0 0 0 0 0 0]\n",
      " [1 1 3 0 0 0 2 0 1 0]\n",
      " [1 1 2 0 2 0 0 0 0 0]]\n",
      "\n",
      "[[1 2 0 3 2 0 1 3 0 0]\n",
      " [3 0 0 0 1 0 1 1 0 0]\n",
      " [0 0 0 1 0 1 0 3 0 2]\n",
      " [0 1 1 1 0 0 3 2 5 0]\n",
      " [2 0 1 0 0 0 0 1 0 0]\n",
      " [1 0 2 1 0 1 0 1 0 0]\n",
      " [1 0 0 1 0 0 1 0 1 0]\n",
      " [0 3 0 0 0 0 0 1 1 0]\n",
      " [1 3 0 2 0 0 0 1 1 0]\n",
      " [0 1 1 0 0 1 2 2 0 0]]\n",
      "\n",
      "[[0 1 1 2 1 1 0 0 2 0]\n",
      " [1 2 1 1 0 0 1 3 1 0]\n",
      " [1 1 1 0 0 0 2 1 1 1]\n",
      " [0 0 1 0 0 0 0 2 1 0]\n",
      " [2 0 1 1 0 1 2 0 0 0]\n",
      " [0 1 1 0 0 1 0 0 0 0]\n",
      " [1 5 0 2 0 1 0 1 0 1]\n",
      " [0 1 2 0 1 0 1 1 1 0]\n",
      " [3 1 0 2 1 0 1 0 0 1]\n",
      " [0 0 1 2 0 0 0 1 1 0]]\n",
      "\n",
      "[[0 1 3 0 1 0 0 0 1 0]\n",
      " [1 3 1 1 0 0 0 0 0 0]\n",
      " [1 1 0 0 2 0 0 0 1 1]\n",
      " [3 0 1 2 0 1 0 1 0 0]\n",
      " [0 2 0 1 0 0 0 2 1 0]\n",
      " [1 0 1 0 0 2 0 0 0 0]\n",
      " [4 1 1 2 0 0 1 1 1 0]\n",
      " [1 2 2 0 1 0 1 1 0 0]\n",
      " [1 0 0 2 0 0 0 0 2 0]\n",
      " [6 0 1 1 0 0 0 1 2 0]]\n",
      "\n"
     ]
    }
   ],
   "source": [
    "result1,e1,cm1=layer_rbf(result,y)\n",
    "printCM(cm1)"
   ]
  },
  {
   "cell_type": "code",
   "execution_count": 83,
   "metadata": {
    "collapsed": false
   },
   "outputs": [],
   "source": [
    "plotErr(e1)"
   ]
  },
  {
   "cell_type": "code",
   "execution_count": 84,
   "metadata": {
    "collapsed": false
   },
   "outputs": [
    {
     "name": "stdout",
     "output_type": "stream",
     "text": [
      "(359L, 2L)\n"
     ]
    }
   ],
   "source": [
    "print result1.shape"
   ]
  },
  {
   "cell_type": "code",
   "execution_count": 48,
   "metadata": {
    "collapsed": true
   },
   "outputs": [],
   "source": [
    "##wrong result"
   ]
  },
  {
   "cell_type": "code",
   "execution_count": 85,
   "metadata": {
    "collapsed": false
   },
   "outputs": [
    {
     "name": "stdout",
     "output_type": "stream",
     "text": [
      "[[2 2 2 2 0 0 1 0 2 0]\n",
      " [1 1 0 0 0 1 0 1 0 0]\n",
      " [1 1 0 1 0 0 0 4 1 0]\n",
      " [0 0 0 3 0 2 0 1 1 3]\n",
      " [0 1 1 1 2 0 0 1 0 0]\n",
      " [0 0 0 0 3 1 0 2 0 0]\n",
      " [0 2 0 0 1 1 2 0 1 0]\n",
      " [0 0 2 0 1 0 0 1 2 0]\n",
      " [2 1 0 0 0 0 0 1 0 0]\n",
      " [1 1 1 1 3 0 0 2 1 0]]\n",
      "\n",
      "[[0 0 1 0 0 1 1 0 1 2]\n",
      " [1 2 0 1 0 0 1 1 0 0]\n",
      " [1 0 1 2 1 1 3 1 0 0]\n",
      " [0 0 0 0 2 0 1 0 2 0]\n",
      " [1 1 0 0 1 2 1 1 1 2]\n",
      " [0 1 1 0 0 0 1 1 1 0]\n",
      " [0 1 0 0 0 1 1 0 0 0]\n",
      " [2 0 1 3 1 0 1 2 1 1]\n",
      " [0 0 0 2 0 0 2 1 2 0]\n",
      " [0 1 1 1 1 1 3 0 0 0]]\n",
      "\n",
      "[[1 2 2 0 1 0 0 1 0 0]\n",
      " [1 2 0 0 0 0 1 1 2 2]\n",
      " [1 1 0 0 0 1 1 1 0 1]\n",
      " [0 0 1 3 0 1 0 2 0 0]\n",
      " [1 0 0 5 0 2 0 0 0 1]\n",
      " [0 0 0 2 1 0 1 0 0 0]\n",
      " [2 4 1 0 0 1 2 0 2 0]\n",
      " [0 1 2 0 2 0 2 0 0 0]\n",
      " [2 1 0 1 0 1 1 0 2 1]\n",
      " [0 0 0 0 0 0 0 1 0 1]]\n",
      "\n",
      "[[2 0 1 0 0 1 0 3 0 1]\n",
      " [2 2 1 0 1 0 1 0 1 1]\n",
      " [2 0 1 0 0 0 0 2 0 0]\n",
      " [0 2 0 2 0 1 0 1 1 1]\n",
      " [0 0 1 0 0 1 1 1 0 1]\n",
      " [0 1 1 2 2 0 2 0 0 0]\n",
      " [1 0 0 1 1 0 1 3 0 0]\n",
      " [1 1 1 2 0 1 1 1 0 0]\n",
      " [3 1 1 1 0 2 0 0 1 0]\n",
      " [2 0 0 1 0 0 0 1 0 1]]\n",
      "\n",
      "[[1 0 0 1 1 0 3 1 1 1]\n",
      " [0 1 0 2 3 0 3 0 1 1]\n",
      " [1 1 1 0 1 0 1 1 2 0]\n",
      " [0 0 0 2 3 1 0 0 1 1]\n",
      " [2 0 0 1 0 0 0 1 1 1]\n",
      " [2 0 0 0 1 0 0 1 1 0]\n",
      " [1 0 0 0 1 1 1 0 0 2]\n",
      " [1 1 0 0 0 2 1 1 0 0]\n",
      " [1 0 0 0 0 0 3 2 1 0]\n",
      " [1 1 0 1 0 0 0 1 0 1]]\n",
      "\n"
     ]
    }
   ],
   "source": [
    "\n",
    "result2,e2,cm2=layer_rbf(result1,y)\n",
    "printCM(cm2)"
   ]
  },
  {
   "cell_type": "code",
   "execution_count": 86,
   "metadata": {
    "collapsed": false
   },
   "outputs": [],
   "source": [
    "plotErr(e2)"
   ]
  },
  {
   "cell_type": "code",
   "execution_count": 87,
   "metadata": {
    "collapsed": false,
    "scrolled": true
   },
   "outputs": [
    {
     "name": "stdout",
     "output_type": "stream",
     "text": [
      "(359L, 2L)\n"
     ]
    }
   ],
   "source": [
    "print result2.shape"
   ]
  },
  {
   "cell_type": "code",
   "execution_count": 88,
   "metadata": {
    "collapsed": false
   },
   "outputs": [
    {
     "name": "stdout",
     "output_type": "stream",
     "text": [
      "[[2 0 1 1 1 0 1 0 1 0]\n",
      " [2 0 2 1 1 0 1 0 0 0]\n",
      " [2 0 1 1 1 1 2 0 1 0]\n",
      " [1 0 0 1 2 1 0 0 3 1]\n",
      " [0 1 0 0 3 2 2 1 1 1]\n",
      " [1 2 0 0 0 0 2 0 0 0]\n",
      " [0 0 1 0 0 1 0 0 2 0]\n",
      " [3 0 2 0 0 1 1 1 1 0]\n",
      " [1 0 0 0 0 0 1 0 1 0]\n",
      " [1 2 0 3 0 1 0 0 1 0]]\n",
      "\n",
      "[[2 1 1 1 0 0 0 0 1 0]\n",
      " [0 0 1 0 2 0 1 0 1 2]\n",
      " [2 0 1 0 0 3 0 1 1 0]\n",
      " [2 2 1 2 1 1 0 0 0 2]\n",
      " [1 0 1 0 3 1 1 0 0 0]\n",
      " [0 0 0 0 0 0 0 0 0 0]\n",
      " [3 0 0 0 2 1 1 0 0 2]\n",
      " [0 4 2 1 0 1 0 0 1 0]\n",
      " [1 0 1 2 0 0 2 0 2 2]\n",
      " [0 2 1 0 1 1 0 0 0 0]]\n",
      "\n",
      "[[0 0 0 0 1 0 4 1 3 2]\n",
      " [0 0 3 2 1 1 1 1 2 1]\n",
      " [0 1 0 2 2 0 0 0 1 0]\n",
      " [0 1 1 1 1 0 0 0 0 0]\n",
      " [1 2 0 0 2 0 0 1 0 0]\n",
      " [0 1 1 1 1 0 0 1 1 0]\n",
      " [0 1 0 0 1 1 1 1 1 1]\n",
      " [1 0 1 1 0 0 0 2 1 2]\n",
      " [1 0 0 2 1 2 0 1 0 0]\n",
      " [0 0 0 1 1 0 1 0 1 1]]\n",
      "\n",
      "[[0 2 2 0 0 1 0 2 3 1]\n",
      " [0 1 0 0 1 1 0 2 1 1]\n",
      " [0 4 1 1 0 0 0 1 1 1]\n",
      " [0 0 2 0 2 0 1 1 1 1]\n",
      " [0 0 1 2 1 0 0 0 2 0]\n",
      " [1 0 1 0 3 0 0 2 0 0]\n",
      " [0 2 0 0 0 0 3 1 0 1]\n",
      " [0 0 1 0 0 0 1 2 0 0]\n",
      " [2 2 1 1 0 0 1 1 0 0]\n",
      " [2 1 0 1 0 0 0 0 1 0]]\n",
      "\n",
      "[[2 1 0 1 1 0 0 0 0 1]\n",
      " [0 1 0 2 2 0 0 1 0 0]\n",
      " [1 0 1 0 0 1 0 1 1 0]\n",
      " [0 0 0 2 1 0 0 2 0 1]\n",
      " [0 0 0 3 1 1 1 0 0 0]\n",
      " [2 0 0 5 0 0 1 1 0 1]\n",
      " [0 0 1 1 0 1 1 1 3 0]\n",
      " [0 0 0 2 0 1 2 3 1 0]\n",
      " [2 0 0 2 2 0 0 0 2 0]\n",
      " [0 0 1 1 1 0 0 1 2 1]]\n",
      "\n"
     ]
    }
   ],
   "source": [
    "result3,e3,cm3=layer_rbf(result2,y)\n",
    "printCM(cm3)"
   ]
  },
  {
   "cell_type": "code",
   "execution_count": 89,
   "metadata": {
    "collapsed": true
   },
   "outputs": [],
   "source": [
    "plotErr(e3)"
   ]
  },
  {
   "cell_type": "code",
   "execution_count": 56,
   "metadata": {
    "collapsed": false
   },
   "outputs": [
    {
     "name": "stdout",
     "output_type": "stream",
     "text": [
      "[[2 0 1 2 0 1 0 2 0 1]\n",
      " [1 0 2 0 0 0 1 1 2 1]\n",
      " [0 1 1 2 0 0 2 0 1 0]\n",
      " [1 3 0 1 1 1 0 0 1 0]\n",
      " [0 0 2 1 1 1 0 2 0 0]\n",
      " [0 2 1 0 1 0 0 0 1 0]\n",
      " [2 3 0 0 0 1 1 1 0 1]\n",
      " [0 2 1 0 0 0 0 1 1 0]\n",
      " [1 1 2 0 1 0 0 0 0 0]\n",
      " [2 2 1 1 0 1 0 1 1 0]]\n",
      "\n",
      "[[2 4 0 0 0 2 2 0 0 1]\n",
      " [0 1 0 2 0 0 1 2 0 0]\n",
      " [2 0 1 2 1 1 1 2 0 0]\n",
      " [0 0 1 0 0 0 0 0 1 0]\n",
      " [0 0 0 1 0 0 1 1 2 1]\n",
      " [2 3 0 1 2 0 0 0 1 0]\n",
      " [0 0 3 0 1 1 0 1 0 0]\n",
      " [2 0 0 1 3 0 0 2 1 0]\n",
      " [1 2 1 0 1 0 1 1 0 0]\n",
      " [0 2 1 0 0 0 1 1 1 0]]\n",
      "\n",
      "[[1 0 0 2 2 1 0 1 2 2]\n",
      " [1 0 2 1 0 2 1 0 1 2]\n",
      " [0 2 0 0 0 0 0 1 0 1]\n",
      " [0 1 0 0 0 2 2 0 1 1]\n",
      " [0 1 0 1 0 1 2 0 1 2]\n",
      " [1 0 0 1 0 1 2 0 0 0]\n",
      " [0 2 1 0 2 0 0 0 3 2]\n",
      " [0 1 1 0 1 2 0 0 1 2]\n",
      " [0 2 0 0 0 0 0 2 1 1]\n",
      " [1 0 1 0 0 0 0 1 0 0]]\n",
      "\n",
      "[[1 0 0 1 0 1 0 1 1 0]\n",
      " [1 0 0 1 0 0 0 1 0 1]\n",
      " [0 2 2 0 1 2 1 0 0 0]\n",
      " [1 1 3 2 0 0 2 1 1 0]\n",
      " [2 0 1 0 1 1 1 0 1 0]\n",
      " [1 1 0 0 1 1 1 0 0 1]\n",
      " [1 0 0 2 1 0 1 0 0 0]\n",
      " [2 0 2 0 2 0 2 0 2 2]\n",
      " [0 0 0 1 1 1 2 0 1 0]\n",
      " [1 0 0 0 2 0 2 1 1 1]]\n",
      "\n",
      "[[1 0 1 0 1 0 0 0 1 1]\n",
      " [0 0 2 1 2 1 3 2 0 0]\n",
      " [1 0 1 0 2 0 1 1 0 2]\n",
      " [0 1 2 0 1 0 1 1 2 2]\n",
      " [1 0 1 0 2 1 2 1 0 0]\n",
      " [1 0 0 2 0 0 0 0 0 0]\n",
      " [1 0 0 0 2 1 0 0 1 0]\n",
      " [1 1 0 1 0 1 0 1 0 0]\n",
      " [0 1 0 3 1 1 1 2 0 3]\n",
      " [1 1 0 0 0 1 1 0 0 0]]\n",
      "\n"
     ]
    }
   ],
   "source": [
    "result4,e4,cm4=layer_rbf(result3,y)\n",
    "printCM(cm3)"
   ]
  },
  {
   "cell_type": "code",
   "execution_count": 57,
   "metadata": {
    "collapsed": true
   },
   "outputs": [],
   "source": [
    "plotErr(e4)"
   ]
  },
  {
   "cell_type": "code",
   "execution_count": null,
   "metadata": {
    "collapsed": true
   },
   "outputs": [],
   "source": []
  },
  {
   "cell_type": "code",
   "execution_count": null,
   "metadata": {
    "collapsed": true
   },
   "outputs": [],
   "source": []
  },
  {
   "cell_type": "code",
   "execution_count": null,
   "metadata": {
    "collapsed": true
   },
   "outputs": [],
   "source": []
  },
  {
   "cell_type": "code",
   "execution_count": null,
   "metadata": {
    "collapsed": true
   },
   "outputs": [],
   "source": []
  },
  {
   "cell_type": "code",
   "execution_count": null,
   "metadata": {
    "collapsed": true
   },
   "outputs": [],
   "source": []
  },
  {
   "cell_type": "code",
   "execution_count": null,
   "metadata": {
    "collapsed": true
   },
   "outputs": [],
   "source": []
  },
  {
   "cell_type": "code",
   "execution_count": null,
   "metadata": {
    "collapsed": true
   },
   "outputs": [],
   "source": []
  },
  {
   "cell_type": "code",
   "execution_count": null,
   "metadata": {
    "collapsed": true
   },
   "outputs": [],
   "source": []
  },
  {
   "cell_type": "code",
   "execution_count": null,
   "metadata": {
    "collapsed": true
   },
   "outputs": [],
   "source": []
  },
  {
   "cell_type": "code",
   "execution_count": null,
   "metadata": {
    "collapsed": true
   },
   "outputs": [],
   "source": []
  },
  {
   "cell_type": "code",
   "execution_count": null,
   "metadata": {
    "collapsed": true
   },
   "outputs": [],
   "source": []
  },
  {
   "cell_type": "code",
   "execution_count": null,
   "metadata": {
    "collapsed": true
   },
   "outputs": [],
   "source": []
  },
  {
   "cell_type": "code",
   "execution_count": null,
   "metadata": {
    "collapsed": true
   },
   "outputs": [],
   "source": []
  },
  {
   "cell_type": "code",
   "execution_count": null,
   "metadata": {
    "collapsed": true
   },
   "outputs": [],
   "source": []
  },
  {
   "cell_type": "code",
   "execution_count": null,
   "metadata": {
    "collapsed": true
   },
   "outputs": [],
   "source": []
  },
  {
   "cell_type": "code",
   "execution_count": null,
   "metadata": {
    "collapsed": true
   },
   "outputs": [],
   "source": []
  },
  {
   "cell_type": "code",
   "execution_count": null,
   "metadata": {
    "collapsed": true
   },
   "outputs": [],
   "source": []
  },
  {
   "cell_type": "code",
   "execution_count": null,
   "metadata": {
    "collapsed": true
   },
   "outputs": [],
   "source": []
  },
  {
   "cell_type": "code",
   "execution_count": null,
   "metadata": {
    "collapsed": true
   },
   "outputs": [],
   "source": []
  },
  {
   "cell_type": "code",
   "execution_count": null,
   "metadata": {
    "collapsed": true
   },
   "outputs": [],
   "source": []
  },
  {
   "cell_type": "code",
   "execution_count": null,
   "metadata": {
    "collapsed": true
   },
   "outputs": [],
   "source": []
  },
  {
   "cell_type": "code",
   "execution_count": null,
   "metadata": {
    "collapsed": true
   },
   "outputs": [],
   "source": []
  },
  {
   "cell_type": "code",
   "execution_count": null,
   "metadata": {
    "collapsed": true
   },
   "outputs": [],
   "source": []
  },
  {
   "cell_type": "code",
   "execution_count": null,
   "metadata": {
    "collapsed": true
   },
   "outputs": [],
   "source": []
  },
  {
   "cell_type": "code",
   "execution_count": null,
   "metadata": {
    "collapsed": true
   },
   "outputs": [],
   "source": []
  },
  {
   "cell_type": "code",
   "execution_count": null,
   "metadata": {
    "collapsed": true
   },
   "outputs": [],
   "source": []
  },
  {
   "cell_type": "code",
   "execution_count": null,
   "metadata": {
    "collapsed": true
   },
   "outputs": [],
   "source": []
  },
  {
   "cell_type": "code",
   "execution_count": null,
   "metadata": {
    "collapsed": true
   },
   "outputs": [],
   "source": []
  },
  {
   "cell_type": "code",
   "execution_count": null,
   "metadata": {
    "collapsed": true
   },
   "outputs": [],
   "source": []
  },
  {
   "cell_type": "code",
   "execution_count": null,
   "metadata": {
    "collapsed": true
   },
   "outputs": [],
   "source": []
  },
  {
   "cell_type": "code",
   "execution_count": null,
   "metadata": {
    "collapsed": true
   },
   "outputs": [],
   "source": []
  },
  {
   "cell_type": "code",
   "execution_count": null,
   "metadata": {
    "collapsed": true
   },
   "outputs": [],
   "source": []
  },
  {
   "cell_type": "code",
   "execution_count": null,
   "metadata": {
    "collapsed": true
   },
   "outputs": [],
   "source": []
  },
  {
   "cell_type": "code",
   "execution_count": null,
   "metadata": {
    "collapsed": true
   },
   "outputs": [],
   "source": []
  },
  {
   "cell_type": "code",
   "execution_count": null,
   "metadata": {
    "collapsed": true
   },
   "outputs": [],
   "source": []
  },
  {
   "cell_type": "code",
   "execution_count": null,
   "metadata": {
    "collapsed": true
   },
   "outputs": [],
   "source": []
  },
  {
   "cell_type": "code",
   "execution_count": null,
   "metadata": {
    "collapsed": true
   },
   "outputs": [],
   "source": []
  },
  {
   "cell_type": "code",
   "execution_count": null,
   "metadata": {
    "collapsed": true
   },
   "outputs": [],
   "source": []
  },
  {
   "cell_type": "code",
   "execution_count": null,
   "metadata": {
    "collapsed": true
   },
   "outputs": [],
   "source": []
  },
  {
   "cell_type": "code",
   "execution_count": null,
   "metadata": {
    "collapsed": true
   },
   "outputs": [],
   "source": []
  },
  {
   "cell_type": "code",
   "execution_count": null,
   "metadata": {
    "collapsed": true
   },
   "outputs": [],
   "source": []
  },
  {
   "cell_type": "code",
   "execution_count": null,
   "metadata": {
    "collapsed": true
   },
   "outputs": [],
   "source": []
  },
  {
   "cell_type": "code",
   "execution_count": null,
   "metadata": {
    "collapsed": true
   },
   "outputs": [],
   "source": []
  },
  {
   "cell_type": "code",
   "execution_count": null,
   "metadata": {
    "collapsed": true
   },
   "outputs": [],
   "source": []
  },
  {
   "cell_type": "code",
   "execution_count": null,
   "metadata": {
    "collapsed": true
   },
   "outputs": [],
   "source": []
  },
  {
   "cell_type": "code",
   "execution_count": null,
   "metadata": {
    "collapsed": true
   },
   "outputs": [],
   "source": []
  },
  {
   "cell_type": "code",
   "execution_count": null,
   "metadata": {
    "collapsed": true
   },
   "outputs": [],
   "source": []
  },
  {
   "cell_type": "code",
   "execution_count": null,
   "metadata": {
    "collapsed": true
   },
   "outputs": [],
   "source": []
  },
  {
   "cell_type": "code",
   "execution_count": null,
   "metadata": {
    "collapsed": true
   },
   "outputs": [],
   "source": []
  },
  {
   "cell_type": "code",
   "execution_count": null,
   "metadata": {
    "collapsed": true
   },
   "outputs": [],
   "source": []
  },
  {
   "cell_type": "code",
   "execution_count": null,
   "metadata": {
    "collapsed": true
   },
   "outputs": [],
   "source": []
  },
  {
   "cell_type": "code",
   "execution_count": null,
   "metadata": {
    "collapsed": true
   },
   "outputs": [],
   "source": []
  },
  {
   "cell_type": "code",
   "execution_count": null,
   "metadata": {
    "collapsed": true
   },
   "outputs": [],
   "source": []
  },
  {
   "cell_type": "code",
   "execution_count": null,
   "metadata": {
    "collapsed": true
   },
   "outputs": [],
   "source": []
  },
  {
   "cell_type": "code",
   "execution_count": null,
   "metadata": {
    "collapsed": true
   },
   "outputs": [],
   "source": []
  },
  {
   "cell_type": "code",
   "execution_count": null,
   "metadata": {
    "collapsed": true
   },
   "outputs": [],
   "source": []
  },
  {
   "cell_type": "code",
   "execution_count": null,
   "metadata": {
    "collapsed": true
   },
   "outputs": [],
   "source": []
  },
  {
   "cell_type": "code",
   "execution_count": null,
   "metadata": {
    "collapsed": true
   },
   "outputs": [],
   "source": []
  },
  {
   "cell_type": "code",
   "execution_count": null,
   "metadata": {
    "collapsed": true
   },
   "outputs": [],
   "source": []
  },
  {
   "cell_type": "code",
   "execution_count": null,
   "metadata": {
    "collapsed": true
   },
   "outputs": [],
   "source": []
  },
  {
   "cell_type": "code",
   "execution_count": null,
   "metadata": {
    "collapsed": true
   },
   "outputs": [],
   "source": []
  },
  {
   "cell_type": "code",
   "execution_count": null,
   "metadata": {
    "collapsed": true
   },
   "outputs": [],
   "source": []
  },
  {
   "cell_type": "code",
   "execution_count": null,
   "metadata": {
    "collapsed": true
   },
   "outputs": [],
   "source": []
  },
  {
   "cell_type": "code",
   "execution_count": null,
   "metadata": {
    "collapsed": true
   },
   "outputs": [],
   "source": []
  },
  {
   "cell_type": "code",
   "execution_count": null,
   "metadata": {
    "collapsed": true
   },
   "outputs": [],
   "source": []
  },
  {
   "cell_type": "code",
   "execution_count": null,
   "metadata": {
    "collapsed": true
   },
   "outputs": [],
   "source": []
  },
  {
   "cell_type": "code",
   "execution_count": null,
   "metadata": {
    "collapsed": true
   },
   "outputs": [],
   "source": []
  },
  {
   "cell_type": "code",
   "execution_count": null,
   "metadata": {
    "collapsed": true
   },
   "outputs": [],
   "source": []
  },
  {
   "cell_type": "code",
   "execution_count": null,
   "metadata": {
    "collapsed": true
   },
   "outputs": [],
   "source": []
  },
  {
   "cell_type": "code",
   "execution_count": null,
   "metadata": {
    "collapsed": true
   },
   "outputs": [],
   "source": []
  },
  {
   "cell_type": "code",
   "execution_count": null,
   "metadata": {
    "collapsed": true
   },
   "outputs": [],
   "source": []
  },
  {
   "cell_type": "code",
   "execution_count": null,
   "metadata": {
    "collapsed": true
   },
   "outputs": [],
   "source": []
  },
  {
   "cell_type": "code",
   "execution_count": null,
   "metadata": {
    "collapsed": true
   },
   "outputs": [],
   "source": []
  },
  {
   "cell_type": "code",
   "execution_count": null,
   "metadata": {
    "collapsed": true
   },
   "outputs": [],
   "source": []
  },
  {
   "cell_type": "code",
   "execution_count": null,
   "metadata": {
    "collapsed": true
   },
   "outputs": [],
   "source": []
  },
  {
   "cell_type": "code",
   "execution_count": null,
   "metadata": {
    "collapsed": true
   },
   "outputs": [],
   "source": []
  },
  {
   "cell_type": "code",
   "execution_count": null,
   "metadata": {
    "collapsed": true
   },
   "outputs": [],
   "source": []
  },
  {
   "cell_type": "code",
   "execution_count": null,
   "metadata": {
    "collapsed": true
   },
   "outputs": [],
   "source": []
  },
  {
   "cell_type": "code",
   "execution_count": null,
   "metadata": {
    "collapsed": true
   },
   "outputs": [],
   "source": []
  },
  {
   "cell_type": "code",
   "execution_count": null,
   "metadata": {
    "collapsed": true
   },
   "outputs": [],
   "source": []
  },
  {
   "cell_type": "code",
   "execution_count": null,
   "metadata": {
    "collapsed": true
   },
   "outputs": [],
   "source": []
  },
  {
   "cell_type": "code",
   "execution_count": null,
   "metadata": {
    "collapsed": true
   },
   "outputs": [],
   "source": []
  },
  {
   "cell_type": "code",
   "execution_count": null,
   "metadata": {
    "collapsed": true
   },
   "outputs": [],
   "source": []
  },
  {
   "cell_type": "code",
   "execution_count": null,
   "metadata": {
    "collapsed": true
   },
   "outputs": [],
   "source": []
  },
  {
   "cell_type": "code",
   "execution_count": null,
   "metadata": {
    "collapsed": true
   },
   "outputs": [],
   "source": []
  },
  {
   "cell_type": "code",
   "execution_count": null,
   "metadata": {
    "collapsed": true
   },
   "outputs": [],
   "source": []
  },
  {
   "cell_type": "code",
   "execution_count": null,
   "metadata": {
    "collapsed": true
   },
   "outputs": [],
   "source": []
  },
  {
   "cell_type": "code",
   "execution_count": null,
   "metadata": {
    "collapsed": true
   },
   "outputs": [],
   "source": []
  },
  {
   "cell_type": "code",
   "execution_count": null,
   "metadata": {
    "collapsed": true
   },
   "outputs": [],
   "source": []
  },
  {
   "cell_type": "code",
   "execution_count": null,
   "metadata": {
    "collapsed": true
   },
   "outputs": [],
   "source": []
  },
  {
   "cell_type": "code",
   "execution_count": null,
   "metadata": {
    "collapsed": true
   },
   "outputs": [],
   "source": []
  },
  {
   "cell_type": "code",
   "execution_count": null,
   "metadata": {
    "collapsed": true
   },
   "outputs": [],
   "source": []
  },
  {
   "cell_type": "code",
   "execution_count": null,
   "metadata": {
    "collapsed": true
   },
   "outputs": [],
   "source": []
  },
  {
   "cell_type": "code",
   "execution_count": null,
   "metadata": {
    "collapsed": true
   },
   "outputs": [],
   "source": []
  },
  {
   "cell_type": "code",
   "execution_count": null,
   "metadata": {
    "collapsed": true
   },
   "outputs": [],
   "source": []
  },
  {
   "cell_type": "code",
   "execution_count": null,
   "metadata": {
    "collapsed": true
   },
   "outputs": [],
   "source": []
  },
  {
   "cell_type": "code",
   "execution_count": null,
   "metadata": {
    "collapsed": true
   },
   "outputs": [],
   "source": []
  },
  {
   "cell_type": "code",
   "execution_count": null,
   "metadata": {
    "collapsed": true
   },
   "outputs": [],
   "source": []
  },
  {
   "cell_type": "code",
   "execution_count": null,
   "metadata": {
    "collapsed": true
   },
   "outputs": [],
   "source": []
  },
  {
   "cell_type": "code",
   "execution_count": null,
   "metadata": {
    "collapsed": true
   },
   "outputs": [],
   "source": []
  },
  {
   "cell_type": "code",
   "execution_count": null,
   "metadata": {
    "collapsed": true
   },
   "outputs": [],
   "source": []
  },
  {
   "cell_type": "code",
   "execution_count": null,
   "metadata": {
    "collapsed": true
   },
   "outputs": [],
   "source": []
  },
  {
   "cell_type": "code",
   "execution_count": null,
   "metadata": {
    "collapsed": true
   },
   "outputs": [],
   "source": []
  },
  {
   "cell_type": "code",
   "execution_count": null,
   "metadata": {
    "collapsed": true
   },
   "outputs": [],
   "source": []
  },
  {
   "cell_type": "code",
   "execution_count": null,
   "metadata": {
    "collapsed": true
   },
   "outputs": [],
   "source": []
  },
  {
   "cell_type": "code",
   "execution_count": null,
   "metadata": {
    "collapsed": true
   },
   "outputs": [],
   "source": []
  },
  {
   "cell_type": "code",
   "execution_count": null,
   "metadata": {
    "collapsed": true
   },
   "outputs": [],
   "source": []
  },
  {
   "cell_type": "code",
   "execution_count": null,
   "metadata": {
    "collapsed": true
   },
   "outputs": [],
   "source": []
  },
  {
   "cell_type": "code",
   "execution_count": null,
   "metadata": {
    "collapsed": true
   },
   "outputs": [],
   "source": []
  },
  {
   "cell_type": "code",
   "execution_count": null,
   "metadata": {
    "collapsed": true
   },
   "outputs": [],
   "source": []
  },
  {
   "cell_type": "code",
   "execution_count": null,
   "metadata": {
    "collapsed": true
   },
   "outputs": [],
   "source": []
  }
 ],
 "metadata": {
  "kernelspec": {
   "display_name": "Python 2",
   "language": "python",
   "name": "python2"
  },
  "language_info": {
   "codemirror_mode": {
    "name": "ipython",
    "version": 2
   },
   "file_extension": ".py",
   "mimetype": "text/x-python",
   "name": "python",
   "nbconvert_exporter": "python",
   "pygments_lexer": "ipython2",
   "version": "2.7.6"
  }
 },
 "nbformat": 4,
 "nbformat_minor": 0
}
