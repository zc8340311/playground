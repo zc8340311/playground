{
 "cells": [
  {
   "cell_type": "code",
   "execution_count": 30,
   "metadata": {
    "collapsed": true
   },
   "outputs": [],
   "source": [
    "from sklearn.decomposition import KernelPCA\n",
    "from sklearn.cross_validation import KFold\n",
    "from sklearn import svm\n",
    "import numpy as np\n",
    "import math\n",
    "import random\n",
    "import math\n",
    "from sklearn.metrics import confusion_matrix as CM"
   ]
  },
  {
   "cell_type": "markdown",
   "metadata": {},
   "source": [
    "## One result"
   ]
  },
  {
   "cell_type": "code",
   "execution_count": 31,
   "metadata": {
    "collapsed": true
   },
   "outputs": [],
   "source": [
    "from sklearn.datasets import load_iris\n",
    "from sklearn.datasets import load_digits"
   ]
  },
  {
   "cell_type": "code",
   "execution_count": 32,
   "metadata": {
    "collapsed": false
   },
   "outputs": [
    {
     "name": "stdout",
     "output_type": "stream",
     "text": [
      "[2, 1, 0, 3]\n"
     ]
    }
   ],
   "source": [
    "def IndOfSortedFea(feaInfo):\n",
    "    \"\"\"return sorted index of a list\"\"\"\n",
    "    sortInfo=sorted(feaInfo,reverse=True)\n",
    "    ##for test\n",
    "    ##print sortInfo\n",
    "    return [feaInfo.index(i) for i in sortInfo]\n",
    "a=[3,4,6,2]\n",
    "print IndOfSortedFea(a)"
   ]
  },
  {
   "cell_type": "code",
   "execution_count": 33,
   "metadata": {
    "collapsed": true
   },
   "outputs": [],
   "source": [
    "def corDis(x,y):\n",
    "    \"\"\"\n",
    "    calculate the correlation distance, given x and y calculate how similar the x and y is.\n",
    "    return a value, 0 means x and y are independent, higher mean x are determinstic of y.\n",
    "    \"\"\"\n",
    "    assert len(x)==len(y)\n",
    "    n=len(x)\n",
    "    a=np.zeros((n,n))\n",
    "    b=np.zeros((n,n))\n",
    "    ##calculate pair wise distance\n",
    "    for i in xrange(n):\n",
    "        for j in xrange(n):\n",
    "            a[i,j]=np.linalg.norm(x[i]-x[j])\n",
    "            b[i,j]=np.linalg.norm(y[i]-y[j])\n",
    "    aRowMean=np.mean(a,axis=1)\n",
    "    aColMean=np.mean(a,axis=0)\n",
    "    bRowMean=np.mean(b,axis=1)\n",
    "    bColMean=np.mean(b,axis=0)\n",
    "    aMean=np.mean(a)\n",
    "    bMean=np.mean(b)\n",
    "    A=np.zeros((n,n))\n",
    "    B=np.zeros((n,n))\n",
    "    ##normalization\n",
    "    for i in xrange(n):\n",
    "        for j in xrange(n):\n",
    "            A[i,j]=a[i,j]-aRowMean[i]-aColMean[j]+aMean\n",
    "            B[i,j]=b[i,j]-bRowMean[i]-bColMean[j]+bMean\n",
    "    cordis=0.\n",
    "    for i in xrange(n):\n",
    "        for j in xrange(n):\n",
    "            cordis += A[i,j]*B[i,j]\n",
    "    return cordis*(1./n**2)"
   ]
  },
  {
   "cell_type": "code",
   "execution_count": null,
   "metadata": {
    "collapsed": true
   },
   "outputs": [],
   "source": []
  },
  {
   "cell_type": "code",
   "execution_count": 34,
   "metadata": {
    "collapsed": true
   },
   "outputs": [],
   "source": [
    "#%matplotlib inline\n",
    "from matplotlib import pyplot as plt\n",
    "def plotFunction(x,y,text):\n",
    "    n=x.shape[1]\n",
    "    cols=2\n",
    "    rows=int(math.ceil(n/2.))\n",
    "    fig,ax=plt.subplots(ncols=cols,nrows=rows)\n",
    "    if rows==1:\n",
    "        for j in range(cols):\n",
    "            if j<n:\n",
    "                ax[j].scatter(x[:,j],y,c='b')\n",
    "    else:\n",
    "        for i in range(rows):\n",
    "            for j in range(cols):\n",
    "                if i*cols+j<n:\n",
    "                    ax[i,j].scatter(x[:,i*cols+j],y,c='b')\n",
    "                    #ax[i].title('x%d'%i,fontsize='small')\n",
    "    plt.title(text)\n",
    "    plt.show()\n"
   ]
  },
  {
   "cell_type": "code",
   "execution_count": 35,
   "metadata": {
    "collapsed": true
   },
   "outputs": [],
   "source": [
    "def crossValidation(x,y):\n",
    "    \"\"\"\n",
    "    version 2\n",
    "    according to the true y, predict\n",
    "    greedy algorithm: first using index\n",
    "    return\n",
    "    \"\"\"\n",
    "    crossErrors=[]\n",
    "    confusion_matrix=[]\n",
    "    #svc=svm.LinearSVC()\n",
    "    svc=svm.SVC(kernel='linear')\n",
    "    kf = KFold(x.shape[0], n_folds=5,shuffle=True)\n",
    "    for train,test in kf:\n",
    "        svc.fit(x[train],y[train])\n",
    "        prediction=svc.predict(x[test])\n",
    "        crossErrors.append(((prediction!=y[test]).sum())/float(len(y[test])))\n",
    "        confusion_matrix.append(CM(y[test],prediction))\n",
    "    return np.mean(crossErrors),confusion_matrix"
   ]
  },
  {
   "cell_type": "code",
   "execution_count": 36,
   "metadata": {
    "collapsed": true
   },
   "outputs": [],
   "source": [
    "def layer_rbf(x,y,ga=0.0):\n",
    "    \"\"\"version 2\"\"\"\n",
    "    kpca=KernelPCA(kernel='rbf',gamma=ga,n_components=x.shape[1])\n",
    "    xT=kpca.fit_transform(x)\n",
    "    rank=[]\n",
    "    numOfFeatures=xT.shape[1]\n",
    "    for i in xrange(numOfFeatures):\n",
    "        rank.append(corDis(xT[:,i],y))\n",
    "    feaSelected=IndOfSortedFea(rank)\n",
    "    \n",
    "    featureSelectedErrors=[]\n",
    "    for i in xrange(numOfFeatures):\n",
    "        crossErrors,cms=crossValidation(xT[:,feaSelected[:i+1]],y)\n",
    "        featureSelectedErrors.append(crossErrors)\n",
    "    choice=featureSelectedErrors.index(min(featureSelectedErrors))\n",
    "    return xT[:,feaSelected[:choice+1]],featureSelectedErrors,cms,ga"
   ]
  },
  {
   "cell_type": "code",
   "execution_count": 37,
   "metadata": {
    "collapsed": true
   },
   "outputs": [],
   "source": [
    "def pretrain(x,y):\n",
    "    rank=[]\n",
    "    numOfFeatures=x.shape[1]\n",
    "    for i in xrange(numOfFeatures):\n",
    "        rank.append(corDis(x[:,i],y))\n",
    "    feaSelected=IndOfSortedFea(rank)\n",
    "    \n",
    "    featureSelectedErrors=[]\n",
    "    for i in xrange(numOfFeatures):\n",
    "        crossErrors,cms=crossValidation(x[:,feaSelected[:i+1]],y)\n",
    "        featureSelectedErrors.append(crossErrors)\n",
    "    choice=featureSelectedErrors.index(min(featureSelectedErrors))\n",
    "    return x[:,feaSelected[:choice+1]],featureSelectedErrors,cms "
   ]
  },
  {
   "cell_type": "code",
   "execution_count": 63,
   "metadata": {
    "collapsed": true
   },
   "outputs": [],
   "source": [
    "def multi_layer_machine(x,y,layers=4):\n",
    "    \"\"\"\n",
    "    Multi-layer machine\n",
    "    \"\"\"\n",
    "    results=[]\n",
    "    feaErrors=[]\n",
    "    cms=[]\n",
    "    gammas=[]\n",
    "    \n",
    "    ##pretrain processing\n",
    "    result,featureError,cm=pretrain(x,y)\n",
    "    gamma=0.1\n",
    "    #\n",
    "    results.append(result)\n",
    "    feaErrors.append(featureError)\n",
    "    cms.append(cm)\n",
    "    gammas.append(gamma)\n",
    "    \n",
    "    for i in xrange(layers):\n",
    "        ##one layer processing\n",
    "        gamma=tuningParameter(feaErrors,gammas)\n",
    "        result,featureError,cm,gamma=layer_rbf(result,y,gamma)\n",
    "        ##append result\n",
    "        results.append(results)\n",
    "        feaErrors.append(featureError)\n",
    "        cms.append(cm)\n",
    "        gammas.append(gamma)\n",
    "    return results,feaErrors,cms,gammas"
   ]
  },
  {
   "cell_type": "code",
   "execution_count": 64,
   "metadata": {
    "collapsed": true
   },
   "outputs": [],
   "source": [
    "def tuningParameter(feaErrors,gammas):\n",
    "    if len(gammas)<2:\n",
    "        gamma=5.0\n",
    "    else:\n",
    "        last=np.mean(feaErrors[len(feaErrors)-1])\n",
    "        last_two=np.mean(feaErrors[len(feaErrors)-2])\n",
    "        gamma=gammas[len(gammas)-1]*(1.0*abs(last-last_two)/last_two)\n",
    "    if gamma>10.0:\n",
    "        gamma=10.0\n",
    "    return gamma    "
   ]
  },
  {
   "cell_type": "code",
   "execution_count": 65,
   "metadata": {
    "collapsed": true
   },
   "outputs": [],
   "source": [
    "from matplotlib import pyplot as plt\n",
    "def plotdata(x,y):\n",
    "    n=x.shape[1]\n",
    "    fig,ax=plt.subplots(ncols=n,nrows=n)\n",
    "    \n",
    "    for i in xrange(n):\n",
    "        for j in xrange(i+1):\n",
    "            for t,color in zip(xrange(3),'rgb'):\n",
    "                ax[i][j].scatter(x[y == t,i],x[y == t,j],c=color)\n",
    "    plt.show()\n",
    "#plotdata(x,y)"
   ]
  },
  {
   "cell_type": "code",
   "execution_count": 66,
   "metadata": {
    "collapsed": true
   },
   "outputs": [],
   "source": [
    "def plotErr(err):\n",
    "    x=range(len(err))\n",
    "    #y=[e/min(err) for e in err]\n",
    "    plt.bar(x,err)\n",
    "    plt.title('Error Bar_Chart')\n",
    "    plt.show()"
   ]
  },
  {
   "cell_type": "code",
   "execution_count": 67,
   "metadata": {
    "collapsed": true
   },
   "outputs": [],
   "source": [
    "def printCM(cm):\n",
    "    \"\"\"\n",
    "    print cm in a nice way\n",
    "    \"\"\"\n",
    "    for i in cm:\n",
    "        print i"
   ]
  },
  {
   "cell_type": "code",
   "execution_count": 68,
   "metadata": {
    "collapsed": true
   },
   "outputs": [],
   "source": [
    "iris=load_iris()\n",
    "x=iris.data\n",
    "y=iris.target"
   ]
  },
  {
   "cell_type": "code",
   "execution_count": 69,
   "metadata": {
    "collapsed": false
   },
   "outputs": [],
   "source": [
    "results,feaErrors,cms,gammas=multi_layer_machine(x,y,layers=5)"
   ]
  },
  {
   "cell_type": "code",
   "execution_count": 70,
   "metadata": {
    "collapsed": true
   },
   "outputs": [],
   "source": [
    "%matplotlib inline"
   ]
  },
  {
   "cell_type": "code",
   "execution_count": 75,
   "metadata": {
    "collapsed": false
   },
   "outputs": [
    {
     "name": "stdout",
     "output_type": "stream",
     "text": [
      "150\n",
      "6\n",
      "6\n",
      "6\n",
      "6\n",
      "6\n"
     ]
    }
   ],
   "source": [
    "for i in xrange(len(results)):\n",
    "    print len(results[i])\n",
    "#x=np.array(results[1])\n",
    "    #plotdata(i,y)\n"
   ]
  },
  {
   "cell_type": "code",
   "execution_count": 51,
   "metadata": {
    "collapsed": false
   },
   "outputs": [
    {
     "data": {
      "image/png": "[encoded data removed]",
      "text/plain": [
       "<matplotlib.figure.Figure at 0xe5474e0>"
      ]
     },
     "metadata": {},
     "output_type": "display_data"
    },
    {
     "data": {
      "image/png": "[encoded data removed]",
      "text/plain": [
       "<matplotlib.figure.Figure at 0xe7959e8>"
      ]
     },
     "metadata": {},
     "output_type": "display_data"
    },
    {
     "data": {
      "image/png": "[encoded data removed]",
      "text/plain": [
       "<matplotlib.figure.Figure at 0xe567b70>"
      ]
     },
     "metadata": {},
     "output_type": "display_data"
    },
    {
     "data": {
      "image/png": "[encoded data removed]",
      "text/plain": [
       "<matplotlib.figure.Figure at 0xe28cb00>"
      ]
     },
     "metadata": {},
     "output_type": "display_data"
    },
    {
     "data": {
      "image/png": "[encoded data removed]",
      "text/plain": [
       "<matplotlib.figure.Figure at 0xa8cfb38>"
      ]
     },
     "metadata": {},
     "output_type": "display_data"
    },
    {
     "data": {
      "image/png": "[encoded data removed]",
      "text/plain": [
       "<matplotlib.figure.Figure at 0xe0e0ef0>"
      ]
     },
     "metadata": {},
     "output_type": "display_data"
    }
   ],
   "source": [
    "for i in feaErrors:\n",
    "    plotErr(i)"
   ]
  },
  {
   "cell_type": "code",
   "execution_count": 52,
   "metadata": {
    "collapsed": false
   },
   "outputs": [
    {
     "name": "stdout",
     "output_type": "stream",
     "text": [
      "layer : 0\n",
      "[[12  0  0]\n",
      " [ 0 10  0]\n",
      " [ 0  0  8]]\n",
      "[[ 6  0  0]\n",
      " [ 0  9  1]\n",
      " [ 0  1 13]]\n",
      "[[15  0  0]\n",
      " [ 0 11  0]\n",
      " [ 0  0  4]]\n",
      "[[ 8  0  0]\n",
      " [ 0  7  1]\n",
      " [ 0  0 14]]\n",
      "[[ 9  0  0]\n",
      " [ 0 11  0]\n",
      " [ 0  0 10]]\n",
      "layer : 1\n",
      "[[8 0 2]\n",
      " [0 9 3]\n",
      " [0 1 7]]\n",
      "[[7 0 2]\n",
      " [0 9 3]\n",
      " [0 0 9]]\n",
      "[[7 0 2]\n",
      " [0 6 5]\n",
      " [0 1 9]]\n",
      "[[10  0  2]\n",
      " [ 0  8  0]\n",
      " [ 0  2  8]]\n",
      "[[8 1 1]\n",
      " [0 7 0]\n",
      " [0 4 9]]\n",
      "layer : 2\n",
      "[[11  0  1]\n",
      " [ 0  8  1]\n",
      " [ 0  2  7]]\n",
      "[[ 4  0  1]\n",
      " [ 0 12  1]\n",
      " [ 0  4  8]]\n",
      "[[ 8  0  0]\n",
      " [ 0 10  2]\n",
      " [ 0  1  9]]\n",
      "[[11  0  1]\n",
      " [ 0  7  1]\n",
      " [ 0  2  8]]\n",
      "[[11  0  2]\n",
      " [ 0  6  2]\n",
      " [ 0  0  9]]\n",
      "layer : 3\n",
      "[[ 7  0  1]\n",
      " [ 0 12  1]\n",
      " [ 0  3  6]]\n",
      "[[12  0  1]\n",
      " [ 0  6  2]\n",
      " [ 0  2  7]]\n",
      "[[7 0 0]\n",
      " [0 9 2]\n",
      " [0 3 9]]\n",
      "[[11  0  3]\n",
      " [ 0  9  1]\n",
      " [ 0  1  5]]\n",
      "[[ 7  0  1]\n",
      " [ 0  7  1]\n",
      " [ 0  1 13]]\n",
      "layer : 4\n",
      "[[9 0 3]\n",
      " [0 7 2]\n",
      " [0 2 7]]\n",
      "[[ 7  0  0]\n",
      " [ 0 10  2]\n",
      " [ 0  3  8]]\n",
      "[[ 5  0  3]\n",
      " [ 0 10  0]\n",
      " [ 0  2 10]]\n",
      "[[13  0  0]\n",
      " [ 0  9  1]\n",
      " [ 0  1  6]]\n",
      "[[9 0 1]\n",
      " [0 7 2]\n",
      " [0 2 9]]\n",
      "layer : 5\n",
      "[[ 6  1  0]\n",
      " [ 4  3  0]\n",
      " [ 0 16  0]]\n",
      "[[ 0  0 12]\n",
      " [ 0  0 10]\n",
      " [ 0  0  8]]\n",
      "[[ 0 10  0]\n",
      " [ 0  8  0]\n",
      " [ 0 12  0]]\n",
      "[[ 0  0 10]\n",
      " [ 0  0 15]\n",
      " [ 0  0  5]]\n",
      "[[ 0  0 11]\n",
      " [ 0  0 10]\n",
      " [ 0  0  9]]\n"
     ]
    }
   ],
   "source": [
    "for i in xrange(len(cms)):\n",
    "    print \"layer : %d\" % i\n",
    "    printCM(cms[i])\n",
    "    "
   ]
  },
  {
   "cell_type": "code",
   "execution_count": 53,
   "metadata": {
    "collapsed": false
   },
   "outputs": [
    {
     "data": {
      "image/png": "[encoded data removed]",
      "text/plain": [
       "<matplotlib.figure.Figure at 0xe52a9e8>"
      ]
     },
     "metadata": {},
     "output_type": "display_data"
    }
   ],
   "source": [
    "plotErr(gammas)"
   ]
  },
  {
   "cell_type": "code",
   "execution_count": null,
   "metadata": {
    "collapsed": true
   },
   "outputs": [],
   "source": []
  },
  {
   "cell_type": "code",
   "execution_count": null,
   "metadata": {
    "collapsed": true
   },
   "outputs": [],
   "source": []
  },
  {
   "cell_type": "code",
   "execution_count": null,
   "metadata": {
    "collapsed": true
   },
   "outputs": [],
   "source": []
  },
  {
   "cell_type": "code",
   "execution_count": null,
   "metadata": {
    "collapsed": true
   },
   "outputs": [],
   "source": []
  },
  {
   "cell_type": "code",
   "execution_count": null,
   "metadata": {
    "collapsed": true
   },
   "outputs": [],
   "source": []
  },
  {
   "cell_type": "code",
   "execution_count": null,
   "metadata": {
    "collapsed": true
   },
   "outputs": [],
   "source": []
  },
  {
   "cell_type": "code",
   "execution_count": null,
   "metadata": {
    "collapsed": true
   },
   "outputs": [],
   "source": []
  },
  {
   "cell_type": "code",
   "execution_count": null,
   "metadata": {
    "collapsed": true
   },
   "outputs": [],
   "source": []
  },
  {
   "cell_type": "code",
   "execution_count": null,
   "metadata": {
    "collapsed": true
   },
   "outputs": [],
   "source": []
  },
  {
   "cell_type": "code",
   "execution_count": null,
   "metadata": {
    "collapsed": true
   },
   "outputs": [],
   "source": []
  },
  {
   "cell_type": "code",
   "execution_count": null,
   "metadata": {
    "collapsed": true
   },
   "outputs": [],
   "source": []
  }
 ],
 "metadata": {
  "kernelspec": {
   "display_name": "Python 2",
   "language": "python",
   "name": "python2"
  },
  "language_info": {
   "codemirror_mode": {
    "name": "ipython",
    "version": 2
   },
   "file_extension": ".py",
   "mimetype": "text/x-python",
   "name": "python",
   "nbconvert_exporter": "python",
   "pygments_lexer": "ipython2",
   "version": "2.7.10"
  }
 },
 "nbformat": 4,
 "nbformat_minor": 0
}
