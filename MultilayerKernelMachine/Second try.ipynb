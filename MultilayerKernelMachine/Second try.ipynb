{
 "cells": [
  {
   "cell_type": "code",
   "execution_count": 3,
   "metadata": {
    "collapsed": true
   },
   "outputs": [],
   "source": [
    "from sklearn.datasets import load_iris,load_boston\n",
    "from sklearn.linear_model import LinearRegression\n",
    "from sklearn.decomposition import KernelPCA\n",
    "#from sklearn.metrics import normalized_mutual_info_score as nMI\n",
    "import numpy as np\n",
    "import matplotlib.pyplot as plt"
   ]
  },
  {
   "cell_type": "code",
   "execution_count": 2,
   "metadata": {
    "collapsed": true
   },
   "outputs": [],
   "source": [
    "import scipy.spatial as ss\n",
    "from scipy.special import digamma,gamma\n",
    "from math import log,pi\n",
    "import numpy.random as nr\n",
    "import random"
   ]
  },
  {
   "cell_type": "code",
   "execution_count": 24,
   "metadata": {
    "collapsed": true
   },
   "outputs": [],
   "source": [
    "##old version\n",
    "def featureSelection(alist):\n",
    "    b=sorted(alist)\n",
    "    #print b\n",
    "    index=[]\n",
    "    for i in b:\n",
    "        if i in alist:\n",
    "            index.append(alist.index(i))\n",
    "    return index"
   ]
  },
  {
   "cell_type": "code",
   "execution_count": 27,
   "metadata": {
    "collapsed": false
   },
   "outputs": [],
   "source": [
    "def InxOfSortedFea(feaInfo):\n",
    "    \"\"\"return sorted index of a list\"\"\"\n",
    "    sortInfo=sorted(feaInfo,reverse=True)\n",
    "    ##for test\n",
    "    ##print sortInfo\n",
    "    return [feaInfo.index(i) for i in sortInfo]\n",
    "#module test\n",
    "#a=[3,5,1,2,7]\n",
    "#print InxOfSortedFea(a)"
   ]
  },
  {
   "cell_type": "code",
   "execution_count": 15,
   "metadata": {
    "collapsed": true
   },
   "outputs": [],
   "source": [
    "def corDis(x,y):\n",
    "    assert len(x)==len(y)\n",
    "    n=len(x)\n",
    "    a=np.zeros((n,n))\n",
    "    b=np.zeros((n,n))\n",
    "    for i in xrange(n):\n",
    "        for j in xrange(n):\n",
    "            a[i,j]=np.linalg.norm(x[i]-x[j])\n",
    "            b[i,j]=np.linalg.norm(y[i]-y[j])\n",
    "    aRowMean=np.mean(a,axis=1)\n",
    "    aColMean=np.mean(a,axis=0)\n",
    "    bRowMean=np.mean(b,axis=1)\n",
    "    bColMean=np.mean(b,axis=0)\n",
    "    aMean=np.mean(a)\n",
    "    bMean=np.mean(b)\n",
    "    A=np.zeros((n,n))\n",
    "    B=np.zeros((n,n))\n",
    "    for i in xrange(n):\n",
    "        for j in xrange(n):\n",
    "            A[i,j]=a[i,j]-aRowMean[i]-aColMean[j]+aMean\n",
    "            B[i,j]=b[i,j]-bRowMean[i]-bColMean[j]+bMean\n",
    "    cordis=0.\n",
    "    for i in xrange(n):\n",
    "        for j in xrange(n):\n",
    "            cordis += A[i,j]*B[i,j]\n",
    "    return cordis*(1./n**2)"
   ]
  },
  {
   "cell_type": "code",
   "execution_count": 151,
   "metadata": {
    "collapsed": false
   },
   "outputs": [
    {
     "name": "stdout",
     "output_type": "stream",
     "text": [
      "[[ 7 14  3]\n",
      " [ 1  8  8]\n",
      " [16 11 19]\n",
      " [ 0  2 19]]\n"
     ]
    }
   ],
   "source": [
    "import numpy as np\n",
    "a=np.random.randint(0,20,size=(4,3))\n",
    "print a\n"
   ]
  },
  {
   "cell_type": "code",
   "execution_count": 157,
   "metadata": {
    "collapsed": false
   },
   "outputs": [
    {
     "name": "stdout",
     "output_type": "stream",
     "text": [
      "[  6.     8.75  12.25]\n",
      "[[  1.     5.25  -9.25]\n",
      " [ -5.    -0.75  -4.25]\n",
      " [ 10.     2.25   6.75]\n",
      " [ -6.    -6.75   6.75]]\n",
      "[  8.           5.66666667  15.33333333   7.        ]\n",
      "9.0\n"
     ]
    }
   ],
   "source": [
    "print np.mean(a,axis=0)\n",
    "print a-np.mean(a,axis=0)\n",
    "print np.mean(a,axis=1)\n",
    "#print a-np.mean(a,axis=1)\n",
    "print np.mean(a)"
   ]
  },
  {
   "cell_type": "code",
   "execution_count": 165,
   "metadata": {
    "collapsed": false
   },
   "outputs": [
    {
     "data": {
      "text/plain": [
       "64"
      ]
     },
     "execution_count": 165,
     "metadata": {},
     "output_type": "execute_result"
    }
   ],
   "source": [
    "n=8\n",
    "n**2"
   ]
  },
  {
   "cell_type": "code",
   "execution_count": 63,
   "metadata": {
    "collapsed": true
   },
   "outputs": [],
   "source": [
    "def MSE(target,predictions):\n",
    "    SSE=np.power(target-predictions,2)\n",
    "    return np.mean(SSE)"
   ]
  },
  {
   "cell_type": "code",
   "execution_count": 40,
   "metadata": {
    "collapsed": false
   },
   "outputs": [],
   "source": [
    "def KthFold(x,ith,kfold=5):\n",
    "    n=len(x)\n",
    "    \n",
    "    test=x[(0+ith)*n/kfold:(1+ith)*n/kfold]\n",
    "    train=np.delete(x,test)\n",
    "    return test,train\n",
    "##module test\n",
    "#a=range(13)\n",
    "#test,train=KthFold(x=a,ith=1,kfold=3)\n",
    "#print test,train"
   ]
  },
  {
   "cell_type": "code",
   "execution_count": 72,
   "metadata": {
    "collapsed": false
   },
   "outputs": [],
   "source": [
    "def cross_validation(data,y,index):\n",
    "    col=[]\n",
    "    kfold=range(data.shape[0])\n",
    "    random.shuffle(kfold)\n",
    "    ##five fold observation\n",
    "    k=5\n",
    "    for i in range(len(index)):\n",
    "        indexChoiceError=[]\n",
    "        for j in xrange(k):\n",
    "            lr=LinearRegression(fit_intercept=True)\n",
    "            ##kfold cross validation\n",
    "            test,train=KthFold(x=kfold,ith=j)\n",
    "            ##can not slicing data on row and col at same time,so slicing two step\n",
    "            stepData=data[:,index[:i+1]]\n",
    "            #print stepData.shape\n",
    "            lr.fit(stepData[train],[y[n] for n in train])\n",
    "            indexChoiceError.append(MSE([y[n] for n in test],lr.predict(stepData[test])))\n",
    "        col.append(np.mean(indexChoiceError))\n",
    "    return col"
   ]
  },
  {
   "cell_type": "code",
   "execution_count": 81,
   "metadata": {
    "collapsed": false
   },
   "outputs": [],
   "source": [
    "def layer(x,y):\n",
    "    kpca=KernelPCA(kernel='rbf',n_components=x.shape[1])\n",
    "    xT=kpca.fit_transform(x)\n",
    "    rank=[]\n",
    "    features=xT.shape[1]\n",
    "    #print xT[:,0]\n",
    "    #print y[:]\n",
    "    for i in range(features):\n",
    "        rank.append(corDis(xT[:,i],y))\n",
    "    #select features\n",
    "    feaSelected=InxOfSortedFea(rank)\n",
    "    #lr = LinearRegression(fit_intercept=True)\n",
    "    #return feaSelected\n",
    "    crossError=cross_validation(xT,y,feaSelected)\n",
    "    #plt.scatter(x=range(feaSelected),y=cross_error)\n",
    "    ##return selected error\n",
    "    return xT[:,:crossError.index(min(crossError))]\n",
    "#print layer(x,y)    "
   ]
  },
  {
   "cell_type": "code",
   "execution_count": 7,
   "metadata": {
    "collapsed": false
   },
   "outputs": [
    {
     "name": "stdout",
     "output_type": "stream",
     "text": [
      "[[  2.31     0.538    6.575   65.2      4.09     4.98  ]\n",
      " [  7.07     0.469    6.421   78.9      4.9671   9.14  ]\n",
      " [  7.07     0.469    7.185   61.1      4.9671   4.03  ]\n",
      " [  2.18     0.458    6.998   45.8      6.0622   2.94  ]\n",
      " [  2.18     0.458    7.147   54.2      6.0622   5.33  ]] [ 24.   21.6  34.7  33.4  36.2]\n"
     ]
    }
   ],
   "source": [
    "boston=load_boston()\n",
    "c=[2,4,5,6,7,12]\n",
    "y=boston.target\n",
    "x=boston.data[:,c]\n",
    "print x[:5],y[:5]"
   ]
  },
  {
   "cell_type": "code",
   "execution_count": 9,
   "metadata": {
    "collapsed": false
   },
   "outputs": [
    {
     "name": "stdout",
     "output_type": "stream",
     "text": [
      "[[ 0.03712085  0.01360258  0.02278033  0.0077594   0.01296009 -0.02171701]\n",
      " [ 0.03949152  0.01481318  0.02533058  0.0089317   0.01515028 -0.02615883]\n",
      " [ 0.03308646  0.0116108   0.01871436  0.0059902   0.00973848 -0.0155123 ]\n",
      " [ 0.03344029  0.01177521  0.01903256  0.00611776  0.00996354 -0.01592664]\n",
      " [ 0.03518263  0.01266409  0.02090234  0.00697378  0.01155848 -0.01913772]] (506L, 6L)\n"
     ]
    }
   ],
   "source": [
    "#debug\n",
    "kpca=KernelPCA(kernel='rbf',n_components=x.shape[1])\n",
    "xT=kpca.fit_transform(x)\n",
    "print xT[:5],xT.shape"
   ]
  },
  {
   "cell_type": "code",
   "execution_count": 18,
   "metadata": {
    "collapsed": false
   },
   "outputs": [
    {
     "name": "stdout",
     "output_type": "stream",
     "text": [
      "6\n"
     ]
    }
   ],
   "source": [
    "#debug\n",
    "rank=[]\n",
    "features=xT.shape[1]\n",
    "print features\n",
    "for i in range(features):\n",
    "        rank.append(corDis(xT[:,i],y))"
   ]
  },
  {
   "cell_type": "code",
   "execution_count": 28,
   "metadata": {
    "collapsed": false
   },
   "outputs": [
    {
     "name": "stdout",
     "output_type": "stream",
     "text": [
      "[0.030737471997507353, 0.028751781048373771, 0.025728080395453604, 0.020441153389522654, 0.018887039843905825, 0.016849266004061145]\n",
      "[0, 1, 2, 3, 4, 5]\n"
     ]
    }
   ],
   "source": [
    "#debug\n",
    "print rank\n",
    "feaSelected=InxOfSortedFea(rank)\n",
    "print feaSelected"
   ]
  },
  {
   "cell_type": "code",
   "execution_count": 39,
   "metadata": {
    "collapsed": false
   },
   "outputs": [
    {
     "name": "stdout",
     "output_type": "stream",
     "text": [
      "[] 506\n"
     ]
    }
   ],
   "source": [
    "#debug\n",
    "#crossError=cross_validation(xT,y,feaSelected)\n",
    "data,y,index=xT,y,feaSelected\n",
    "#print data[:5],y[:5],index\n",
    "#print xT[:5],y[:5],feaSelected\n",
    "col=[]\n",
    "kfold=range(data.shape[0])\n",
    "random.shuffle(kfold)\n",
    "print col,len(kfold)\n"
   ]
  },
  {
   "cell_type": "code",
   "execution_count": 60,
   "metadata": {
    "collapsed": false
   },
   "outputs": [
    {
     "name": "stdout",
     "output_type": "stream",
     "text": [
      "101 405\n",
      "[[ 0.03712085]\n",
      " [ 0.03949152]\n",
      " [ 0.03308646]\n",
      " [ 0.03344029]\n",
      " [ 0.03518263]]\n",
      "[0]\n",
      "[]\n",
      "[ 0.03712085  0.03949152  0.03308646  0.03344029  0.03518263]\n"
     ]
    }
   ],
   "source": [
    "#debug\n",
    "i=1\n",
    "j=0\n",
    "indexChoiceError=[]\n",
    "lr=LinearRegression(fit_intercept=True)\n",
    "test,train=KthFold(x=kfold,ith=j)\n",
    "print len(test),len(train)\n",
    "stepData=data[:,index[:i]]\n",
    "print stepData[:5]\n",
    "\n",
    "print index[:i]\n",
    "print index[:0]\n",
    "print data[:5,0]"
   ]
  },
  {
   "cell_type": "code",
   "execution_count": 70,
   "metadata": {
    "collapsed": false
   },
   "outputs": [
    {
     "name": "stdout",
     "output_type": "stream",
     "text": [
      "(101L, 1L)\n",
      "[66.159182388375484]\n"
     ]
    }
   ],
   "source": [
    "#debug\n",
    "lr.fit(stepData[train],[y[n] for n in train])\n",
    "print stepData[test].shape\n",
    "indexChoiceError.append(MSE([y[n] for n in test],lr.predict(stepData[test])))\n",
    "print indexChoiceError"
   ]
  },
  {
   "cell_type": "code",
   "execution_count": null,
   "metadata": {
    "collapsed": true
   },
   "outputs": [],
   "source": [
    "#debug"
   ]
  },
  {
   "cell_type": "code",
   "execution_count": null,
   "metadata": {
    "collapsed": true
   },
   "outputs": [],
   "source": [
    "#debug"
   ]
  },
  {
   "cell_type": "code",
   "execution_count": null,
   "metadata": {
    "collapsed": true
   },
   "outputs": [],
   "source": [
    "#debug"
   ]
  },
  {
   "cell_type": "code",
   "execution_count": 61,
   "metadata": {
    "collapsed": false
   },
   "outputs": [
    {
     "data": {
      "text/plain": [
       "'asdfa'"
      ]
     },
     "execution_count": 61,
     "metadata": {},
     "output_type": "execute_result"
    }
   ],
   "source": []
  },
  {
   "cell_type": "code",
   "execution_count": null,
   "metadata": {
    "collapsed": true
   },
   "outputs": [],
   "source": []
  },
  {
   "cell_type": "code",
   "execution_count": null,
   "metadata": {
    "collapsed": true
   },
   "outputs": [],
   "source": []
  },
  {
   "cell_type": "code",
   "execution_count": null,
   "metadata": {
    "collapsed": true
   },
   "outputs": [],
   "source": []
  },
  {
   "cell_type": "code",
   "execution_count": null,
   "metadata": {
    "collapsed": true
   },
   "outputs": [],
   "source": []
  },
  {
   "cell_type": "code",
   "execution_count": 82,
   "metadata": {
    "collapsed": false
   },
   "outputs": [
    {
     "name": "stdout",
     "output_type": "stream",
     "text": [
      "[[-0.03712085 -0.01360258 -0.02278033  0.0077594   0.01296009]\n",
      " [-0.03949152 -0.01481318 -0.02533058  0.0089317   0.01515028]\n",
      " [-0.03308646 -0.0116108  -0.01871436  0.0059902   0.00973848]\n",
      " [-0.03344029 -0.01177521 -0.01903256  0.00611776  0.00996354]\n",
      " [-0.03518263 -0.01266409 -0.02090234  0.00697378  0.01155848]]\n"
     ]
    }
   ],
   "source": [
    "result1=layer(x,y)\n",
    "print result1[:5]\n"
   ]
  },
  {
   "cell_type": "code",
   "execution_count": 84,
   "metadata": {
    "collapsed": false
   },
   "outputs": [
    {
     "name": "stdout",
     "output_type": "stream",
     "text": [
      "(506L, 5L)\n",
      "(506L, 6L)\n"
     ]
    }
   ],
   "source": [
    "print result1.shape\n",
    "print x.shape"
   ]
  },
  {
   "cell_type": "code",
   "execution_count": null,
   "metadata": {
    "collapsed": false
   },
   "outputs": [],
   "source": []
  },
  {
   "cell_type": "code",
   "execution_count": null,
   "metadata": {
    "collapsed": true
   },
   "outputs": [],
   "source": []
  },
  {
   "cell_type": "code",
   "execution_count": null,
   "metadata": {
    "collapsed": false
   },
   "outputs": [],
   "source": []
  },
  {
   "cell_type": "code",
   "execution_count": null,
   "metadata": {
    "collapsed": false
   },
   "outputs": [],
   "source": []
  },
  {
   "cell_type": "code",
   "execution_count": null,
   "metadata": {
    "collapsed": true
   },
   "outputs": [],
   "source": []
  },
  {
   "cell_type": "code",
   "execution_count": 144,
   "metadata": {
    "collapsed": true
   },
   "outputs": [],
   "source": [
    "def mi(x,y,k=3,base=2):\n",
    "  \"\"\" Mutual information of x and y\n",
    "      x,y should be a list of vectors, e.g. x = [[1.3],[3.7],[5.1],[2.4]]\n",
    "      if x is a one-dimensional scalar and we have four samples\n",
    "  \"\"\"\n",
    "  #print x\n",
    "  #print y  \n",
    "  assert len(x)==len(y), \"Lists should have same length\"\n",
    "  assert k <= len(x) - 1, \"Set k smaller than num. samples - 1\"\n",
    "  intens = 1e-10 #small noise to break degeneracy, see doc.\n",
    "  x = [list(p + intens*nr.rand(len(x[0]))) for p in x]\n",
    "  y = [list(p + intens*nr.rand(len(y[0]))) for p in y]\n",
    "  points = zip2(x,y)\n",
    "  #Find nearest neighbors in joint space, p=inf means max-norm\n",
    "  tree = ss.cKDTree(points)\n",
    "  dvec = [tree.query(point,k+1,p=float('inf'))[0][k] for point in points]\n",
    "  a,b,c,d = avgdigamma(x,dvec), avgdigamma(y,dvec), digamma(k), digamma(len(x)) \n",
    "  return (-a-b+c+d)/log(base)"
   ]
  },
  {
   "cell_type": "code",
   "execution_count": null,
   "metadata": {
    "collapsed": true
   },
   "outputs": [],
   "source": []
  },
  {
   "cell_type": "code",
   "execution_count": 21,
   "metadata": {
    "collapsed": false
   },
   "outputs": [],
   "source": [
    "test=load_boston()\n",
    "#?test\n",
    "y=test.target\n",
    "data=test.data\n",
    "import matplotlib.pyplot as plt\n",
    "f,ax=plt.subplots(ncols=3,nrows=5)\n",
    "ax[0,0].scatter(x=data[:,0], y=y)\n",
    "\n",
    "ax[0,1].scatter(x=data[:,1], y=y)\n",
    "\n",
    "ax[0,2].scatter(x=data[:,2], y=y)\n",
    "\n",
    "ax[1,0].scatter(x=data[:,3], y=y)\n",
    "\n",
    "ax[1,1].scatter(x=data[:,4], y=y)\n",
    "\n",
    "ax[1,2].scatter(x=data[:,5], y=y)\n",
    "\n",
    "ax[2,0].scatter(x=data[:,6], y=y)\n",
    "\n",
    "ax[2,1].scatter(x=data[:,7], y=y)\n",
    "\n",
    "ax[2,2].scatter(x=data[:,8], y=y)\n",
    "\n",
    "ax[3,0].scatter(x=data[:,9], y=y)\n",
    "\n",
    "ax[3,1].scatter(x=data[:,10], y=y)\n",
    "\n",
    "ax[3,2].scatter(x=data[:,11], y=y)\n",
    "\n",
    "ax[4,0].scatter(x=data[:,12], y=y)\n",
    "\n",
    "\n",
    "plt.show()"
   ]
  },
  {
   "cell_type": "code",
   "execution_count": null,
   "metadata": {
    "collapsed": false
   },
   "outputs": [],
   "source": []
  },
  {
   "cell_type": "code",
   "execution_count": 42,
   "metadata": {
    "collapsed": false
   },
   "outputs": [
    {
     "name": "stdout",
     "output_type": "stream",
     "text": [
      "None\n",
      "[3, 8, 9, 1, 0, 16, 12, 17, 18, 4, 11, 15, 5, 14, 2, 13, 10, 19, 7, 6]\n"
     ]
    }
   ],
   "source": [
    "import random\n",
    "f=range(20)\n",
    "print random.shuffle(f)\n",
    "print f"
   ]
  },
  {
   "cell_type": "code",
   "execution_count": 36,
   "metadata": {
    "collapsed": false
   },
   "outputs": [
    {
     "name": "stdout",
     "output_type": "stream",
     "text": [
      "[0, 1, 2, 3, 4, 5, 6, 7, 8, 9, 10, 11, 12, 13, 14, 15, 16, 17, 18, 19]\n"
     ]
    }
   ],
   "source": [
    "f=range(20)\n",
    "print f"
   ]
  },
  {
   "cell_type": "code",
   "execution_count": 63,
   "metadata": {
    "collapsed": false
   },
   "outputs": [
    {
     "name": "stdout",
     "output_type": "stream",
     "text": [
      "0\n",
      "1\n",
      "2\n",
      "3\n",
      "4\n"
     ]
    }
   ],
   "source": [
    "for i in xrange(5):\n",
    "    print i"
   ]
  }
 ],
 "metadata": {
  "kernelspec": {
   "display_name": "Python 2",
   "language": "python",
   "name": "python2"
  },
  "language_info": {
   "codemirror_mode": {
    "name": "ipython",
    "version": 2
   },
   "file_extension": ".py",
   "mimetype": "text/x-python",
   "name": "python",
   "nbconvert_exporter": "python",
   "pygments_lexer": "ipython2",
   "version": "2.7.6"
  }
 },
 "nbformat": 4,
 "nbformat_minor": 0
}
