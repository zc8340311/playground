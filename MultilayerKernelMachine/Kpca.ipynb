{
 "cells": [
  {
   "cell_type": "code",
   "execution_count": 1,
   "metadata": {
    "collapsed": true
   },
   "outputs": [],
   "source": [
    "import numpy as np\n",
    "\n",
    "def polykernel(x,y):\n",
    "    sum=0\n",
    "    for i in range(len(x)):\n",
    "        sum+=x[i]*y[i]\n",
    "    return (sum)**2"
   ]
  },
  {
   "cell_type": "code",
   "execution_count": 2,
   "metadata": {
    "collapsed": true
   },
   "outputs": [],
   "source": [
    "def cosinekernel(x,y):\n",
    "    return (1./(np.linalg.norm(x)*np.linalg.norm(y)))*np.dot(x,y)"
   ]
  },
  {
   "cell_type": "code",
   "execution_count": null,
   "metadata": {
    "collapsed": false
   },
   "outputs": [],
   "source": []
  },
  {
   "cell_type": "code",
   "execution_count": 67,
   "metadata": {
    "collapsed": false
   },
   "outputs": [],
   "source": [
    "def kpca(data):\n",
    "    #data=data.T\n",
    "    N=data.shape[0]\n",
    "    K=np.zeros((N,N))\n",
    "    #print K\n",
    "    for i in range(N):\n",
    "        for j in range(N):\n",
    "            K[i,j]=cosinekernel(data[i,],data[j,])\n",
    "    ones=1./N*np.ones((N,N))\n",
    "    # Don't forget to center the data!!!\n",
    "    K_norm=K-np.dot(ones,K)-np.dot(K,ones)+np.dot(ones,np.dot(K,ones))\n",
    "    U,E,VT = np.linalg.svd(K_norm)\n",
    "    tmp = np.dot(U,np.diag(np.sqrt(E)))\n",
    "    return tmp[:,:4]\n"
   ]
  },
  {
   "cell_type": "code",
   "execution_count": 68,
   "metadata": {
    "collapsed": false
   },
   "outputs": [
    {
     "name": "stdout",
     "output_type": "stream",
     "text": [
      "[[14  5  6 17]\n",
      " [ 5  6 10  4]\n",
      " [ 6 14 11  8]\n",
      " [16  0 15 16]\n",
      " [11 13 19 13]]\n"
     ]
    }
   ],
   "source": [
    "data=np.random.randint(0,20,size=(5,4))\n",
    "print data"
   ]
  },
  {
   "cell_type": "code",
   "execution_count": 69,
   "metadata": {
    "collapsed": false
   },
   "outputs": [
    {
     "name": "stdout",
     "output_type": "stream",
     "text": [
      "[[-0.3811497   0.20379142 -0.00756316  0.01109886]\n",
      " [ 0.25419173 -0.1553072  -0.03098518  0.01303569]\n",
      " [ 0.33034688  0.17387273 -0.01000528 -0.01555935]\n",
      " [-0.35368787 -0.1847956  -0.00198643 -0.01457496]\n",
      " [ 0.15029896 -0.03756136  0.05054005  0.00599976]]\n"
     ]
    }
   ],
   "source": [
    "A=kpca(data)\n",
    "print A\n"
   ]
  },
  {
   "cell_type": "code",
   "execution_count": 70,
   "metadata": {
    "collapsed": false
   },
   "outputs": [
    {
     "name": "stdout",
     "output_type": "stream",
     "text": [
      "[[ -3.20084601e-01  -3.16608155e-02  -2.92161077e-02   4.93437368e-09]\n",
      " [  5.37564842e-01  -1.05130818e-01  -4.48263602e-03   4.93437368e-09]\n",
      " [  5.59479396e-02   2.54369320e-01   6.89870141e-03   4.93437368e-09]\n",
      " [ -2.73428180e-01  -1.17577687e-01   2.68000424e-02   4.93437368e-09]]\n"
     ]
    }
   ],
   "source": [
    "B=kpca(np.transpose(data))\n",
    "print B"
   ]
  },
  {
   "cell_type": "code",
   "execution_count": 71,
   "metadata": {
    "collapsed": false
   },
   "outputs": [
    {
     "name": "stdout",
     "output_type": "stream",
     "text": [
      "[[ 0.3811497  -0.20379142  0.00756316  0.01109886]\n",
      " [-0.25419173  0.1553072   0.03098518  0.01303569]\n",
      " [-0.33034688 -0.17387273  0.01000528 -0.01555935]\n",
      " [ 0.35368787  0.1847956   0.00198643 -0.01457496]\n",
      " [-0.15029896  0.03756136 -0.05054005  0.00599976]]\n"
     ]
    }
   ],
   "source": [
    "from sklearn import decomposition\n",
    "kp=decomposition.KernelPCA(kernel='cosine',n_components=4)\n",
    "C = kp.fit_transform(data)\n",
    "print C"
   ]
  },
  {
   "cell_type": "code",
   "execution_count": 72,
   "metadata": {
    "collapsed": false
   },
   "outputs": [
    {
     "name": "stdout",
     "output_type": "stream",
     "text": [
      "[[-0.3811497   0.20379142 -0.00756316  0.01109886]\n",
      " [ 0.25419173 -0.1553072  -0.03098518  0.01303569]\n",
      " [ 0.33034688  0.17387273 -0.01000528 -0.01555935]\n",
      " [-0.35368787 -0.1847956  -0.00198643 -0.01457496]\n",
      " [ 0.15029896 -0.03756136  0.05054005  0.00599976]]\n",
      "[[ 0.3811497  -0.20379142  0.00756316  0.01109886]\n",
      " [-0.25419173  0.1553072   0.03098518  0.01303569]\n",
      " [-0.33034688 -0.17387273  0.01000528 -0.01555935]\n",
      " [ 0.35368787  0.1847956   0.00198643 -0.01457496]\n",
      " [-0.15029896  0.03756136 -0.05054005  0.00599976]]\n",
      "[[-1. -1. -1.  1.]\n",
      " [-1. -1. -1.  1.]\n",
      " [-1. -1. -1.  1.]\n",
      " [-1. -1. -1.  1.]\n",
      " [-1. -1. -1.  1.]]\n"
     ]
    }
   ],
   "source": [
    "print A\n",
    "print C\n",
    "print A/C"
   ]
  },
  {
   "cell_type": "code",
   "execution_count": null,
   "metadata": {
    "collapsed": false
   },
   "outputs": [],
   "source": []
  },
  {
   "cell_type": "code",
   "execution_count": null,
   "metadata": {
    "collapsed": true
   },
   "outputs": [],
   "source": []
  },
  {
   "cell_type": "code",
   "execution_count": null,
   "metadata": {
    "collapsed": false
   },
   "outputs": [],
   "source": []
  }
 ],
 "metadata": {
  "anaconda-cloud": {},
  "kernelspec": {
   "display_name": "Python [default]",
   "language": "python",
   "name": "python2"
  },
  "language_info": {
   "codemirror_mode": {
    "name": "ipython",
    "version": 2
   },
   "file_extension": ".py",
   "mimetype": "text/x-python",
   "name": "python",
   "nbconvert_exporter": "python",
   "pygments_lexer": "ipython2",
   "version": "2.7.12"
  }
 },
 "nbformat": 4,
 "nbformat_minor": 0
}
