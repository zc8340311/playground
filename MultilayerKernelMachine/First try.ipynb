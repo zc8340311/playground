{
 "cells": [
  {
   "cell_type": "code",
   "execution_count": 2,
   "metadata": {
    "collapsed": false
   },
   "outputs": [],
   "source": [
    "from sklearn import datasets\n",
    "datasets.*?"
   ]
  },
  {
   "cell_type": "code",
   "execution_count": 3,
   "metadata": {
    "collapsed": true
   },
   "outputs": [],
   "source": [
    "from sklearn.decomposition import KernelPCA\n",
    "from sklearn.metrics import normalized_mutual_info_score as nMI\n",
    "from sklearn.metrics import mutual_info_score as MI\n",
    "from sklearn.metrics import adjusted_mutual_info_score as aMI"
   ]
  },
  {
   "cell_type": "code",
   "execution_count": 4,
   "metadata": {
    "collapsed": false
   },
   "outputs": [],
   "source": [
    "from sklearn.datasets import load_iris,load_boston\n",
    "iris=load_boston()\n",
    "y=iris.target"
   ]
  },
  {
   "cell_type": "code",
   "execution_count": 5,
   "metadata": {
    "collapsed": false
   },
   "outputs": [
    {
     "name": "stdout",
     "output_type": "stream",
     "text": [
      "13\n"
     ]
    }
   ],
   "source": [
    "features=iris.data.shape[1]\n",
    "print features\n",
    "kpca=KernelPCA(kernel='rbf',n_components=features)\n",
    "dataT=kpca.fit_transform(iris.data)"
   ]
  },
  {
   "cell_type": "code",
   "execution_count": 98,
   "metadata": {
    "collapsed": true
   },
   "outputs": [],
   "source": [
    "def featureSelection(alist):\n",
    "    b=sorted(alist)\n",
    "    print b\n",
    "    index=[]\n",
    "    for i in b:\n",
    "        if i in a:\n",
    "            index.append(alist.index(i))\n",
    "    return index"
   ]
  },
  {
   "cell_type": "code",
   "execution_count": 88,
   "metadata": {
    "collapsed": false
   },
   "outputs": [
    {
     "name": "stdout",
     "output_type": "stream",
     "text": [
      "['1', '3', '5']\n",
      "[1, 0, 2]\n",
      "[1, 0, 2]\n"
     ]
    }
   ],
   "source": [
    "##test module\n",
    "a=['3','1','5']\n",
    "b=featureSelection(a)\n",
    "print b"
   ]
  },
  {
   "cell_type": "code",
   "execution_count": 7,
   "metadata": {
    "collapsed": false
   },
   "outputs": [
    {
     "name": "stdout",
     "output_type": "stream",
     "text": [
      "[0.9040879561175742, 0.90408853646742815, 0.90471954110980313, 0.90492001210774353, 0.90503104188056605, 0.90578742496064624, 0.90589386473745592, 0.9067185010802622, 0.90767327368074968, 0.90804323342600934, 0.90808428359044036, 0.90901076096159206, 0.90941190969775476]\n",
      "[7, 10, 0, 3, 1, 5, 9, 2, 4, 12, 11, 8, 6]\n"
     ]
    }
   ],
   "source": [
    "rank=[]\n",
    "features=dataT.shape[1]\n",
    "for i in range(features):\n",
    "    rank.append(nMI(dataT[:,i],y))\n",
    "#print rank\n",
    "\n",
    "b=sorted(rank)\n",
    "print b\n",
    "index=[]\n",
    "for i in b:\n",
    "    index.append(rank.index(i))\n",
    "print index\n",
    "#print sorted(rank)\n",
    "#rank_index=featureSelection(rank)\n",
    "#print rank_index\n"
   ]
  },
  {
   "cell_type": "code",
   "execution_count": 11,
   "metadata": {
    "collapsed": false
   },
   "outputs": [],
   "source": [
    "import matplotlib.pyplot as plt\n",
    "f,ax=plt.subplots(ncols=3,nrows=3)\n",
    "ax[0,0].scatter(x=dataT[:,0], y=y)\n",
    "\n",
    "ax[0,1].scatter(x=dataT[:,1], y=y)\n",
    "\n",
    "ax[0,2].scatter(x=dataT[:,2], y=y)\n",
    "\n",
    "ax[1,0].scatter(x=dataT[:,3], y=y)\n",
    "\n",
    "ax[1,1].scatter(x=dataT[:,4], y=y)\n",
    "\n",
    "ax[1,2].scatter(x=dataT[:,5], y=y)\n",
    "\n",
    "ax[2,0].scatter(x=dataT[:,6], y=y)\n",
    "\n",
    "ax[2,1].scatter(x=dataT[:,7], y=y)\n",
    "\n",
    "ax[2,2].scatter(x=dataT[:,8], y=y)\n",
    "\n",
    "plt.show()\n"
   ]
  },
  {
   "cell_type": "code",
   "execution_count": 12,
   "metadata": {
    "collapsed": true
   },
   "outputs": [],
   "source": [
    "plt.scatter(x=dataT[:,0],y=dataT[:,1])\n",
    "plt.show()"
   ]
  },
  {
   "cell_type": "code",
   "execution_count": 16,
   "metadata": {
    "collapsed": false
   },
   "outputs": [],
   "source": [
    "from matplotlib import pyplot as PLT\n",
    "\n",
    "fig = PLT.figure()\n",
    "\n",
    "ax1 = fig.add_subplot(211)\n",
    "ax1.plot([(1, 2), (3, 4)], [(4, 3), (2, 3)])\n",
    "ax2 = fig.add_subplot(212)\n",
    "ax2.plot([(7, 2), (5, 3)], [(1, 6), (9, 5)])\n",
    "\n",
    "PLT.show()"
   ]
  },
  {
   "cell_type": "code",
   "execution_count": 61,
   "metadata": {
    "collapsed": false
   },
   "outputs": [
    {
     "name": "stdout",
     "output_type": "stream",
     "text": [
      "5.11732753186\n",
      "5.12079610196\n",
      "5.12708010649\n",
      "5.13041187527\n"
     ]
    }
   ],
   "source": [
    "print MI(dataT[:,0],y)\n",
    "print MI(dataT[:,1],y)\n",
    "print MI(dataT[:,2],y)\n",
    "print MI(dataT[:,3],y)"
   ]
  },
  {
   "cell_type": "code",
   "execution_count": 63,
   "metadata": {
    "collapsed": false
   },
   "outputs": [
    {
     "name": "stdout",
     "output_type": "stream",
     "text": [
      "0.914824130128\n",
      "0.38325728795\n",
      "0.623655232184\n",
      "0.133939252627\n"
     ]
    }
   ],
   "source": [
    "print nMI(iris.data[:,0],y)\n",
    "print nMI(iris.data[:,1],y)\n",
    "print nMI(iris.data[:,2],y)\n",
    "print nMI(iris.data[:,3],y)"
   ]
  },
  {
   "cell_type": "code",
   "execution_count": 64,
   "metadata": {
    "collapsed": false
   },
   "outputs": [
    {
     "name": "stdout",
     "output_type": "stream",
     "text": [
      "-0.000822051891457\n",
      "0.00178905832931\n",
      "-0.000789570682033\n",
      "0.00449989721154\n"
     ]
    }
   ],
   "source": [
    "print aMI(dataT[:,0],y)\n",
    "print aMI(dataT[:,1],y)\n",
    "print aMI(dataT[:,2],y)\n",
    "print aMI(dataT[:,3],y)"
   ]
  },
  {
   "cell_type": "code",
   "execution_count": 105,
   "metadata": {
    "collapsed": true
   },
   "outputs": [],
   "source": [
    "##feature selection\n",
    "from sklearn.linear_model import LinearRegression\n",
    "lr = LinearRegression(fit_intercept=True)"
   ]
  },
  {
   "cell_type": "code",
   "execution_count": 135,
   "metadata": {
    "collapsed": false
   },
   "outputs": [
    {
     "name": "stdout",
     "output_type": "stream",
     "text": [
      "[19.891142105236241, 25.115452456433136, 23.007008509208436, 67.885182423002234, 24.866217712697249, 19.109244650491114, 19.307989290414287, 1.8233881122265023, 1.6092903409155854, 3.0007609597572924, 3.0910811166225018, 6.4261367401235505]\n",
      "[0, 7, 1, 10, 2, 9, 3, 5]\n"
     ]
    },
    {
     "data": {
      "text/plain": [
       "array([[  6.32000000e-03,   4.09000000e+00,   1.80000000e+01,\n",
       "          1.53000000e+01,   2.31000000e+00,   2.96000000e+02,\n",
       "          0.00000000e+00,   6.57500000e+00],\n",
       "       [  2.73100000e-02,   4.96710000e+00,   0.00000000e+00,\n",
       "          1.78000000e+01,   7.07000000e+00,   2.42000000e+02,\n",
       "          0.00000000e+00,   6.42100000e+00],\n",
       "       [  2.72900000e-02,   4.96710000e+00,   0.00000000e+00,\n",
       "          1.78000000e+01,   7.07000000e+00,   2.42000000e+02,\n",
       "          0.00000000e+00,   7.18500000e+00],\n",
       "       [  3.23700000e-02,   6.06220000e+00,   0.00000000e+00,\n",
       "          1.87000000e+01,   2.18000000e+00,   2.22000000e+02,\n",
       "          0.00000000e+00,   6.99800000e+00],\n",
       "       [  6.90500000e-02,   6.06220000e+00,   0.00000000e+00,\n",
       "          1.87000000e+01,   2.18000000e+00,   2.22000000e+02,\n",
       "          0.00000000e+00,   7.14700000e+00]])"
      ]
     },
     "execution_count": 135,
     "metadata": {},
     "output_type": "execute_result"
    }
   ],
   "source": [
    "from sklearn import cross_validation\n",
    "scores=[]\n",
    "i=1\n",
    "while i<len(index):\n",
    "    score=cross_validation.cross_val_score(lr,iris.data[:,index[:i]],y)\n",
    "    s=0\n",
    "    for j in score:\n",
    "        s=s+abs(j)\n",
    "    scores.append(s)\n",
    "    i=i+1\n",
    "print scores\n",
    "\n",
    "features=scores.index(min(scores))\n",
    "print index[:features]\n",
    "print iris.data[:5,index[:features]]"
   ]
  },
  {
   "cell_type": "code",
   "execution_count": 121,
   "metadata": {
    "collapsed": false
   },
   "outputs": [
    {
     "name": "stdout",
     "output_type": "stream",
     "text": [
      "<type 'list'>\n",
      "-4.73631057\n"
     ]
    }
   ],
   "source": [
    "##test\n",
    "a=[0.5828011 ,  0.53193819, -5.85104986]\n",
    "print type(a)\n",
    "s=0\n",
    "for j in a:\n",
    "    s=s+j\n",
    "print s"
   ]
  },
  {
   "cell_type": "code",
   "execution_count": 123,
   "metadata": {
    "collapsed": false
   },
   "outputs": [
    {
     "data": {
      "text/plain": [
       "[0, 1, 2, 3, 4, 5, 6, 7, 8, 9, 10, 11, 12]"
      ]
     },
     "execution_count": 123,
     "metadata": {},
     "output_type": "execute_result"
    }
   ],
   "source": [
    "range(len(index))\n"
   ]
  },
  {
   "cell_type": "code",
   "execution_count": null,
   "metadata": {
    "collapsed": true
   },
   "outputs": [],
   "source": []
  },
  {
   "cell_type": "code",
   "execution_count": null,
   "metadata": {
    "collapsed": true
   },
   "outputs": [],
   "source": []
  },
  {
   "cell_type": "code",
   "execution_count": null,
   "metadata": {
    "collapsed": true
   },
   "outputs": [],
   "source": []
  }
 ],
 "metadata": {
  "kernelspec": {
   "display_name": "Python 2",
   "language": "python",
   "name": "python2"
  },
  "language_info": {
   "codemirror_mode": {
    "name": "ipython",
    "version": 2
   },
   "file_extension": ".py",
   "mimetype": "text/x-python",
   "name": "python",
   "nbconvert_exporter": "python",
   "pygments_lexer": "ipython2",
   "version": "2.7.6"
  }
 },
 "nbformat": 4,
 "nbformat_minor": 0
}
