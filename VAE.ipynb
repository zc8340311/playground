{
 "cells": [
  {
   "cell_type": "code",
   "execution_count": 1,
   "metadata": {},
   "outputs": [],
   "source": [
    "import numpy as np\n",
    "import tensorflow as tf"
   ]
  },
  {
   "cell_type": "markdown",
   "metadata": {},
   "source": [
    "http://kvfrans.com/variational-autoencoders-explained/"
   ]
  },
  {
   "cell_type": "markdown",
   "metadata": {},
   "source": [
    "### implementation notes\n",
    "\n",
    "* for last_dim, next_dim in zip(encode_dim, encode_dim[1:]): is very nice for iteration to get two terms at same time\n",
    "\n",
    "  \\[last_dim,next_dim  for last_dim, next_dim in zip(reversed(encode_dim), reversed(encode_dim[:-1]))\\]\n",
    "  \n",
    "  \n",
    "\n",
    "* Argue: should the encoder and decoder share bias term?\n",
    "    - no, since they have different dimension\n",
    "    - yes, since $f^{-1}$ should be exactly same with $f$"
   ]
  },
  {
   "cell_type": "code",
   "execution_count": 2,
   "metadata": {},
   "outputs": [
    {
     "name": "stdout",
     "output_type": "stream",
     "text": [
      "Extracting /tmp/data/train-images-idx3-ubyte.gz\n",
      "Extracting /tmp/data/train-labels-idx1-ubyte.gz\n",
      "Extracting /tmp/data/t10k-images-idx3-ubyte.gz\n",
      "Extracting /tmp/data/t10k-labels-idx1-ubyte.gz\n"
     ]
    }
   ],
   "source": [
    "# Import MNIST data\n",
    "from tensorflow.examples.tutorials.mnist import input_data\n",
    "mnist = input_data.read_data_sets(\"/tmp/data/\", one_hot=True)\n",
    "num_steps = 30000"
   ]
  },
  {
   "cell_type": "code",
   "execution_count": 4,
   "metadata": {},
   "outputs": [
    {
     "name": "stdout",
     "output_type": "stream",
     "text": [
      "Step 1, Loss: 567.372131\n",
      "Step 1000, Loss: 171.603958\n",
      "Step 2000, Loss: 186.927261\n",
      "Step 3000, Loss: 178.683792\n",
      "Step 4000, Loss: 164.049332\n",
      "Step 5000, Loss: 173.377045\n",
      "Step 6000, Loss: 167.649780\n",
      "Step 7000, Loss: 169.515900\n",
      "Step 8000, Loss: 163.574280\n",
      "Step 9000, Loss: 170.399658\n",
      "Step 10000, Loss: 169.687378\n",
      "Step 11000, Loss: 153.051865\n",
      "Step 12000, Loss: 160.581680\n",
      "Step 13000, Loss: 147.483719\n",
      "Step 14000, Loss: 162.355103\n",
      "Step 15000, Loss: 165.988983\n",
      "Step 16000, Loss: 152.213760\n",
      "Step 17000, Loss: 161.139526\n",
      "Step 18000, Loss: 153.681381\n",
      "Step 19000, Loss: 151.893921\n",
      "Step 20000, Loss: 156.812286\n",
      "Step 21000, Loss: 153.698975\n",
      "Step 22000, Loss: 150.289948\n",
      "Step 23000, Loss: 150.592926\n",
      "Step 24000, Loss: 155.173920\n",
      "Step 25000, Loss: 162.995850\n",
      "Step 26000, Loss: 160.207031\n",
      "Step 27000, Loss: 160.512283\n",
      "Step 28000, Loss: 160.839035\n",
      "Step 29000, Loss: 162.958496\n",
      "Step 30000, Loss: 156.991272\n"
     ]
    }
   ],
   "source": [
    "encode_dim = [784,512]\n",
    "input_dim = encode_dim[0]\n",
    "latent_dim = 2\n",
    "num = 64\n",
    "learning_rate = 0.001\n",
    "def init(shape,rtype='uniform'):\n",
    "    if rtype == 'normal':\n",
    "        return tf.random_normal(shape=shape, stddev=1. / tf.sqrt(shape[0] / 2.))\n",
    "    if rtype == 'uniform':\n",
    "        if len(shape) == 2:\n",
    "            init_max_value = np.sqrt(6. / (shape[0] + shape[1]))\n",
    "            return tf.random_uniform(shape,np.negative(init_max_value),init_max_value)\n",
    "        else:\n",
    "            init_max_value = np.sqrt(6. / (shape[0]))\n",
    "            return tf.random_uniform(shape,np.negative(init_max_value),init_max_value)\n",
    "with tf.Graph().as_default():\n",
    "    with tf.Session() as sess:\n",
    "        input_x = tf.placeholder(dtype=tf.float32,shape=[num,input_dim])\n",
    "        weight_list = []\n",
    "        encode_bias_list = []\n",
    "        decode_bias_list = []\n",
    "        # init encoding weight,bias\n",
    "        for last_dim, next_dim in zip(encode_dim, encode_dim[1:]):\n",
    "            weight_list.append(tf.Variable(init([last_dim,next_dim])))\n",
    "            encode_bias_list.append(tf.Variable(init([next_dim])))\n",
    "        # init decoding bias\n",
    "        for last_dim, next_dim in zip(reversed(encode_dim), reversed(encode_dim[:-1])):\n",
    "            decode_bias_list.append(tf.Variable(init([next_dim])))\n",
    "        hidden_mean_weight = tf.Variable(init([encode_dim[-1],latent_dim]))\n",
    "        hidden_mean_bias = tf.Variable(init([latent_dim]))\n",
    "        hidden_variance_weight = tf.Variable(init([encode_dim[-1],latent_dim]))\n",
    "        hidden_variance_bias = tf.Variable(init([latent_dim]))\n",
    "        decode_weight = tf.Variable(init([latent_dim,encode_dim[-1]]))\n",
    "        decode_bias = tf.Variable(init([encode_dim[-1]]))\n",
    "        # Building Graph\n",
    "        # encoder\n",
    "        hidden_layer = input_x\n",
    "        for weight,bias in zip(weight_list,encode_bias_list):\n",
    "            hidden_layer = tf.nn.sigmoid(tf.matmul(hidden_layer,weight) + bias)\n",
    "        # representation trick\n",
    "        mean = tf.matmul(hidden_layer, hidden_mean_weight) + hidden_mean_bias\n",
    "        variance = tf.matmul(hidden_layer, hidden_variance_weight) + hidden_variance_bias\n",
    "        # sample from N(0,1)\n",
    "        samples = tf.random_normal(tf.shape(variance),dtype=tf.float32,mean=0.0,stddev=1.0,name='samples')\n",
    "        hidden_layer = mean + tf.exp(variance / 2) * samples\n",
    "        hidden_layer = tf.nn.sigmoid(tf.matmul(hidden_layer,decode_weight) + decode_bias)\n",
    "        # decoder\n",
    "        for weight,bias in zip(reversed(weight_list),decode_bias_list):\n",
    "            hidden_layer = tf.nn.sigmoid(tf.matmul(hidden_layer, tf.transpose(weight)) + bias)\n",
    "        recon = hidden_layer\n",
    "        # compute loss\n",
    "        ## reconstruction loss\n",
    "        recon_loss = (input_x * tf.log(1e-9 + recon)) + ((1- input_x) * tf.log(1e-9 + 1 - recon))\n",
    "        recon_loss = - tf.reduce_sum( recon_loss, 1)\n",
    "        ## close to gaussian loss\n",
    "        gaussian_loss = -0.5 * tf.reduce_sum((1 + variance - tf.square(mean) - tf.exp(variance)),1)\n",
    "        loss = tf.reduce_mean(recon_loss + gaussian_loss)\n",
    "        \n",
    "        optimizer = tf.train.RMSPropOptimizer(learning_rate = learning_rate)\n",
    "        train_op = optimizer.minimize(loss)\n",
    "        \n",
    "        init = tf.global_variables_initializer()\n",
    "        \n",
    "        sess.run(init)\n",
    "        # Training\n",
    "        for i in range(1, num_steps+1):\n",
    "            # Prepare Data\n",
    "            # Get the next batch of MNIST data (only images are needed, not labels)\n",
    "            batch_x, _ = mnist.train.next_batch(num)\n",
    "\n",
    "            # Train\n",
    "            feed_dict = {input_x: batch_x}\n",
    "            _, l = sess.run([train_op, loss], feed_dict=feed_dict)\n",
    "            if i % 1000 == 0 or i == 1:\n",
    "                print('Step %i, Loss: %f' % (i, l))"
   ]
  },
  {
   "cell_type": "code",
   "execution_count": null,
   "metadata": {},
   "outputs": [],
   "source": []
  },
  {
   "cell_type": "code",
   "execution_count": null,
   "metadata": {},
   "outputs": [],
   "source": []
  },
  {
   "cell_type": "code",
   "execution_count": null,
   "metadata": {},
   "outputs": [],
   "source": [
    "encode_dim = [784,400,200]\n",
    "for last_dim, next_dim in zip(encode_dim, encode_dim[1:]):\n",
    "    print last_dim,next_dim\n",
    "print \"-----------------------\"\n",
    "for last_dim, next_dim in zip(reversed(encode_dim), reversed(encode_dim[:-1])):\n",
    "    print last_dim,next_dim"
   ]
  },
  {
   "cell_type": "code",
   "execution_count": null,
   "metadata": {},
   "outputs": [],
   "source": []
  },
  {
   "cell_type": "code",
   "execution_count": null,
   "metadata": {},
   "outputs": [],
   "source": []
  },
  {
   "cell_type": "code",
   "execution_count": null,
   "metadata": {},
   "outputs": [],
   "source": []
  },
  {
   "cell_type": "code",
   "execution_count": null,
   "metadata": {},
   "outputs": [],
   "source": []
  },
  {
   "cell_type": "code",
   "execution_count": null,
   "metadata": {},
   "outputs": [],
   "source": []
  },
  {
   "cell_type": "code",
   "execution_count": null,
   "metadata": {},
   "outputs": [],
   "source": []
  },
  {
   "cell_type": "code",
   "execution_count": null,
   "metadata": {},
   "outputs": [],
   "source": []
  },
  {
   "cell_type": "code",
   "execution_count": null,
   "metadata": {},
   "outputs": [],
   "source": []
  },
  {
   "cell_type": "code",
   "execution_count": null,
   "metadata": {},
   "outputs": [],
   "source": []
  },
  {
   "cell_type": "code",
   "execution_count": null,
   "metadata": {},
   "outputs": [],
   "source": []
  },
  {
   "cell_type": "code",
   "execution_count": null,
   "metadata": {},
   "outputs": [],
   "source": []
  }
 ],
 "metadata": {
  "kernelspec": {
   "display_name": "Python 2",
   "language": "python",
   "name": "python2"
  },
  "language_info": {
   "codemirror_mode": {
    "name": "ipython",
    "version": 2
   },
   "file_extension": ".py",
   "mimetype": "text/x-python",
   "name": "python",
   "nbconvert_exporter": "python",
   "pygments_lexer": "ipython2",
   "version": "2.7.12"
  }
 },
 "nbformat": 4,
 "nbformat_minor": 2
}
