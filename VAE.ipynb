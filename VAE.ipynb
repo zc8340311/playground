{
 "cells": [
  {
   "cell_type": "code",
   "execution_count": 2,
   "metadata": {},
   "outputs": [],
   "source": [
    "import numpy as np\n",
    "import tensorflow as tf"
   ]
  },
  {
   "cell_type": "markdown",
   "metadata": {},
   "source": [
    "http://kvfrans.com/variational-autoencoders-explained/"
   ]
  },
  {
   "cell_type": "markdown",
   "metadata": {},
   "source": [
    "### implementation notes\n",
    "\n",
    "* for last_dim, next_dim in zip(encode_dim, encode_dim[1:]): is very nice for iteration to get two terms at same time\n",
    "\n",
    "  \\[last_dim,next_dim  for last_dim, next_dim in zip(reversed(encode_dim), reversed(encode_dim[:-1]))\\]\n",
    "  \n",
    "  \n",
    "\n",
    "* Argue: should the encoder and decoder share bias term?\n",
    "    - no, since they have different dimension\n",
    "    - yes, since $f^{-1}$ should be exactly same with $f$"
   ]
  },
  {
   "cell_type": "code",
   "execution_count": 26,
   "metadata": {},
   "outputs": [],
   "source": [
    "encode_dim = [784,400,200]\n",
    "input_dim = encode_dim[0]\n",
    "latent_dim = 20\n",
    "num = 20\n",
    "with tf.Graph().as_default():\n",
    "    with tf.Session() as sess:\n",
    "        input_x = tf.placeholder(dtype=tf.float32,shape=[num,input_dim])\n",
    "        weight_list = []\n",
    "        encode_bias_list = []\n",
    "        decode_bias_list = []\n",
    "        # init encoding weight,bias\n",
    "        for last_dim, next_dim in zip(encode_dim, encode_dim[1:]):\n",
    "            init_max_value = np.sqrt(6. / (last_dim + next_dim))\n",
    "            weight_list.append(tf.Variable(tf.random_uniform([last_dim,next_dim],\n",
    "                                                    np.negative(init_max_value),init_max_value)))\n",
    "            encode_bias_list.append(tf.Variable(tf.random_uniform([next_dim],-0.1,0.1)))\n",
    "        # init decoding bias\n",
    "        for last_dim, next_dim in zip(reversed(encode_dim), reversed(encode_dim[:-1])):\n",
    "            decode_bias_list.append(tf.Variable(tf.random_uniform([next_dim],-0.1,0.1)))\n",
    "        init_max_value = np.sqrt(6. / (encode_dim[-1] + latent_dim))\n",
    "        hidden_mean_weight = tf.Variable(tf.random_uniform([encode_dim[-1],latent_dim],\n",
    "                                                    np.negative(init_max_value),init_max_value))\n",
    "        hidden_mean_bias = tf.Variable(tf.random_uniform([latent_dim],\n",
    "                                                    np.negative(init_max_value),init_max_value))\n",
    "        hidden_variance_weight = tf.Variable(tf.random_uniform([encode_dim[-1],latent_dim],\n",
    "                                                    np.negative(init_max_value),init_max_value))\n",
    "        hidden_variance_bias = tf.Variable(tf.random_uniform([latent_dim],\n",
    "                                                    np.negative(init_max_value),init_max_value))\n",
    "        decode_weight = tf.Variable(tf.random_uniform([latent_dim,encode_dim[-1]],\n",
    "                                                     np.negative(init_max_value),init_max_value))\n",
    "        decode_bias = tf.Variable(tf.random_uniform([encode_dim[-1]],\n",
    "                                                    np.negative(init_max_value),init_max_value))\n",
    "        # Building Graph\n",
    "        # encoder\n",
    "        hidden_layer = input_x\n",
    "        for weight,bias in zip(weight_list,encode_bias_list):\n",
    "            hidden_layer = tf.nn.tanh(tf.matmul(hidden_layer,weight) + bias)\n",
    "        # representation trick\n",
    "        mean = tf.matmul(hidden_layer, hidden_mean_weight) + hidden_mean_bias\n",
    "        variance = tf.matmul(hidden_layer, hidden_variance_weight) + hidden_variance_bias\n",
    "        # sample from N(0,1)\n",
    "        samples = tf.random_normal(tf.shape(variance),dtype=tf.float32,mean=0.0,stddev=1.0,name='samples')\n",
    "        hidden_layer = mean + tf.exp(variance / 2) * samples\n",
    "        hidden_layer = tf.nn.tanh(tf.matmul(hidden_layer,decode_weight) + decode_bias)\n",
    "        # decoder\n",
    "        for weight,bias in zip(reversed(weight_list),decode_bias_list):\n",
    "            hidden_layer = tf.nn.sigmoid(tf.matmul(hidden_layer, tf.transpose(weight)) + bias)\n",
    "        \n",
    "        pass"
   ]
  },
  {
   "cell_type": "code",
   "execution_count": 15,
   "metadata": {},
   "outputs": [
    {
     "name": "stdout",
     "output_type": "stream",
     "text": [
      "784 400\n",
      "400 200\n",
      "-----------------------\n",
      "200 400\n",
      "400 784\n"
     ]
    }
   ],
   "source": [
    "encode_dim = [784,400,200]\n",
    "for last_dim, next_dim in zip(encode_dim, encode_dim[1:]):\n",
    "    print last_dim,next_dim\n",
    "print \"-----------------------\"\n",
    "for last_dim, next_dim in zip(reversed(encode_dim), reversed(encode_dim[:-1])):\n",
    "    print last_dim,next_dim"
   ]
  },
  {
   "cell_type": "code",
   "execution_count": null,
   "metadata": {},
   "outputs": [],
   "source": []
  },
  {
   "cell_type": "code",
   "execution_count": null,
   "metadata": {},
   "outputs": [],
   "source": []
  },
  {
   "cell_type": "code",
   "execution_count": null,
   "metadata": {},
   "outputs": [],
   "source": []
  },
  {
   "cell_type": "code",
   "execution_count": null,
   "metadata": {},
   "outputs": [],
   "source": []
  },
  {
   "cell_type": "code",
   "execution_count": null,
   "metadata": {},
   "outputs": [],
   "source": []
  },
  {
   "cell_type": "code",
   "execution_count": null,
   "metadata": {},
   "outputs": [],
   "source": []
  },
  {
   "cell_type": "code",
   "execution_count": null,
   "metadata": {},
   "outputs": [],
   "source": []
  },
  {
   "cell_type": "code",
   "execution_count": null,
   "metadata": {},
   "outputs": [],
   "source": []
  },
  {
   "cell_type": "code",
   "execution_count": null,
   "metadata": {},
   "outputs": [],
   "source": []
  },
  {
   "cell_type": "code",
   "execution_count": null,
   "metadata": {},
   "outputs": [],
   "source": []
  },
  {
   "cell_type": "code",
   "execution_count": null,
   "metadata": {},
   "outputs": [],
   "source": []
  }
 ],
 "metadata": {
  "kernelspec": {
   "display_name": "Python 2",
   "language": "python",
   "name": "python2"
  },
  "language_info": {
   "codemirror_mode": {
    "name": "ipython",
    "version": 2
   },
   "file_extension": ".py",
   "mimetype": "text/x-python",
   "name": "python",
   "nbconvert_exporter": "python",
   "pygments_lexer": "ipython2",
   "version": "2.7.12"
  }
 },
 "nbformat": 4,
 "nbformat_minor": 2
}
