{
 "cells": [
  {
   "cell_type": "code",
   "execution_count": 1,
   "metadata": {
    "collapsed": true
   },
   "outputs": [],
   "source": [
    "import numpy as np\n",
    "import os"
   ]
  },
  {
   "cell_type": "code",
   "execution_count": 2,
   "metadata": {
    "collapsed": false
   },
   "outputs": [],
   "source": []
  },
  {
   "cell_type": "code",
   "execution_count": 17,
   "metadata": {
    "collapsed": false
   },
   "outputs": [],
   "source": [
    "def clean_data_line(line):\n",
    "    del line[0:2]\n",
    "    return map(float,line)\n",
    "def clean_one_patient_to_one_line(data):\n",
    "    #first line is time label, not data \n",
    "    time_line = data[0]\n",
    "    del data[0]\n",
    "    # for each line first element is file name, repeated.... the second is the sub brick\n",
    "    data = map(clean_data_line,data)   \n",
    "    return time_line,len(data),[item for one_line in data for item in one_line]\n",
    "def clean_one_hospital_data(folder):\n",
    "    whole_hospital = []\n",
    "    data_folder_name = [str(i) for i in os.listdir(folder) if os.path.isdir(folder+i)]\n",
    "    #print data_folder_name\n",
    "    for index,patient_folder in enumerate(data_folder_name):\n",
    "        one_patient_folder = folder + \"\\\\\" + patient_folder\n",
    "        with open(one_patient_folder + \"\\\\\" + os.listdir(one_patient_folder)[0]) as f:\n",
    "            one_patient_data = []\n",
    "            ## read the data\n",
    "            for line in f:\n",
    "                one_patient_data.append([ i.strip() for i in line.strip().split(\"\\t\")])\n",
    "            ## convert multiline to one line. \n",
    "            timeline,bricks,one_patient = clean_one_patient_to_one_line(one_patient_data)\n",
    "            whole_hospital.append([patient_folder]+one_patient)\n",
    "    return whole_hospital"
   ]
  },
  {
   "cell_type": "code",
   "execution_count": 18,
   "metadata": {
    "collapsed": false
   },
   "outputs": [
    {
     "name": "stdout",
     "output_type": "stream",
     "text": [
      "(85L, 26913L)\n"
     ]
    }
   ],
   "source": [
    "folder = r\"C:\\Users\\zc\\Documents\\ADHD\\Peking_1\" + \"\\\\\"\n",
    "Peking_1 = np.array(clean_one_hospital_data(folder))\n",
    "print Peking_1.shape"
   ]
  },
  {
   "cell_type": "code",
   "execution_count": 20,
   "metadata": {
    "collapsed": false
   },
   "outputs": [
    {
     "name": "stdout",
     "output_type": "stream",
     "text": [
      "(67L, 26913L)\n"
     ]
    }
   ],
   "source": [
    "folder2 = r\"C:\\Users\\zc\\Documents\\ADHD\\Peking_2\" + \"\\\\\"\n",
    "Peking_2 = np.array(clean_one_hospital_data(folder2))\n",
    "print Peking_2.shape"
   ]
  },
  {
   "cell_type": "code",
   "execution_count": 21,
   "metadata": {
    "collapsed": false
   },
   "outputs": [
    {
     "name": "stdout",
     "output_type": "stream",
     "text": [
      "(42L, 26913L)\n"
     ]
    }
   ],
   "source": [
    "folder3 = r\"C:\\Users\\zc\\Documents\\ADHD\\Peking_3\" + \"\\\\\"\n",
    "Peking_3 = np.array(clean_one_hospital_data(folder3))\n",
    "print Peking_3.shape"
   ]
  },
  {
   "cell_type": "code",
   "execution_count": 27,
   "metadata": {
    "collapsed": false
   },
   "outputs": [
    {
     "name": "stdout",
     "output_type": "stream",
     "text": [
      "1\n"
     ]
    }
   ],
   "source": [
    "folder4 = r\"C:\\Users\\zc\\Documents\\ADHD\\KKI\" + \"\\\\\"\n",
    "KKI = np.array(clean_one_hospital_data(folder4))\n",
    "print len(KKI[0:1])"
   ]
  },
  {
   "cell_type": "code",
   "execution_count": null,
   "metadata": {
    "collapsed": true
   },
   "outputs": [],
   "source": []
  },
  {
   "cell_type": "code",
   "execution_count": null,
   "metadata": {
    "collapsed": true
   },
   "outputs": [],
   "source": []
  },
  {
   "cell_type": "code",
   "execution_count": null,
   "metadata": {
    "collapsed": true
   },
   "outputs": [],
   "source": []
  },
  {
   "cell_type": "code",
   "execution_count": null,
   "metadata": {
    "collapsed": true
   },
   "outputs": [],
   "source": []
  },
  {
   "cell_type": "code",
   "execution_count": null,
   "metadata": {
    "collapsed": true
   },
   "outputs": [],
   "source": []
  },
  {
   "cell_type": "code",
   "execution_count": null,
   "metadata": {
    "collapsed": true
   },
   "outputs": [],
   "source": []
  },
  {
   "cell_type": "code",
   "execution_count": null,
   "metadata": {
    "collapsed": true
   },
   "outputs": [],
   "source": []
  },
  {
   "cell_type": "code",
   "execution_count": null,
   "metadata": {
    "collapsed": true
   },
   "outputs": [],
   "source": []
  },
  {
   "cell_type": "code",
   "execution_count": null,
   "metadata": {
    "collapsed": true
   },
   "outputs": [],
   "source": []
  },
  {
   "cell_type": "code",
   "execution_count": null,
   "metadata": {
    "collapsed": true
   },
   "outputs": [],
   "source": []
  },
  {
   "cell_type": "code",
   "execution_count": null,
   "metadata": {
    "collapsed": true
   },
   "outputs": [],
   "source": []
  },
  {
   "cell_type": "code",
   "execution_count": null,
   "metadata": {
    "collapsed": true
   },
   "outputs": [],
   "source": []
  },
  {
   "cell_type": "code",
   "execution_count": null,
   "metadata": {
    "collapsed": true
   },
   "outputs": [],
   "source": []
  },
  {
   "cell_type": "code",
   "execution_count": 44,
   "metadata": {
    "collapsed": true
   },
   "outputs": [],
   "source": [
    "import pandas as pd"
   ]
  },
  {
   "cell_type": "code",
   "execution_count": 48,
   "metadata": {
    "collapsed": false
   },
   "outputs": [
    {
     "name": "stdout",
     "output_type": "stream",
     "text": [
      "['Peking_1_phenotypic.csv']\n"
     ]
    }
   ],
   "source": [
    "target = [i for i in os.listdir(folder) if os.path.isfile(folder+i)]\n",
    "print target\n",
    "y1 = pd.read_csv(folder + target[0]) "
   ]
  },
  {
   "cell_type": "code",
   "execution_count": 51,
   "metadata": {
    "collapsed": false
   },
   "outputs": [
    {
     "name": "stdout",
     "output_type": "stream",
     "text": [
      "(85, 23)\n",
      "Index([u'ScanDir ID', u'Site', u'Gender', u'Age', u'Handedness', u'DX',\n",
      "       u'Secondary Dx ', u'ADHD Measure', u'ADHD Index', u'Inattentive',\n",
      "       u'Hyper/Impulsive', u'IQ Measure', u'Verbal IQ', u'Performance IQ',\n",
      "       u'Full2 IQ', u'Full4 IQ', u'Med Status', u'QC_Rest_1', u'QC_Rest_2',\n",
      "       u'QC_Rest_3', u'QC_Rest_4', u'QC_Anatomical_1', u'QC_Anatomical_2'],\n",
      "      dtype='object')\n"
     ]
    }
   ],
   "source": [
    "print y1.shape\n",
    "print y1.columns"
   ]
  },
  {
   "cell_type": "code",
   "execution_count": 61,
   "metadata": {
    "collapsed": false,
    "scrolled": false
   },
   "outputs": [
    {
     "name": "stdout",
     "output_type": "stream",
     "text": [
      "23\n"
     ]
    }
   ],
   "source": [
    "from collections import Counter\n",
    "analysis = [Counter(i) for i in y1]\n",
    "print len(analysis)"
   ]
  },
  {
   "cell_type": "code",
   "execution_count": 11,
   "metadata": {
    "collapsed": false
   },
   "outputs": [
    {
     "ename": "NameError",
     "evalue": "name 'analysis' is not defined",
     "output_type": "error",
     "traceback": [
      "\u001b[0;31m---------------------------------------------------------------------------\u001b[0m",
      "\u001b[0;31mNameError\u001b[0m                                 Traceback (most recent call last)",
      "\u001b[0;32m<ipython-input-11-b171805ff5b0>\u001b[0m in \u001b[0;36m<module>\u001b[0;34m()\u001b[0m\n\u001b[0;32m----> 1\u001b[0;31m \u001b[0manalysis\u001b[0m\u001b[1;33m[\u001b[0m\u001b[1;36m0\u001b[0m\u001b[1;33m]\u001b[0m\u001b[1;33m\u001b[0m\u001b[0m\n\u001b[0m",
      "\u001b[0;31mNameError\u001b[0m: name 'analysis' is not defined"
     ]
    }
   ],
   "source": [
    "analysis[0]"
   ]
  },
  {
   "cell_type": "code",
   "execution_count": null,
   "metadata": {
    "collapsed": true
   },
   "outputs": [],
   "source": []
  }
 ],
 "metadata": {
  "anaconda-cloud": {},
  "kernelspec": {
   "display_name": "Python [default]",
   "language": "python",
   "name": "python2"
  },
  "language_info": {
   "codemirror_mode": {
    "name": "ipython",
    "version": 2
   },
   "file_extension": ".py",
   "mimetype": "text/x-python",
   "name": "python",
   "nbconvert_exporter": "python",
   "pygments_lexer": "ipython2",
   "version": "2.7.12"
  }
 },
 "nbformat": 4,
 "nbformat_minor": 0
}
