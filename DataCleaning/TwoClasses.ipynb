{
 "cells": [
  {
   "cell_type": "code",
   "execution_count": 1,
   "metadata": {
    "collapsed": true
   },
   "outputs": [],
   "source": [
    "import numpy as np\n",
    "import PIL.Image as Image\n",
    "import ImShow as I\n",
    "import matplotlib.pyplot as plt\n",
    "%matplotlib inline\n",
    "from collections import Counter"
   ]
  },
  {
   "cell_type": "code",
   "execution_count": 2,
   "metadata": {
    "collapsed": true
   },
   "outputs": [],
   "source": [
    "folder = r\"C:\\Users\\zc\\Documents\\MNIST data\\Tutorial\" + \"\\\\\"\n",
    "small_file = r\"train_x_small.pkl\"\n",
    "whole_file = r\"train_x.pkl\"\n",
    "y_file = r\"train_y.pkl\""
   ]
  },
  {
   "cell_type": "code",
   "execution_count": 3,
   "metadata": {
    "collapsed": false
   },
   "outputs": [
    {
     "name": "stdout",
     "output_type": "stream",
     "text": [
      "(50000L, 784L)\n",
      "(50000L,)\n"
     ]
    }
   ],
   "source": [
    "data = np.load(folder + whole_file)\n",
    "y = np.load(folder+y_file)\n",
    "print data.shape\n",
    "print y.shape"
   ]
  },
  {
   "cell_type": "code",
   "execution_count": null,
   "metadata": {
    "collapsed": false
   },
   "outputs": [],
   "source": [
    "all_2 = data[y==2]\n",
    "print all_2.shape\n",
    "all_4 = data[y==4]\n",
    "\n",
    "two_and_four = np.concatenate([all_2,all_4],axis=0)\n",
    "two_and_four_y = np.concatenate([np.repeat(2,all_2.shape[0]),np.repeat(4,all_4.shape[0])])\n",
    "shuffle_index = np.random.permutation(len(two_and_four_y))\n",
    "two_and_four = two_and_four[shuffle_index]\n",
    "two_and_four_y = two_and_four_y[shuffle_index]\n",
    "print two_and_four.shape\n",
    "print two_and_four_y.shape"
   ]
  },
  {
   "cell_type": "code",
   "execution_count": null,
   "metadata": {
    "collapsed": false
   },
   "outputs": [],
   "source": [
    "# two_and_four.dump(folder+r\"two_and_four.pkl\")\n",
    "# two_and_four_y.dump(folder+r\"two_and_four_y.pkl\")"
   ]
  },
  {
   "cell_type": "code",
   "execution_count": 4,
   "metadata": {
    "collapsed": false
   },
   "outputs": [
    {
     "name": "stdout",
     "output_type": "stream",
     "text": [
      "(4968L, 784L)\n",
      "(10143L, 784L)\n",
      "(10143L,)\n"
     ]
    }
   ],
   "source": [
    "all_2 = data[y==2]\n",
    "print all_2.shape\n",
    "all_7 = data[y==7]\n",
    "\n",
    "two_and_seven = np.concatenate([all_2,all_7],axis=0)\n",
    "two_and_seven_y = np.concatenate([np.repeat(2,all_2.shape[0]),np.repeat(7,all_7.shape[0])])\n",
    "shuffle_index = np.random.permutation(len(two_and_seven_y))\n",
    "two_and_seven = two_and_seven[shuffle_index]\n",
    "two_and_seven_y = two_and_seven_y[shuffle_index]\n",
    "print two_and_seven.shape\n",
    "print two_and_seven_y.shape"
   ]
  },
  {
   "cell_type": "code",
   "execution_count": 5,
   "metadata": {
    "collapsed": true
   },
   "outputs": [],
   "source": [
    "# two_and_seven.dump(folder+r\"two_and_seven.pkl\")\n",
    "# two_and_seven_y.dump(folder+r\"two_and_seven_y.pkl\")"
   ]
  },
  {
   "cell_type": "code",
   "execution_count": null,
   "metadata": {
    "collapsed": true
   },
   "outputs": [],
   "source": []
  },
  {
   "cell_type": "code",
   "execution_count": null,
   "metadata": {
    "collapsed": true
   },
   "outputs": [],
   "source": []
  },
  {
   "cell_type": "code",
   "execution_count": null,
   "metadata": {
    "collapsed": true
   },
   "outputs": [],
   "source": []
  },
  {
   "cell_type": "code",
   "execution_count": null,
   "metadata": {
    "collapsed": true
   },
   "outputs": [],
   "source": []
  },
  {
   "cell_type": "code",
   "execution_count": null,
   "metadata": {
    "collapsed": true
   },
   "outputs": [],
   "source": []
  },
  {
   "cell_type": "code",
   "execution_count": null,
   "metadata": {
    "collapsed": true
   },
   "outputs": [],
   "source": []
  },
  {
   "cell_type": "code",
   "execution_count": null,
   "metadata": {
    "collapsed": true
   },
   "outputs": [],
   "source": []
  }
 ],
 "metadata": {
  "anaconda-cloud": {},
  "kernelspec": {
   "display_name": "Python [default]",
   "language": "python",
   "name": "python2"
  },
  "language_info": {
   "codemirror_mode": {
    "name": "ipython",
    "version": 2
   },
   "file_extension": ".py",
   "mimetype": "text/x-python",
   "name": "python",
   "nbconvert_exporter": "python",
   "pygments_lexer": "ipython2",
   "version": "2.7.12"
  }
 },
 "nbformat": 4,
 "nbformat_minor": 1
}
