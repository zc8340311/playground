{
 "cells": [
  {
   "cell_type": "code",
   "execution_count": 2,
   "metadata": {
    "collapsed": true
   },
   "outputs": [],
   "source": [
    "import numpy as np\n",
    "import PIL.Image as Image\n",
    "import ImShow as I\n",
    "import matplotlib.pyplot as plt\n",
    "%matplotlib inline"
   ]
  },
  {
   "cell_type": "code",
   "execution_count": 3,
   "metadata": {
    "collapsed": true
   },
   "outputs": [],
   "source": [
    "def clean_data(folder,file_name):\n",
    "    post = \".amat\"\n",
    "    with open(folder + file_name + post) as f:\n",
    "        lenth = []\n",
    "        for i in f:\n",
    "            lenth.append(map(float,i.strip(\"\\n\").split(\"   \")[1:]))\n",
    "    data = np.array(lenth)\n",
    "    y = data[:,-1]\n",
    "    print y.shape\n",
    "    y.dump(folder + file_name + \"_y.pkl\")\n",
    "    data = data[:,0:784]\n",
    "    print data.shape\n",
    "    data.dump(folder + file_name + \"_data.pkl\")"
   ]
  },
  {
   "cell_type": "code",
   "execution_count": 4,
   "metadata": {
    "collapsed": false
   },
   "outputs": [
    {
     "name": "stdout",
     "output_type": "stream",
     "text": [
      "(8000L,)\n",
      "(8000L, 784L)\n"
     ]
    }
   ],
   "source": [
    "folder = r\"C:\\Users\\zc\\Documents\\convex\" + \"\\\\\"\n",
    "file_name = r\"convex_train\"\n",
    "clean_data(folder=folder,file_name=file_name)"
   ]
  },
  {
   "cell_type": "code",
   "execution_count": 6,
   "metadata": {
    "collapsed": false
   },
   "outputs": [
    {
     "name": "stdout",
     "output_type": "stream",
     "text": [
      "(50000L,)\n",
      "(50000L, 784L)\n"
     ]
    }
   ],
   "source": [
    "folder = r\"C:\\Users\\zc\\Documents\\convex\" + \"\\\\\"\n",
    "file_name = r\"convex_test\"\n",
    "clean_data(folder=folder,file_name=file_name)"
   ]
  },
  {
   "cell_type": "code",
   "execution_count": null,
   "metadata": {
    "collapsed": true
   },
   "outputs": [],
   "source": []
  }
 ],
 "metadata": {
  "kernelspec": {
   "display_name": "Python 2",
   "language": "python",
   "name": "python2"
  },
  "language_info": {
   "codemirror_mode": {
    "name": "ipython",
    "version": 2
   },
   "file_extension": ".py",
   "mimetype": "text/x-python",
   "name": "python",
   "nbconvert_exporter": "python",
   "pygments_lexer": "ipython2",
   "version": "2.7.11"
  }
 },
 "nbformat": 4,
 "nbformat_minor": 0
}
