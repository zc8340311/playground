{
 "cells": [
  {
   "cell_type": "code",
   "execution_count": 6,
   "metadata": {
    "collapsed": false
   },
   "outputs": [],
   "source": [
    "from scipy import ndimage\n",
    "import numpy as np\n",
    "import matplotlib.pyplot as plt\n",
    "from scipy.ndimage import imread"
   ]
  },
  {
   "cell_type": "code",
   "execution_count": null,
   "metadata": {
    "collapsed": true
   },
   "outputs": [],
   "source": [
    "# plt.imshow(f)\n",
    "# plt.axis('off')"
   ]
  },
  {
   "cell_type": "code",
   "execution_count": 9,
   "metadata": {
    "collapsed": true
   },
   "outputs": [],
   "source": [
    "folder = r\"C:\\Users\\zc\\Documents\\celebA\""
   ]
  },
  {
   "cell_type": "code",
   "execution_count": 21,
   "metadata": {
    "collapsed": true
   },
   "outputs": [
    {
     "name": "stdout",
     "output_type": "stream",
     "text": [
      "C:\\Users\\zc\\Documents\\celebA\\000001.jpg\n",
      "C:\\Users\\zc\\Documents\\celebA\\000002.jpg\n",
      "C:\\Users\\zc\\Documents\\celebA\\000003.jpg\n",
      "C:\\Users\\zc\\Documents\\celebA\\000004.jpg\n",
      "C:\\Users\\zc\\Documents\\celebA\\000005.jpg\n",
      "C:\\Users\\zc\\Documents\\celebA\\000006.jpg\n",
      "C:\\Users\\zc\\Documents\\celebA\\000007.jpg\n",
      "C:\\Users\\zc\\Documents\\celebA\\000008.jpg\n",
      "C:\\Users\\zc\\Documents\\celebA\\000009.jpg\n",
      "C:\\Users\\zc\\Documents\\celebA\\000010.jpg\n",
      "C:\\Users\\zc\\Documents\\celebA\\000011.jpg\n",
      "C:\\Users\\zc\\Documents\\celebA\\000012.jpg\n",
      "C:\\Users\\zc\\Documents\\celebA\\000013.jpg\n",
      "C:\\Users\\zc\\Documents\\celebA\\000014.jpg\n",
      "C:\\Users\\zc\\Documents\\celebA\\000015.jpg\n",
      "C:\\Users\\zc\\Documents\\celebA\\000016.jpg\n",
      "C:\\Users\\zc\\Documents\\celebA\\000017.jpg\n",
      "C:\\Users\\zc\\Documents\\celebA\\000018.jpg\n",
      "C:\\Users\\zc\\Documents\\celebA\\000019.jpg\n",
      "C:\\Users\\zc\\Documents\\celebA\\000020.jpg\n",
      "C:\\Users\\zc\\Documents\\celebA\\000021.jpg\n",
      "C:\\Users\\zc\\Documents\\celebA\\000022.jpg\n",
      "C:\\Users\\zc\\Documents\\celebA\\000023.jpg\n",
      "C:\\Users\\zc\\Documents\\celebA\\000024.jpg\n",
      "C:\\Users\\zc\\Documents\\celebA\\000025.jpg\n",
      "C:\\Users\\zc\\Documents\\celebA\\000026.jpg\n",
      "C:\\Users\\zc\\Documents\\celebA\\000027.jpg\n",
      "C:\\Users\\zc\\Documents\\celebA\\000028.jpg\n",
      "C:\\Users\\zc\\Documents\\celebA\\000029.jpg\n",
      "C:\\Users\\zc\\Documents\\celebA\\000030.jpg\n",
      "C:\\Users\\zc\\Documents\\celebA\\000031.jpg\n",
      "C:\\Users\\zc\\Documents\\celebA\\000032.jpg\n",
      "C:\\Users\\zc\\Documents\\celebA\\000033.jpg\n",
      "C:\\Users\\zc\\Documents\\celebA\\000034.jpg\n",
      "C:\\Users\\zc\\Documents\\celebA\\000035.jpg\n",
      "C:\\Users\\zc\\Documents\\celebA\\000036.jpg\n",
      "C:\\Users\\zc\\Documents\\celebA\\000037.jpg\n",
      "C:\\Users\\zc\\Documents\\celebA\\000038.jpg\n",
      "C:\\Users\\zc\\Documents\\celebA\\000039.jpg\n",
      "C:\\Users\\zc\\Documents\\celebA\\000040.jpg\n",
      "C:\\Users\\zc\\Documents\\celebA\\000041.jpg\n",
      "C:\\Users\\zc\\Documents\\celebA\\000042.jpg\n",
      "C:\\Users\\zc\\Documents\\celebA\\000043.jpg\n",
      "C:\\Users\\zc\\Documents\\celebA\\000044.jpg\n",
      "C:\\Users\\zc\\Documents\\celebA\\000045.jpg\n",
      "C:\\Users\\zc\\Documents\\celebA\\000046.jpg\n",
      "C:\\Users\\zc\\Documents\\celebA\\000047.jpg\n",
      "C:\\Users\\zc\\Documents\\celebA\\000048.jpg\n",
      "C:\\Users\\zc\\Documents\\celebA\\000049.jpg\n",
      "C:\\Users\\zc\\Documents\\celebA\\000050.jpg\n",
      "C:\\Users\\zc\\Documents\\celebA\\000051.jpg\n",
      "C:\\Users\\zc\\Documents\\celebA\\000052.jpg\n",
      "C:\\Users\\zc\\Documents\\celebA\\000053.jpg\n",
      "C:\\Users\\zc\\Documents\\celebA\\000054.jpg\n",
      "C:\\Users\\zc\\Documents\\celebA\\000055.jpg\n",
      "C:\\Users\\zc\\Documents\\celebA\\000056.jpg\n",
      "C:\\Users\\zc\\Documents\\celebA\\000057.jpg\n",
      "C:\\Users\\zc\\Documents\\celebA\\000058.jpg\n",
      "C:\\Users\\zc\\Documents\\celebA\\000059.jpg\n",
      "C:\\Users\\zc\\Documents\\celebA\\000060.jpg\n",
      "C:\\Users\\zc\\Documents\\celebA\\000061.jpg\n",
      "C:\\Users\\zc\\Documents\\celebA\\000062.jpg\n",
      "C:\\Users\\zc\\Documents\\celebA\\000063.jpg\n",
      "C:\\Users\\zc\\Documents\\celebA\\000064.jpg\n",
      "C:\\Users\\zc\\Documents\\celebA\\000065.jpg\n",
      "C:\\Users\\zc\\Documents\\celebA\\000066.jpg\n",
      "C:\\Users\\zc\\Documents\\celebA\\000067.jpg\n",
      "C:\\Users\\zc\\Documents\\celebA\\000068.jpg\n",
      "C:\\Users\\zc\\Documents\\celebA\\000069.jpg\n",
      "C:\\Users\\zc\\Documents\\celebA\\000070.jpg\n",
      "C:\\Users\\zc\\Documents\\celebA\\000071.jpg\n",
      "C:\\Users\\zc\\Documents\\celebA\\000072.jpg\n",
      "C:\\Users\\zc\\Documents\\celebA\\000073.jpg\n",
      "C:\\Users\\zc\\Documents\\celebA\\000074.jpg\n",
      "C:\\Users\\zc\\Documents\\celebA\\000075.jpg\n",
      "C:\\Users\\zc\\Documents\\celebA\\000076.jpg\n",
      "C:\\Users\\zc\\Documents\\celebA\\000077.jpg\n",
      "C:\\Users\\zc\\Documents\\celebA\\000078.jpg\n",
      "C:\\Users\\zc\\Documents\\celebA\\000079.jpg\n",
      "C:\\Users\\zc\\Documents\\celebA\\000080.jpg\n",
      "C:\\Users\\zc\\Documents\\celebA\\000081.jpg\n",
      "C:\\Users\\zc\\Documents\\celebA\\000082.jpg\n",
      "C:\\Users\\zc\\Documents\\celebA\\000083.jpg\n",
      "C:\\Users\\zc\\Documents\\celebA\\000084.jpg\n",
      "C:\\Users\\zc\\Documents\\celebA\\000085.jpg\n",
      "C:\\Users\\zc\\Documents\\celebA\\000086.jpg\n",
      "C:\\Users\\zc\\Documents\\celebA\\000087.jpg\n",
      "C:\\Users\\zc\\Documents\\celebA\\000088.jpg\n",
      "C:\\Users\\zc\\Documents\\celebA\\000089.jpg\n",
      "C:\\Users\\zc\\Documents\\celebA\\000090.jpg\n",
      "C:\\Users\\zc\\Documents\\celebA\\000091.jpg\n",
      "C:\\Users\\zc\\Documents\\celebA\\000092.jpg\n",
      "C:\\Users\\zc\\Documents\\celebA\\000093.jpg\n",
      "C:\\Users\\zc\\Documents\\celebA\\000094.jpg\n",
      "C:\\Users\\zc\\Documents\\celebA\\000095.jpg\n",
      "C:\\Users\\zc\\Documents\\celebA\\000096.jpg\n",
      "C:\\Users\\zc\\Documents\\celebA\\000097.jpg\n",
      "C:\\Users\\zc\\Documents\\celebA\\000098.jpg\n",
      "C:\\Users\\zc\\Documents\\celebA\\000099.jpg\n",
      "C:\\Users\\zc\\Documents\\celebA\\000100.jpg\n",
      "C:\\Users\\zc\\Documents\\celebA\\000101.jpg\n",
      "C:\\Users\\zc\\Documents\\celebA\\000102.jpg\n",
      "C:\\Users\\zc\\Documents\\celebA\\000103.jpg\n",
      "C:\\Users\\zc\\Documents\\celebA\\000104.jpg\n",
      "C:\\Users\\zc\\Documents\\celebA\\000105.jpg\n",
      "C:\\Users\\zc\\Documents\\celebA\\000106.jpg\n",
      "C:\\Users\\zc\\Documents\\celebA\\000107.jpg\n",
      "C:\\Users\\zc\\Documents\\celebA\\000108.jpg\n",
      "C:\\Users\\zc\\Documents\\celebA\\000109.jpg\n",
      "C:\\Users\\zc\\Documents\\celebA\\000110.jpg\n",
      "C:\\Users\\zc\\Documents\\celebA\\000111.jpg\n",
      "C:\\Users\\zc\\Documents\\celebA\\000112.jpg\n",
      "C:\\Users\\zc\\Documents\\celebA\\000113.jpg\n",
      "C:\\Users\\zc\\Documents\\celebA\\000114.jpg\n",
      "C:\\Users\\zc\\Documents\\celebA\\000115.jpg\n",
      "C:\\Users\\zc\\Documents\\celebA\\000116.jpg\n",
      "C:\\Users\\zc\\Documents\\celebA\\000117.jpg\n",
      "C:\\Users\\zc\\Documents\\celebA\\000118.jpg\n",
      "C:\\Users\\zc\\Documents\\celebA\\000119.jpg\n",
      "C:\\Users\\zc\\Documents\\celebA\\000120.jpg\n",
      "C:\\Users\\zc\\Documents\\celebA\\000121.jpg\n",
      "C:\\Users\\zc\\Documents\\celebA\\000122.jpg\n",
      "C:\\Users\\zc\\Documents\\celebA\\000123.jpg\n",
      "C:\\Users\\zc\\Documents\\celebA\\000124.jpg\n",
      "C:\\Users\\zc\\Documents\\celebA\\000125.jpg\n",
      "C:\\Users\\zc\\Documents\\celebA\\000126.jpg\n",
      "C:\\Users\\zc\\Documents\\celebA\\000127.jpg\n",
      "C:\\Users\\zc\\Documents\\celebA\\000128.jpg\n",
      "C:\\Users\\zc\\Documents\\celebA\\000129.jpg\n",
      "C:\\Users\\zc\\Documents\\celebA\\000130.jpg\n",
      "C:\\Users\\zc\\Documents\\celebA\\000131.jpg\n",
      "C:\\Users\\zc\\Documents\\celebA\\000132.jpg\n",
      "C:\\Users\\zc\\Documents\\celebA\\000133.jpg\n",
      "C:\\Users\\zc\\Documents\\celebA\\000134.jpg\n",
      "C:\\Users\\zc\\Documents\\celebA\\000135.jpg\n",
      "C:\\Users\\zc\\Documents\\celebA\\000136.jpg\n",
      "C:\\Users\\zc\\Documents\\celebA\\000137.jpg\n",
      "C:\\Users\\zc\\Documents\\celebA\\000138.jpg\n",
      "C:\\Users\\zc\\Documents\\celebA\\000139.jpg\n",
      "C:\\Users\\zc\\Documents\\celebA\\000140.jpg\n",
      "C:\\Users\\zc\\Documents\\celebA\\000141.jpg\n",
      "C:\\Users\\zc\\Documents\\celebA\\000142.jpg\n",
      "C:\\Users\\zc\\Documents\\celebA\\000143.jpg\n",
      "C:\\Users\\zc\\Documents\\celebA\\000144.jpg\n",
      "C:\\Users\\zc\\Documents\\celebA\\000145.jpg\n",
      "C:\\Users\\zc\\Documents\\celebA\\000146.jpg\n",
      "C:\\Users\\zc\\Documents\\celebA\\000147.jpg\n",
      "C:\\Users\\zc\\Documents\\celebA\\000148.jpg\n",
      "C:\\Users\\zc\\Documents\\celebA\\000149.jpg\n"
     ]
    }
   ],
   "source": [
    "temp_data = []\n",
    "for i in xrange(1,150):\n",
    "    file_name = folder + \"\\\\\" +str(i).zfill(6) + r\".jpg\"\n",
    "    print file_name\n",
    "    f = imread(file_name)\n",
    "    temp_data.append(f.reshape(f.size))"
   ]
  },
  {
   "cell_type": "code",
   "execution_count": 23,
   "metadata": {
    "collapsed": false
   },
   "outputs": [],
   "source": [
    "data = np.array(temp_data)"
   ]
  },
  {
   "cell_type": "code",
   "execution_count": 24,
   "metadata": {
    "collapsed": false
   },
   "outputs": [
    {
     "name": "stdout",
     "output_type": "stream",
     "text": [
      "(149L, 116412L)\n"
     ]
    }
   ],
   "source": [
    "print data.shape"
   ]
  },
  {
   "cell_type": "code",
   "execution_count": 25,
   "metadata": {
    "collapsed": true
   },
   "outputs": [],
   "source": [
    "data.dump(folder+\"\\\\\"+\"face_data_150.npk\")"
   ]
  },
  {
   "cell_type": "code",
   "execution_count": 26,
   "metadata": {
    "collapsed": true
   },
   "outputs": [],
   "source": [
    "f = \"f\"\n",
    "m = \"m\"\n",
    "y = [f,f,m,f,f,\n",
    "    f,m,m,f,f,\n",
    "    f,m,m,f,m,\n",
    "    m,f,f,f,m,\n",
    "    m,f,m,f,m,\n",
    "    f,f,f,f,m,\n",
    "    f,m,m,f,f,\n",
    "    m,m,m,f,f,\n",
    "    m,f,f,f,f,\n",
    "    f,f,m,m,m,\n",
    "    m,m,m,f,m,\n",
    "    f,f,f,f,m,\n",
    "    m,f,f,m,m,\n",
    "    f,m,m,m,m,\n",
    "    f,m,f,f,f,\n",
    "    m,f,f,m,m,\n",
    "    m,m,f,f,f,\n",
    "    f,f,f,f,m,\n",
    "    m,f,f,f,f,\n",
    "    f,f,f,f,f,\n",
    "    f,m,f,m,m,\n",
    "    f,f,f,m,f,\n",
    "    f,f,m,m,m,\n",
    "    m,f,f,m,m,\n",
    "    f,f,m,f,m,\n",
    "    f,m,f,m,m,\n",
    "    f,f,f,m,m,\n",
    "    m,m,m,f,f,\n",
    "    f,f,m,m,f,\n",
    "    f,f,f,f]"
   ]
  },
  {
   "cell_type": "code",
   "execution_count": 30,
   "metadata": {
    "collapsed": false
   },
   "outputs": [
    {
     "name": "stdout",
     "output_type": "stream",
     "text": [
      "149\n"
     ]
    },
    {
     "data": {
      "text/plain": [
       "Counter({'f': 86, 'm': 63})"
      ]
     },
     "execution_count": 30,
     "metadata": {},
     "output_type": "execute_result"
    }
   ],
   "source": [
    "print len(y)\n",
    "from collections import Counter\n",
    "Counter(y)"
   ]
  },
  {
   "cell_type": "code",
   "execution_count": 31,
   "metadata": {
    "collapsed": true
   },
   "outputs": [],
   "source": [
    "np.array(y).dump(folder+\"\\\\\"+r\"face_y.npk\")"
   ]
  },
  {
   "cell_type": "code",
   "execution_count": null,
   "metadata": {
    "collapsed": true
   },
   "outputs": [],
   "source": []
  }
 ],
 "metadata": {
  "anaconda-cloud": {},
  "kernelspec": {
   "display_name": "Python [default]",
   "language": "python",
   "name": "python2"
  },
  "language_info": {
   "codemirror_mode": {
    "name": "ipython",
    "version": 2
   },
   "file_extension": ".py",
   "mimetype": "text/x-python",
   "name": "python",
   "nbconvert_exporter": "python",
   "pygments_lexer": "ipython2",
   "version": "2.7.12"
  }
 },
 "nbformat": 4,
 "nbformat_minor": 1
}
