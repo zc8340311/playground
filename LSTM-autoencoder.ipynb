{
 "cells": [
  {
   "cell_type": "markdown",
   "metadata": {},
   "source": [
    "# Implementation of LSTM autoencoder\n",
    "cite https://arxiv.org/abs/1607.00148"
   ]
  },
  {
   "cell_type": "code",
   "execution_count": 1,
   "metadata": {},
   "outputs": [],
   "source": [
    "import numpy as np \n",
    "import tensorflow as tf"
   ]
  },
  {
   "cell_type": "code",
   "execution_count": 4,
   "metadata": {},
   "outputs": [],
   "source": [
    "class lstm_autoencoder(object):\n",
    "    def __init__(**para):\n",
    "        pass\n",
    "    def fit(**para):\n",
    "        pass"
   ]
  },
  {
   "cell_type": "code",
   "execution_count": 24,
   "metadata": {},
   "outputs": [
    {
     "name": "stdout",
     "output_type": "stream",
     "text": [
      "0.07118684968143743\n",
      "<type 'int'> <type 'int'>\n",
      "(20, 8, 784)\n",
      "(8, 784, 20)\n"
     ]
    }
   ],
   "source": [
    "from tensorflow.contrib import rnn\n",
    "\n",
    "num = 8\n",
    "time_step = 20\n",
    "input_dim = 784\n",
    "hidden_dim = 400\n",
    "batch_size = num\n",
    "with tf.Graph().as_default():\n",
    "    with tf.Session() as sess:\n",
    "        input_x = tf.placeholder(dtype = tf.float32, shape = [num,input_dim,time_step])\n",
    "        encode_cell = rnn.BasicLSTMCell(hidden_dim)\n",
    "        decode_cell = rnn.BasicLSTMCell(hidden_dim)\n",
    "        en_state = encode_cell.zero_state(batch_size = batch_size, dtype = tf.float32)\n",
    "        de_state = decode_cell.zero_state(batch_size = batch_size, dtype = tf.float32)\n",
    "        en_out_list = []\n",
    "        de_out_list = []\n",
    "        init_max_value = np.sqrt(6. / (hidden_dim + input_dim))\n",
    "        print init_max_value\n",
    "        print type(hidden_dim),type(input_dim)\n",
    "        W = tf.Variable(tf.random_uniform([hidden_dim,input_dim],\n",
    "                                         minval = np.negative(init_max_value),maxval = init_max_value,\n",
    "                                          seed=20))\n",
    "        b = tf.Variable(tf.random_uniform([input_dim],-0.1,0.1))\n",
    "        for x in tf.unstack(input_x,axis=2):\n",
    "            out,en_state = encode_cell(x,en_state)\n",
    "            en_out_list.append(out)\n",
    "        dec_inputs = [tf.zeros((input_x.shape[0],input_x.shape[1]), dtype=tf.float32) for _ in range(input_x.shape[2])]\n",
    "        out,de_state = decode_cell(dec_inputs[0],en_state)\n",
    "        de_out_list.append(out)\n",
    "        for x in dec_inputs[1:]:\n",
    "            out,de_state = decode_cell(x,de_state)\n",
    "            de_out_list.append(out)\n",
    "        de_out_list = de_out_list[::-1]\n",
    "        de_out_list = map(lambda x: tf.matmul(x,W)+b,de_out_list)\n",
    "        print tf.stack(de_out_list).shape\n",
    "        dec_outputs = tf.transpose(tf.stack(de_out_list),[1,2,0])\n",
    "        print dec_outputs.shape\n",
    "        cost = tf.reduce_mean(tf.square(input_x-dec_outputs))"
   ]
  },
  {
   "cell_type": "code",
   "execution_count": null,
   "metadata": {},
   "outputs": [],
   "source": []
  }
 ],
 "metadata": {
  "kernelspec": {
   "display_name": "Python 2",
   "language": "python",
   "name": "python2"
  },
  "language_info": {
   "codemirror_mode": {
    "name": "ipython",
    "version": 2
   },
   "file_extension": ".py",
   "mimetype": "text/x-python",
   "name": "python",
   "nbconvert_exporter": "python",
   "pygments_lexer": "ipython2",
   "version": "2.7.6"
  }
 },
 "nbformat": 4,
 "nbformat_minor": 2
}
