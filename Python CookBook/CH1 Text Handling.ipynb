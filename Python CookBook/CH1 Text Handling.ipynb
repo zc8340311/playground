{
 "cells": [
  {
   "cell_type": "markdown",
   "metadata": {},
   "source": [
    "## 1.1. Unpacking a Sequence into Separate Variables"
   ]
  },
  {
   "cell_type": "code",
   "execution_count": 1,
   "metadata": {
    "collapsed": false
   },
   "outputs": [
    {
     "name": "stdout",
     "output_type": "stream",
     "text": [
      "4 5\n"
     ]
    }
   ],
   "source": [
    "p = (4, 5)\n",
    "x, y = p\n",
    "print x,y"
   ]
  },
  {
   "cell_type": "code",
   "execution_count": 2,
   "metadata": {
    "collapsed": false
   },
   "outputs": [
    {
     "name": "stdout",
     "output_type": "stream",
     "text": [
      "ACME\n"
     ]
    }
   ],
   "source": [
    "data = [ 'ACME', 50, 91.1, (2012, 12, 21) ]\n",
    "name, shares, price, date = data\n",
    "print name"
   ]
  },
  {
   "cell_type": "markdown",
   "metadata": {},
   "source": [
    "Unpacking actually works with any object that happens to be iterable, not just tuples or\n",
    "lists. This includes strings, files, iterators, and generators."
   ]
  },
  {
   "cell_type": "markdown",
   "metadata": {},
   "source": [
    "## 1.2.  Converting Between Characters and Numeric Codes(python3)"
   ]
  },
  {
   "cell_type": "markdown",
   "metadata": {},
   "source": [
    "You need to turn a character into its numeric ASCII (ISO) or Unicode code,and vice\n",
    "versa."
   ]
  },
  {
   "cell_type": "code",
   "execution_count": 1,
   "metadata": {
    "collapsed": false
   },
   "outputs": [
    {
     "name": "stdout",
     "output_type": "stream",
     "text": [
      "97\n",
      "a\n"
     ]
    }
   ],
   "source": [
    "print ord('a')\n",
    "print chr(97)"
   ]
  },
  {
   "cell_type": "code",
   "execution_count": 5,
   "metadata": {
    "collapsed": false
   },
   "outputs": [
    {
     "name": "stdout",
     "output_type": "stream",
     "text": [
      "8224\n",
      "u'\\u2278'\n",
      "≸\n"
     ]
    }
   ],
   "source": [
    "print ord(u\"\\u2020\")\n",
    "print repr(unichr(8824))\n",
    "print u'\\u2278'"
   ]
  },
  {
   "cell_type": "code",
   "execution_count": 6,
   "metadata": {
    "collapsed": false
   },
   "outputs": [
    {
     "name": "stdout",
     "output_type": "stream",
     "text": [
      "[99, 105, 97, 111]\n"
     ]
    }
   ],
   "source": [
    "print map(ord,\"ciao\")"
   ]
  },
  {
   "cell_type": "code",
   "execution_count": 9,
   "metadata": {
    "collapsed": false
   },
   "outputs": [
    {
     "name": "stdout",
     "output_type": "stream",
     "text": [
      "abcdefghijklm\n"
     ]
    }
   ],
   "source": [
    "print \"\".join(map(chr,range(97,110)))"
   ]
  },
  {
   "cell_type": "markdown",
   "metadata": {},
   "source": [
    "## 1.3. Testing Whether an Object Is String-like"
   ]
  },
  {
   "cell_type": "markdown",
   "metadata": {},
   "source": [
    "to test if an object,typically an argument to a function or method is a string"
   ]
  },
  {
   "cell_type": "code",
   "execution_count": 13,
   "metadata": {
    "collapsed": false
   },
   "outputs": [
    {
     "name": "stdout",
     "output_type": "stream",
     "text": [
      "True\n",
      "False\n"
     ]
    }
   ],
   "source": [
    "def isString(obj):\n",
    "    ##basestring is common base class for the str and unicode types\n",
    "    return isinstance(obj,basestring)\n",
    "a = '12'\n",
    "print isString(a)\n",
    "print isString(isString)"
   ]
  },
  {
   "cell_type": "code",
   "execution_count": 15,
   "metadata": {
    "collapsed": false
   },
   "outputs": [
    {
     "name": "stdout",
     "output_type": "stream",
     "text": [
      "True\n",
      "False\n"
     ]
    }
   ],
   "source": [
    "def isStringLike(obj):\n",
    "    try:\n",
    "        obj+\"\"\n",
    "    except:\n",
    "        return False\n",
    "    else:\n",
    "        return True\n",
    "print isStringLike(a)\n",
    "print isStringLike(isString)"
   ]
  },
  {
   "cell_type": "markdown",
   "metadata": {
    "collapsed": true
   },
   "source": [
    "## 1.4 Aligning Strings"
   ]
  },
  {
   "cell_type": "markdown",
   "metadata": {
    "collapsed": true
   },
   "source": [
    "align strings: left, right, or center"
   ]
  },
  {
   "cell_type": "code",
   "execution_count": 17,
   "metadata": {
    "collapsed": false
   },
   "outputs": [
    {
     "name": "stdout",
     "output_type": "stream",
     "text": [
      "| hej                  |                  hej |         hej         \n"
     ]
    }
   ],
   "source": [
    "print '|', \"hej\".ljust(20), '|', \"hej\".rjust(20),'|', 'hej'.center(20)"
   ]
  },
  {
   "cell_type": "code",
   "execution_count": 18,
   "metadata": {
    "collapsed": false
   },
   "outputs": [
    {
     "name": "stdout",
     "output_type": "stream",
     "text": [
      "++++++++hej+++++++++\n"
     ]
    }
   ],
   "source": [
    "print 'hej'.center(20,\"+\")"
   ]
  },
  {
   "cell_type": "markdown",
   "metadata": {
    "collapsed": true
   },
   "source": [
    "## 1.5 Trimming Space from the Ends of a String"
   ]
  },
  {
   "cell_type": "code",
   "execution_count": 19,
   "metadata": {
    "collapsed": false
   },
   "outputs": [
    {
     "name": "stdout",
     "output_type": "stream",
     "text": [
      "| hej            |               hej | hej |\n"
     ]
    }
   ],
   "source": [
    "x = '              hej           '\n",
    "print '|',x.lstrip(),'|',x.rstrip(),'|',x.strip(),'|'"
   ]
  },
  {
   "cell_type": "code",
   "execution_count": 21,
   "metadata": {
    "collapsed": false
   },
   "outputs": [
    {
     "name": "stdout",
     "output_type": "stream",
     "text": [
      "| hejyx |\n"
     ]
    }
   ],
   "source": [
    "x = 'xyxxyy hejyx yyx'\n",
    "print '|'+x.strip('xy')+'|'"
   ]
  },
  {
   "cell_type": "markdown",
   "metadata": {
    "collapsed": true
   },
   "source": [
    "## 1.6 Combining Strings"
   ]
  },
  {
   "cell_type": "code",
   "execution_count": null,
   "metadata": {
    "collapsed": true
   },
   "outputs": [],
   "source": [
    "largeString = ''.join(pieces)"
   ]
  },
  {
   "cell_type": "code",
   "execution_count": null,
   "metadata": {
    "collapsed": true
   },
   "outputs": [],
   "source": [
    "largeString = '%s%s something %s yet more' % (small1, small2, small3)"
   ]
  },
  {
   "cell_type": "code",
   "execution_count": 22,
   "metadata": {
    "collapsed": false
   },
   "outputs": [
    {
     "name": "stdout",
     "output_type": "stream",
     "text": [
      "12adfa\n"
     ]
    }
   ],
   "source": [
    "import operator\n",
    "pieces = [\"1\",\"2\",\"adfa\"]\n",
    "largeString = reduce(operator.add,pieces,\"\")\n",
    "print largeString"
   ]
  },
  {
   "cell_type": "markdown",
   "metadata": {
    "collapsed": true
   },
   "source": [
    "## 1.7 Reversing a String by Words or Characters"
   ]
  },
  {
   "cell_type": "code",
   "execution_count": 23,
   "metadata": {
    "collapsed": false
   },
   "outputs": [
    {
     "name": "stdout",
     "output_type": "stream",
     "text": [
      "terytrtrfdsa\n"
     ]
    }
   ],
   "source": [
    "astring=\"asdfrtrtyret\"\n",
    "revchars = astring[::-1]\n",
    "print revchars"
   ]
  },
  {
   "cell_type": "code",
   "execution_count": 25,
   "metadata": {
    "collapsed": false
   },
   "outputs": [
    {
     "name": "stdout",
     "output_type": "stream",
     "text": [
      "asdfrtrtyret\n"
     ]
    }
   ],
   "source": [
    "revwords = astring.split( ) \n",
    "revwords.reverse( ) \n",
    "revwords = ' '.join(revwords)\n",
    "print revwords"
   ]
  },
  {
   "cell_type": "code",
   "execution_count": 26,
   "metadata": {
    "collapsed": true
   },
   "outputs": [],
   "source": [
    "revwords = ' '.join(astring.split( )[::-1])"
   ]
  },
  {
   "cell_type": "markdown",
   "metadata": {},
   "source": [
    "## 1.8 Checking Whether a String Contains a Set of Characters"
   ]
  },
  {
   "cell_type": "code",
   "execution_count": 28,
   "metadata": {
    "collapsed": false
   },
   "outputs": [],
   "source": [
    "def containsAny(seq, aset):\n",
    "    \"\"\" Check whether sequence seq contains ANY of the items in aset. \"\"\"\n",
    "    for c in seq:\n",
    "        if c in aset: \n",
    "            return True\n",
    "        return False"
   ]
  },
  {
   "cell_type": "markdown",
   "metadata": {},
   "source": [
    "You can gain a little speed by moving to a higher-level,more sophisticated approach, based on the itertools"
   ]
  },
  {
   "cell_type": "code",
   "execution_count": 29,
   "metadata": {
    "collapsed": true
   },
   "outputs": [],
   "source": [
    "import itertools\n",
    "def containsAny(seq, aset):\n",
    "    for item in itertools.ifilter(aset.__contains__, seq):\n",
    "        return True\n",
    "    return False"
   ]
  },
  {
   "cell_type": "markdown",
   "metadata": {},
   "source": [
    "## 1.9 Simplifying Usage of Strings’ translate Method"
   ]
  },
  {
   "cell_type": "code",
   "execution_count": 30,
   "metadata": {
    "collapsed": false
   },
   "outputs": [
    {
     "data": {
      "text/plain": [
       "'2247992'"
      ]
     },
     "execution_count": 30,
     "metadata": {},
     "output_type": "execute_result"
    }
   ],
   "source": [
    "import string\n",
    "def translator(frm='', to='', delete='', keep=None):\n",
    "    if len(to) == 1:\n",
    "        to = to * len(frm)\n",
    "    trans = string.maketrans(frm, to)\n",
    "    if keep is not None:\n",
    "        allchars = string.maketrans('', '')\n",
    "        delete = allchars.translate(allchars, keep.translate(allchars, delete))\n",
    "    def translate(s):\n",
    "        return s.translate(trans, delete)\n",
    "    return translate\n",
    "digits_only = translator(keep=string.digits)\n",
    "digits_only('Chris Perkins : 224-7992')"
   ]
  },
  {
   "cell_type": "code",
   "execution_count": 31,
   "metadata": {
    "collapsed": false
   },
   "outputs": [
    {
     "data": {
      "text/plain": [
       "'Chris Perkins : -'"
      ]
     },
     "execution_count": 31,
     "metadata": {},
     "output_type": "execute_result"
    }
   ],
   "source": [
    "no_digits = translator(delete=string.digits)\n",
    "no_digits('Chris Perkins : 224-7992')"
   ]
  },
  {
   "cell_type": "code",
   "execution_count": 41,
   "metadata": {
    "collapsed": false
   },
   "outputs": [
    {
     "data": {
      "text/plain": [
       "'  %% '"
      ]
     },
     "execution_count": 41,
     "metadata": {},
     "output_type": "execute_result"
    }
   ],
   "source": [
    "a_to_c = translator(delete='cabd')\n",
    "a_to_c(\"abcd  %% adc\")"
   ]
  },
  {
   "cell_type": "markdown",
   "metadata": {
    "collapsed": true
   },
   "source": [
    "## 1.10 Filtering a String for a Set of Characters"
   ]
  },
  {
   "cell_type": "code",
   "execution_count": 6,
   "metadata": {
    "collapsed": false,
    "scrolled": true
   },
   "outputs": [
    {
     "name": "stdout",
     "output_type": "stream",
     "text": [
      "[0, 1, 2, 3, 4, 5, 6, 7, 8, 9, 10, 11, 12, 13, 14, 15, 16, 17, 18, 19, 20, 21, 22, 23, 24, 25, 26, 27, 28, 29, 30, 31, 32, 33, 34, 35, 36, 37, 38, 39, 40, 41, 42, 43, 44, 45, 46, 47, 48, 49, 50, 51, 52, 53, 54, 55, 56, 57, 58, 59, 60, 61, 62, 63, 64, 65, 66, 67, 68, 69, 70, 71, 72, 73, 74, 75, 76, 77, 78, 79, 80, 81, 82, 83, 84, 85, 86, 87, 88, 89, 90, 91, 92, 93, 94, 95, 96, 97, 98, 99, 100, 101, 102, 103, 104, 105, 106, 107, 108, 109, 110, 111, 112, 113, 114, 115, 116, 117, 118, 119, 120, 121, 122, 123, 124, 125, 126, 127, 128, 129, 130, 131, 132, 133, 134, 135, 136, 137, 138, 139, 140, 141, 142, 143, 144, 145, 146, 147, 148, 149, 150, 151, 152, 153, 154, 155, 156, 157, 158, 159, 160, 161, 162, 163, 164, 165, 166, 167, 168, 169, 170, 171, 172, 173, 174, 175, 176, 177, 178, 179, 180, 181, 182, 183, 184, 185, 186, 187, 188, 189, 190, 191, 192, 193, 194, 195, 196, 197, 198, 199, 200, 201, 202, 203, 204, 205, 206, 207, 208, 209, 210, 211, 212, 213, 214, 215, 216, 217, 218, 219, 220, 221, 222, 223, 224, 225, 226, 227, 228, 229, 230, 231, 232, 233, 234, 235, 236, 237, 238, 239, 240, 241, 242, 243, 244, 245, 246, 247, 248, 249, 250, 251, 252, 253, 254, 255]\n",
      "ouoeaeeyeaao\n"
     ]
    }
   ],
   "source": [
    "import string \n",
    "allchars = string.maketrans('','')\n",
    "print [ord(i) for i in allchars]\n",
    "def makefilter(keep):\n",
    "    delchars = allchars.translate(allchars,keep)\n",
    "    def thefilter(s):\n",
    "        return s.translate(allchars,delchars)\n",
    "    return thefilter\n",
    "just_vowels = makefilter('aeouy')\n",
    "print just_vowels('four score and seven years ago')"
   ]
  },
  {
   "cell_type": "code",
   "execution_count": 9,
   "metadata": {
    "collapsed": false
   },
   "outputs": [
    {
     "name": "stdout",
     "output_type": "stream",
     "text": [
      " !dehlorw\n"
     ]
    }
   ],
   "source": [
    "def canonicform(s):\n",
    "    return makefilter(s)(allchars)\n",
    "print canonicform(\"hello world!\")"
   ]
  },
  {
   "cell_type": "markdown",
   "metadata": {
    "collapsed": true
   },
   "source": [
    "## 1.11 Checking Whether a String Is Text or Binary"
   ]
  },
  {
   "cell_type": "code",
   "execution_count": null,
   "metadata": {
    "collapsed": true
   },
   "outputs": [],
   "source": [
    "from __future__ import division\n",
    "import string\n",
    "text_characters=\"\".join(map(chr,range(32,127)))+\"\\n\\r\\b\"\n",
    "_null_trans = string.maketrans(\"\",\"\")\n",
    "def istext(s, text_charactertext_characters, threshold=0.3):\n",
    "    if \"\\0\" in s:\n",
    "        return False\n",
    "    if not s:\n",
    "        return True\n",
    "    t = s.translate(_null_trans,text_characters)\n",
    "    return len(t)/len(s) <= threshold"
   ]
  },
  {
   "cell_type": "markdown",
   "metadata": {
    "collapsed": true
   },
   "source": [
    "## 1.12 Controlling Case"
   ]
  },
  {
   "cell_type": "code",
   "execution_count": 13,
   "metadata": {
    "collapsed": false
   },
   "outputs": [
    {
     "name": "stdout",
     "output_type": "stream",
     "text": [
      "ABC\n",
      "Hello world!\n",
      "Hello World\n"
     ]
    }
   ],
   "source": [
    "little = \"abc\"\n",
    "big = little.upper( )\n",
    "little = big.lower( )\n",
    "print big\n",
    "def capitalize(s):\n",
    "    return s[:1].upper()+s[1:].lower()\n",
    "print capitalize(\"hello world!\")\n",
    "print \"hello world\".title()"
   ]
  },
  {
   "cell_type": "code",
   "execution_count": 29,
   "metadata": {
    "collapsed": false
   },
   "outputs": [
    {
     "name": "stdout",
     "output_type": "stream",
     "text": [
      "True\n"
     ]
    }
   ],
   "source": [
    "def iscapitalized(s):\n",
    "    #print s \n",
    "    #print s.capitalize()\n",
    "    return s == s.capitalize()\n",
    "print iscapitalized(\"\")"
   ]
  },
  {
   "cell_type": "code",
   "execution_count": 26,
   "metadata": {
    "collapsed": false
   },
   "outputs": [
    {
     "name": "stdout",
     "output_type": "stream",
     "text": [
      "False\n"
     ]
    }
   ],
   "source": [
    "import string\n",
    "notrans = string.maketrans(\"\",\"\")\n",
    "def containsAny(str,strset):\n",
    "    return len(strset) != len(strset.translate(notrans,str))\n",
    "def iscapitalized(s):\n",
    "    return s== s.capitalize() and containsAny(s,string.letters)\n",
    "print iscapitalized(\"\")"
   ]
  },
  {
   "cell_type": "markdown",
   "metadata": {
    "collapsed": true
   },
   "source": [
    "## 1.13 Accessing Substrings"
   ]
  },
  {
   "cell_type": "code",
   "execution_count": null,
   "metadata": {
    "collapsed": true
   },
   "outputs": [],
   "source": [
    "afield = theline[3:8]"
   ]
  },
  {
   "cell_type": "markdown",
   "metadata": {
    "collapsed": true
   },
   "source": [
    "## 1.14 Changing the Indentation of a Multiline String"
   ]
  },
  {
   "cell_type": "markdown",
   "metadata": {},
   "source": [
    "You have a string made up of multiple lines,and you need to build another string\n",
    "from it,adding or removing leading spaces on each line so that the indentation of\n",
    "each line is some absolute number of spaces."
   ]
  },
  {
   "cell_type": "code",
   "execution_count": 34,
   "metadata": {
    "collapsed": false
   },
   "outputs": [
    {
     "name": "stdout",
     "output_type": "stream",
     "text": [
      " dsfasdf\n",
      "     asdfadsf\n",
      "     oiup\n",
      "     dfa\n",
      "    dsfasdf\n",
      "    asdfadsf\n",
      "    oiup\n",
      "    dfa\n"
     ]
    }
   ],
   "source": [
    "def reindent(s, numSpace):\n",
    "    leading_space = numSpace * \" \"\n",
    "    lines = [leading_space + line.strip() for line in s.splitlines()]\n",
    "    return '\\n'.join(lines)\n",
    "a=\"\"\" dsfasdf\n",
    "     asdfadsf\n",
    "     oiup\n",
    "     dfa\"\"\"\n",
    "print a\n",
    "print reindent(a, 4)"
   ]
  },
  {
   "cell_type": "markdown",
   "metadata": {},
   "source": [
    "## 1.15 Expanding and Compressing Tabs"
   ]
  },
  {
   "cell_type": "code",
   "execution_count": 72,
   "metadata": {
    "collapsed": false
   },
   "outputs": [
    {
     "name": "stdout",
     "output_type": "stream",
     "text": [
      "adsfa    asdfas  dfasdf    adsf\n",
      "adsfa    asdfas  dfasdf\t  adsf\n"
     ]
    }
   ],
   "source": [
    "def unexpand(astring, tablen = 8):\n",
    "    import re\n",
    "    pieces = re.split(r\"(  +)\", astring.expandtabs(tablen))\n",
    "    lensofar = 0\n",
    "    for i, piece in enumerate(pieces):\n",
    "        thislen = len(piece)\n",
    "        lensofar += thislen\n",
    "        if piece.isspace():\n",
    "            numblanks = lensofar % tablen\n",
    "            numtabs = (thislen - numblanks + tablen-1)/tablen\n",
    "            pieces[i] = '\\t'*numtabs + ' '*numblanks\n",
    "    return ''.join(pieces)\n",
    "a = \"adsfa    asdfas  dfasdf    adsf\"\n",
    "print a\n",
    "print unexpand(a,tablen=5)"
   ]
  },
  {
   "cell_type": "markdown",
   "metadata": {},
   "source": [
    "## 1.16 Interpolating Variables in a String"
   ]
  },
  {
   "cell_type": "code",
   "execution_count": 81,
   "metadata": {
    "collapsed": false
   },
   "outputs": [
    {
     "name": "stdout",
     "output_type": "stream",
     "text": [
      "False\n",
      "just one test\n"
     ]
    }
   ],
   "source": [
    "def expand(format, d, marker='\"', safe = False):\n",
    "    if safe:\n",
    "        def lookup(w): return d.get(w, w.join(marker*2))\n",
    "    else:\n",
    "        def lookup(w): return d[w]\n",
    "    print safe\n",
    "    parts = format.split(marker)\n",
    "    parts[1::2]=map(lookup,parts[1::2])\n",
    "    return ''.join(parts)\n",
    "print expand('just \"a\" test',{'a':'one'})"
   ]
  },
  {
   "cell_type": "markdown",
   "metadata": {},
   "source": [
    "## 1.17 Interpolating Variables in a String in Python 2.4"
   ]
  },
  {
   "cell_type": "markdown",
   "metadata": {},
   "source": [
    "you need a simple way to get a copy of a string where specially\n",
    "marked identifiers are replaced with the results of looking up the identifiers in a\n",
    "dictionary."
   ]
  },
  {
   "cell_type": "code",
   "execution_count": 84,
   "metadata": {
    "collapsed": false
   },
   "outputs": [
    {
     "name": "stdout",
     "output_type": "stream",
     "text": [
      "<string.Template object at 0x0000000003DE6F28>\n",
      "this is 5\n",
      "this is test\n",
      "this is 5\n",
      "this is test\n"
     ]
    }
   ],
   "source": [
    "import string\n",
    "# make a templete\n",
    "new_style = string.Template('this is $thing')\n",
    "print new_style\n",
    "print new_style.substitute({'thing':5})\n",
    "print new_style.substitute({'thing':'test'})\n",
    "print new_style.substitute(thing=5)\n",
    "print new_style.substitute(thing='test')"
   ]
  },
  {
   "cell_type": "markdown",
   "metadata": {},
   "source": [
    "## 1.18 Replacing Multiple Patterns in a Single Pass"
   ]
  },
  {
   "cell_type": "markdown",
   "metadata": {},
   "source": [
    "perform several string substitutions on a string."
   ]
  },
  {
   "cell_type": "code",
   "execution_count": 117,
   "metadata": {
    "collapsed": true
   },
   "outputs": [],
   "source": [
    "import re\n",
    "def multiple_replace(text,adict):\n",
    "    rx = re.compile('|'.join(map(re.escape,adict)))\n",
    "    def one_xlat(match):\n",
    "        print type(match.group)\n",
    "        print match.group(0)\n",
    "        \n",
    "        return adict[match.group(0)]\n",
    "    return rx.sub(one_xlat,text)\n"
   ]
  },
  {
   "cell_type": "raw",
   "metadata": {},
   "source": [
    "Signature: re.sub(pattern, repl, string, count=0, flags=0)\n",
    "Docstring:\n",
    "Return the string obtained by replacing the leftmost\n",
    "non-overlapping occurrences of the pattern in string by the\n",
    "replacement repl.  repl can be either a string ogitr a callable;\n",
    "if a string, backslash escapes in it are processed.  If it is\n",
    "a callable, it's passed the match object and must return\n",
    "a replacement string to be used.\n",
    "File:      c:\\anaconda2\\lib\\re.py\n",
    "Type:      function"
   ]
  },
  {
   "cell_type": "code",
   "execution_count": 129,
   "metadata": {
    "collapsed": false
   },
   "outputs": [],
   "source": [
    "import re \n",
    "def make_xlat(*args, **kwds):\n",
    "    adict = dict(*args, **kwds)\n",
    "    rx = re.compile('|'.join(map(re.escape,adict)))\n",
    "    def one_xlat(match):\n",
    "        return adict[match.group(0)]\n",
    "    def xlat(text):\n",
    "        return rx.sub(one_xlat,text)\n",
    "    return xlat"
   ]
  },
  {
   "cell_type": "code",
   "execution_count": 130,
   "metadata": {
    "collapsed": false
   },
   "outputs": [
    {
     "name": "stdout",
     "output_type": "stream",
     "text": [
      "['Larry Wall', 'Perl', 'creator']\n",
      "<type 'builtin_function_or_method'>\n",
      "Object `match.group` not found.\n",
      "Larry Wall\n",
      "<type 'builtin_function_or_method'>\n",
      "Object `match.group` not found.\n",
      "creator\n",
      "<type 'builtin_function_or_method'>\n",
      "Object `match.group` not found.\n",
      "Perl\n",
      "Guido van Rossum is the Benevolent Dictator for Life of Python\n",
      "Guido van Rossum is the Benevolent Dictator for Life of Python\n"
     ]
    }
   ],
   "source": [
    "text = \"Larry Wall is the creator of Perl\"\n",
    "adict = {\n",
    "\"Larry Wall\" : \"Guido van Rossum\",\n",
    "\"creator\" : \"Benevolent Dictator for Life\",\n",
    "\"Perl\" : \"Python\",\n",
    "}\n",
    "print adict.keys()\n",
    "print multiple_replace(text, adict)\n",
    "translate = make_xlat(adict)\n",
    "print translate(text)"
   ]
  },
  {
   "cell_type": "markdown",
   "metadata": {},
   "source": [
    "## 1.19 Checking a String for Any of Multiple Endings"
   ]
  },
  {
   "cell_type": "raw",
   "metadata": {},
   "source": [
    "For a certain string s,you must check whether s has any of several endings; in other\n",
    "words,you need a handy,elegant equivalent of s.endswith(end1) or\n",
    "s.endswith(end2) or s.endswith(end3) and so on."
   ]
  },
  {
   "cell_type": "code",
   "execution_count": 134,
   "metadata": {
    "collapsed": true
   },
   "outputs": [],
   "source": [
    "import itertools\n",
    "def anyTrue(predicate, sequence):\n",
    "    return True in itertools.imap(predicate,sequence)\n",
    "def endsWith(s, *endings):\n",
    "    return anyTrue(s.endswith, endings)"
   ]
  },
  {
   "cell_type": "code",
   "execution_count": 136,
   "metadata": {
    "collapsed": false
   },
   "outputs": [
    {
     "name": "stdout",
     "output_type": "stream",
     "text": [
      "Python cookbook.ipynb\n"
     ]
    }
   ],
   "source": [
    "import os \n",
    "for filename in os.listdir('.'):\n",
    "    if endsWith(filename,'.jpg','.jpeg','gif','.ipynb'):\n",
    "        print filename"
   ]
  },
  {
   "cell_type": "markdown",
   "metadata": {},
   "source": [
    "## 1.20 Handling International Text with Unicode"
   ]
  },
  {
   "cell_type": "code",
   "execution_count": 137,
   "metadata": {
    "collapsed": false
   },
   "outputs": [
    {
     "name": "stdout",
     "output_type": "stream",
     "text": [
      "ä\n"
     ]
    }
   ],
   "source": [
    "german_ae = unicode('\\xc3\\xa4', 'utf8')\n",
    "print german_ae"
   ]
  },
  {
   "cell_type": "code",
   "execution_count": 139,
   "metadata": {
    "collapsed": false
   },
   "outputs": [
    {
     "name": "stdout",
     "output_type": "stream",
     "text": [
      "This is a ä. Easy!\n"
     ]
    }
   ],
   "source": [
    "sentence = \"This is a \" + german_ae\n",
    "sentence2 = \"Easy!\"\n",
    "para = \". \".join([sentence, sentence2])\n",
    "print para"
   ]
  },
  {
   "cell_type": "markdown",
   "metadata": {},
   "source": [
    "## 1.21 Converting Between Unicode and Plain Strings"
   ]
  },
  {
   "cell_type": "code",
   "execution_count": 150,
   "metadata": {
    "collapsed": false
   },
   "outputs": [
    {
     "name": "stdout",
     "output_type": "stream",
     "text": [
      "Hello world\n",
      "Hello world\n",
      "Hello world\n",
      "Hello world\n",
      "Hello world\n",
      "True\n"
     ]
    }
   ],
   "source": [
    "unicodestring = u\"Hello world\"\n",
    "print unicodestring.decode()\n",
    "utf8string = unicodestring.encode(\"utf-8\")\n",
    "asciistring = unicodestring.encode(\"ascii\")\n",
    "isostring = unicodestring.encode(\"ISO-8859-1\")\n",
    "utf16string = unicodestring.encode(\"utf-16\")\n",
    "\n",
    "plainstring = unicode(utf8string,\"utf-8\")\n",
    "plainstring1 = unicode(asciistring,\"ascii\")\n",
    "plainstring2 = unicode(isostring,\"ISO-8859-1\")\n",
    "plainstring4 = unicode(utf16string,\"utf-16\")\n",
    "\n",
    "print plainstring\n",
    "print plainstring1\n",
    "print plainstring2\n",
    "print plainstring4\n",
    "\n",
    "print plainstring1 == plainstring2 == plainstring3 == plainstring4"
   ]
  },
  {
   "cell_type": "markdown",
   "metadata": {},
   "source": [
    "## 1.22 Printing Unicode Characters to Standard Output"
   ]
  },
  {
   "cell_type": "code",
   "execution_count": 1,
   "metadata": {
    "collapsed": true
   },
   "outputs": [],
   "source": [
    "import codecs, sys\n",
    "#sys.stdout = codecs.lookup('iso8859-1')[-1](sys.stdout)"
   ]
  },
  {
   "cell_type": "code",
   "execution_count": 3,
   "metadata": {
    "collapsed": false
   },
   "outputs": [
    {
     "name": "stdout",
     "output_type": "stream",
     "text": [
      "<ipykernel.iostream.OutStream object at 0x0000000003B64DA0>\n",
      "ä\n"
     ]
    }
   ],
   "source": [
    "old = sys.stdout\n",
    "print old\n",
    "char = u\"\\N{LATIN SMALL LETTER A WITH DIAERESIS}\"\n",
    "print char"
   ]
  },
  {
   "cell_type": "code",
   "execution_count": 4,
   "metadata": {
    "collapsed": false
   },
   "outputs": [
    {
     "name": "stdout",
     "output_type": "stream",
     "text": [
      "ä\n"
     ]
    }
   ],
   "source": [
    "sys.stdout = codecs.lookup('utf-8')[-1](sys.stdout)\n",
    "print char"
   ]
  },
  {
   "cell_type": "markdown",
   "metadata": {},
   "source": [
    "## 1.23 Encoding Unicode Data for XML and HTML"
   ]
  },
  {
   "cell_type": "raw",
   "metadata": {},
   "source": [
    "encode Unicode text for output in HTML,or some other XML application, using a limited but popular encoding such as ASCII or Latin-1."
   ]
  },
  {
   "cell_type": "code",
   "execution_count": 5,
   "metadata": {
    "collapsed": true
   },
   "outputs": [],
   "source": [
    "def encode_for_xml(unicode_data, encoding='ascii'):\n",
    "    return unicode_data.encode(encoding, 'xmlcharrefreplace')"
   ]
  },
  {
   "cell_type": "code",
   "execution_count": 6,
   "metadata": {
    "collapsed": true
   },
   "outputs": [],
   "source": [
    "import codecs\n",
    "from htmlentitydefs import codepoint2name\n",
    "def html_replace(exc):\n",
    "    if isinstance(exc, (UnicodeEncodeError, UnicodeTranslateError)):\n",
    "        s = [u'&%s;' % codepoint2name[ord(c)] for c in exc.object[exc.start:exc.end]]\n",
    "        return ''.join(s),exc.end\n",
    "    else:\n",
    "        raise TypeError(\"can't handle %s\" % exc.__name__)\n",
    "codecs.register_error('html_replace',html_replace)"
   ]
  },
  {
   "cell_type": "code",
   "execution_count": 10,
   "metadata": {
    "collapsed": true
   },
   "outputs": [],
   "source": [
    "def encode_for_html(unicode_data, encoding='ascii'):\n",
    "    return unicode_data.encode(encoding, 'html_replace')"
   ]
  },
  {
   "cell_type": "code",
   "execution_count": 11,
   "metadata": {
    "collapsed": false
   },
   "outputs": [
    {
     "name": "stdout",
     "output_type": "stream",
     "text": [
      "<html>\n",
      "<head>\n",
      "<title>Encoding Test</title>\n",
      "</head>\n",
      "<body>\n",
      "<p>accented characters:\n",
      "<ul>\n",
      "<li>&#224; (a + grave)\n",
      "<li>&#231; (c + cedilla)\n",
      "<li>&#233; (e + acute)\n",
      "</ul>\n",
      "<p>symbols:\n",
      "<ul>\n",
      "<li>&#163; (British pound)\n",
      "<li>&#8364; (Euro)\n",
      "<li>&#8734; (infinity)\n",
      "</ul>\n",
      "</body></html>\n",
      "\n",
      "<html>\n",
      "<head>\n",
      "<title>Encoding Test</title>\n",
      "</head>\n",
      "<body>\n",
      "<p>accented characters:\n",
      "<ul>\n",
      "<li>&agrave; (a + grave)\n",
      "<li>&ccedil; (c + cedilla)\n",
      "<li>&eacute; (e + acute)\n",
      "</ul>\n",
      "<p>symbols:\n",
      "<ul>\n",
      "<li>&pound; (British pound)\n",
      "<li>&euro; (Euro)\n",
      "<li>&infin; (infinity)\n",
      "</ul>\n",
      "</body></html>\n",
      "\n"
     ]
    }
   ],
   "source": [
    "data = u'''\\\n",
    "<html>\n",
    "<head>\n",
    "<title>Encoding Test</title>\n",
    "</head>\n",
    "<body>\n",
    "<p>accented characters:\n",
    "<ul>\n",
    "<li>\\xe0 (a + grave)\n",
    "<li>\\xe7 (c + cedilla)\n",
    "<li>\\xe9 (e + acute)\n",
    "</ul>\n",
    "<p>symbols:\n",
    "<ul>\n",
    "<li>\\xa3 (British pound)\n",
    "<li>\\u20ac (Euro)\n",
    "<li>\\u221e (infinity)\n",
    "</ul>\n",
    "</body></html>\n",
    "'''\n",
    "print encode_for_xml(data)\n",
    "print encode_for_html(data)"
   ]
  },
  {
   "cell_type": "markdown",
   "metadata": {},
   "source": [
    "## 1.24 Making Some Strings Case-Insensitive"
   ]
  },
  {
   "cell_type": "raw",
   "metadata": {},
   "source": [
    "treat some strings so that all comparisons and lookups are case-insensitive, while all other uses of the strings preserve the original case."
   ]
  },
  {
   "cell_type": "code",
   "execution_count": 14,
   "metadata": {
    "collapsed": false
   },
   "outputs": [],
   "source": [
    "class iStr(str):\n",
    "    \"\"\"case insensitive class\"\"\"\n",
    "    def __init__(self,*args):\n",
    "        self.lowered = str.lower(self)\n",
    "    def __repr__(self):\n",
    "        return '%s(%s)' % (type(self).__name__, str.__repr__(self))\n",
    "    def __hash__(self):\n",
    "        return hash(self.lowered)\n",
    "    def lower(self):\n",
    "        return self.lowered\n",
    "    def _make_case_insensitive(name):\n",
    "        ''' wrap one method of str into an iStr one, case-insensitive '''\n",
    "        str_meth = getattr(str, name)\n",
    "        def x(self, other, *args):\n",
    "            \"\"\"try lowercasing 'other', which is typically a string, but\n",
    "                be prepared to use it as-is if lowering gives problems,\n",
    "                since strings CAN be correctly compared with non-strings.\n",
    "            \"\"\"\n",
    "            try: \n",
    "                other = other.lower()\n",
    "            except (TypeError, AttributeError, ValueError):\n",
    "                pass\n",
    "            return str_meth(self._lowered, other, *args)\n",
    "        setattr(iStr, name, x)\n",
    "        for name in 'eq lt le gt gt ne cmp contains'.split( ):\n",
    "            _make_case_insensitive('__%s__' % name)\n",
    "        for name in 'count endswith find index rfind rindex startswith'.split( ):\n",
    "            _make_case_insensitive(name)\n",
    "        # note that we don't modify methods 'replace', 'split', 'strip', ...\n",
    "        # of course, you can add modifications to them, too, if you prefer that.\n",
    "        del _make_case_insensitive"
   ]
  },
  {
   "cell_type": "markdown",
   "metadata": {},
   "source": [
    "## 1.25 Converting HTML Documents to Text on a Unix Terminal"
   ]
  },
  {
   "cell_type": "code",
   "execution_count": null,
   "metadata": {
    "collapsed": true
   },
   "outputs": [],
   "source": [
    "#!/usr/bin/env python\n",
    "import sys, os, htmllib, formatter\n",
    "# use Unix tput to get the escape sequences for bold, underline, reset\n",
    "set_bold = os.popen('tput bold').read( )\n",
    "set_underline = os.popen('tput smul').read( )\n",
    "perform_reset = os.popen('tput sgr0').read( )\n",
    "class TtyFormatter(formatter.AbstractFormatter):\n",
    "    ''' a formatter that keeps track of bold and italic font states, and\n",
    "    emits terminal control sequences accordingly.\n",
    "    '''\n",
    "    def __init__(self, writer):\n",
    "        # first, as usual, initialize the superclass\n",
    "        formatter.AbstractFormatter.__init__(self, writer)\n",
    "        # start with neither bold nor italic, and no saved font state\n",
    "        self.fontState = False, False\n",
    "        self.fontStack = [ ]\n",
    "    def push_font(self, font):\n",
    "        # the `font' tuple has four items, we only track the two flags\n",
    "        # about whether italic and bold are active or not\n",
    "        size, is_italic, is_bold, is_tt = font\n",
    "        self.fontStack.append((is_italic, is_bold))\n",
    "        self._updateFontState( )\n",
    "    def pop_font(self, *args):\n",
    "        # go back to previous font state\n",
    "        try:\n",
    "            self.fontStack.pop( )\n",
    "        except IndexError:\n",
    "            pass\n",
    "        self._updateFontState( )\n",
    "    def updateFontState(self):\n",
    "        # emit appropriate terminal control sequences if the state of\n",
    "        # bold and/or italic(==underline) has just changed\n",
    "        try:\n",
    "            newState = self.fontStack[-1]\n",
    "        except IndexError:\n",
    "            newState = False, False\n",
    "        if self.fontState != newState:\n",
    "            # relevant state change: reset terminal\n",
    "            print perform_reset,\n",
    "            # set underine and/or bold if needed\n",
    "            if newState[0]:\n",
    "                print set_underline,\n",
    "            if newState[1]:\n",
    "                print set_bold,\n",
    "            # remember the two flags as our current font-state\n",
    "            self.fontState = newState\n",
    "# make writer, formatter and parser objects, connecting them as needed\n",
    "myWriter = formatter.DumbWriter( )\n",
    "if sys.stdout.isatty( ):\n",
    "    myFormatter = TtyFormatter(myWriter)\n",
    "else:\n",
    "    myFormatter = formatter.AbstractFormatter(myWriter)\n",
    "myParser = htmllib.HTMLParser(myFormatter)\n",
    "# feed all of standard input to the parser, then terminate operations\n",
    "myParser.feed(sys.stdin.read( ))\n",
    "myParser.close( )"
   ]
  },
  {
   "cell_type": "code",
   "execution_count": null,
   "metadata": {
    "collapsed": true
   },
   "outputs": [],
   "source": []
  },
  {
   "cell_type": "code",
   "execution_count": null,
   "metadata": {
    "collapsed": true
   },
   "outputs": [],
   "source": []
  },
  {
   "cell_type": "code",
   "execution_count": null,
   "metadata": {
    "collapsed": true
   },
   "outputs": [],
   "source": []
  },
  {
   "cell_type": "code",
   "execution_count": null,
   "metadata": {
    "collapsed": true
   },
   "outputs": [],
   "source": []
  },
  {
   "cell_type": "code",
   "execution_count": null,
   "metadata": {
    "collapsed": true
   },
   "outputs": [],
   "source": []
  },
  {
   "cell_type": "code",
   "execution_count": null,
   "metadata": {
    "collapsed": true
   },
   "outputs": [],
   "source": []
  },
  {
   "cell_type": "code",
   "execution_count": null,
   "metadata": {
    "collapsed": true
   },
   "outputs": [],
   "source": []
  },
  {
   "cell_type": "code",
   "execution_count": null,
   "metadata": {
    "collapsed": true
   },
   "outputs": [],
   "source": []
  },
  {
   "cell_type": "code",
   "execution_count": null,
   "metadata": {
    "collapsed": true
   },
   "outputs": [],
   "source": []
  },
  {
   "cell_type": "code",
   "execution_count": null,
   "metadata": {
    "collapsed": true
   },
   "outputs": [],
   "source": []
  },
  {
   "cell_type": "code",
   "execution_count": null,
   "metadata": {
    "collapsed": true
   },
   "outputs": [],
   "source": []
  },
  {
   "cell_type": "code",
   "execution_count": null,
   "metadata": {
    "collapsed": true
   },
   "outputs": [],
   "source": []
  }
 ],
 "metadata": {
  "anaconda-cloud": {},
  "kernelspec": {
   "display_name": "Python [default]",
   "language": "python",
   "name": "python2"
  },
  "language_info": {
   "codemirror_mode": {
    "name": "ipython",
    "version": 2
   },
   "file_extension": ".py",
   "mimetype": "text/x-python",
   "name": "python",
   "nbconvert_exporter": "python",
   "pygments_lexer": "ipython2",
   "version": "2.7.12"
  }
 },
 "nbformat": 4,
 "nbformat_minor": 0
}
