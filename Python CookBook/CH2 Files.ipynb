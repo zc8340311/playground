{
 "cells": [
  {
   "cell_type": "markdown",
   "metadata": {},
   "source": [
    "## 2.0 Introduction"
   ]
  },
  {
   "cell_type": "code",
   "execution_count": 9,
   "metadata": {
    "collapsed": false
   },
   "outputs": [],
   "source": [
    "input = open(r'./sample_text.txt', 'r')\n",
    "output = open(r'./sample_text.txt', 'w')\n",
    "input.close()\n",
    "output.write(\"abcdefg\")\n",
    "output.close()"
   ]
  },
  {
   "cell_type": "code",
   "execution_count": null,
   "metadata": {
    "collapsed": true
   },
   "outputs": [],
   "source": [
    "def process(s):\n",
    "    print s"
   ]
  },
  {
   "cell_type": "code",
   "execution_count": 17,
   "metadata": {
    "collapsed": false
   },
   "outputs": [
    {
     "name": "stdout",
     "output_type": "stream",
     "text": [
      "abcdefg\n"
     ]
    }
   ],
   "source": [
    "input = open(r'./sample_text.txt', 'r')\n",
    "while True:\n",
    "    line = input.readline( )\n",
    "    if not line: \n",
    "        break\n",
    "    process(line)\n",
    "input.close()"
   ]
  },
  {
   "cell_type": "code",
   "execution_count": 18,
   "metadata": {
    "collapsed": false
   },
   "outputs": [
    {
     "name": "stdout",
     "output_type": "stream",
     "text": [
      "abcdefg\n"
     ]
    }
   ],
   "source": [
    "input = open(r'./sample_text.txt', 'r')\n",
    "for line in input.readlines( ):\n",
    "    process(line)\n",
    "input.close()"
   ]
  },
  {
   "cell_type": "code",
   "execution_count": 19,
   "metadata": {
    "collapsed": false
   },
   "outputs": [
    {
     "name": "stdout",
     "output_type": "stream",
     "text": [
      "abcdefg\n"
     ]
    }
   ],
   "source": [
    "input = open(r'./sample_text.txt', 'r')\n",
    "for line in input:\n",
    "    process(line)\n",
    "input.close()"
   ]
  },
  {
   "cell_type": "markdown",
   "metadata": {
    "collapsed": true
   },
   "source": [
    "## 2.3 Searching and Replacing Text in a File"
   ]
  },
  {
   "cell_type": "code",
   "execution_count": null,
   "metadata": {
    "collapsed": true
   },
   "outputs": [],
   "source": [
    "import os, sys\n",
    "nargs = len(sys.argv)\n",
    "if not 3 <= nargs <= 5:\n",
    "    print \"usage: %s search_text replace_text [infile [outfile]]\" % os.path.basename(sys.argv[0])\n",
    "else:\n",
    "    stext = sys.argv[1]\n",
    "    rtext = sys.argv[2]\n",
    "    input_file = sys.stdin\n",
    "    output_file = sys.stdout\n",
    "    if nargs > 3:\n",
    "        input_file = open(sys.argv[3])\n",
    "    if nargs > 4:\n",
    "        output_file = open(sys.argv[4], 'w')\n",
    "    for s in input_file:\n",
    "        output_file.write(s.replace(stext, rtext))\n",
    "    output.close( )\n",
    "    input.close( )"
   ]
  },
  {
   "cell_type": "markdown",
   "metadata": {
    "collapsed": true
   },
   "source": [
    "## 2.4 Reading a Specific Line from a File"
   ]
  },
  {
   "cell_type": "code",
   "execution_count": null,
   "metadata": {
    "collapsed": true
   },
   "outputs": [],
   "source": [
    "import linecache\n",
    "thefilepath =r\"\"\n",
    "desired_line_number = 0\n",
    "theline = linecache.getline(thefilepath, desired_line_number)"
   ]
  },
  {
   "cell_type": "markdown",
   "metadata": {
    "collapsed": true
   },
   "source": [
    "## 2.5 Counting Lines in a File"
   ]
  },
  {
   "cell_type": "code",
   "execution_count": null,
   "metadata": {
    "collapsed": true
   },
   "outputs": [],
   "source": [
    "## This is not good for a large file\n",
    "count = len(open(thefilepath, 'rU').readlines( ))"
   ]
  },
  {
   "cell_type": "code",
   "execution_count": 3,
   "metadata": {
    "collapsed": false
   },
   "outputs": [
    {
     "name": "stdout",
     "output_type": "stream",
     "text": [
      "3\n"
     ]
    }
   ],
   "source": [
    "## enumerate will return the  (index,iter) tuple\n",
    "thefilepath =r\"C:\\workspace\\python code\\Research\\Python CookBook\\sample_text.txt\"\n",
    "count = -1\n",
    "for count, line in enumerate(open(thefilepath, 'rU')):\n",
    "    pass\n",
    "count += 1\n",
    "print count"
   ]
  },
  {
   "cell_type": "code",
   "execution_count": 6,
   "metadata": {
    "collapsed": false
   },
   "outputs": [
    {
     "name": "stdout",
     "output_type": "stream",
     "text": [
      "2\n"
     ]
    }
   ],
   "source": [
    "count = 0\n",
    "thefile = open(thefilepath, 'rb')\n",
    "while True:\n",
    "    buffer = thefile.read(8192*1024)\n",
    "    if not buffer:\n",
    "        break\n",
    "    count += buffer.count('\\n')\n",
    "thefile.close( )\n",
    "print count"
   ]
  },
  {
   "cell_type": "markdown",
   "metadata": {
    "collapsed": true
   },
   "source": [
    "## 2.6 Processing Every Word in a File"
   ]
  },
  {
   "cell_type": "code",
   "execution_count": null,
   "metadata": {
    "collapsed": true
   },
   "outputs": [],
   "source": [
    "for line in open(thefilepath):\n",
    "    for word in line.split( ):\n",
    "        dosomethingwith(word)"
   ]
  },
  {
   "cell_type": "code",
   "execution_count": null,
   "metadata": {
    "collapsed": true
   },
   "outputs": [],
   "source": []
  },
  {
   "cell_type": "markdown",
   "metadata": {
    "collapsed": true
   },
   "source": [
    "## 2.9 Reading Data from zip Files"
   ]
  },
  {
   "cell_type": "code",
   "execution_count": 1,
   "metadata": {
    "collapsed": false
   },
   "outputs": [
    {
     "name": "stdout",
     "output_type": "stream",
     "text": [
      "File: siam-wns-style-2/ has 0 bytes\n",
      "File: siam-wns-style-2/.DS_Store has 6148 bytes\n",
      "File: __MACOSX/ has 0 bytes\n",
      "File: __MACOSX/siam-wns-style-2/ has 0 bytes\n",
      "File: __MACOSX/siam-wns-style-2/._.DS_Store has 120 bytes\n",
      "File: siam-wns-style-2/siam-wns-article.cls has 3027 bytes\n",
      "File: __MACOSX/siam-wns-style-2/._siam-wns-article.cls has 212 bytes\n",
      "File: siam-wns-style-2/wns-bib.bib has 322 bytes\n",
      "File: __MACOSX/siam-wns-style-2/._wns-bib.bib has 212 bytes\n",
      "File: siam-wns-style-2/wns-example.pdf has 142650 bytes\n",
      "File: __MACOSX/siam-wns-style-2/._wns-example.pdf has 212 bytes\n",
      "File: siam-wns-style-2/wns-example.tex has 3143 bytes\n",
      "File: __MACOSX/siam-wns-style-2/._wns-example.tex has 212 bytes\n",
      "File: __MACOSX/._siam-wns-style-2 has 212 bytes\n"
     ]
    }
   ],
   "source": [
    "import zipfile\n",
    "zipfile_loc = r\"C:\\Users\\zc\\Downloads\\siam-wns-style.zip\"\n",
    "z = zipfile.ZipFile(zipfile_loc, \"r\")\n",
    "for filename in z.namelist( ):\n",
    "    print 'File:', filename,\n",
    "    bytes = z.read(filename)\n",
    "    print 'has', len(bytes), 'bytes'"
   ]
  },
  {
   "cell_type": "markdown",
   "metadata": {
    "collapsed": true
   },
   "source": [
    "you can add the file’s path to Python’s\n",
    "sys.path and then use the import statement to import modules from the zip file."
   ]
  },
  {
   "cell_type": "code",
   "execution_count": 2,
   "metadata": {
    "collapsed": false
   },
   "outputs": [
    {
     "name": "stdout",
     "output_type": "stream",
     "text": [
      "hello world from c:\\users\\zc\\appdata\\local\\temp\\tmpdutril.zip\\hello.py\n"
     ]
    }
   ],
   "source": [
    "import zipfile, tempfile, os, sys\n",
    "handle, filename = tempfile.mkstemp('.zip')\n",
    "os.close(handle)\n",
    "z = zipfile.ZipFile(filename, 'w')\n",
    "z.writestr('hello.py', 'def f( ): return \"hello world from \"+__file__\\n')\n",
    "z.close( )\n",
    "sys.path.insert(0, filename)\n",
    "import hello\n",
    "print hello.f( )\n",
    "os.unlink(filename)"
   ]
  },
  {
   "cell_type": "markdown",
   "metadata": {},
   "source": [
    "## 2.10 Handling a zip File Inside a String"
   ]
  },
  {
   "cell_type": "markdown",
   "metadata": {},
   "source": [
    "receives a zip file as a string of bytes in memory,and you need to read\n",
    "the information in this zip file."
   ]
  },
  {
   "cell_type": "code",
   "execution_count": 5,
   "metadata": {
    "collapsed": false
   },
   "outputs": [],
   "source": [
    "import cStringIO, zipfile\n",
    "class ZipString(zipfile.ZipFile):\n",
    "    def __init__(self, datastring):\n",
    "        zipfile.ZipFile.__init__(self, cStringIO.StringIO(datastring))"
   ]
  },
  {
   "cell_type": "code",
   "execution_count": 7,
   "metadata": {
    "collapsed": false
   },
   "outputs": [],
   "source": [
    "import zipfile\n",
    "try:\n",
    "    from cStringIO import StringIO\n",
    "except ImportError:\n",
    "    from StringIO import StringIO\n",
    "class ZipString(zipfile.ZipFile):\n",
    "    def __init__(self, datastring):\n",
    "        zipfile.ZipFile.__init__(self, StringIO(datastring))"
   ]
  },
  {
   "cell_type": "markdown",
   "metadata": {},
   "source": [
    "## 2.11 Archiving a Tree of Files into a Compressed tar File"
   ]
  },
  {
   "cell_type": "code",
   "execution_count": null,
   "metadata": {
    "collapsed": true
   },
   "outputs": [],
   "source": [
    "import tarfile, os\n",
    "def make_tar(folder_to_backup, dest_folder, compression='bz2'):\n",
    "\n",
    "    if compression:\n",
    "        dest_ext = '.' + compression\n",
    "    else:\n",
    "        dest_ext = ''\n",
    "    arcname = os.path.basename(folder_to_backup)\n",
    "    dest_name = '%s.tar%s' % (arcname, dest_ext)\n",
    "    dest_path = os.path.join(dest_folder, dest_name)\n",
    "    if compression:\n",
    "        dest_cmp = ':' + compression\n",
    "    else:\n",
    "        dest_cmp = ''\n",
    "    out = tarfile.TarFile.open(dest_path, 'w'+dest_cmp)\n",
    "    out.add(folder_to_backup, arcname)\n",
    "    out.close( )\n",
    "    return dest_path"
   ]
  },
  {
   "cell_type": "code",
   "execution_count": null,
   "metadata": {
    "collapsed": true
   },
   "outputs": [],
   "source": []
  },
  {
   "cell_type": "markdown",
   "metadata": {},
   "source": [
    "## 2.12 Sending Binary Data to Standard Output Under Windows"
   ]
  },
  {
   "cell_type": "markdown",
   "metadata": {},
   "source": [
    "send binary data (e.g., an image) to stdout under Windows."
   ]
  },
  {
   "cell_type": "code",
   "execution_count": 10,
   "metadata": {
    "collapsed": false
   },
   "outputs": [
    {
     "ename": "UnsupportedOperation",
     "evalue": "IOStream has no fileno.",
     "output_type": "error",
     "traceback": [
      "\u001b[1;31m---------------------------------------------------------------------------\u001b[0m",
      "\u001b[1;31mUnsupportedOperation\u001b[0m                      Traceback (most recent call last)",
      "\u001b[1;32m<ipython-input-10-f6a11d4df38f>\u001b[0m in \u001b[0;36m<module>\u001b[1;34m()\u001b[0m\n\u001b[0;32m      2\u001b[0m \u001b[1;32mif\u001b[0m \u001b[0msys\u001b[0m\u001b[1;33m.\u001b[0m\u001b[0mplatform\u001b[0m \u001b[1;33m==\u001b[0m \u001b[1;34m\"win32\"\u001b[0m\u001b[1;33m:\u001b[0m\u001b[1;33m\u001b[0m\u001b[0m\n\u001b[0;32m      3\u001b[0m     \u001b[1;32mimport\u001b[0m \u001b[0mos\u001b[0m\u001b[1;33m,\u001b[0m \u001b[0mmsvcrt\u001b[0m\u001b[1;33m\u001b[0m\u001b[0m\n\u001b[1;32m----> 4\u001b[1;33m     \u001b[0mmsvcrt\u001b[0m\u001b[1;33m.\u001b[0m\u001b[0msetmode\u001b[0m\u001b[1;33m(\u001b[0m\u001b[0msys\u001b[0m\u001b[1;33m.\u001b[0m\u001b[0mstdout\u001b[0m\u001b[1;33m.\u001b[0m\u001b[0mfileno\u001b[0m\u001b[1;33m(\u001b[0m\u001b[1;33m)\u001b[0m\u001b[1;33m,\u001b[0m \u001b[0mos\u001b[0m\u001b[1;33m.\u001b[0m\u001b[0mO_BINARY\u001b[0m\u001b[1;33m)\u001b[0m\u001b[1;33m\u001b[0m\u001b[0m\n\u001b[0m",
      "\u001b[1;32mC:\\Anaconda2\\lib\\site-packages\\ipykernel\\iostream.pyc\u001b[0m in \u001b[0;36mfileno\u001b[1;34m(self)\u001b[0m\n\u001b[0;32m    203\u001b[0m \u001b[1;33m\u001b[0m\u001b[0m\n\u001b[0;32m    204\u001b[0m     \u001b[1;32mdef\u001b[0m \u001b[0mfileno\u001b[0m\u001b[1;33m(\u001b[0m\u001b[0mself\u001b[0m\u001b[1;33m)\u001b[0m\u001b[1;33m:\u001b[0m\u001b[1;33m\u001b[0m\u001b[0m\n\u001b[1;32m--> 205\u001b[1;33m         \u001b[1;32mraise\u001b[0m \u001b[0mUnsupportedOperation\u001b[0m\u001b[1;33m(\u001b[0m\u001b[1;34m\"IOStream has no fileno.\"\u001b[0m\u001b[1;33m)\u001b[0m\u001b[1;33m\u001b[0m\u001b[0m\n\u001b[0m\u001b[0;32m    206\u001b[0m \u001b[1;33m\u001b[0m\u001b[0m\n\u001b[0;32m    207\u001b[0m     \u001b[1;32mdef\u001b[0m \u001b[0mwrite\u001b[0m\u001b[1;33m(\u001b[0m\u001b[0mself\u001b[0m\u001b[1;33m,\u001b[0m \u001b[0mstring\u001b[0m\u001b[1;33m)\u001b[0m\u001b[1;33m:\u001b[0m\u001b[1;33m\u001b[0m\u001b[0m\n",
      "\u001b[1;31mUnsupportedOperation\u001b[0m: IOStream has no fileno."
     ]
    }
   ],
   "source": [
    "import sys\n",
    "if sys.platform == \"win32\":\n",
    "    import os, msvcrt\n",
    "    msvcrt.setmode(sys.stdout.fileno(), os.O_BINARY)"
   ]
  },
  {
   "cell_type": "markdown",
   "metadata": {},
   "source": [
    "## 2.13 Using a C++-like iostream Syntax"
   ]
  },
  {
   "cell_type": "code",
   "execution_count": 12,
   "metadata": {
    "collapsed": false
   },
   "outputs": [
    {
     "name": "stdout",
     "output_type": "stream",
     "text": [
      "The average of 1 and 3 is 2\n"
     ]
    }
   ],
   "source": [
    "class IOManipulator(object):\n",
    "    def __init__(self, function=None):\n",
    "        self.function = function\n",
    "    def do(self, output):\n",
    "        self.function(output)\n",
    "def do_endl(stream):\n",
    "    stream.output.write('\\n')\n",
    "    stream.output.flush( )\n",
    "endl = IOManipulator(do_endl)\n",
    "class OStream(object):\n",
    "    def __init__(self, output=None):\n",
    "        if output is None:\n",
    "            import sys\n",
    "            output = sys.stdout\n",
    "        self.output = output\n",
    "        self.format = '%s'\n",
    "    def __lshift__(self, thing):\n",
    "        ''' the special method which Python calls when you use the <<\n",
    "        operator and the left-hand operand is an OStream '''\n",
    "        if isinstance(thing, IOManipulator):\n",
    "            thing.do(self)\n",
    "        else:\n",
    "            self.output.write(self.format % thing)\n",
    "            self.format = '%s'\n",
    "        return self\n",
    "def example_main( ):\n",
    "    cout = OStream( )\n",
    "    cout<< \"The average of \" << 1 << \" and \" << 3 << \" is \" << (1+3)/2 <<endl\n",
    "if __name__ == '__main__':\n",
    "    example_main( )"
   ]
  },
  {
   "cell_type": "markdown",
   "metadata": {},
   "source": [
    "## 2.14 Rewinding an Input File to the Beginning"
   ]
  },
  {
   "cell_type": "markdown",
   "metadata": {},
   "source": [
    "make an input file object (with data coming from a socket or other input\n",
    "file handle) rewindable back to the beginning"
   ]
  },
  {
   "cell_type": "code",
   "execution_count": 13,
   "metadata": {
    "collapsed": true
   },
   "outputs": [],
   "source": [
    "from cStringIO import StringIO\n",
    "class RewindableFile(object):\n",
    "    \"\"\" Wrap a file handle to allow seeks back to the beginning. \"\"\"\n",
    "    def __init__(self, input_file):\n",
    "        \"\"\" Wraps input_file into a file-like object with rewind. \"\"\"\n",
    "        self.file = input_file\n",
    "        self.buffer_file = StringIO( )\n",
    "        self.at_start = True\n",
    "        try:\n",
    "            self.start = input_file.tell( )\n",
    "        except (IOError, AttributeError):\n",
    "            self.start = 0\n",
    "        self._use_buffer = True\n",
    "    def seek(self, offset, whence=0):\n",
    "        \"\"\" Seek to a given byte position.\n",
    "        Must be: whence == 0 and offset == self.start\n",
    "        \"\"\"\n",
    "        if whence != 0:\n",
    "            raise ValueError(\"whence=%r; expecting 0\" % (whence,))\n",
    "        if offset != self.start:\n",
    "            raise ValueError(\"offset=%r; expecting %s\" % (offset, self.start))\n",
    "        self.rewind( )\n",
    "    def rewind(self):\n",
    "        \"\"\" Simplified way to seek back to the beginning. \"\"\"\n",
    "        self.buffer_file.seek(0)\n",
    "        self.at_start = True\n",
    "    def tell(self):\n",
    "        \"\"\" Return the current position of the file (must be at start). \"\"\"\n",
    "        if not self.at_start:\n",
    "            raise TypeError(\"RewindableFile can't tell except at start of file\")\n",
    "        return self.start\n",
    "    def _read(self, size):\n",
    "        if size < 0: # read all the way to the end of the file\n",
    "            y = self.file.read( )\n",
    "            if self._use_buffer:\n",
    "                self.buffer_file.write(y)\n",
    "            return self.buffer_file.read( ) + y\n",
    "        elif size == 0: # no need to actually read the empty string\n",
    "            return \"\"\n",
    "        x = self.buffer_file.read(size)\n",
    "        if len(x) < size:\n",
    "            y = self.file.read(size - len(x))\n",
    "            if self._use_buffer:\n",
    "                self.buffer_file.write(y)\n",
    "            return x + y\n",
    "        return x\n",
    "    def read(self, size=-1):\n",
    "        \"\"\" Read up to 'size' bytes from the file.\n",
    "        Default is -1, which means to read to end of file.\n",
    "        \"\"\"\n",
    "        x = self._read(size)\n",
    "        if self.at_start and x:\n",
    "            self.at_start = False\n",
    "        self._check_no_buffer( )\n",
    "        return x\n",
    "    def readline(self):\n",
    "        \"\"\" Read a line from the file. \"\"\"\n",
    "        # Can we get it out of the buffer_file?\n",
    "        s = self.buffer_file.readline( )\n",
    "        if s[-1:] == \"\\n\":\n",
    "            return s\n",
    "        # No, so read a line from the input file\n",
    "        t = self.file.readline( )\n",
    "        if self._use_buffer:\n",
    "            self.buffer_file.write(t)\n",
    "        self._check_no_buffer( )\n",
    "        return s + t\n",
    "    def readlines(self):\n",
    "        \"\"\"read all remaining lines from the file\"\"\"\n",
    "        return self.read( ).splitlines(True)\n",
    "    def _check_no_buffer(self):\n",
    "        # If 'nobuffer' has been called and we're finished with the buffer file,\n",
    "        # get rid of the buffer, redirect everything to the original input file.\n",
    "        if not self._use_buffer and \\\n",
    "            self.buffer_file.tell( ) == len(self.buffer_file.getvalue( )):\n",
    "            # for top performance, we rebind all relevant methods in self\n",
    "            for n in 'seek tell read readline readlines'.split( ):\n",
    "                setattr(self, n, getattr(self.file, n, None))\n",
    "            del self.buffer_file\n",
    "    def nobuffer(self):\n",
    "        \"\"\"tell RewindableFile to stop using the buffer once it's exhausted\"\"\"\n",
    "        self._use_buffer = False"
   ]
  },
  {
   "cell_type": "code",
   "execution_count": null,
   "metadata": {
    "collapsed": true
   },
   "outputs": [],
   "source": []
  }
 ],
 "metadata": {
  "anaconda-cloud": {},
  "kernelspec": {
   "display_name": "Python [default]",
   "language": "python",
   "name": "python2"
  },
  "language_info": {
   "codemirror_mode": {
    "name": "ipython",
    "version": 2
   },
   "file_extension": ".py",
   "mimetype": "text/x-python",
   "name": "python",
   "nbconvert_exporter": "python",
   "pygments_lexer": "ipython2",
   "version": "2.7.12"
  }
 },
 "nbformat": 4,
 "nbformat_minor": 0
}
