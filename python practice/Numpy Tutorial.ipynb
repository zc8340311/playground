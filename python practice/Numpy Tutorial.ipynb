{
 "cells": [
  {
   "cell_type": "code",
   "execution_count": 4,
   "metadata": {
    "collapsed": false
   },
   "outputs": [],
   "source": [
    "from numpy import *\n",
    "n=([[1,2,3],[4,5,6]])"
   ]
  },
  {
   "cell_type": "code",
   "execution_count": 22,
   "metadata": {
    "collapsed": false
   },
   "outputs": [
    {
     "data": {
      "text/plain": [
       "array([1, 2, 3])"
      ]
     },
     "execution_count": 22,
     "metadata": {},
     "output_type": "execute_result"
    }
   ],
   "source": [
    "a= arange(30).reshape(3,5,2)\n",
    "type(a)\n",
    "a.shape\n",
    "a.ndim\n",
    "a.dtype.name\n",
    "a.size\n",
    "b=array([1,2,3])\n",
    "type(b)\n",
    "b"
   ]
  },
  {
   "cell_type": "code",
   "execution_count": 29,
   "metadata": {
    "collapsed": false
   },
   "outputs": [
    {
     "data": {
      "text/plain": [
       "'complex128'"
      ]
     },
     "execution_count": 29,
     "metadata": {},
     "output_type": "execute_result"
    }
   ],
   "source": [
    "b=array([(1,2,4),(2.,3.,4.)],dtype=complex)\n",
    "b\n",
    "b.shape\n",
    "b.ndim\n",
    "b.size\n",
    "b.dtype\n",
    "b.dtype.name"
   ]
  },
  {
   "cell_type": "code",
   "execution_count": 38,
   "metadata": {
    "collapsed": false
   },
   "outputs": [
    {
     "name": "stdout",
     "output_type": "stream",
     "text": [
      "[[ 0.  0.  0.  0.]\n",
      " [ 0.  0.  0.  0.]\n",
      " [ 0.  0.  0.  0.]]\n",
      "[[1 1 1]\n",
      " [1 1 1]]\n"
     ]
    }
   ],
   "source": [
    "##zeros create matrix all zeros\n",
    "c=zeros((3,4))\n",
    "c\n",
    "##ones create matrix all ones\n",
    "d=ones((2,3),dtype=int64)\n",
    "d\n",
    "print c\n",
    "print d"
   ]
  },
  {
   "cell_type": "code",
   "execution_count": 41,
   "metadata": {
    "collapsed": false
   },
   "outputs": [
    {
     "data": {
      "text/plain": [
       "array([ 0.,  1.,  2.])"
      ]
     },
     "execution_count": 41,
     "metadata": {},
     "output_type": "execute_result"
    }
   ],
   "source": [
    "##arange offer a sequence given jump (from ,to, jump)\n",
    "arange(10,30,5)\n",
    "##linesapce offer a sequence given number(from ,to ,number)\n",
    "linspace(0,2,3)\n"
   ]
  },
  {
   "cell_type": "code",
   "execution_count": 50,
   "metadata": {
    "collapsed": false
   },
   "outputs": [
    {
     "name": "stdout",
     "output_type": "stream",
     "text": [
      "[[ 0  1  2 ...,  7  8  9]\n",
      " [10 11 12 ..., 17 18 19]\n",
      " [20 21 22 ..., 27 28 29]\n",
      " ..., \n",
      " [70 71 72 ..., 77 78 79]\n",
      " [80 81 82 ..., 87 88 89]\n",
      " [90 91 92 ..., 97 98 99]]\n"
     ]
    }
   ],
   "source": [
    "set_printoptions(threshold='nan')\n",
    "print arange(100).reshape(10,10)"
   ]
  },
  {
   "cell_type": "code",
   "execution_count": 62,
   "metadata": {
    "collapsed": false
   },
   "outputs": [
    {
     "name": "stdout",
     "output_type": "stream",
     "text": [
      "[0 2 4 6]\n",
      "[0 1 4 9]\n"
     ]
    },
    {
     "data": {
      "text/plain": [
       "array([20, 30])"
      ]
     },
     "execution_count": 62,
     "metadata": {},
     "output_type": "execute_result"
    }
   ],
   "source": [
    "a=array([20,30,40,50])\n",
    "b=arange(4)\n",
    "b\n",
    "c=a-b\n",
    "c\n",
    "print b*2\n",
    "print b**2\n",
    "\n",
    "10*sin(a)\n",
    "index=a<35\n",
    "a[index]"
   ]
  },
  {
   "cell_type": "code",
   "execution_count": 68,
   "metadata": {
    "collapsed": false
   },
   "outputs": [
    {
     "data": {
      "text/plain": [
       "array([[ 7,  8],\n",
       "       [31, 36]])"
      ]
     },
     "execution_count": 68,
     "metadata": {},
     "output_type": "execute_result"
    }
   ],
   "source": [
    "a=arange(0,4,1).reshape(2,2)\n",
    "b=arange(5,9,1).reshape(2,2)\n",
    "#print a,b\n",
    "##element wise\n",
    "a*b\n",
    "##matrix dot\n",
    "dot(a,b)"
   ]
  },
  {
   "cell_type": "code",
   "execution_count": 73,
   "metadata": {
    "collapsed": false
   },
   "outputs": [
    {
     "data": {
      "text/plain": [
       "array([[ 0.28966403,  0.99929073,  0.83654665],\n",
       "       [ 0.50846865,  0.96084399,  0.35329652]])"
      ]
     },
     "execution_count": 73,
     "metadata": {},
     "output_type": "execute_result"
    }
   ],
   "source": [
    "a.sum()\n",
    "a.min()\n",
    "a.max()\n",
    "\n",
    "c=random.random((2,3))\n",
    "c"
   ]
  },
  {
   "cell_type": "code",
   "execution_count": 80,
   "metadata": {
    "collapsed": false
   },
   "outputs": [
    {
     "name": "stdout",
     "output_type": "stream",
     "text": [
      "[[0 1]\n",
      " [2 3]]\n"
     ]
    },
    {
     "data": {
      "text/plain": [
       "array([[0, 1],\n",
       "       [2, 7]])"
      ]
     },
     "execution_count": 80,
     "metadata": {},
     "output_type": "execute_result"
    }
   ],
   "source": [
    "##axis=0 means sum each column\n",
    "print a\n",
    "a.sum(axis=0)\n",
    "a.min(axis=1)\n",
    "a.cumsum(axis=1).cumsum(axis=1)\n",
    "##each row"
   ]
  },
  {
   "cell_type": "code",
   "execution_count": 86,
   "metadata": {
    "collapsed": false
   },
   "outputs": [
    {
     "data": {
      "text/plain": [
       "array([[10, 12],\n",
       "       [14, 16]])"
      ]
     },
     "execution_count": 86,
     "metadata": {},
     "output_type": "execute_result"
    }
   ],
   "source": [
    "##universal functions\n",
    "b=arange(0,4).reshape(2,2)\n",
    "exp(b)\n",
    "sqrt(b)\n",
    "c=arange(10,14,1).reshape(2,2)\n",
    "b+c"
   ]
  },
  {
   "cell_type": "code",
   "execution_count": 95,
   "metadata": {
    "collapsed": false
   },
   "outputs": [
    {
     "name": "stdout",
     "output_type": "stream",
     "text": [
      "[ 0  1  4  9 16 25 36 49 64 81]\n",
      "[-100    1 -100    9 -100   25   36   49   64   81]\n"
     ]
    },
    {
     "data": {
      "text/plain": [
       "array([  81,   64,   49,   36,   25, -100,    9, -100,    1, -100])"
      ]
     },
     "execution_count": 95,
     "metadata": {},
     "output_type": "execute_result"
    }
   ],
   "source": [
    "a=arange(10)**2\n",
    "print a\n",
    "a[2] ##3rd\n",
    "a[2:5] ##exclusive\n",
    "a[0:6:2]=-100 ##for every two elements set the 2nd -100\n",
    "##from 0 to 6 exclusive\n",
    "print a\n",
    "a[::-1]##inverse a"
   ]
  },
  {
   "cell_type": "code",
   "execution_count": null,
   "metadata": {
    "collapsed": false
   },
   "outputs": [],
   "source": []
  }
 ],
 "metadata": {
  "anaconda-cloud": {},
  "kernelspec": {
   "display_name": "Python [default]",
   "language": "python",
   "name": "python2"
  },
  "language_info": {
   "codemirror_mode": {
    "name": "ipython",
    "version": 2
   },
   "file_extension": ".py",
   "mimetype": "text/x-python",
   "name": "python",
   "nbconvert_exporter": "python",
   "pygments_lexer": "ipython2",
   "version": "2.7.12"
  }
 },
 "nbformat": 4,
 "nbformat_minor": 0
}
