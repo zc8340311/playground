{
 "cells": [
  {
   "cell_type": "code",
   "execution_count": 2,
   "metadata": {
    "collapsed": true
   },
   "outputs": [],
   "source": [
    "from collections import deque"
   ]
  },
  {
   "cell_type": "markdown",
   "metadata": {},
   "source": [
    "### 771 "
   ]
  },
  {
   "cell_type": "code",
   "execution_count": 7,
   "metadata": {
    "collapsed": false
   },
   "outputs": [
    {
     "name": "stdout",
     "output_type": "stream",
     "text": [
      "0\n",
      "Wall time: 0 ns\n"
     ]
    }
   ],
   "source": [
    "class Solution(object):\n",
    "    def numJewelsInStones(self, J, S):\n",
    "        \"\"\"\n",
    "        :type J: str\n",
    "        :type S: str\n",
    "        :rtype: int\n",
    "        \"\"\"\n",
    "        l = filter(lambda x: x in J, S)\n",
    "        return len(l)\n",
    "j = \"aA\"\n",
    "S = \"bbbb\"\n",
    "s = Solution()\n",
    "%time print s.numJewelsInStones(J=j, S=S)"
   ]
  },
  {
   "cell_type": "markdown",
   "metadata": {},
   "source": [
    "### 461"
   ]
  },
  {
   "cell_type": "code",
   "execution_count": 43,
   "metadata": {
    "collapsed": false
   },
   "outputs": [
    {
     "name": "stdout",
     "output_type": "stream",
     "text": [
      "2\n",
      "Wall time: 1e+03 µs\n"
     ]
    }
   ],
   "source": [
    "import math\n",
    "class Solution(object):\n",
    "    def hammingDistance(self, x, y):\n",
    "        \"\"\"\n",
    "        :type x: int\n",
    "        :type y: int\n",
    "        :rtype: int\n",
    "        \"\"\"\n",
    "        a = bin(x)[2:]\n",
    "        b = bin(y)[2:]\n",
    "        if len(a) > len(b):\n",
    "            b = b.zfill(len(a))\n",
    "        else:\n",
    "            a = a.zfill(len(b))\n",
    "        count = 0\n",
    "        return sum(map(lambda x,y: x!=y,a,b))\n",
    "x = 1\n",
    "y = 4\n",
    "s= Solution()\n",
    "%time print s.hammingDistance(x, y)"
   ]
  },
  {
   "cell_type": "code",
   "execution_count": 50,
   "metadata": {
    "collapsed": false
   },
   "outputs": [
    {
     "name": "stdout",
     "output_type": "stream",
     "text": [
      "True\n"
     ]
    }
   ],
   "source": [
    "class Solution(object):\n",
    "    def judgeCircle(self, moves):\n",
    "        \"\"\"\n",
    "        :type moves: str\n",
    "        :rtype: bool\n",
    "        \"\"\"\n",
    "        col = 0\n",
    "        row = 0\n",
    "        for i in moves:\n",
    "            if i == 'U':\n",
    "                col += 1\n",
    "            elif i == \"D\":\n",
    "                col -= 1\n",
    "            elif i == \"L\":\n",
    "                row += 1\n",
    "            else:\n",
    "                row -= 1\n",
    "        return True if abs(col) + abs(row) == 0 else False\n",
    "from collections import Counter\n",
    "class Solution(object):\n",
    "    def judgeCircle(self, moves):\n",
    "        \"\"\"\n",
    "        :type moves: str\n",
    "        :rtype: bool\n",
    "        \"\"\"\n",
    "        stat = Counter(moves)\n",
    "        if stat[\"U\"] == stat[\"D\"] and stat[\"L\"]==stat[\"R\"]:\n",
    "            return True\n",
    "        else:\n",
    "            return False\n",
    "moves = \"UD\"\n",
    "s = Solution()\n",
    "print s.judgeCircle(moves)"
   ]
  },
  {
   "cell_type": "markdown",
   "metadata": {},
   "source": [
    "### 617. Merge Two Binary Trees"
   ]
  },
  {
   "cell_type": "code",
   "execution_count": 136,
   "metadata": {
    "collapsed": false
   },
   "outputs": [
    {
     "name": "stdout",
     "output_type": "stream",
     "text": [
      "<__main__.TreeNode object at 0x00000000073BC748>\n"
     ]
    }
   ],
   "source": [
    "# Definition for a binary tree node.\n",
    "class TreeNode(object):\n",
    "    def __init__(self, x,left=None,right=None):\n",
    "        self.val = x\n",
    "        self.left = left\n",
    "        self.right = right\n",
    "\n",
    "class Solution(object):\n",
    "\n",
    "    def mergeTrees(self, t1, t2):\n",
    "        \"\"\"\n",
    "        :type t1: TreeNode\n",
    "        :type t2: TreeNode\n",
    "        :rtype: TreeNode\n",
    "        \"\"\"\n",
    "        if t1 is None and t2 is None:\n",
    "            return None\n",
    "        \n",
    "        if t1 is not None and t2 is None:\n",
    "            val = t1.val\n",
    "            t = TreeNode(val)\n",
    "            if t1.left:\n",
    "                t.left = self.mergeTrees(t1.left,None)\n",
    "            if t1.right:\n",
    "                t.right= self.mergeTrees(t1.right,None)\n",
    "            return t\n",
    "        elif t1 is None and t2 is not None:\n",
    "            val = t2.val\n",
    "            t = TreeNode(val)\n",
    "            if t2.left:\n",
    "                t.left = self.mergeTrees(None,t2.left)\n",
    "            if t2.right:\n",
    "                t.right = self.mergeTrees(None,t2.right)\n",
    "            return t\n",
    "        else:\n",
    "            left = self.mergeTrees(t1.left,t2.left)\n",
    "            right = self.mergeTrees(t1.right,t2.right)\n",
    "            t = TreeNode(t1.val+t2.val)\n",
    "            t.left,t.right = left,right\n",
    "            return t\n",
    "t1 = TreeNode(1,TreeNode(3,TreeNode(5)),TreeNode(2))\n",
    "t2 = TreeNode(2,TreeNode(1,right=TreeNode(4)),TreeNode(3,right=TreeNode(7)))\n",
    "s = Solution()\n",
    "ans = s.mergeTrees(t1,t2)\n",
    "print ans"
   ]
  },
  {
   "cell_type": "code",
   "execution_count": 142,
   "metadata": {
    "collapsed": false
   },
   "outputs": [
    {
     "name": "stdout",
     "output_type": "stream",
     "text": [
      "<__main__.TreeNode object at 0x0000000004B72B70>\n"
     ]
    }
   ],
   "source": [
    "class Solution(object):\n",
    "\n",
    "    def mergeTrees(self, t1, t2):\n",
    "        \"\"\"\n",
    "        :type t1: TreeNode\n",
    "        :type t2: TreeNode\n",
    "        :rtype: TreeNode\n",
    "        \"\"\"\n",
    "        if t1 is None and t2 is None:\n",
    "            return None\n",
    "        \n",
    "        if t2 is None:\n",
    "            return t1\n",
    "        if t1 is None :\n",
    "            return t2\n",
    "        \n",
    "        t1.left = self.mergeTrees(t1.left,t2.left)\n",
    "        t1.right = self.mergeTrees(t1.right,t2.right)\n",
    "        t1.value = t1.val+t2.val\n",
    "        return t1\n",
    "t1 = TreeNode(1,TreeNode(3,TreeNode(5)),TreeNode(2))\n",
    "t2 = TreeNode(2,TreeNode(1,right=TreeNode(4)),TreeNode(3,right=TreeNode(7)))\n",
    "s = Solution()\n",
    "ans = s.mergeTrees(t1,t2)\n",
    "print ans"
   ]
  },
  {
   "cell_type": "code",
   "execution_count": 143,
   "metadata": {
    "collapsed": false
   },
   "outputs": [
    {
     "name": "stdout",
     "output_type": "stream",
     "text": [
      "1 1 2\n",
      "3 3 1\n",
      "2 2 3\n",
      "5 5 None\n",
      "4 4 4\n",
      "None None None\n",
      "7 7 7\n",
      "\n",
      "2\n",
      "1\n",
      "3\n",
      "None\n",
      "4\n",
      "None\n",
      "7\n"
     ]
    }
   ],
   "source": [
    "def it(t1):\n",
    "    q = deque([])\n",
    "    q.append(t1)\n",
    "    while len(q)!=0:\n",
    "        cur = q.popleft()\n",
    "        if cur is not None:\n",
    "            left = cur.left if cur.left else None\n",
    "            right = cur.right if cur.right else None\n",
    "            if left or right:\n",
    "                q.append(left)\n",
    "                q.append(right)\n",
    "            yield cur.val\n",
    "        else:\n",
    "            yield None\n",
    "for i,j,k in zip(it(ans),it(t1),it(t2)):\n",
    "    print i,j,k\n",
    "print \n",
    "for i in it(t2):\n",
    "    print i"
   ]
  },
  {
   "cell_type": "markdown",
   "metadata": {},
   "source": [
    "### 728. Self Dividing Numbers"
   ]
  },
  {
   "cell_type": "code",
   "execution_count": 153,
   "metadata": {
    "collapsed": false
   },
   "outputs": [
    {
     "name": "stdout",
     "output_type": "stream",
     "text": [
      "[1, 2, 3, 4, 5, 6, 7, 8, 9, 11, 12, 15, 22]\n"
     ]
    }
   ],
   "source": [
    "class Solution(object):\n",
    "    def selfDividingNumbers(self, left, right):\n",
    "        \"\"\"\n",
    "        :type left: int\n",
    "        :type right: int\n",
    "        :rtype: List[int]\n",
    "        \"\"\"\n",
    "        sl = []\n",
    "        raw = range(left,right+1)\n",
    "        for i in raw:\n",
    "            digits = str(i)\n",
    "            if '0' in digits:\n",
    "                continue\n",
    "            l = filter(lambda x: i % int(x)==0,digits)\n",
    "            if len(l) != len(digits):\n",
    "                continue\n",
    "            sl.append(i)\n",
    "        return sl\n",
    "left,right = 1, 22\n",
    "s = Solution()\n",
    "print s.selfDividingNumbers(left,right)"
   ]
  },
  {
   "cell_type": "markdown",
   "metadata": {},
   "source": [
    "### 561. Array Partition I"
   ]
  },
  {
   "cell_type": "code",
   "execution_count": 158,
   "metadata": {
    "collapsed": false
   },
   "outputs": [
    {
     "name": "stdout",
     "output_type": "stream",
     "text": [
      "4\n"
     ]
    }
   ],
   "source": [
    "class Solution(object):\n",
    "    def arrayPairSum(self, nums):\n",
    "        \"\"\"\n",
    "        :type nums: List[int]\n",
    "        :rtype: int\n",
    "        \"\"\"\n",
    "        n = len(nums)/2\n",
    "        e = sorted(nums)[::2]\n",
    "        return sum(e)\n",
    "l= [1,4,3,2] \n",
    "s = Solution()\n",
    "print s.arrayPairSum(nums=l)"
   ]
  },
  {
   "cell_type": "markdown",
   "metadata": {},
   "source": [
    "### 476. Number Complement"
   ]
  },
  {
   "cell_type": "code",
   "execution_count": 166,
   "metadata": {
    "collapsed": false
   },
   "outputs": [
    {
     "name": "stdout",
     "output_type": "stream",
     "text": [
      "1\n"
     ]
    }
   ],
   "source": [
    "class Solution(object):\n",
    "    def findComplement(self, num):\n",
    "        \"\"\"\n",
    "        :type num: int\n",
    "        :rtype: int\n",
    "        \"\"\"\n",
    "        return int(\"\".join(map(lambda x: '0' if x == '1' else '1' ,bin(num)[2:])),base=2)\n",
    "a = 2\n",
    "s = Solution()\n",
    "print s.findComplement(num=a)"
   ]
  },
  {
   "cell_type": "markdown",
   "metadata": {},
   "source": [
    "## 557. Reverse Words in a String III"
   ]
  },
  {
   "cell_type": "code",
   "execution_count": 185,
   "metadata": {
    "collapsed": false
   },
   "outputs": [
    {
     "name": "stdout",
     "output_type": "stream",
     "text": [
      "s'teL ekat edoCteeL tsetnoc\n"
     ]
    }
   ],
   "source": [
    "class Solution(object):\n",
    "    def reverseWords(self, s):\n",
    "        \"\"\"\n",
    "        :type s: str\n",
    "        :rtype: str\n",
    "        \"\"\"\n",
    "        return \" \".join(map(lambda x: x[::-1],s.split(\" \")))\n",
    "l = \"Let's take LeetCode contest\"\n",
    "s = Solution()\n",
    "print s.reverseWords(l)"
   ]
  },
  {
   "cell_type": "markdown",
   "metadata": {},
   "source": [
    "### 500. Keyboard Row"
   ]
  },
  {
   "cell_type": "code",
   "execution_count": 190,
   "metadata": {
    "collapsed": false
   },
   "outputs": [
    {
     "name": "stdout",
     "output_type": "stream",
     "text": [
      "['Alaska', 'Dad']\n"
     ]
    }
   ],
   "source": [
    "class Solution(object):\n",
    "    def findWords(self, words):\n",
    "        \"\"\"\n",
    "        :type words: List[str]\n",
    "        :rtype: List[str]\n",
    "        \"\"\"\n",
    "        d = {'a': '2', 'c': '3', 'b': '3', 'e': '1', 'd': '2', 'g': '2', \n",
    "             'f': '2', 'i': '1', 'h': '2', 'k': '2', 'j': '2', 'm': '3', 'l': '2', \n",
    "             'o': '1', 'n': '3', 'q': '1', 'p': '1', 's': '2', 'r': '1', 'u': '1', \n",
    "             't': '1', 'w': '1', 'v': '3', 'y': '1', 'x': '3', 'z': '3'}\n",
    "        tar = []\n",
    "        for word in words:\n",
    "            lword = word.lower()\n",
    "            row = d[lword[0]]\n",
    "            for chra in lword:\n",
    "                if d[chra] != row:\n",
    "                    break\n",
    "            else:\n",
    "                tar.append(word)\n",
    "        return tar\n",
    "l = [\"Hello\", \"Alaska\", \"Dad\", \"Peace\"]\n",
    "s = Solution()\n",
    "print s.findWords(l)"
   ]
  },
  {
   "cell_type": "markdown",
   "metadata": {},
   "source": [
    "### 412. Fizz Buzz"
   ]
  },
  {
   "cell_type": "code",
   "execution_count": 192,
   "metadata": {
    "collapsed": false
   },
   "outputs": [
    {
     "name": "stdout",
     "output_type": "stream",
     "text": [
      "[0, 1, 'Fizz', 3, 'Buzz', 'Fizz', 6, 7, 'Fizz', 'Buzz', 10, 'Fizz', 12, 13, 'FizzBuzz']\n"
     ]
    }
   ],
   "source": [
    "class Solution(object):\n",
    "    def fizzBuzz(self, n):\n",
    "        \"\"\"\n",
    "        :type n: int\n",
    "        :rtype: List[str]\n",
    "        \"\"\"\n",
    "        l = map(str,range(1,n+1))\n",
    "        for index,_ in enumerate(l):\n",
    "            i = index+1\n",
    "            if i % 3 == 0:\n",
    "                l[index] = \"Fizz\"\n",
    "            if i % 5 == 0:\n",
    "                l[index] = \"Buzz\"\n",
    "            if i % 15 == 0:\n",
    "                l[index] = \"FizzBuzz\"\n",
    "        return l\n",
    "n = 15\n",
    "s = Solution()\n",
    "print s.fizzBuzz(n)"
   ]
  },
  {
   "cell_type": "markdown",
   "metadata": {},
   "source": [
    "### 669. Trim a Binary Search Tree"
   ]
  },
  {
   "cell_type": "code",
   "execution_count": 200,
   "metadata": {
    "collapsed": false
   },
   "outputs": [
    {
     "name": "stdout",
     "output_type": "stream",
     "text": [
      "<__main__.TreeNode object at 0x0000000004B80E10>\n"
     ]
    }
   ],
   "source": [
    "# Definition for a binary tree node.\n",
    "class TreeNode(object):\n",
    "    def __init__(self, x,left=None,right=None):\n",
    "        self.val = x\n",
    "        self.left = left\n",
    "        self.right = right\n",
    "\n",
    "class Solution(object):\n",
    "    def trimBST(self, root, L, R):\n",
    "        \"\"\"\n",
    "        :type root: TreeNode\n",
    "        :type L: int\n",
    "        :type R: int\n",
    "        :rtype: TreeNode\n",
    "        \"\"\"\n",
    "        if root is None:\n",
    "            return\n",
    "        if root.val < L:\n",
    "            return self.trimBST(root.right,L,R)\n",
    "        if root.val > R:\n",
    "            return self.trimBST(root.left,L,R)\n",
    "        if root.val >= L and root.val <= R:\n",
    "            root.left = self.trimBST(root.left,L,R)\n",
    "            root.right = self.trimBST(root.right,L,R)\n",
    "        return root\n",
    "t = TreeNode(3,TreeNode(0,right=TreeNode(2,left=TreeNode(1))),TreeNode(4))\n",
    "s= Solution()\n",
    "L = 1\n",
    "R = 3\n",
    "print s.trimBST(t,L,R)"
   ]
  },
  {
   "cell_type": "code",
   "execution_count": 201,
   "metadata": {
    "collapsed": false
   },
   "outputs": [
    {
     "name": "stdout",
     "output_type": "stream",
     "text": [
      "3\n",
      "2\n",
      "None\n",
      "1\n",
      "None\n"
     ]
    }
   ],
   "source": [
    "def it(t1):\n",
    "    q = deque([])\n",
    "    q.append(t1)\n",
    "    while len(q)!=0:\n",
    "        cur = q.popleft()\n",
    "        if cur is not None:\n",
    "            left = cur.left if cur.left else None\n",
    "            right = cur.right if cur.right else None\n",
    "            if left or right:\n",
    "                q.append(left)\n",
    "                q.append(right)\n",
    "            yield cur.val\n",
    "        else:\n",
    "            yield None\n",
    "for i in it(s.trimBST(t,L,R)):\n",
    "    print i"
   ]
  },
  {
   "cell_type": "markdown",
   "metadata": {},
   "source": [
    "### 682. Baseball Game"
   ]
  },
  {
   "cell_type": "code",
   "execution_count": 203,
   "metadata": {
    "collapsed": false
   },
   "outputs": [
    {
     "name": "stdout",
     "output_type": "stream",
     "text": [
      "30\n"
     ]
    }
   ],
   "source": [
    "class Solution(object):\n",
    "    def calPoints(self, ops):\n",
    "        \"\"\"\n",
    "        :type ops: List[str]\n",
    "        :rtype: int\n",
    "        \"\"\"\n",
    "        num = []\n",
    "        for i in ops:\n",
    "            if i == \"+\":\n",
    "                num.append(num[-1]+num[-2])\n",
    "            elif i == \"D\":\n",
    "                num.append(num[-1]*2)\n",
    "            elif i == \"C\":\n",
    "                num.pop()\n",
    "            else:\n",
    "                num.append(int(i))\n",
    "        return sum(num)\n",
    "l = [\"5\",\"2\",\"C\",\"D\",\"+\"]\n",
    "s=Solution()\n",
    "print s.calPoints(l)"
   ]
  },
  {
   "cell_type": "markdown",
   "metadata": {},
   "source": [
    "### 575. Distribute Candies"
   ]
  },
  {
   "cell_type": "code",
   "execution_count": 210,
   "metadata": {
    "collapsed": false
   },
   "outputs": [
    {
     "name": "stdout",
     "output_type": "stream",
     "text": [
      "2\n"
     ]
    }
   ],
   "source": [
    "from collections import Counter\n",
    "class Solution(object):\n",
    "    def distributeCandies(self, candies):\n",
    "        \"\"\"\n",
    "        :type candies: List[int]\n",
    "        :rtype: int\n",
    "        \"\"\"\n",
    "        d = {}\n",
    "        dif_kind = 0\n",
    "        length = len(candies) / 2\n",
    "        for i in candies:\n",
    "            if dif_kind >= length:\n",
    "                return dif_kind\n",
    "            if i not in d:\n",
    "                d[i] = 0\n",
    "                dif_kind +=1\n",
    "        else:\n",
    "            return dif_kind\n",
    "class Solution(object):\n",
    "    def distributeCandies(self, candies):\n",
    "        return min(len(set(candies)),int(len(candies)/2))\n",
    "l = [1,1,2,3]\n",
    "s = Solution()\n",
    "print s.distributeCandies(candies=l)"
   ]
  },
  {
   "cell_type": "markdown",
   "metadata": {},
   "source": [
    "## 463. Island Perimeter"
   ]
  },
  {
   "cell_type": "code",
   "execution_count": null,
   "metadata": {
    "collapsed": true
   },
   "outputs": [],
   "source": [
    "class Solution(object):\n",
    "    def islandPerimeter(self, grid):\n",
    "        \"\"\"\n",
    "        :type grid: List[List[int]]\n",
    "        :rtype: int\n",
    "        \"\"\"\n",
    "        "
   ]
  },
  {
   "cell_type": "markdown",
   "metadata": {},
   "source": [
    "## 566. Reshape the Matrix"
   ]
  },
  {
   "cell_type": "code",
   "execution_count": 284,
   "metadata": {
    "collapsed": false
   },
   "outputs": [
    {
     "name": "stdout",
     "output_type": "stream",
     "text": [
      "[[1], [2], [3], [4]]\n"
     ]
    }
   ],
   "source": [
    "from itertools import chain\n",
    "class Solution(object):\n",
    "    def it(self,nums):\n",
    "        for i in nums:\n",
    "            for j in i:\n",
    "                yield j\n",
    "    def matrixReshape(self, nums, r, c):\n",
    "        \"\"\"\n",
    "        :type nums: List[List[int]]\n",
    "        :type r: int\n",
    "        :type c: int\n",
    "        :rtype: List[List[int]]\n",
    "        \"\"\"\n",
    "        \n",
    "        if r * c != len(nums) * len(nums[0]):\n",
    "            return nums\n",
    "        out = []\n",
    "        row = []\n",
    "        for idex,i in enumerate(self.it(nums)):\n",
    "            if idex % c == 0 and idex != 0:\n",
    "                out.append(row)\n",
    "                row = []\n",
    "            row.append(i)\n",
    "        out.append(row)\n",
    "        return out\n",
    "num =[[1,2], [3,4]]\n",
    "r,c = 4,1\n",
    "s = Solution()\n",
    "print s.matrixReshape(num,r,c)"
   ]
  },
  {
   "cell_type": "markdown",
   "metadata": {},
   "source": [
    "### 766. Toeplitz Matrix"
   ]
  },
  {
   "cell_type": "code",
   "execution_count": 294,
   "metadata": {
    "collapsed": false
   },
   "outputs": [
    {
     "name": "stdout",
     "output_type": "stream",
     "text": [
      "True\n"
     ]
    }
   ],
   "source": [
    "class Solution(object):\n",
    "    def isToeplitzMatrix(self, matrix):\n",
    "        \"\"\"\n",
    "        :type matrix: List[List[int]]\n",
    "        :rtype: bool\n",
    "        \"\"\"\n",
    "        row = len(matrix)\n",
    "        col = len(matrix[0])\n",
    "        for i in range(1,row):\n",
    "            for j in range(1,col):\n",
    "                if matrix[i][j] != matrix[i-1][j-1]:\n",
    "                    return False\n",
    "        return True\n",
    "\n",
    "s =Solution()\n",
    "matrix = [[1,2],[2,2]]\n",
    "# matrix = [[1,2,3,4],[5,1,2,3],[9,5,1,2]]\n",
    "matrix = [[1]]\n",
    "print s.isToeplitzMatrix(matrix)"
   ]
  },
  {
   "cell_type": "markdown",
   "metadata": {},
   "source": [
    "## 796. Rotate String"
   ]
  },
  {
   "cell_type": "code",
   "execution_count": 300,
   "metadata": {
    "collapsed": false
   },
   "outputs": [
    {
     "name": "stdout",
     "output_type": "stream",
     "text": [
      "True\n"
     ]
    }
   ],
   "source": [
    "class Solution(object):\n",
    "    def shift(self,A,steps):\n",
    "        return A[steps:]+A[:steps]\n",
    "    def rotateString(self, A, B):\n",
    "        \"\"\"\n",
    "        :type A: str\n",
    "        :type B: str\n",
    "        :rtype: bool\n",
    "        \"\"\"\n",
    "        if len(A) != len(B):\n",
    "            return False\n",
    "        if A=='' and B == '':\n",
    "            return True\n",
    "        for steps in range(len(A)):\n",
    "            if self.shift(A,steps) == B:\n",
    "                return True\n",
    "        else:\n",
    "            return False\n",
    "# A = 'abcde'\n",
    "# B = 'cdeab'\n",
    "# A = 'abcde'\n",
    "# B = 'abced'\n",
    "A = ''\n",
    "B = ''\n",
    "s = Solution()\n",
    "print s.rotateString(A,B)"
   ]
  },
  {
   "cell_type": "markdown",
   "metadata": {},
   "source": [
    "## 496. Next Greater Element I"
   ]
  },
  {
   "cell_type": "code",
   "execution_count": 315,
   "metadata": {
    "collapsed": false
   },
   "outputs": [
    {
     "name": "stdout",
     "output_type": "stream",
     "text": [
      "[3, -1]\n"
     ]
    }
   ],
   "source": [
    "class Solution(object):\n",
    "    def nextGreaterElement(self, findNums, nums):\n",
    "        \"\"\"\n",
    "        :type findNums: List[int]\n",
    "        :type nums: List[int]\n",
    "        :rtype: List[int]\n",
    "        \"\"\"\n",
    "        out = []\n",
    "        tar = 0\n",
    "        for i in findNums:\n",
    "            for j in nums:\n",
    "                if i == j:\n",
    "                    tar = 1\n",
    "                if tar ==1:\n",
    "                    if j > i:\n",
    "                        out.append(j)\n",
    "                        break\n",
    "            else:\n",
    "                out.append(-1)\n",
    "            tar = 0\n",
    "        return out\n",
    "nums1 = [2,4]\n",
    "nums2 = [1,2,3,4]\n",
    "# nums1 = [4,1,2]\n",
    "# nums2 = [1,3,4,2]\n",
    "s = Solution()\n",
    "print s.nextGreaterElement(findNums=nums1,nums=nums2)"
   ]
  },
  {
   "cell_type": "markdown",
   "metadata": {},
   "source": [
    "### 637. Average of Levels in Binary Tree"
   ]
  },
  {
   "cell_type": "code",
   "execution_count": 3,
   "metadata": {
    "collapsed": false
   },
   "outputs": [
    {
     "name": "stdout",
     "output_type": "stream",
     "text": [
      "[3.0, 14.5, 11.0]\n",
      "Wall time: 0 ns\n"
     ]
    }
   ],
   "source": [
    "class TreeNode(object):\n",
    "    def __init__(self, x, left = None, right = None):\n",
    "        self.val = x\n",
    "        self.left = left\n",
    "        self.right = right\n",
    "\n",
    "class Solution(object):\n",
    "    def it(self,t1):\n",
    "        q = deque([])\n",
    "        q.append((t1,1))\n",
    "        while len(q)!=0:\n",
    "            cur = q.popleft()\n",
    "            if cur is not None:  \n",
    "                yield cur[0].val,cur[1]\n",
    "                if cur[0].left:\n",
    "                    q.append((cur[0].left,cur[1]+1))\n",
    "                if cur[0].right:\n",
    "                    q.append((cur[0].right,cur[1]+1))\n",
    "    def averageOfLevels(self, root):\n",
    "        \"\"\"\n",
    "        :type root: TreeNode\n",
    "        :rtype: List[float]\n",
    "        \"\"\"\n",
    "        avg = []\n",
    "        cur = []\n",
    "        level = 1\n",
    "        for val,l in self.it(root):\n",
    "            if l != level:\n",
    "                avg.append(float(sum(cur))/len(cur))\n",
    "                cur = []\n",
    "                level = l\n",
    "            cur.append(val)\n",
    "        else:\n",
    "            avg.append(float(sum(cur))/len(cur))\n",
    "        return avg\n",
    "t = TreeNode(3,TreeNode(9),TreeNode(20,TreeNode(15),TreeNode(7)))\n",
    "s = Solution()\n",
    "%time print s.averageOfLevels(t)"
   ]
  },
  {
   "cell_type": "code",
   "execution_count": null,
   "metadata": {
    "collapsed": true
   },
   "outputs": [],
   "source": []
  },
  {
   "cell_type": "markdown",
   "metadata": {
    "collapsed": true
   },
   "source": [
    "# B-search Tree"
   ]
  },
  {
   "cell_type": "markdown",
   "metadata": {
    "collapsed": true
   },
   "source": [
    "### 530. Minimum Absolute Difference in BST"
   ]
  },
  {
   "cell_type": "code",
   "execution_count": 6,
   "metadata": {
    "collapsed": false
   },
   "outputs": [
    {
     "name": "stdout",
     "output_type": "stream",
     "text": [
      "None\n"
     ]
    }
   ],
   "source": [
    "class TreeNode(object):\n",
    "    def __init__(self, x,left=None,right = None):\n",
    "        self.val = x\n",
    "        self.left = left\n",
    "        self.right = right\n",
    "class Solution(object):\n",
    "    def getMinimumDifference(self, root):\n",
    "        \"\"\"\n",
    "        :type root: TreeNode\n",
    "        :rtype: int\n",
    "        \"\"\"\n",
    "        return \n",
    "t = TreeNode(1,right=TreeNode(3,left = TreeNode(2)))\n",
    "s= Solution()\n",
    "print s.getMinimumDifference(t)"
   ]
  },
  {
   "cell_type": "code",
   "execution_count": null,
   "metadata": {
    "collapsed": true
   },
   "outputs": [],
   "source": [
    "   1\n",
    "    \\\n",
    "     3\n",
    "    /\n",
    "   2"
   ]
  },
  {
   "cell_type": "code",
   "execution_count": null,
   "metadata": {
    "collapsed": true
   },
   "outputs": [],
   "source": []
  },
  {
   "cell_type": "code",
   "execution_count": null,
   "metadata": {
    "collapsed": true
   },
   "outputs": [],
   "source": []
  },
  {
   "cell_type": "code",
   "execution_count": null,
   "metadata": {
    "collapsed": true
   },
   "outputs": [],
   "source": []
  },
  {
   "cell_type": "code",
   "execution_count": null,
   "metadata": {
    "collapsed": true
   },
   "outputs": [],
   "source": []
  },
  {
   "cell_type": "code",
   "execution_count": null,
   "metadata": {
    "collapsed": true
   },
   "outputs": [],
   "source": []
  },
  {
   "cell_type": "code",
   "execution_count": null,
   "metadata": {
    "collapsed": true
   },
   "outputs": [],
   "source": []
  },
  {
   "cell_type": "code",
   "execution_count": null,
   "metadata": {
    "collapsed": true
   },
   "outputs": [],
   "source": []
  },
  {
   "cell_type": "code",
   "execution_count": null,
   "metadata": {
    "collapsed": true
   },
   "outputs": [],
   "source": []
  },
  {
   "cell_type": "code",
   "execution_count": null,
   "metadata": {
    "collapsed": true
   },
   "outputs": [],
   "source": []
  },
  {
   "cell_type": "code",
   "execution_count": null,
   "metadata": {
    "collapsed": true
   },
   "outputs": [],
   "source": []
  }
 ],
 "metadata": {
  "anaconda-cloud": {},
  "kernelspec": {
   "display_name": "Python [default]",
   "language": "python",
   "name": "python2"
  },
  "language_info": {
   "codemirror_mode": {
    "name": "ipython",
    "version": 2
   },
   "file_extension": ".py",
   "mimetype": "text/x-python",
   "name": "python",
   "nbconvert_exporter": "python",
   "pygments_lexer": "ipython2",
   "version": "2.7.12"
  }
 },
 "nbformat": 4,
 "nbformat_minor": 1
}
