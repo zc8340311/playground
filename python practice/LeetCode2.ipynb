{
 "cells": [
  {
   "cell_type": "markdown",
   "metadata": {},
   "source": [
    "### 771 "
   ]
  },
  {
   "cell_type": "code",
   "execution_count": 7,
   "metadata": {
    "collapsed": false
   },
   "outputs": [
    {
     "name": "stdout",
     "output_type": "stream",
     "text": [
      "0\n",
      "Wall time: 0 ns\n"
     ]
    }
   ],
   "source": [
    "class Solution(object):\n",
    "    def numJewelsInStones(self, J, S):\n",
    "        \"\"\"\n",
    "        :type J: str\n",
    "        :type S: str\n",
    "        :rtype: int\n",
    "        \"\"\"\n",
    "        l = filter(lambda x: x in J, S)\n",
    "        return len(l)\n",
    "j = \"aA\"\n",
    "S = \"bbbb\"\n",
    "s = Solution()\n",
    "%time print s.numJewelsInStones(J=j, S=S)"
   ]
  },
  {
   "cell_type": "markdown",
   "metadata": {},
   "source": [
    "### 461"
   ]
  },
  {
   "cell_type": "code",
   "execution_count": 43,
   "metadata": {
    "collapsed": false
   },
   "outputs": [
    {
     "name": "stdout",
     "output_type": "stream",
     "text": [
      "2\n",
      "Wall time: 1e+03 µs\n"
     ]
    }
   ],
   "source": [
    "import math\n",
    "class Solution(object):\n",
    "    def hammingDistance(self, x, y):\n",
    "        \"\"\"\n",
    "        :type x: int\n",
    "        :type y: int\n",
    "        :rtype: int\n",
    "        \"\"\"\n",
    "        a = bin(x)[2:]\n",
    "        b = bin(y)[2:]\n",
    "        if len(a) > len(b):\n",
    "            b = b.zfill(len(a))\n",
    "        else:\n",
    "            a = a.zfill(len(b))\n",
    "        count = 0\n",
    "        return sum(map(lambda x,y: x!=y,a,b))\n",
    "x = 1\n",
    "y = 4\n",
    "s= Solution()\n",
    "%time print s.hammingDistance(x, y)"
   ]
  },
  {
   "cell_type": "code",
   "execution_count": 50,
   "metadata": {
    "collapsed": false
   },
   "outputs": [
    {
     "name": "stdout",
     "output_type": "stream",
     "text": [
      "True\n"
     ]
    }
   ],
   "source": [
    "class Solution(object):\n",
    "    def judgeCircle(self, moves):\n",
    "        \"\"\"\n",
    "        :type moves: str\n",
    "        :rtype: bool\n",
    "        \"\"\"\n",
    "        col = 0\n",
    "        row = 0\n",
    "        for i in moves:\n",
    "            if i == 'U':\n",
    "                col += 1\n",
    "            elif i == \"D\":\n",
    "                col -= 1\n",
    "            elif i == \"L\":\n",
    "                row += 1\n",
    "            else:\n",
    "                row -= 1\n",
    "        return True if abs(col) + abs(row) == 0 else False\n",
    "from collections import Counter\n",
    "class Solution(object):\n",
    "    def judgeCircle(self, moves):\n",
    "        \"\"\"\n",
    "        :type moves: str\n",
    "        :rtype: bool\n",
    "        \"\"\"\n",
    "        stat = Counter(moves)\n",
    "        if stat[\"U\"] == stat[\"D\"] and stat[\"L\"]==stat[\"R\"]:\n",
    "            return True\n",
    "        else:\n",
    "            return False\n",
    "moves = \"UD\"\n",
    "s = Solution()\n",
    "print s.judgeCircle(moves)"
   ]
  },
  {
   "cell_type": "markdown",
   "metadata": {},
   "source": [
    "### 617. Merge Two Binary Trees"
   ]
  },
  {
   "cell_type": "code",
   "execution_count": 136,
   "metadata": {
    "collapsed": false
   },
   "outputs": [
    {
     "name": "stdout",
     "output_type": "stream",
     "text": [
      "<__main__.TreeNode object at 0x00000000073BC748>\n"
     ]
    }
   ],
   "source": [
    "# Definition for a binary tree node.\n",
    "class TreeNode(object):\n",
    "    def __init__(self, x,left=None,right=None):\n",
    "        self.val = x\n",
    "        self.left = left\n",
    "        self.right = right\n",
    "\n",
    "class Solution(object):\n",
    "\n",
    "    def mergeTrees(self, t1, t2):\n",
    "        \"\"\"\n",
    "        :type t1: TreeNode\n",
    "        :type t2: TreeNode\n",
    "        :rtype: TreeNode\n",
    "        \"\"\"\n",
    "        if t1 is None and t2 is None:\n",
    "            return None\n",
    "        \n",
    "        if t1 is not None and t2 is None:\n",
    "            val = t1.val\n",
    "            t = TreeNode(val)\n",
    "            if t1.left:\n",
    "                t.left = self.mergeTrees(t1.left,None)\n",
    "            if t1.right:\n",
    "                t.right= self.mergeTrees(t1.right,None)\n",
    "            return t\n",
    "        elif t1 is None and t2 is not None:\n",
    "            val = t2.val\n",
    "            t = TreeNode(val)\n",
    "            if t2.left:\n",
    "                t.left = self.mergeTrees(None,t2.left)\n",
    "            if t2.right:\n",
    "                t.right = self.mergeTrees(None,t2.right)\n",
    "            return t\n",
    "        else:\n",
    "            left = self.mergeTrees(t1.left,t2.left)\n",
    "            right = self.mergeTrees(t1.right,t2.right)\n",
    "            t = TreeNode(t1.val+t2.val)\n",
    "            t.left,t.right = left,right\n",
    "            return t\n",
    "t1 = TreeNode(1,TreeNode(3,TreeNode(5)),TreeNode(2))\n",
    "t2 = TreeNode(2,TreeNode(1,right=TreeNode(4)),TreeNode(3,right=TreeNode(7)))\n",
    "s = Solution()\n",
    "ans = s.mergeTrees(t1,t2)\n",
    "print ans"
   ]
  },
  {
   "cell_type": "code",
   "execution_count": 142,
   "metadata": {
    "collapsed": false
   },
   "outputs": [
    {
     "name": "stdout",
     "output_type": "stream",
     "text": [
      "<__main__.TreeNode object at 0x0000000004B72B70>\n"
     ]
    }
   ],
   "source": [
    "class Solution(object):\n",
    "\n",
    "    def mergeTrees(self, t1, t2):\n",
    "        \"\"\"\n",
    "        :type t1: TreeNode\n",
    "        :type t2: TreeNode\n",
    "        :rtype: TreeNode\n",
    "        \"\"\"\n",
    "        if t1 is None and t2 is None:\n",
    "            return None\n",
    "        \n",
    "        if t2 is None:\n",
    "            return t1\n",
    "        if t1 is None :\n",
    "            return t2\n",
    "        \n",
    "        t1.left = self.mergeTrees(t1.left,t2.left)\n",
    "        t1.right = self.mergeTrees(t1.right,t2.right)\n",
    "        t1.value = t1.val+t2.val\n",
    "        return t1\n",
    "t1 = TreeNode(1,TreeNode(3,TreeNode(5)),TreeNode(2))\n",
    "t2 = TreeNode(2,TreeNode(1,right=TreeNode(4)),TreeNode(3,right=TreeNode(7)))\n",
    "s = Solution()\n",
    "ans = s.mergeTrees(t1,t2)\n",
    "print ans"
   ]
  },
  {
   "cell_type": "code",
   "execution_count": 143,
   "metadata": {
    "collapsed": false
   },
   "outputs": [
    {
     "name": "stdout",
     "output_type": "stream",
     "text": [
      "1 1 2\n",
      "3 3 1\n",
      "2 2 3\n",
      "5 5 None\n",
      "4 4 4\n",
      "None None None\n",
      "7 7 7\n",
      "\n",
      "2\n",
      "1\n",
      "3\n",
      "None\n",
      "4\n",
      "None\n",
      "7\n"
     ]
    }
   ],
   "source": [
    "def it(t1):\n",
    "    q = deque([])\n",
    "    q.append(t1)\n",
    "    while len(q)!=0:\n",
    "        cur = q.popleft()\n",
    "        if cur is not None:\n",
    "            left = cur.left if cur.left else None\n",
    "            right = cur.right if cur.right else None\n",
    "            if left or right:\n",
    "                q.append(left)\n",
    "                q.append(right)\n",
    "            yield cur.val\n",
    "        else:\n",
    "            yield None\n",
    "for i,j,k in zip(it(ans),it(t1),it(t2)):\n",
    "    print i,j,k\n",
    "print \n",
    "for i in it(t2):\n",
    "    print i"
   ]
  },
  {
   "cell_type": "markdown",
   "metadata": {},
   "source": [
    "### 728. Self Dividing Numbers"
   ]
  },
  {
   "cell_type": "code",
   "execution_count": 153,
   "metadata": {
    "collapsed": false
   },
   "outputs": [
    {
     "name": "stdout",
     "output_type": "stream",
     "text": [
      "[1, 2, 3, 4, 5, 6, 7, 8, 9, 11, 12, 15, 22]\n"
     ]
    }
   ],
   "source": [
    "class Solution(object):\n",
    "    def selfDividingNumbers(self, left, right):\n",
    "        \"\"\"\n",
    "        :type left: int\n",
    "        :type right: int\n",
    "        :rtype: List[int]\n",
    "        \"\"\"\n",
    "        sl = []\n",
    "        raw = range(left,right+1)\n",
    "        for i in raw:\n",
    "            digits = str(i)\n",
    "            if '0' in digits:\n",
    "                continue\n",
    "            l = filter(lambda x: i % int(x)==0,digits)\n",
    "            if len(l) != len(digits):\n",
    "                continue\n",
    "            sl.append(i)\n",
    "        return sl\n",
    "left,right = 1, 22\n",
    "s = Solution()\n",
    "print s.selfDividingNumbers(left,right)"
   ]
  },
  {
   "cell_type": "code",
   "execution_count": null,
   "metadata": {
    "collapsed": true
   },
   "outputs": [],
   "source": []
  },
  {
   "cell_type": "code",
   "execution_count": null,
   "metadata": {
    "collapsed": true
   },
   "outputs": [],
   "source": []
  },
  {
   "cell_type": "code",
   "execution_count": null,
   "metadata": {
    "collapsed": true
   },
   "outputs": [],
   "source": []
  },
  {
   "cell_type": "code",
   "execution_count": null,
   "metadata": {
    "collapsed": true
   },
   "outputs": [],
   "source": []
  },
  {
   "cell_type": "code",
   "execution_count": null,
   "metadata": {
    "collapsed": true
   },
   "outputs": [],
   "source": []
  }
 ],
 "metadata": {
  "anaconda-cloud": {},
  "kernelspec": {
   "display_name": "Python [default]",
   "language": "python",
   "name": "python2"
  },
  "language_info": {
   "codemirror_mode": {
    "name": "ipython",
    "version": 2
   },
   "file_extension": ".py",
   "mimetype": "text/x-python",
   "name": "python",
   "nbconvert_exporter": "python",
   "pygments_lexer": "ipython2",
   "version": "2.7.12"
  }
 },
 "nbformat": 4,
 "nbformat_minor": 1
}
