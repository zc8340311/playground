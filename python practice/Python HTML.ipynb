{
 "cells": [
  {
   "cell_type": "code",
   "execution_count": null,
   "metadata": {
    "collapsed": true
   },
   "outputs": [],
   "source": [
    "from sgmllib import SGMLParser\n",
    "import htmlentitydefs\n",
    "class BaseHTMLProcessor(SGMLParser):\n",
    "    def reset(self):\n",
    "        # extend(called by SGMLParser.__init__)\n",
    "        self.pieces=[]\n",
    "        SGMLParser.reset(self)\n",
    "    def unknown_starttag(self,tag,attrs):\n",
    "        #called for each start tag\n",
    "        #attrs is a list of (attr,value)tuples\n",
    "        #e.g. for<pre class=\"screen\">,tag=\"pre\",attrs=[(\"class\",\"screen\")]\n",
    "        "
   ]
  }
 ],
 "metadata": {
  "kernelspec": {
   "display_name": "Python 2",
   "language": "python",
   "name": "python2"
  },
  "language_info": {
   "codemirror_mode": {
    "name": "ipython",
    "version": 2
   },
   "file_extension": ".py",
   "mimetype": "text/x-python",
   "name": "python",
   "nbconvert_exporter": "python",
   "pygments_lexer": "ipython2",
   "version": "2.7.6"
  }
 },
 "nbformat": 4,
 "nbformat_minor": 0
}
