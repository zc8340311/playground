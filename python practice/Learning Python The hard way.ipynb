{
 "cells": [
  {
   "cell_type": "code",
   "execution_count": 8,
   "metadata": {
    "collapsed": false
   },
   "outputs": [
    {
     "name": "stdout",
     "output_type": "stream",
     "text": [
      "there are 10 types of people\n",
      "Those who know binary and those who don't\n",
      "I said : 'there are 10 types of people'\n",
      "I also said : 'Those who know binary and those who don't'.\n",
      "Isn't that joke so funny?! False\n",
      "This is the left side of ...a string with a right side.\n"
     ]
    }
   ],
   "source": [
    "##ex6\n",
    "x=\"there are %d types of people\" % 10\n",
    "binary=\"binary\"\n",
    "do_not=\"don't\"\n",
    "y=\"Those who know %s and those who %s\"%(binary,do_not)\n",
    "\n",
    "print x\n",
    "print y\n",
    "\n",
    "print \"I said : %r\" %x\n",
    "print \"I also said : '%s'.\" % y\n",
    "\n",
    "hilarious = False\n",
    "joke_evaluation = \"Isn't that joke so funny?! %r\"\n",
    "\n",
    "print joke_evaluation % hilarious\n",
    "w=\"This is the left side of ...\"\n",
    "e=\"a string with a right side.\"\n",
    "\n",
    "print w+e"
   ]
  },
  {
   "cell_type": "code",
   "execution_count": null,
   "metadata": {
    "collapsed": false
   },
   "outputs": [],
   "source": []
  },
  {
   "cell_type": "code",
   "execution_count": 5,
   "metadata": {
    "collapsed": false
   },
   "outputs": [
    {
     "name": "stdout",
     "output_type": "stream",
     "text": [
      "Mary had a littel lamb.\n",
      "Its fleece was white as snow.\n",
      "..........\n",
      "Cheese Burger\n"
     ]
    }
   ],
   "source": [
    "##ex7\n",
    "print \"Mary had a littel lamb.\"\n",
    "print \"Its fleece was white as %s.\" % 'snow'\n",
    "print \".\"*10\n",
    "end1=\"C\"\n",
    "end2=\"h\"\n",
    "end3=\"e\"\n",
    "end5=\"s\"\n",
    "end6=\"e\"\n",
    "end7=\"B\"\n",
    "end8=\"u\"\n",
    "end9=\"r\"\n",
    "end10=\"g\"\n",
    "end11=\"e\"\n",
    "end12=\"r\"\n",
    "print end1+end2+end3*2+end5+end6,\n",
    "print end7+end8+end9+end10+end11+end12"
   ]
  },
  {
   "cell_type": "code",
   "execution_count": 9,
   "metadata": {
    "collapsed": false
   },
   "outputs": [
    {
     "name": "stdout",
     "output_type": "stream",
     "text": [
      "1 2 3 4\n",
      "'one' 'two' 'three' 'four'\n",
      "True False False True\n",
      "'%r %r %r %r' '%r %r %r %r' '%r %r %r %r' '%r %r %r %r'\n",
      "'I had this thing.' 'That you could type up right.' \"But it didn't sing\" 'So I said goodnoght'\n"
     ]
    }
   ],
   "source": [
    "##ex8\n",
    "formatter=\"%r %r %r %r\"\n",
    "print formatter %(1,2,3,4)\n",
    "print formatter %(\"one\",\"two\",\"three\",\"four\")\n",
    "print formatter %(True, False, False, True)\n",
    "print formatter %(formatter, formatter,formatter,\\\n",
    "                  formatter)\n",
    "print formatter %(\"I had this thing.\",\n",
    "                  \"That you could type up right.\",\n",
    "                  \"But it didn't sing\",\n",
    "                  \"So I said goodnoght\"\n",
    "                  )"
   ]
  },
  {
   "cell_type": "code",
   "execution_count": 10,
   "metadata": {
    "collapsed": false
   },
   "outputs": [
    {
     "name": "stdout",
     "output_type": "stream",
     "text": [
      "Here are the days Mon Tue Wed Thu Fri Sat Sun\n",
      "Here are the months Jan\n",
      "Fen\n",
      "Mar\n",
      "May\n",
      "Jun\n",
      "Jul\n",
      "Aug\n",
      "\n",
      "    There's something going on here\n",
      "    With the three double quotes\n",
      "    We'll be able to type as much as we like\n",
      "    Even 4 lines if we want, or 5, or 6.\n",
      "    \n"
     ]
    }
   ],
   "source": [
    "##ex9\n",
    "days=\"Mon Tue Wed Thu Fri Sat Sun\"\n",
    "months = \"Jan\\nFen\\nMar\\nMay\\nJun\\nJul\\nAug\"\n",
    "\n",
    "print \"Here are the days\", days\n",
    "print \"Here are the months\",months\n",
    "print\"\"\"\n",
    "    There's something going on here\n",
    "    With the three double quotes\n",
    "    We'll be able to type as much as we like\n",
    "    Even 4 lines if we want, or 5, or 6.\n",
    "    \"\"\""
   ]
  },
  {
   "cell_type": "code",
   "execution_count": 12,
   "metadata": {
    "collapsed": false
   },
   "outputs": [
    {
     "name": "stdout",
     "output_type": "stream",
     "text": [
      "\t I'm tabbled in.\n",
      "I'm split\n",
      "on a line.\n",
      "I'm \\ a \\ cat.\n",
      "\n",
      "I'll do a list:\n",
      "\t* cat food\n",
      "\t* fishies\n",
      "\t* catnip\n",
      "\t* grass\n",
      "\n"
     ]
    }
   ],
   "source": [
    "##10\n",
    "tabby_cat =\"\\t I'm tabbled in.\"\n",
    "persian_cat = \"I'm split\\non a line.\"\n",
    "backslash_cat = \"I'm \\\\ a \\\\ cat.\"\n",
    "\n",
    "fat_cat='''\n",
    "I'll do a list:\n",
    "\\t* cat food\n",
    "\\t* fishies\n",
    "\\t* catnip\\n\\t* grass\n",
    "'''\n",
    "print tabby_cat\n",
    "print persian_cat\n",
    "print backslash_cat\n",
    "print fat_cat"
   ]
  },
  {
   "cell_type": "code",
   "execution_count": 15,
   "metadata": {
    "collapsed": false
   },
   "outputs": [
    {
     "name": "stdout",
     "output_type": "stream",
     "text": [
      "How old are you?10\n",
      " how tall are you?30\n",
      " How much do you weigh?10\n",
      " So, you're '10' old, '30' tall and '10' heavy.\n"
     ]
    }
   ],
   "source": [
    "##ex11\n",
    "print \"How old are you?\",\n",
    "age = raw_input()\n",
    "print \"how tall are you?\",\n",
    "height = raw_input()\n",
    "print \"How much do you weigh?\",\n",
    "weight = raw_input()\n",
    "\n",
    "print \"So, you're %r old, %r tall and %r heavy.\"%(\n",
    "age,height,weight)"
   ]
  },
  {
   "cell_type": "code",
   "execution_count": 16,
   "metadata": {
    "collapsed": false
   },
   "outputs": [
    {
     "name": "stdout",
     "output_type": "stream",
     "text": [
      "how old are you?10\n",
      "how tall are you?10\n",
      "how muchu do you weigh?20\n",
      "So, you're '10' old, '10' tall and '20' heavy\n"
     ]
    }
   ],
   "source": [
    "##ex12\n",
    "age=raw_input(\"how old are you?\")\n",
    "height=raw_input(\"how tall are you?\")\n",
    "weight=raw_input(\"how muchu do you weigh?\")\n",
    "\n",
    "print \"So, you're %r old, %r tall and %r heavy\" %(\n",
    "    age, height, weight)"
   ]
  },
  {
   "cell_type": "code",
   "execution_count": 17,
   "metadata": {
    "collapsed": false
   },
   "outputs": [
    {
     "ename": "ValueError",
     "evalue": "too many values to unpack",
     "output_type": "error",
     "traceback": [
      "\u001b[1;31m---------------------------------------------------------------------------\u001b[0m\n\u001b[1;31mValueError\u001b[0m                                Traceback (most recent call last)",
      "\u001b[1;32m<ipython-input-17-749cdb65f407>\u001b[0m in \u001b[0;36m<module>\u001b[1;34m()\u001b[0m\n\u001b[0;32m      2\u001b[0m \u001b[1;32mfrom\u001b[0m \u001b[0msys\u001b[0m \u001b[1;32mimport\u001b[0m \u001b[0margv\u001b[0m\u001b[1;33m\u001b[0m\u001b[0m\n\u001b[0;32m      3\u001b[0m \u001b[1;33m\u001b[0m\u001b[0m\n\u001b[1;32m----> 4\u001b[1;33m \u001b[0mscript\u001b[0m\u001b[1;33m,\u001b[0m\u001b[0mfirst\u001b[0m\u001b[1;33m,\u001b[0m\u001b[0msecond\u001b[0m\u001b[1;33m,\u001b[0m \u001b[0mthird\u001b[0m\u001b[1;33m=\u001b[0m\u001b[0margv\u001b[0m\u001b[1;33m\u001b[0m\u001b[0m\n\u001b[0m\u001b[0;32m      5\u001b[0m \u001b[1;32mprint\u001b[0m \u001b[1;34m\"The script is called:\"\u001b[0m\u001b[1;33m,\u001b[0m \u001b[0mscript\u001b[0m\u001b[1;33m\u001b[0m\u001b[0m\n\u001b[0;32m      6\u001b[0m \u001b[1;32mprint\u001b[0m \u001b[1;34m\"first variable is:\"\u001b[0m \u001b[1;33m,\u001b[0m \u001b[0mfirst\u001b[0m\u001b[1;33m\u001b[0m\u001b[0m\n",
      "\u001b[1;31mValueError\u001b[0m: too many values to unpack"
     ]
    }
   ],
   "source": [
    "##ex13\n",
    "from sys import argv\n",
    "\n",
    "script , first , second, third=argv\n",
    "print \"The script is called:\", script\n",
    "print \"first variable is:\" , first\n",
    "print \"your second variable is:\", second\n",
    "print \"your third variable is :\",third"
   ]
  },
  {
   "cell_type": "code",
   "execution_count": 2,
   "metadata": {
    "collapsed": false
   },
   "outputs": [
    {
     "name": "stdout",
     "output_type": "stream",
     "text": [
      "arg1: 'zed', arg2:'shaw'\n",
      "arg1: 'zed',arg2:'shaw'\n",
      "arg1: 'first'\n",
      "I got nothing'.\n"
     ]
    }
   ],
   "source": [
    "##ex18\n",
    "def print_two(*args):\n",
    "    arg1,arg2=args\n",
    "    print \"arg1: %r, arg2:%r\" %(arg1,arg2)\n",
    "\n",
    "def print_two_again(arg1,arg2):\n",
    "    print \"arg1: %r,arg2:%r\"%(arg1,arg2)\n",
    "\n",
    "def print_one(arg1):\n",
    "    print \"arg1: %r\" %arg1\n",
    "\n",
    "def print_none():\n",
    "    print \"I got nothing'.\"\n",
    "print_two(\"zed\",'shaw')\n",
    "print_two_again('zed','shaw')\n",
    "print_one('first')\n",
    "print_none()"
   ]
  },
  {
   "cell_type": "code",
   "execution_count": 4,
   "metadata": {
    "collapsed": false
   },
   "outputs": [
    {
     "name": "stdout",
     "output_type": "stream",
     "text": [
      "we can just give the function numbers directly:\n",
      "you have 20 cheeses!\n",
      "you have 30 boxes of crackers\n",
      "man that's enough for a party!\n",
      "get a blanket.\n",
      "\n",
      "or, we can use cariables from our script:\n",
      "you have 10 cheeses!\n",
      "you have 50 boxes of crackers\n",
      "man that's enough for a party!\n",
      "get a blanket.\n",
      "\n",
      "we can even do math inside too:\n",
      "you have 30 cheeses!\n",
      "you have 11 boxes of crackers\n",
      "man that's enough for a party!\n",
      "get a blanket.\n",
      "\n",
      "and we can combine the two, variables and math:\n",
      "you have 110 cheeses!\n",
      "you have 1050 boxes of crackers\n",
      "man that's enough for a party!\n",
      "get a blanket.\n",
      "\n"
     ]
    }
   ],
   "source": [
    "##ex19\n",
    "def cheese_and_crackers(cheese_count,boxes_of_crackers):\n",
    "    print \"you have %d cheeses!\" % cheese_count\n",
    "    print \"you have %d boxes of crackers\" % boxes_of_crackers\n",
    "    print \"man that's enough for a party!\"\n",
    "    print \"get a blanket.\\n\"\n",
    "\n",
    "print \"we can just give the function numbers directly:\"\n",
    "cheese_and_crackers(20,30)\n",
    "\n",
    "print 'or, we can use cariables from our script:'\n",
    "amount_of_cheese=10\n",
    "amount_of_crackers=50\n",
    "cheese_and_crackers(amount_of_cheese,\\\n",
    "                    amount_of_crackers)\n",
    "\n",
    "print 'we can even do math inside too:'\n",
    "cheese_and_crackers(10+20,5+6)\n",
    "\n",
    "print 'and we can combine the two, variables and math:'\n",
    "cheese_and_crackers(amount_of_cheese+100,\\\n",
    "                    amount_of_crackers+1000)"
   ]
  },
  {
   "cell_type": "code",
   "execution_count": 7,
   "metadata": {
    "collapsed": false
   },
   "outputs": [
    {
     "name": "stdout",
     "output_type": "stream",
     "text": [
      "let's do some math with just functions!\n",
      "adding 30+5\n",
      "substracting 78 - 4\n",
      "multiplying 90*2\n",
      "deviding 100 / 2\n",
      "\n",
      "here is a puzzle.\n",
      "deviding 50 / 2\n",
      "multiplying 180*25\n",
      "substracting 74 - 4500\n",
      "adding 35+-4426\n",
      "That becomes: -4391 can you do it by hand?\n"
     ]
    }
   ],
   "source": [
    "##ex21\n",
    "def add(a,b):\n",
    "    print \"adding %d+%d\" %(a,b)\n",
    "    return a+b\n",
    "\n",
    "def subtract(a,b):\n",
    "    print \"substracting %d - %d\" %(a,b)\n",
    "    return a-b\n",
    "\n",
    "def multiply(a,b):\n",
    "    print \"multiplying %d*%d\" %(a,b)\n",
    "    return a*b\n",
    "def divide(a,b):\n",
    "    print \"deviding %d / %d\" % (a,b)\n",
    "    return a/b\n",
    "\n",
    "print \"let's do some math with just functions!\"\n",
    "\n",
    "age=add(30,5)\n",
    "height = subtract(78,4)\n",
    "weight = multiply(90,2)\n",
    "iq =divide(100,2)\n",
    "\n",
    "print\n",
    "print \"here is a puzzle.\"\n",
    "\n",
    "what=add(age,subtract(height,multiply(weight,divide(iq,2))))\n",
    "\n",
    "print \"That becomes:\", what, \"can you do it by hand?\""
   ]
  },
  {
   "cell_type": "code",
   "execution_count": 9,
   "metadata": {
    "collapsed": false
   },
   "outputs": [
    {
     "name": "stdout",
     "output_type": "stream",
     "text": [
      "let's practise everthing.\n",
      "you'd need to know 'bout escapes with \\ that do \n",
      " newlines and \t tabs.\n",
      "this should be five: 5\n",
      "with a starting poin of : 10000\n",
      "we 'd have 5000000 beans 5000 jars, and 50 crates.\n",
      "we can also do that this way:\n",
      "we'd have 500000 beans, 500 jars, and 5 crates.\n"
     ]
    }
   ],
   "source": [
    "##ex24\n",
    "print \"let's practise everthing.\"\n",
    "print 'you\\'d need to know \\'bout escapes with \\\\ that do \\n newlines and \\t tabs.'\n",
    "\n",
    "poem=\"\"\"\n",
    "\\tThe lovely world\n",
    "with logic so firmly planted\n",
    "cannot discern \\n the needs of love\n",
    "nor comprehend passion from intuition\n",
    "and requires an explanation\n",
    "\\n\\t\\t where there is none.\n",
    "\"\"\"\n",
    "\n",
    "five=10-2+3-6\n",
    "print \"this should be five: %s\" %five\n",
    "\n",
    "def secret_formula(started):\n",
    "    jelly_beans=started*500\n",
    "    jars=jelly_beans/1000\n",
    "    crates=jars/100\n",
    "    return jelly_beans,jars,crates\n",
    "\n",
    "start_point =10000\n",
    "beans,jars,crates=secret_formula(start_point)\n",
    "\n",
    "print \"with a starting poin of : %d\" % start_point\n",
    "print \"we 'd have %d beans %d jars, and %d crates.\"\\\n",
    "    %(beans,jars,crates)\n",
    "start_point=start_point/10\n",
    "\n",
    "print 'we can also do that this way:'\n",
    "print \"we'd have %d beans, %d jars, and %d crates.\"\\\n",
    "    %secret_formula(start_point)"
   ]
  },
  {
   "cell_type": "code",
   "execution_count": null,
   "metadata": {
    "collapsed": false
   },
   "outputs": [],
   "source": [
    "##ex25\n",
    "def break_words(stuff):\n",
    "    \"\"\"this function will break up words for us.\"\"\"\n",
    "    words=stuff.split(' ')\n",
    "    return words\n",
    "def sort_words(words):\n",
    "    \"\"\"sorts the words\"\"\"\n",
    "    return sorted(words)\n",
    "def print_first_word(words):\n",
    "    \"\"\"print the first word after popping it off.\"\"\"\n",
    "    words = words.pop(0)\n",
    "    print word\n",
    "def sort_sentence(sentence):\n",
    "    \"\"\"takes in a full sentence and return the \n",
    "    sorted words\"\"\"\n",
    "    words = break_words(sentence)\n",
    "    print_first_word(words)\n",
    "    print_last_word(words)\n",
    "def print_first_and_last_sorted(sentence):\n",
    "    words = sort_sentence(sentence)\n",
    "    print_first_word(words)\n",
    "    print_last_word(words)"
   ]
  },
  {
   "cell_type": "code",
   "execution_count": 1,
   "metadata": {
    "collapsed": false
   },
   "outputs": [
    {
     "data": {
      "text/plain": [
       "1"
      ]
     },
     "execution_count": 1,
     "metadata": {},
     "output_type": "execute_result"
    }
   ],
   "source": [
    "True and 1"
   ]
  },
  {
   "cell_type": "code",
   "execution_count": 2,
   "metadata": {
    "collapsed": false
   },
   "outputs": [
    {
     "name": "stdout",
     "output_type": "stream",
     "text": [
      "This is count 1\n",
      "This is count 2\n",
      "This is count 3\n",
      "This is count 4\n",
      "This is count 5\n",
      "a fruit of type: apples\n",
      "a fruit of type: oranges\n",
      "a fruit of type: pears\n",
      "a fruit of type: apricots\n",
      "I got 1\n",
      "I got 'pennies'\n",
      "I got 2\n",
      "I got 'dimes'\n",
      "I got 3\n",
      "I got 'quarters'\n",
      "adding 0 to the list\n",
      "adding 1 to the list\n",
      "adding 2 to the list\n",
      "adding 3 to the list\n",
      "adding 4 to the list\n",
      "adding 5 to the list\n",
      "0\n",
      "1\n",
      "2\n",
      "3\n",
      "4\n",
      "5\n"
     ]
    }
   ],
   "source": [
    "##ex32.py\n",
    "the_count=[1,2,3,4,5]\n",
    "fruits=['apples','oranges','pears','apricots']\n",
    "change=[1,'pennies',2,'dimes',3,'quarters']\n",
    "\n",
    "for number in the_count:\n",
    "    print \"This is count %d\" % number\n",
    "for fruit in fruits:\n",
    "    print \"a fruit of type: %s\" % fruit\n",
    "for i in change:\n",
    "    print \"I got %r\" % i\n",
    "elements=[]\n",
    "for i in range(0,6):\n",
    "    print \"adding %d to the list\" %i\n",
    "    elements.append(i)\n",
    "for i in elements:\n",
    "    print i"
   ]
  },
  {
   "cell_type": "code",
   "execution_count": 4,
   "metadata": {
    "collapsed": false
   },
   "outputs": [
    {
     "name": "stdout",
     "output_type": "stream",
     "text": [
      "at the top i is 0\n",
      "Numbers now [0]\n",
      "at the bottom i is: 1\n",
      "at the top i is 1\n",
      "Numbers now [0, 1]\n",
      "at the bottom i is: 2\n",
      "at the top i is 2\n",
      "Numbers now [0, 1, 2]\n",
      "at the bottom i is: 3\n",
      "at the top i is 3\n",
      "Numbers now [0, 1, 2, 3]\n",
      "at the bottom i is: 4\n",
      "at the top i is 4\n",
      "Numbers now [0, 1, 2, 3, 4]\n",
      "at the bottom i is: 5\n",
      "at the top i is 5\n",
      "Numbers now [0, 1, 2, 3, 4, 5]\n",
      "at the bottom i is: 6\n",
      "The bumbers:\n",
      "0\n",
      "1\n",
      "2\n",
      "3\n",
      "4\n",
      "5\n"
     ]
    }
   ],
   "source": [
    "##ex33\n",
    "i=0\n",
    "numbers=[]\n",
    "while i<6:\n",
    "    print \"at the top i is %d\" %i\n",
    "    numbers.append(i)\n",
    "    i=i+1\n",
    "    print \"Numbers now\",numbers\n",
    "    print \"at the bottom i is:\", i\n",
    "print \"The bumbers:\"\n",
    "for num in numbers:\n",
    "    print num\n",
    "    "
   ]
  },
  {
   "cell_type": "code",
   "execution_count": null,
   "metadata": {
    "collapsed": false
   },
   "outputs": [
    {
     "name": "stdout",
     "output_type": "stream",
     "text": [
      "you are in a dark room.\n",
      "there is a door to your right and left.\n",
      "which one do you take?\n"
     ]
    }
   ],
   "source": [
    "##ex35\n",
    "from sys import exit\n",
    "\n",
    "def gold_room():\n",
    "    print \"This rooom is full of gold. How much do you take?\"\n",
    "    \n",
    "    next= raw_input(\">>\")\n",
    "    if \"0\" in next or \"1\" in next:\n",
    "        how_much=int(next)\n",
    "    else:\n",
    "        dead(\"man ,learn to type a number.\")\n",
    "    if how_much <50:\n",
    "        print \"Nice , you are not greedy, you win!\"\n",
    "        exit(0)\n",
    "    else:\n",
    "        dead(\"you greedy bastard!\")\n",
    "    \n",
    "def bear_room():\n",
    "    print \"there is a bear here.\"\n",
    "    print \"The bear has a bunch of honey.\"\n",
    "    print \"The fat bear is in front of another door.\"\n",
    "    print \"how are you going to move the bear?\"\n",
    "    \n",
    "    bear_moved=False\n",
    "    \n",
    "    while True:\n",
    "        next=raw_input(\">>\")\n",
    "        \n",
    "        if next==\"take honey\":\n",
    "            dead(\"the bear loos at you then slap your face off\")\n",
    "            \n",
    "        elif next==\"taunt bear\" and not bear_moved:\n",
    "            print\"the bear has moved from the door. you can go through it now.\"\n",
    "            bear_moved=True\n",
    "        elif next==\"taunt bear\" and bear_moved:\n",
    "            dead(\"The bear gets pissed off and chews your leg off\")\n",
    "        elif next==\"open door\" and bear_moved:\n",
    "            gold_room()\n",
    "        else:\n",
    "            print \"I have no idea what that means.\"\n",
    "def cthulhu_room():\n",
    "    print \"here you see the great evil cthulhu.\"\n",
    "    print \"he , it , whatever stares at you and you go insane.\"\n",
    "    print \"do you flee for your life or eat your head?\"\n",
    "    \n",
    "    next=raw_input(\">>\")\n",
    "    \n",
    "    if \"flee\" in next:\n",
    "        start()\n",
    "    elif \"head\" in next:\n",
    "        dead(\"well that was tasty.\")\n",
    "    else:\n",
    "        cthulhu_room()\n",
    "def dead(why):\n",
    "    print why,\"good job\"\n",
    "    exit(0)\n",
    "    \n",
    "def start():\n",
    "    print \"you are in a dark room.\"\n",
    "    print \"there is a door to your right and left.\"\n",
    "    print \"which one do you take?\"\n",
    "    \n",
    "    next=raw_input(\">> \")\n",
    "    if next==\"left\":\n",
    "        bear_room()\n",
    "    elif next==\"right\":\n",
    "        cthulhu_room()\n",
    "    else:\n",
    "        dead(\"you stumble around the room until you starve.\")\n",
    "        \n",
    "start()"
   ]
  },
  {
   "cell_type": "code",
   "execution_count": 1,
   "metadata": {
    "collapsed": false
   },
   "outputs": [
    {
     "name": "stdout",
     "output_type": "stream",
     "text": [
      "wait there's not things in that list, lets fix that\n",
      "adding: boy\n",
      "there is 7 items now.\n",
      "adding: girl\n",
      "there is 8 items now.\n",
      "adding: banana\n",
      "there is 9 items now.\n",
      "adding: corn\n",
      "there is 10 items now.\n",
      "There we go: ['apples', 'oranges', 'crows', 'telephone', 'light', 'sugar', 'boy', 'girl', 'banana', 'corn']\n",
      "let's do some things with stuff.\n",
      "oranges\n",
      "corn\n",
      "corn\n",
      "apples oranges crows telephone light sugar boy girl banana\n",
      "telephone#light\n"
     ]
    }
   ],
   "source": [
    "##ex38\n",
    "ten_things = \"apples oranges crows telephone light sugar\"\n",
    "print \"wait there's not things in that list, lets fix that\"\n",
    "\n",
    "stuff=ten_things.split(' ')\n",
    "more_stuff=[\"day\",\"night\",\"song\",\"frisbee\",\"corn\",\\\n",
    "            \"banana\",\"girl\",\"boy\"]\n",
    "while len(stuff)!=10:\n",
    "    next_one=more_stuff.pop()\n",
    "    print \"adding:\", next_one\n",
    "    stuff.append(next_one)\n",
    "    print \"there is %d items now.\" % len(stuff)\n",
    "\n",
    "print \"There we go:\", stuff\n",
    "print \"let's do some things with stuff.\"\n",
    "\n",
    "print stuff[1]\n",
    "print stuff[-1]\n",
    "print stuff.pop()\n",
    "print ' '.join(stuff)\n",
    "print '#'.join(stuff[3:5])\n"
   ]
  },
  {
   "cell_type": "code",
   "execution_count": 6,
   "metadata": {
    "collapsed": false
   },
   "outputs": [
    {
     "name": "stdout",
     "output_type": "stream",
     "text": [
      "----------\n",
      "ny state has new york\n",
      "or state has: portland\n",
      "----------\n",
      "michigan's abbreviation is : mi\n",
      "Florida's abbreviation is : fl\n",
      "----------\n",
      "michigan has:  detroit\n",
      "florida has: jacksonville\n",
      "----------\n",
      "california is abbreviated ca\n",
      "michigan is abbreviated mi\n",
      "new york is abbreviated ny\n",
      "florida is abbreviated fl\n",
      "oregon is abbreviated or\n",
      "----------\n",
      "california ca san francisco\n",
      "michigan mi detroit\n",
      "new york ny new york\n",
      "florida fl jacksonville\n",
      "oregon or portland\n",
      "----------\n",
      "sorry, no texas.\n",
      "The city for the state 'TX' is: Does not exist\n"
     ]
    }
   ],
   "source": [
    "##ex39\n",
    "states={\n",
    "'oregon':'or',\n",
    "'florida':'fl',\n",
    "'california':'ca',\n",
    "'new york':'ny',\n",
    "'michigan':'mi'\n",
    "}\n",
    "#create basic set of states\n",
    "cities ={\n",
    "'ca':'san francisco',\n",
    "'mi':'detroit',\n",
    "'fl':'jacksonville'\n",
    "}\n",
    "#add some more cities\n",
    "cities['ny']='new york'\n",
    "cities['or']='portland'\n",
    "##print out some cities\n",
    "print '-'*10\n",
    "print 'ny state has',cities['ny']\n",
    "print 'or state has:',cities['or']\n",
    "##print some states\n",
    "print '-'*10\n",
    "print \"michigan's abbreviation is :\",\\\n",
    "    states['michigan']\n",
    "print \"Florida's abbreviation is :\",\\\n",
    "states['florida']\n",
    "\n",
    "#do it by using the state then cities dict\n",
    "print '-'*10\n",
    "print \"michigan has: \", cities[states['michigan']]\n",
    "print \"florida has:\", cities[states['florida']]\n",
    "\n",
    "##print every state abbreviation\n",
    "print '-'*10\n",
    "for state, abbrev in states.items():\n",
    "    print \"%s is abbreviated %s\" %(state, abbrev)\n",
    "##print every city in state\n",
    "print '-'*10\n",
    "for state,abbrev in states.items():\n",
    "    print state, abbrev, cities[abbrev]\n",
    "\n",
    "print '-'*10\n",
    "state=states.get('texas',None)\n",
    "if not state:\n",
    "    print 'sorry, no texas.'\n",
    "city=cities.get('TX','Does not exist')\n",
    "print \"The city for the state 'TX' is: %s\" % city"
   ]
  },
  {
   "cell_type": "code",
   "execution_count": 7,
   "metadata": {
    "collapsed": false
   },
   "outputs": [
    {
     "name": "stdout",
     "output_type": "stream",
     "text": [
      "happy birthday to you\n",
      "I don't want to get sued\n",
      "so I'll stop right there\n",
      "They rally around the family\n",
      "with pockets full of shells\n"
     ]
    }
   ],
   "source": [
    "##ex40\n",
    "class Song(object):\n",
    "    def __init__(self,lyrics):\n",
    "        self.lyrics=lyrics\n",
    "    def sing_me_a_song(self):\n",
    "        for line in self.lyrics:\n",
    "            print line\n",
    "happy_day=Song([\"happy birthday to you\",\n",
    "                \"I don't want to get sued\",\n",
    "                \"so I'll stop right there\"\n",
    "                ])\n",
    "bulls_on_parade=Song([\"They rally around the family\",\n",
    "                      \"with pockets full of shells\"\n",
    "                      ])\n",
    "happy_day.sing_me_a_song()\n",
    "bulls_on_parade.sing_me_a_song()"
   ]
  }
 ],
 "metadata": {
  "anaconda-cloud": {},
  "kernelspec": {
   "display_name": "Python [default]",
   "language": "python",
   "name": "python2"
  },
  "language_info": {
   "codemirror_mode": {
    "name": "ipython",
    "version": 2
   },
   "file_extension": ".py",
   "mimetype": "text/x-python",
   "name": "python",
   "nbconvert_exporter": "python",
   "pygments_lexer": "ipython2",
   "version": "2.7.12"
  }
 },
 "nbformat": 4,
 "nbformat_minor": 0
}
