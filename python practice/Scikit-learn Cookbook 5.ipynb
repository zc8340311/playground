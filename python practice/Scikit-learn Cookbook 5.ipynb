{
 "cells": [
  {
   "cell_type": "markdown",
   "metadata": {},
   "source": [
    "##K-fold cross validation"
   ]
  },
  {
   "cell_type": "code",
   "execution_count": 1,
   "metadata": {
    "collapsed": false
   },
   "outputs": [
    {
     "name": "stdout",
     "output_type": "stream",
     "text": [
      "(200L, 100L) (200L,)\n",
      "(800L, 100L) (200L,)\n"
     ]
    }
   ],
   "source": [
    "N=1000\n",
    "holdout=200\n",
    "from sklearn.datasets import make_regression\n",
    "X,y=make_regression(1000,shuffle=True)\n",
    "X_h,y_h=X[:holdout],y[:holdout]\n",
    "X_t,y_t=X[holdout:],y[holdout:]\n",
    "print X_h.shape,y_h.shape\n",
    "print X_t.shape,y_h.shape"
   ]
  },
  {
   "cell_type": "code",
   "execution_count": 2,
   "metadata": {
    "collapsed": false
   },
   "outputs": [
    {
     "name": "stdout",
     "output_type": "stream",
     "text": [
      "Fold:0, N_train:600, N_test:200\n",
      "Fold:1, N_train:600, N_test:200\n",
      "Fold:2, N_train:600, N_test:200\n",
      "Fold:3, N_train:600, N_test:200\n"
     ]
    }
   ],
   "source": [
    "from sklearn.cross_validation import KFold\n",
    "kfold=KFold(len(y_t),n_folds=4)\n",
    "output_string=\"Fold:{}, N_train:{}, N_test:{}\"\n",
    "for i,(train,test) in enumerate(kfold):\n",
    "    print output_string.format(i,len(y_t[train]),len(y_t[test]))"
   ]
  },
  {
   "cell_type": "markdown",
   "metadata": {},
   "source": [
    "Mix it up and use pandas for this part"
   ]
  },
  {
   "cell_type": "code",
   "execution_count": 5,
   "metadata": {
    "collapsed": false
   },
   "outputs": [],
   "source": [
    "import numpy as np\n",
    "import pandas as pd\n",
    "\n",
    "patients=np.repeat(np.arange(0,100,dtype=np.int8),8)\n",
    "\n",
    "measurements=pd.DataFrame({'patient_id':patients,'ys':np.random.normal(0,1,800)})\n"
   ]
  },
  {
   "cell_type": "code",
   "execution_count": 7,
   "metadata": {
    "collapsed": false
   },
   "outputs": [
    {
     "name": "stdout",
     "output_type": "stream",
     "text": [
      "Fold: 0,N_train: 600,N_test: 200\n",
      "Fold: 1,N_train: 600,N_test: 200\n",
      "Fold: 2,N_train: 600,N_test: 200\n",
      "Fold: 3,N_train: 600,N_test: 200\n"
     ]
    }
   ],
   "source": [
    "custids=np.unique(measurements.patient_id)\n",
    "customer_kfold=KFold(custids.size,n_folds=4)\n",
    "\n",
    "output_string=\"Fold: {},N_train: {},N_test: {}\"\n",
    "\n",
    "for i,(train,test) in enumerate(customer_kfold):\n",
    "    train_cust_ids=custids[train]\n",
    "    training=measurements[measurements.patient_id.isin(train_cust_ids)]\n",
    "    testing=measurements[~measurements.patient_id.isin(train_cust_ids)]\n",
    "    print output_string.format(i,len(training),len(testing))"
   ]
  },
  {
   "cell_type": "markdown",
   "metadata": {},
   "source": [
    "##Automatic cross validation"
   ]
  },
  {
   "cell_type": "code",
   "execution_count": 18,
   "metadata": {
    "collapsed": false
   },
   "outputs": [],
   "source": [
    "from sklearn import ensemble\n",
    "rf=ensemble.RandomForestRegressor(max_features='auto')\n",
    "\n",
    "from sklearn import datasets\n",
    "X,y=datasets.make_regression(10000,10)"
   ]
  },
  {
   "cell_type": "code",
   "execution_count": 19,
   "metadata": {
    "collapsed": true
   },
   "outputs": [],
   "source": [
    "from sklearn import cross_validation\n",
    "scores=cross_validation.cross_val_score(rf,X,y)"
   ]
  },
  {
   "cell_type": "code",
   "execution_count": 20,
   "metadata": {
    "collapsed": false
   },
   "outputs": [
    {
     "name": "stdout",
     "output_type": "stream",
     "text": [
      "[ 0.87635236  0.88711484  0.88503596]\n"
     ]
    }
   ],
   "source": [
    "print scores"
   ]
  },
  {
   "cell_type": "markdown",
   "metadata": {},
   "source": [
    "##Cross validation with ShuffleSplit"
   ]
  },
  {
   "cell_type": "code",
   "execution_count": 21,
   "metadata": {
    "collapsed": true
   },
   "outputs": [],
   "source": [
    "##suspend, not understand"
   ]
  },
  {
   "cell_type": "code",
   "execution_count": null,
   "metadata": {
    "collapsed": true
   },
   "outputs": [],
   "source": []
  },
  {
   "cell_type": "code",
   "execution_count": null,
   "metadata": {
    "collapsed": true
   },
   "outputs": [],
   "source": []
  },
  {
   "cell_type": "code",
   "execution_count": null,
   "metadata": {
    "collapsed": true
   },
   "outputs": [],
   "source": []
  }
 ],
 "metadata": {
  "kernelspec": {
   "display_name": "Python 2",
   "language": "python",
   "name": "python2"
  },
  "language_info": {
   "codemirror_mode": {
    "name": "ipython",
    "version": 2
   },
   "file_extension": ".py",
   "mimetype": "text/x-python",
   "name": "python",
   "nbconvert_exporter": "python",
   "pygments_lexer": "ipython2",
   "version": "2.7.6"
  }
 },
 "nbformat": 4,
 "nbformat_minor": 0
}
