{
 "cells": [
  {
   "cell_type": "code",
   "execution_count": 5,
   "metadata": {
    "collapsed": false
   },
   "outputs": [],
   "source": [
    "def listDirectory(directory,fileExtList):\n",
    "    \"get list of file info objects for files of particular extensions\"\n",
    "    fileList=[os.path.normcase(f) for f in os.listdir(directory)]\n",
    "    fileList=[os.path.join(directory,f) for f in fileList if os.path.splitext(f)[1] in fileExtList]\n",
    "    def getFileInfoClass(filename,module=sys.module[FileInfo.__module__]):\n",
    "        \"get file info class from filename extension\"\n",
    "        subclass=\"%sFileInfo\"%os.path.splitext(filename[1].upper()[1:])\n",
    "        return hasattr(module,subclass) and getattr(module,subclass) or FileInfo\n",
    "    return [getFileInfoClass(f)(f) for f in fileList]\n",
    "\n",
    "if \"__name__\"==\"__main__\":\n",
    "    listDirectory(\"c:\\\\data\\\\db\",\".lock\")"
   ]
  }
 ],
 "metadata": {
  "kernelspec": {
   "display_name": "Python 2",
   "language": "python",
   "name": "python2"
  },
  "language_info": {
   "codemirror_mode": {
    "name": "ipython",
    "version": 2
   },
   "file_extension": ".py",
   "mimetype": "text/x-python",
   "name": "python",
   "nbconvert_exporter": "python",
   "pygments_lexer": "ipython2",
   "version": "2.7.6"
  }
 },
 "nbformat": 4,
 "nbformat_minor": 0
}
