{
 "cells": [
  {
   "cell_type": "code",
   "execution_count": 1,
   "metadata": {},
   "outputs": [],
   "source": [
    "import tensorflow as tf\n",
    "import numpy as np"
   ]
  },
  {
   "cell_type": "code",
   "execution_count": 2,
   "metadata": {},
   "outputs": [],
   "source": [
    "indices = np.array([[1,3],[2,4]],dtype=np.int64)\n",
    "values = np.array([1,2],dtype=np.float64)\n",
    "shape = np.array([20,20],dtype=np.int64)"
   ]
  },
  {
   "cell_type": "code",
   "execution_count": 10,
   "metadata": {},
   "outputs": [
    {
     "name": "stdout",
     "output_type": "stream",
     "text": [
      "3.5640194155194442\n"
     ]
    }
   ],
   "source": [
    "with tf.Graph().as_default():\n",
    "    input_x = tf.sparse_placeholder(dtype = tf.float64, shape=(20,20),name=\"input_x\")\n",
    "    x = tf.sparse_tensor_to_dense(input_x)\n",
    "    simu = tf.Variable(tf.random_uniform(shape,-1,1,dtype=tf.float64),name=\"simu\")\n",
    "\n",
    "    proj_x = tf.manip.gather_nd(params=x, indices= indices, name='proj_x')\n",
    "    proj_simu = tf.manip.gather_nd(params=simu, indices= indices, name='proj_simu')\n",
    "    \n",
    "    r = tf.reduce_sum(proj_x - proj_simu)\n",
    "    \n",
    "    global_init = tf.global_variables_initializer()\n",
    "    with tf.Session() as sess:\n",
    "        sess.run(global_init)\n",
    "#         print sess.run(a)\n",
    "        print sess.run(r,feed_dict={input_x:tf.SparseTensorValue(indices,values,shape)})"
   ]
  },
  {
   "cell_type": "code",
   "execution_count": null,
   "metadata": {},
   "outputs": [],
   "source": []
  },
  {
   "cell_type": "code",
   "execution_count": null,
   "metadata": {},
   "outputs": [],
   "source": []
  },
  {
   "cell_type": "code",
   "execution_count": null,
   "metadata": {},
   "outputs": [],
   "source": []
  },
  {
   "cell_type": "code",
   "execution_count": null,
   "metadata": {},
   "outputs": [],
   "source": []
  }
 ],
 "metadata": {
  "kernelspec": {
   "display_name": "Python 2",
   "language": "python",
   "name": "python2"
  },
  "language_info": {
   "codemirror_mode": {
    "name": "ipython",
    "version": 2
   },
   "file_extension": ".py",
   "mimetype": "text/x-python",
   "name": "python",
   "nbconvert_exporter": "python",
   "pygments_lexer": "ipython2",
   "version": "2.7.6"
  }
 },
 "nbformat": 4,
 "nbformat_minor": 2
}
